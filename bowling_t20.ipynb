{
 "cells": [
  {
   "cell_type": "code",
   "execution_count": 1,
   "metadata": {},
   "outputs": [],
   "source": [
    "import numpy as np # linear algebra\n",
    "import pandas as pd # data processing, CSV file I/O (e.g. pd.read_csv)\n",
    "import os\n",
    "for dirname, _, filenames in os.walk('bowling_t20.csv'):\n",
    "    for filename in filenames:\n",
    "        print(os.path.join(dirname, filename))"
   ]
  },
  {
   "cell_type": "code",
   "execution_count": 2,
   "metadata": {},
   "outputs": [],
   "source": [
    "import pandas as pd\n",
    "import numpy as np\n",
    "import seaborn as sns\n",
    "import plotly.express as px           # simple and easy to use\n",
    "import plotly.graph_objects as go     # more control over the figure\n",
    "import matplotlib.pyplot as plt\n",
    "import warnings\n",
    "warnings.filterwarnings('ignore')"
   ]
  },
  {
   "attachments": {},
   "cell_type": "markdown",
   "metadata": {},
   "source": [
    "# Bowling_t20\n"
   ]
  },
  {
   "cell_type": "code",
   "execution_count": 7,
   "metadata": {},
   "outputs": [
    {
     "data": {
      "text/html": [
       "<div>\n",
       "<style scoped>\n",
       "    .dataframe tbody tr th:only-of-type {\n",
       "        vertical-align: middle;\n",
       "    }\n",
       "\n",
       "    .dataframe tbody tr th {\n",
       "        vertical-align: top;\n",
       "    }\n",
       "\n",
       "    .dataframe thead th {\n",
       "        text-align: right;\n",
       "    }\n",
       "</style>\n",
       "<table border=\"1\" class=\"dataframe\">\n",
       "  <thead>\n",
       "    <tr style=\"text-align: right;\">\n",
       "      <th></th>\n",
       "      <th>Unnamed: 0</th>\n",
       "      <th>Player</th>\n",
       "      <th>Span</th>\n",
       "      <th>Mat</th>\n",
       "      <th>Inns</th>\n",
       "      <th>Overs</th>\n",
       "      <th>Mdns</th>\n",
       "      <th>Runs</th>\n",
       "      <th>Wkts</th>\n",
       "      <th>BBI</th>\n",
       "      <th>Ave</th>\n",
       "      <th>Econ</th>\n",
       "      <th>SR</th>\n",
       "      <th>4</th>\n",
       "      <th>5</th>\n",
       "      <th>Unnamed: 14</th>\n",
       "    </tr>\n",
       "  </thead>\n",
       "  <tbody>\n",
       "    <tr>\n",
       "      <th>0</th>\n",
       "      <td>0</td>\n",
       "      <td>SL Malinga (SL)</td>\n",
       "      <td>2006-2019</td>\n",
       "      <td>79</td>\n",
       "      <td>79</td>\n",
       "      <td>284.5</td>\n",
       "      <td>1</td>\n",
       "      <td>2061</td>\n",
       "      <td>106</td>\n",
       "      <td>5/6</td>\n",
       "      <td>19.44</td>\n",
       "      <td>7.23</td>\n",
       "      <td>16.1</td>\n",
       "      <td>1</td>\n",
       "      <td>2</td>\n",
       "      <td>NaN</td>\n",
       "    </tr>\n",
       "    <tr>\n",
       "      <th>1</th>\n",
       "      <td>1</td>\n",
       "      <td>Shahid Afridi (ICC/PAK)</td>\n",
       "      <td>2006-2018</td>\n",
       "      <td>99</td>\n",
       "      <td>97</td>\n",
       "      <td>361.2</td>\n",
       "      <td>4</td>\n",
       "      <td>2396</td>\n",
       "      <td>98</td>\n",
       "      <td>4/11</td>\n",
       "      <td>24.44</td>\n",
       "      <td>6.63</td>\n",
       "      <td>22.1</td>\n",
       "      <td>3</td>\n",
       "      <td>0</td>\n",
       "      <td>NaN</td>\n",
       "    </tr>\n",
       "    <tr>\n",
       "      <th>2</th>\n",
       "      <td>2</td>\n",
       "      <td>Shakib Al Hasan (BDESH)</td>\n",
       "      <td>2006-2019</td>\n",
       "      <td>76</td>\n",
       "      <td>75</td>\n",
       "      <td>277.5</td>\n",
       "      <td>2</td>\n",
       "      <td>1894</td>\n",
       "      <td>92</td>\n",
       "      <td>5/20</td>\n",
       "      <td>20.58</td>\n",
       "      <td>6.81</td>\n",
       "      <td>18.1</td>\n",
       "      <td>3</td>\n",
       "      <td>1</td>\n",
       "      <td>NaN</td>\n",
       "    </tr>\n",
       "    <tr>\n",
       "      <th>3</th>\n",
       "      <td>3</td>\n",
       "      <td>Saeed Ajmal (PAK)</td>\n",
       "      <td>2009-2015</td>\n",
       "      <td>64</td>\n",
       "      <td>63</td>\n",
       "      <td>238.2</td>\n",
       "      <td>2</td>\n",
       "      <td>1516</td>\n",
       "      <td>85</td>\n",
       "      <td>4/19</td>\n",
       "      <td>17.83</td>\n",
       "      <td>6.36</td>\n",
       "      <td>16.8</td>\n",
       "      <td>4</td>\n",
       "      <td>0</td>\n",
       "      <td>NaN</td>\n",
       "    </tr>\n",
       "    <tr>\n",
       "      <th>4</th>\n",
       "      <td>4</td>\n",
       "      <td>Umar Gul (PAK)</td>\n",
       "      <td>2007-2016</td>\n",
       "      <td>60</td>\n",
       "      <td>60</td>\n",
       "      <td>200.3</td>\n",
       "      <td>2</td>\n",
       "      <td>1443</td>\n",
       "      <td>85</td>\n",
       "      <td>5/6</td>\n",
       "      <td>16.97</td>\n",
       "      <td>7.19</td>\n",
       "      <td>14.1</td>\n",
       "      <td>4</td>\n",
       "      <td>2</td>\n",
       "      <td>NaN</td>\n",
       "    </tr>\n",
       "    <tr>\n",
       "      <th>...</th>\n",
       "      <td>...</td>\n",
       "      <td>...</td>\n",
       "      <td>...</td>\n",
       "      <td>...</td>\n",
       "      <td>...</td>\n",
       "      <td>...</td>\n",
       "      <td>...</td>\n",
       "      <td>...</td>\n",
       "      <td>...</td>\n",
       "      <td>...</td>\n",
       "      <td>...</td>\n",
       "      <td>...</td>\n",
       "      <td>...</td>\n",
       "      <td>...</td>\n",
       "      <td>...</td>\n",
       "      <td>...</td>\n",
       "    </tr>\n",
       "    <tr>\n",
       "      <th>2001</th>\n",
       "      <td>1</td>\n",
       "      <td>Ziaur Rehman (Fin)</td>\n",
       "      <td>2019-2019</td>\n",
       "      <td>1</td>\n",
       "      <td>-</td>\n",
       "      <td>-</td>\n",
       "      <td>-</td>\n",
       "      <td>-</td>\n",
       "      <td>-</td>\n",
       "      <td>-</td>\n",
       "      <td>-</td>\n",
       "      <td>-</td>\n",
       "      <td>-</td>\n",
       "      <td>-</td>\n",
       "      <td>-</td>\n",
       "      <td>NaN</td>\n",
       "    </tr>\n",
       "    <tr>\n",
       "      <th>2002</th>\n",
       "      <td>2</td>\n",
       "      <td>Zishan Shah (DEN)</td>\n",
       "      <td>2019-2019</td>\n",
       "      <td>6</td>\n",
       "      <td>-</td>\n",
       "      <td>-</td>\n",
       "      <td>-</td>\n",
       "      <td>-</td>\n",
       "      <td>-</td>\n",
       "      <td>-</td>\n",
       "      <td>-</td>\n",
       "      <td>-</td>\n",
       "      <td>-</td>\n",
       "      <td>-</td>\n",
       "      <td>-</td>\n",
       "      <td>NaN</td>\n",
       "    </tr>\n",
       "    <tr>\n",
       "      <th>2003</th>\n",
       "      <td>3</td>\n",
       "      <td>Zubaidi Zulkifle (MAL)</td>\n",
       "      <td>2019-2019</td>\n",
       "      <td>4</td>\n",
       "      <td>-</td>\n",
       "      <td>-</td>\n",
       "      <td>-</td>\n",
       "      <td>-</td>\n",
       "      <td>-</td>\n",
       "      <td>-</td>\n",
       "      <td>-</td>\n",
       "      <td>-</td>\n",
       "      <td>-</td>\n",
       "      <td>-</td>\n",
       "      <td>-</td>\n",
       "      <td>NaN</td>\n",
       "    </tr>\n",
       "    <tr>\n",
       "      <th>2004</th>\n",
       "      <td>4</td>\n",
       "      <td>B Zuiderent (NL)</td>\n",
       "      <td>2009-2010</td>\n",
       "      <td>6</td>\n",
       "      <td>-</td>\n",
       "      <td>-</td>\n",
       "      <td>-</td>\n",
       "      <td>-</td>\n",
       "      <td>-</td>\n",
       "      <td>-</td>\n",
       "      <td>-</td>\n",
       "      <td>-</td>\n",
       "      <td>-</td>\n",
       "      <td>-</td>\n",
       "      <td>-</td>\n",
       "      <td>NaN</td>\n",
       "    </tr>\n",
       "    <tr>\n",
       "      <th>2005</th>\n",
       "      <td>5</td>\n",
       "      <td>Zulqarnain Haider (PAK)</td>\n",
       "      <td>2007-2010</td>\n",
       "      <td>3</td>\n",
       "      <td>-</td>\n",
       "      <td>-</td>\n",
       "      <td>-</td>\n",
       "      <td>-</td>\n",
       "      <td>-</td>\n",
       "      <td>-</td>\n",
       "      <td>-</td>\n",
       "      <td>-</td>\n",
       "      <td>-</td>\n",
       "      <td>-</td>\n",
       "      <td>-</td>\n",
       "      <td>NaN</td>\n",
       "    </tr>\n",
       "  </tbody>\n",
       "</table>\n",
       "<p>2006 rows × 16 columns</p>\n",
       "</div>"
      ],
      "text/plain": [
       "      Unnamed: 0                   Player       Span  Mat Inns  Overs Mdns  \\\n",
       "0              0          SL Malinga (SL)  2006-2019   79   79  284.5    1   \n",
       "1              1  Shahid Afridi (ICC/PAK)  2006-2018   99   97  361.2    4   \n",
       "2              2  Shakib Al Hasan (BDESH)  2006-2019   76   75  277.5    2   \n",
       "3              3        Saeed Ajmal (PAK)  2009-2015   64   63  238.2    2   \n",
       "4              4           Umar Gul (PAK)  2007-2016   60   60  200.3    2   \n",
       "...          ...                      ...        ...  ...  ...    ...  ...   \n",
       "2001           1       Ziaur Rehman (Fin)  2019-2019    1    -      -    -   \n",
       "2002           2        Zishan Shah (DEN)  2019-2019    6    -      -    -   \n",
       "2003           3   Zubaidi Zulkifle (MAL)  2019-2019    4    -      -    -   \n",
       "2004           4         B Zuiderent (NL)  2009-2010    6    -      -    -   \n",
       "2005           5  Zulqarnain Haider (PAK)  2007-2010    3    -      -    -   \n",
       "\n",
       "      Runs Wkts   BBI    Ave  Econ    SR  4  5  Unnamed: 14  \n",
       "0     2061  106   5/6  19.44  7.23  16.1  1  2          NaN  \n",
       "1     2396   98  4/11  24.44  6.63  22.1  3  0          NaN  \n",
       "2     1894   92  5/20  20.58  6.81  18.1  3  1          NaN  \n",
       "3     1516   85  4/19  17.83  6.36  16.8  4  0          NaN  \n",
       "4     1443   85   5/6  16.97  7.19  14.1  4  2          NaN  \n",
       "...    ...  ...   ...    ...   ...   ... .. ..          ...  \n",
       "2001     -    -     -      -     -     -  -  -          NaN  \n",
       "2002     -    -     -      -     -     -  -  -          NaN  \n",
       "2003     -    -     -      -     -     -  -  -          NaN  \n",
       "2004     -    -     -      -     -     -  -  -          NaN  \n",
       "2005     -    -     -      -     -     -  -  -          NaN  \n",
       "\n",
       "[2006 rows x 16 columns]"
      ]
     },
     "execution_count": 7,
     "metadata": {},
     "output_type": "execute_result"
    }
   ],
   "source": [
    "bowling_t20 = pd.read_csv('bowling_t20.csv')\n",
    "bowling_t20"
   ]
  },
  {
   "attachments": {},
   "cell_type": "markdown",
   "metadata": {},
   "source": [
    "# Exploratory Data Analysis"
   ]
  },
  {
   "cell_type": "code",
   "execution_count": 8,
   "metadata": {},
   "outputs": [
    {
     "data": {
      "text/plain": [
       "(2006, 16)"
      ]
     },
     "execution_count": 8,
     "metadata": {},
     "output_type": "execute_result"
    }
   ],
   "source": [
    "#Number of rows and Cols\n",
    "bowling_t20.shape"
   ]
  },
  {
   "cell_type": "code",
   "execution_count": 5,
   "metadata": {},
   "outputs": [
    {
     "data": {
      "text/html": [
       "<div>\n",
       "<style scoped>\n",
       "    .dataframe tbody tr th:only-of-type {\n",
       "        vertical-align: middle;\n",
       "    }\n",
       "\n",
       "    .dataframe tbody tr th {\n",
       "        vertical-align: top;\n",
       "    }\n",
       "\n",
       "    .dataframe thead th {\n",
       "        text-align: right;\n",
       "    }\n",
       "</style>\n",
       "<table border=\"1\" class=\"dataframe\">\n",
       "  <thead>\n",
       "    <tr style=\"text-align: right;\">\n",
       "      <th></th>\n",
       "      <th>Unnamed: 0</th>\n",
       "      <th>Player</th>\n",
       "      <th>Span</th>\n",
       "      <th>Mat</th>\n",
       "      <th>Inns</th>\n",
       "      <th>Overs</th>\n",
       "      <th>Mdns</th>\n",
       "      <th>Runs</th>\n",
       "      <th>Wkts</th>\n",
       "      <th>BBI</th>\n",
       "      <th>Ave</th>\n",
       "      <th>Econ</th>\n",
       "      <th>SR</th>\n",
       "      <th>4</th>\n",
       "      <th>5</th>\n",
       "      <th>Unnamed: 14</th>\n",
       "    </tr>\n",
       "  </thead>\n",
       "  <tbody>\n",
       "    <tr>\n",
       "      <th>0</th>\n",
       "      <td>0</td>\n",
       "      <td>SL Malinga (SL)</td>\n",
       "      <td>2006-2019</td>\n",
       "      <td>79</td>\n",
       "      <td>79</td>\n",
       "      <td>284.5</td>\n",
       "      <td>1</td>\n",
       "      <td>2061</td>\n",
       "      <td>106</td>\n",
       "      <td>5/6</td>\n",
       "      <td>19.44</td>\n",
       "      <td>7.23</td>\n",
       "      <td>16.1</td>\n",
       "      <td>1</td>\n",
       "      <td>2</td>\n",
       "      <td>NaN</td>\n",
       "    </tr>\n",
       "    <tr>\n",
       "      <th>1</th>\n",
       "      <td>1</td>\n",
       "      <td>Shahid Afridi (ICC/PAK)</td>\n",
       "      <td>2006-2018</td>\n",
       "      <td>99</td>\n",
       "      <td>97</td>\n",
       "      <td>361.2</td>\n",
       "      <td>4</td>\n",
       "      <td>2396</td>\n",
       "      <td>98</td>\n",
       "      <td>4/11</td>\n",
       "      <td>24.44</td>\n",
       "      <td>6.63</td>\n",
       "      <td>22.1</td>\n",
       "      <td>3</td>\n",
       "      <td>0</td>\n",
       "      <td>NaN</td>\n",
       "    </tr>\n",
       "    <tr>\n",
       "      <th>2</th>\n",
       "      <td>2</td>\n",
       "      <td>Shakib Al Hasan (BDESH)</td>\n",
       "      <td>2006-2019</td>\n",
       "      <td>76</td>\n",
       "      <td>75</td>\n",
       "      <td>277.5</td>\n",
       "      <td>2</td>\n",
       "      <td>1894</td>\n",
       "      <td>92</td>\n",
       "      <td>5/20</td>\n",
       "      <td>20.58</td>\n",
       "      <td>6.81</td>\n",
       "      <td>18.1</td>\n",
       "      <td>3</td>\n",
       "      <td>1</td>\n",
       "      <td>NaN</td>\n",
       "    </tr>\n",
       "    <tr>\n",
       "      <th>3</th>\n",
       "      <td>3</td>\n",
       "      <td>Saeed Ajmal (PAK)</td>\n",
       "      <td>2009-2015</td>\n",
       "      <td>64</td>\n",
       "      <td>63</td>\n",
       "      <td>238.2</td>\n",
       "      <td>2</td>\n",
       "      <td>1516</td>\n",
       "      <td>85</td>\n",
       "      <td>4/19</td>\n",
       "      <td>17.83</td>\n",
       "      <td>6.36</td>\n",
       "      <td>16.8</td>\n",
       "      <td>4</td>\n",
       "      <td>0</td>\n",
       "      <td>NaN</td>\n",
       "    </tr>\n",
       "    <tr>\n",
       "      <th>4</th>\n",
       "      <td>4</td>\n",
       "      <td>Umar Gul (PAK)</td>\n",
       "      <td>2007-2016</td>\n",
       "      <td>60</td>\n",
       "      <td>60</td>\n",
       "      <td>200.3</td>\n",
       "      <td>2</td>\n",
       "      <td>1443</td>\n",
       "      <td>85</td>\n",
       "      <td>5/6</td>\n",
       "      <td>16.97</td>\n",
       "      <td>7.19</td>\n",
       "      <td>14.1</td>\n",
       "      <td>4</td>\n",
       "      <td>2</td>\n",
       "      <td>NaN</td>\n",
       "    </tr>\n",
       "    <tr>\n",
       "      <th>5</th>\n",
       "      <td>5</td>\n",
       "      <td>Rashid Khan (AFG/ICC)</td>\n",
       "      <td>2015-2019</td>\n",
       "      <td>45</td>\n",
       "      <td>45</td>\n",
       "      <td>171.0</td>\n",
       "      <td>1</td>\n",
       "      <td>1052</td>\n",
       "      <td>84</td>\n",
       "      <td>5/3</td>\n",
       "      <td>12.52</td>\n",
       "      <td>6.15</td>\n",
       "      <td>12.2</td>\n",
       "      <td>3</td>\n",
       "      <td>2</td>\n",
       "      <td>NaN</td>\n",
       "    </tr>\n",
       "    <tr>\n",
       "      <th>6</th>\n",
       "      <td>6</td>\n",
       "      <td>GH Dockrell (IRE)</td>\n",
       "      <td>2010-2019</td>\n",
       "      <td>73</td>\n",
       "      <td>69</td>\n",
       "      <td>221.2</td>\n",
       "      <td>1</td>\n",
       "      <td>1539</td>\n",
       "      <td>75</td>\n",
       "      <td>4/20</td>\n",
       "      <td>20.52</td>\n",
       "      <td>6.95</td>\n",
       "      <td>17.7</td>\n",
       "      <td>1</td>\n",
       "      <td>0</td>\n",
       "      <td>NaN</td>\n",
       "    </tr>\n",
       "    <tr>\n",
       "      <th>7</th>\n",
       "      <td>7</td>\n",
       "      <td>TG Southee (NZ)</td>\n",
       "      <td>2008-2019</td>\n",
       "      <td>66</td>\n",
       "      <td>64</td>\n",
       "      <td>233.3</td>\n",
       "      <td>2</td>\n",
       "      <td>1954</td>\n",
       "      <td>75</td>\n",
       "      <td>5/18</td>\n",
       "      <td>26.05</td>\n",
       "      <td>8.36</td>\n",
       "      <td>18.6</td>\n",
       "      <td>0</td>\n",
       "      <td>1</td>\n",
       "      <td>NaN</td>\n",
       "    </tr>\n",
       "    <tr>\n",
       "      <th>8</th>\n",
       "      <td>8</td>\n",
       "      <td>Mohammad Nabi (AFG)</td>\n",
       "      <td>2010-2019</td>\n",
       "      <td>75</td>\n",
       "      <td>75</td>\n",
       "      <td>256.4</td>\n",
       "      <td>5</td>\n",
       "      <td>1839</td>\n",
       "      <td>69</td>\n",
       "      <td>4/10</td>\n",
       "      <td>26.65</td>\n",
       "      <td>7.16</td>\n",
       "      <td>22.3</td>\n",
       "      <td>3</td>\n",
       "      <td>0</td>\n",
       "      <td>NaN</td>\n",
       "    </tr>\n",
       "    <tr>\n",
       "      <th>9</th>\n",
       "      <td>9</td>\n",
       "      <td>KMDN Kulasekara (SL)</td>\n",
       "      <td>2008-2017</td>\n",
       "      <td>58</td>\n",
       "      <td>58</td>\n",
       "      <td>205.1</td>\n",
       "      <td>6</td>\n",
       "      <td>1530</td>\n",
       "      <td>66</td>\n",
       "      <td>4/31</td>\n",
       "      <td>23.18</td>\n",
       "      <td>7.45</td>\n",
       "      <td>18.6</td>\n",
       "      <td>2</td>\n",
       "      <td>0</td>\n",
       "      <td>NaN</td>\n",
       "    </tr>\n",
       "    <tr>\n",
       "      <th>10</th>\n",
       "      <td>10</td>\n",
       "      <td>BAW Mendis (SL)</td>\n",
       "      <td>2008-2014</td>\n",
       "      <td>39</td>\n",
       "      <td>39</td>\n",
       "      <td>147.3</td>\n",
       "      <td>5</td>\n",
       "      <td>952</td>\n",
       "      <td>66</td>\n",
       "      <td>6/8</td>\n",
       "      <td>14.42</td>\n",
       "      <td>6.45</td>\n",
       "      <td>13.4</td>\n",
       "      <td>3</td>\n",
       "      <td>2</td>\n",
       "      <td>NaN</td>\n",
       "    </tr>\n",
       "    <tr>\n",
       "      <th>11</th>\n",
       "      <td>11</td>\n",
       "      <td>SCJ Broad (ENG)</td>\n",
       "      <td>2006-2014</td>\n",
       "      <td>56</td>\n",
       "      <td>55</td>\n",
       "      <td>195.3</td>\n",
       "      <td>2</td>\n",
       "      <td>1491</td>\n",
       "      <td>65</td>\n",
       "      <td>4/24</td>\n",
       "      <td>22.93</td>\n",
       "      <td>7.62</td>\n",
       "      <td>18.0</td>\n",
       "      <td>1</td>\n",
       "      <td>0</td>\n",
       "      <td>NaN</td>\n",
       "    </tr>\n",
       "    <tr>\n",
       "      <th>12</th>\n",
       "      <td>12</td>\n",
       "      <td>Imran Tahir (SA/World)</td>\n",
       "      <td>2013-2019</td>\n",
       "      <td>38</td>\n",
       "      <td>38</td>\n",
       "      <td>140.5</td>\n",
       "      <td>0</td>\n",
       "      <td>948</td>\n",
       "      <td>63</td>\n",
       "      <td>5/23</td>\n",
       "      <td>15.04</td>\n",
       "      <td>6.73</td>\n",
       "      <td>13.4</td>\n",
       "      <td>2</td>\n",
       "      <td>2</td>\n",
       "      <td>NaN</td>\n",
       "    </tr>\n",
       "    <tr>\n",
       "      <th>13</th>\n",
       "      <td>13</td>\n",
       "      <td>DW Steyn (SA)</td>\n",
       "      <td>2007-2019</td>\n",
       "      <td>44</td>\n",
       "      <td>44</td>\n",
       "      <td>157.1</td>\n",
       "      <td>3</td>\n",
       "      <td>1068</td>\n",
       "      <td>61</td>\n",
       "      <td>4/9</td>\n",
       "      <td>17.5</td>\n",
       "      <td>6.79</td>\n",
       "      <td>15.4</td>\n",
       "      <td>2</td>\n",
       "      <td>0</td>\n",
       "      <td>NaN</td>\n",
       "    </tr>\n",
       "    <tr>\n",
       "      <th>14</th>\n",
       "      <td>14</td>\n",
       "      <td>Mohammad Amir (PAK)</td>\n",
       "      <td>2009-2019</td>\n",
       "      <td>48</td>\n",
       "      <td>48</td>\n",
       "      <td>175.4</td>\n",
       "      <td>5</td>\n",
       "      <td>1224</td>\n",
       "      <td>59</td>\n",
       "      <td>4/13</td>\n",
       "      <td>20.74</td>\n",
       "      <td>6.96</td>\n",
       "      <td>17.8</td>\n",
       "      <td>1</td>\n",
       "      <td>0</td>\n",
       "      <td>NaN</td>\n",
       "    </tr>\n",
       "    <tr>\n",
       "      <th>15</th>\n",
       "      <td>15</td>\n",
       "      <td>NL McCullum (NZ)</td>\n",
       "      <td>2007-2016</td>\n",
       "      <td>63</td>\n",
       "      <td>59</td>\n",
       "      <td>187.1</td>\n",
       "      <td>0</td>\n",
       "      <td>1278</td>\n",
       "      <td>58</td>\n",
       "      <td>4/16</td>\n",
       "      <td>22.03</td>\n",
       "      <td>6.82</td>\n",
       "      <td>19.3</td>\n",
       "      <td>2</td>\n",
       "      <td>0</td>\n",
       "      <td>NaN</td>\n",
       "    </tr>\n",
       "    <tr>\n",
       "      <th>16</th>\n",
       "      <td>16</td>\n",
       "      <td>KJ O'Brien (IRE)</td>\n",
       "      <td>2008-2019</td>\n",
       "      <td>90</td>\n",
       "      <td>51</td>\n",
       "      <td>150.3</td>\n",
       "      <td>0</td>\n",
       "      <td>1134</td>\n",
       "      <td>58</td>\n",
       "      <td>4/45</td>\n",
       "      <td>19.55</td>\n",
       "      <td>7.53</td>\n",
       "      <td>15.5</td>\n",
       "      <td>1</td>\n",
       "      <td>0</td>\n",
       "      <td>NaN</td>\n",
       "    </tr>\n",
       "    <tr>\n",
       "      <th>17</th>\n",
       "      <td>17</td>\n",
       "      <td>S Badree (WI/World)</td>\n",
       "      <td>2012-2018</td>\n",
       "      <td>52</td>\n",
       "      <td>52</td>\n",
       "      <td>191.0</td>\n",
       "      <td>4</td>\n",
       "      <td>1180</td>\n",
       "      <td>56</td>\n",
       "      <td>4/15</td>\n",
       "      <td>21.07</td>\n",
       "      <td>6.17</td>\n",
       "      <td>20.4</td>\n",
       "      <td>1</td>\n",
       "      <td>0</td>\n",
       "      <td>NaN</td>\n",
       "    </tr>\n",
       "    <tr>\n",
       "      <th>18</th>\n",
       "      <td>18</td>\n",
       "      <td>CJ Jordan (ENG)</td>\n",
       "      <td>2014-2019</td>\n",
       "      <td>43</td>\n",
       "      <td>43</td>\n",
       "      <td>151.3</td>\n",
       "      <td>0</td>\n",
       "      <td>1300</td>\n",
       "      <td>54</td>\n",
       "      <td>4/6</td>\n",
       "      <td>24.07</td>\n",
       "      <td>8.58</td>\n",
       "      <td>16.8</td>\n",
       "      <td>2</td>\n",
       "      <td>0</td>\n",
       "      <td>NaN</td>\n",
       "    </tr>\n",
       "    <tr>\n",
       "      <th>19</th>\n",
       "      <td>19</td>\n",
       "      <td>Mohammad Hafeez (PAK)</td>\n",
       "      <td>2006-2018</td>\n",
       "      <td>89</td>\n",
       "      <td>67</td>\n",
       "      <td>186.1</td>\n",
       "      <td>2</td>\n",
       "      <td>1226</td>\n",
       "      <td>54</td>\n",
       "      <td>4/10</td>\n",
       "      <td>22.7</td>\n",
       "      <td>6.58</td>\n",
       "      <td>20.6</td>\n",
       "      <td>1</td>\n",
       "      <td>0</td>\n",
       "      <td>NaN</td>\n",
       "    </tr>\n",
       "  </tbody>\n",
       "</table>\n",
       "</div>"
      ],
      "text/plain": [
       "    Unnamed: 0                   Player       Span  Mat Inns  Overs Mdns  \\\n",
       "0            0          SL Malinga (SL)  2006-2019   79   79  284.5    1   \n",
       "1            1  Shahid Afridi (ICC/PAK)  2006-2018   99   97  361.2    4   \n",
       "2            2  Shakib Al Hasan (BDESH)  2006-2019   76   75  277.5    2   \n",
       "3            3        Saeed Ajmal (PAK)  2009-2015   64   63  238.2    2   \n",
       "4            4           Umar Gul (PAK)  2007-2016   60   60  200.3    2   \n",
       "5            5    Rashid Khan (AFG/ICC)  2015-2019   45   45  171.0    1   \n",
       "6            6        GH Dockrell (IRE)  2010-2019   73   69  221.2    1   \n",
       "7            7          TG Southee (NZ)  2008-2019   66   64  233.3    2   \n",
       "8            8      Mohammad Nabi (AFG)  2010-2019   75   75  256.4    5   \n",
       "9            9     KMDN Kulasekara (SL)  2008-2017   58   58  205.1    6   \n",
       "10          10          BAW Mendis (SL)  2008-2014   39   39  147.3    5   \n",
       "11          11          SCJ Broad (ENG)  2006-2014   56   55  195.3    2   \n",
       "12          12   Imran Tahir (SA/World)  2013-2019   38   38  140.5    0   \n",
       "13          13            DW Steyn (SA)  2007-2019   44   44  157.1    3   \n",
       "14          14      Mohammad Amir (PAK)  2009-2019   48   48  175.4    5   \n",
       "15          15         NL McCullum (NZ)  2007-2016   63   59  187.1    0   \n",
       "16          16         KJ O'Brien (IRE)  2008-2019   90   51  150.3    0   \n",
       "17          17      S Badree (WI/World)  2012-2018   52   52  191.0    4   \n",
       "18          18          CJ Jordan (ENG)  2014-2019   43   43  151.3    0   \n",
       "19          19    Mohammad Hafeez (PAK)  2006-2018   89   67  186.1    2   \n",
       "\n",
       "    Runs Wkts   BBI    Ave  Econ    SR  4  5  Unnamed: 14  \n",
       "0   2061  106   5/6  19.44  7.23  16.1  1  2          NaN  \n",
       "1   2396   98  4/11  24.44  6.63  22.1  3  0          NaN  \n",
       "2   1894   92  5/20  20.58  6.81  18.1  3  1          NaN  \n",
       "3   1516   85  4/19  17.83  6.36  16.8  4  0          NaN  \n",
       "4   1443   85   5/6  16.97  7.19  14.1  4  2          NaN  \n",
       "5   1052   84   5/3  12.52  6.15  12.2  3  2          NaN  \n",
       "6   1539   75  4/20  20.52  6.95  17.7  1  0          NaN  \n",
       "7   1954   75  5/18  26.05  8.36  18.6  0  1          NaN  \n",
       "8   1839   69  4/10  26.65  7.16  22.3  3  0          NaN  \n",
       "9   1530   66  4/31  23.18  7.45  18.6  2  0          NaN  \n",
       "10   952   66   6/8  14.42  6.45  13.4  3  2          NaN  \n",
       "11  1491   65  4/24  22.93  7.62  18.0  1  0          NaN  \n",
       "12   948   63  5/23  15.04  6.73  13.4  2  2          NaN  \n",
       "13  1068   61   4/9   17.5  6.79  15.4  2  0          NaN  \n",
       "14  1224   59  4/13  20.74  6.96  17.8  1  0          NaN  \n",
       "15  1278   58  4/16  22.03  6.82  19.3  2  0          NaN  \n",
       "16  1134   58  4/45  19.55  7.53  15.5  1  0          NaN  \n",
       "17  1180   56  4/15  21.07  6.17  20.4  1  0          NaN  \n",
       "18  1300   54   4/6  24.07  8.58  16.8  2  0          NaN  \n",
       "19  1226   54  4/10   22.7  6.58  20.6  1  0          NaN  "
      ]
     },
     "execution_count": 5,
     "metadata": {},
     "output_type": "execute_result"
    }
   ],
   "source": [
    "#  fetch the first n rows\n",
    "bowling_odi.head(20)"
   ]
  },
  {
   "cell_type": "code",
   "execution_count": 9,
   "metadata": {},
   "outputs": [
    {
     "name": "stdout",
     "output_type": "stream",
     "text": [
      "<class 'pandas.core.frame.DataFrame'>\n",
      "RangeIndex: 2006 entries, 0 to 2005\n",
      "Data columns (total 16 columns):\n",
      " #   Column       Non-Null Count  Dtype  \n",
      "---  ------       --------------  -----  \n",
      " 0   Unnamed: 0   2006 non-null   int64  \n",
      " 1   Player       2006 non-null   object \n",
      " 2   Span         2006 non-null   object \n",
      " 3   Mat          2006 non-null   int64  \n",
      " 4   Inns         2006 non-null   object \n",
      " 5   Overs        2006 non-null   object \n",
      " 6   Mdns         2006 non-null   object \n",
      " 7   Runs         2006 non-null   object \n",
      " 8   Wkts         2006 non-null   object \n",
      " 9   BBI          2006 non-null   object \n",
      " 10  Ave          2006 non-null   object \n",
      " 11  Econ         2006 non-null   object \n",
      " 12  SR           2006 non-null   object \n",
      " 13  4            2006 non-null   object \n",
      " 14  5            2006 non-null   object \n",
      " 15  Unnamed: 14  0 non-null      float64\n",
      "dtypes: float64(1), int64(2), object(13)\n",
      "memory usage: 250.9+ KB\n"
     ]
    }
   ],
   "source": [
    "#data types check\n",
    "bowling_t20.info()"
   ]
  },
  {
   "cell_type": "code",
   "execution_count": 11,
   "metadata": {},
   "outputs": [
    {
     "data": {
      "text/html": [
       "<div>\n",
       "<style scoped>\n",
       "    .dataframe tbody tr th:only-of-type {\n",
       "        vertical-align: middle;\n",
       "    }\n",
       "\n",
       "    .dataframe tbody tr th {\n",
       "        vertical-align: top;\n",
       "    }\n",
       "\n",
       "    .dataframe thead th {\n",
       "        text-align: right;\n",
       "    }\n",
       "</style>\n",
       "<table border=\"1\" class=\"dataframe\">\n",
       "  <thead>\n",
       "    <tr style=\"text-align: right;\">\n",
       "      <th></th>\n",
       "      <th>Unnamed: 0</th>\n",
       "      <th>Mat</th>\n",
       "      <th>Unnamed: 14</th>\n",
       "    </tr>\n",
       "  </thead>\n",
       "  <tbody>\n",
       "    <tr>\n",
       "      <th>count</th>\n",
       "      <td>2006.000000</td>\n",
       "      <td>2006.000000</td>\n",
       "      <td>0.0</td>\n",
       "    </tr>\n",
       "    <tr>\n",
       "      <th>mean</th>\n",
       "      <td>24.434197</td>\n",
       "      <td>11.231805</td>\n",
       "      <td>NaN</td>\n",
       "    </tr>\n",
       "    <tr>\n",
       "      <th>std</th>\n",
       "      <td>14.463176</td>\n",
       "      <td>14.923332</td>\n",
       "      <td>NaN</td>\n",
       "    </tr>\n",
       "    <tr>\n",
       "      <th>min</th>\n",
       "      <td>0.000000</td>\n",
       "      <td>1.000000</td>\n",
       "      <td>NaN</td>\n",
       "    </tr>\n",
       "    <tr>\n",
       "      <th>25%</th>\n",
       "      <td>12.000000</td>\n",
       "      <td>3.000000</td>\n",
       "      <td>NaN</td>\n",
       "    </tr>\n",
       "    <tr>\n",
       "      <th>50%</th>\n",
       "      <td>24.000000</td>\n",
       "      <td>5.000000</td>\n",
       "      <td>NaN</td>\n",
       "    </tr>\n",
       "    <tr>\n",
       "      <th>75%</th>\n",
       "      <td>37.000000</td>\n",
       "      <td>13.000000</td>\n",
       "      <td>NaN</td>\n",
       "    </tr>\n",
       "    <tr>\n",
       "      <th>max</th>\n",
       "      <td>49.000000</td>\n",
       "      <td>111.000000</td>\n",
       "      <td>NaN</td>\n",
       "    </tr>\n",
       "  </tbody>\n",
       "</table>\n",
       "</div>"
      ],
      "text/plain": [
       "        Unnamed: 0          Mat  Unnamed: 14\n",
       "count  2006.000000  2006.000000          0.0\n",
       "mean     24.434197    11.231805          NaN\n",
       "std      14.463176    14.923332          NaN\n",
       "min       0.000000     1.000000          NaN\n",
       "25%      12.000000     3.000000          NaN\n",
       "50%      24.000000     5.000000          NaN\n",
       "75%      37.000000    13.000000          NaN\n",
       "max      49.000000   111.000000          NaN"
      ]
     },
     "execution_count": 11,
     "metadata": {},
     "output_type": "execute_result"
    }
   ],
   "source": [
    "#summary check\n",
    "bowling_t20.describe()"
   ]
  },
  {
   "cell_type": "code",
   "execution_count": 12,
   "metadata": {},
   "outputs": [
    {
     "data": {
      "text/plain": [
       "(Index(['Unnamed: 14'], dtype='object'),\n",
       " Unnamed: 0        0\n",
       " Player            0\n",
       " Span              0\n",
       " Mat               0\n",
       " Inns              0\n",
       " Overs             0\n",
       " Mdns              0\n",
       " Runs              0\n",
       " Wkts              0\n",
       " BBI               0\n",
       " Ave               0\n",
       " Econ              0\n",
       " SR                0\n",
       " 4                 0\n",
       " 5                 0\n",
       " Unnamed: 14    2006\n",
       " dtype: int64)"
      ]
     },
     "execution_count": 12,
     "metadata": {},
     "output_type": "execute_result"
    }
   ],
   "source": [
    "#check for null values\n",
    "bowling_t20.columns[bowling_t20.isnull().any()], bowling_odi.isnull().sum()"
   ]
  },
  {
   "cell_type": "code",
   "execution_count": 13,
   "metadata": {},
   "outputs": [
    {
     "data": {
      "text/html": [
       "<div>\n",
       "<style scoped>\n",
       "    .dataframe tbody tr th:only-of-type {\n",
       "        vertical-align: middle;\n",
       "    }\n",
       "\n",
       "    .dataframe tbody tr th {\n",
       "        vertical-align: top;\n",
       "    }\n",
       "\n",
       "    .dataframe thead th {\n",
       "        text-align: right;\n",
       "    }\n",
       "</style>\n",
       "<table border=\"1\" class=\"dataframe\">\n",
       "  <thead>\n",
       "    <tr style=\"text-align: right;\">\n",
       "      <th></th>\n",
       "      <th>Unnamed: 0</th>\n",
       "      <th>Player</th>\n",
       "      <th>Span</th>\n",
       "      <th>Mat</th>\n",
       "      <th>Inns</th>\n",
       "      <th>Overs</th>\n",
       "      <th>Mdns</th>\n",
       "      <th>Runs</th>\n",
       "      <th>Wkts</th>\n",
       "      <th>BBI</th>\n",
       "      <th>Ave</th>\n",
       "      <th>Econ</th>\n",
       "      <th>SR</th>\n",
       "      <th>4</th>\n",
       "      <th>5</th>\n",
       "      <th>Unnamed: 14</th>\n",
       "    </tr>\n",
       "  </thead>\n",
       "  <tbody>\n",
       "    <tr>\n",
       "      <th>0</th>\n",
       "      <td>0</td>\n",
       "      <td>SL Malinga (SL)</td>\n",
       "      <td>2006-2019</td>\n",
       "      <td>79</td>\n",
       "      <td>79</td>\n",
       "      <td>284.5</td>\n",
       "      <td>1</td>\n",
       "      <td>2061</td>\n",
       "      <td>106</td>\n",
       "      <td>5/6</td>\n",
       "      <td>19.44</td>\n",
       "      <td>7.23</td>\n",
       "      <td>16.1</td>\n",
       "      <td>1</td>\n",
       "      <td>2</td>\n",
       "      <td>NaN</td>\n",
       "    </tr>\n",
       "    <tr>\n",
       "      <th>1</th>\n",
       "      <td>1</td>\n",
       "      <td>Shahid Afridi (ICC/PAK)</td>\n",
       "      <td>2006-2018</td>\n",
       "      <td>99</td>\n",
       "      <td>97</td>\n",
       "      <td>361.2</td>\n",
       "      <td>4</td>\n",
       "      <td>2396</td>\n",
       "      <td>98</td>\n",
       "      <td>4/11</td>\n",
       "      <td>24.44</td>\n",
       "      <td>6.63</td>\n",
       "      <td>22.1</td>\n",
       "      <td>3</td>\n",
       "      <td>0</td>\n",
       "      <td>NaN</td>\n",
       "    </tr>\n",
       "    <tr>\n",
       "      <th>2</th>\n",
       "      <td>2</td>\n",
       "      <td>Shakib Al Hasan (BDESH)</td>\n",
       "      <td>2006-2019</td>\n",
       "      <td>76</td>\n",
       "      <td>75</td>\n",
       "      <td>277.5</td>\n",
       "      <td>2</td>\n",
       "      <td>1894</td>\n",
       "      <td>92</td>\n",
       "      <td>5/20</td>\n",
       "      <td>20.58</td>\n",
       "      <td>6.81</td>\n",
       "      <td>18.1</td>\n",
       "      <td>3</td>\n",
       "      <td>1</td>\n",
       "      <td>NaN</td>\n",
       "    </tr>\n",
       "    <tr>\n",
       "      <th>3</th>\n",
       "      <td>3</td>\n",
       "      <td>Saeed Ajmal (PAK)</td>\n",
       "      <td>2009-2015</td>\n",
       "      <td>64</td>\n",
       "      <td>63</td>\n",
       "      <td>238.2</td>\n",
       "      <td>2</td>\n",
       "      <td>1516</td>\n",
       "      <td>85</td>\n",
       "      <td>4/19</td>\n",
       "      <td>17.83</td>\n",
       "      <td>6.36</td>\n",
       "      <td>16.8</td>\n",
       "      <td>4</td>\n",
       "      <td>0</td>\n",
       "      <td>NaN</td>\n",
       "    </tr>\n",
       "    <tr>\n",
       "      <th>4</th>\n",
       "      <td>4</td>\n",
       "      <td>Umar Gul (PAK)</td>\n",
       "      <td>2007-2016</td>\n",
       "      <td>60</td>\n",
       "      <td>60</td>\n",
       "      <td>200.3</td>\n",
       "      <td>2</td>\n",
       "      <td>1443</td>\n",
       "      <td>85</td>\n",
       "      <td>5/6</td>\n",
       "      <td>16.97</td>\n",
       "      <td>7.19</td>\n",
       "      <td>14.1</td>\n",
       "      <td>4</td>\n",
       "      <td>2</td>\n",
       "      <td>NaN</td>\n",
       "    </tr>\n",
       "    <tr>\n",
       "      <th>...</th>\n",
       "      <td>...</td>\n",
       "      <td>...</td>\n",
       "      <td>...</td>\n",
       "      <td>...</td>\n",
       "      <td>...</td>\n",
       "      <td>...</td>\n",
       "      <td>...</td>\n",
       "      <td>...</td>\n",
       "      <td>...</td>\n",
       "      <td>...</td>\n",
       "      <td>...</td>\n",
       "      <td>...</td>\n",
       "      <td>...</td>\n",
       "      <td>...</td>\n",
       "      <td>...</td>\n",
       "      <td>...</td>\n",
       "    </tr>\n",
       "    <tr>\n",
       "      <th>2001</th>\n",
       "      <td>1</td>\n",
       "      <td>Ziaur Rehman (Fin)</td>\n",
       "      <td>2019-2019</td>\n",
       "      <td>1</td>\n",
       "      <td>-</td>\n",
       "      <td>-</td>\n",
       "      <td>-</td>\n",
       "      <td>-</td>\n",
       "      <td>-</td>\n",
       "      <td>-</td>\n",
       "      <td>-</td>\n",
       "      <td>-</td>\n",
       "      <td>-</td>\n",
       "      <td>-</td>\n",
       "      <td>-</td>\n",
       "      <td>NaN</td>\n",
       "    </tr>\n",
       "    <tr>\n",
       "      <th>2002</th>\n",
       "      <td>2</td>\n",
       "      <td>Zishan Shah (DEN)</td>\n",
       "      <td>2019-2019</td>\n",
       "      <td>6</td>\n",
       "      <td>-</td>\n",
       "      <td>-</td>\n",
       "      <td>-</td>\n",
       "      <td>-</td>\n",
       "      <td>-</td>\n",
       "      <td>-</td>\n",
       "      <td>-</td>\n",
       "      <td>-</td>\n",
       "      <td>-</td>\n",
       "      <td>-</td>\n",
       "      <td>-</td>\n",
       "      <td>NaN</td>\n",
       "    </tr>\n",
       "    <tr>\n",
       "      <th>2003</th>\n",
       "      <td>3</td>\n",
       "      <td>Zubaidi Zulkifle (MAL)</td>\n",
       "      <td>2019-2019</td>\n",
       "      <td>4</td>\n",
       "      <td>-</td>\n",
       "      <td>-</td>\n",
       "      <td>-</td>\n",
       "      <td>-</td>\n",
       "      <td>-</td>\n",
       "      <td>-</td>\n",
       "      <td>-</td>\n",
       "      <td>-</td>\n",
       "      <td>-</td>\n",
       "      <td>-</td>\n",
       "      <td>-</td>\n",
       "      <td>NaN</td>\n",
       "    </tr>\n",
       "    <tr>\n",
       "      <th>2004</th>\n",
       "      <td>4</td>\n",
       "      <td>B Zuiderent (NL)</td>\n",
       "      <td>2009-2010</td>\n",
       "      <td>6</td>\n",
       "      <td>-</td>\n",
       "      <td>-</td>\n",
       "      <td>-</td>\n",
       "      <td>-</td>\n",
       "      <td>-</td>\n",
       "      <td>-</td>\n",
       "      <td>-</td>\n",
       "      <td>-</td>\n",
       "      <td>-</td>\n",
       "      <td>-</td>\n",
       "      <td>-</td>\n",
       "      <td>NaN</td>\n",
       "    </tr>\n",
       "    <tr>\n",
       "      <th>2005</th>\n",
       "      <td>5</td>\n",
       "      <td>Zulqarnain Haider (PAK)</td>\n",
       "      <td>2007-2010</td>\n",
       "      <td>3</td>\n",
       "      <td>-</td>\n",
       "      <td>-</td>\n",
       "      <td>-</td>\n",
       "      <td>-</td>\n",
       "      <td>-</td>\n",
       "      <td>-</td>\n",
       "      <td>-</td>\n",
       "      <td>-</td>\n",
       "      <td>-</td>\n",
       "      <td>-</td>\n",
       "      <td>-</td>\n",
       "      <td>NaN</td>\n",
       "    </tr>\n",
       "  </tbody>\n",
       "</table>\n",
       "<p>2006 rows × 16 columns</p>\n",
       "</div>"
      ],
      "text/plain": [
       "      Unnamed: 0                   Player       Span  Mat Inns  Overs Mdns  \\\n",
       "0              0          SL Malinga (SL)  2006-2019   79   79  284.5    1   \n",
       "1              1  Shahid Afridi (ICC/PAK)  2006-2018   99   97  361.2    4   \n",
       "2              2  Shakib Al Hasan (BDESH)  2006-2019   76   75  277.5    2   \n",
       "3              3        Saeed Ajmal (PAK)  2009-2015   64   63  238.2    2   \n",
       "4              4           Umar Gul (PAK)  2007-2016   60   60  200.3    2   \n",
       "...          ...                      ...        ...  ...  ...    ...  ...   \n",
       "2001           1       Ziaur Rehman (Fin)  2019-2019    1    -      -    -   \n",
       "2002           2        Zishan Shah (DEN)  2019-2019    6    -      -    -   \n",
       "2003           3   Zubaidi Zulkifle (MAL)  2019-2019    4    -      -    -   \n",
       "2004           4         B Zuiderent (NL)  2009-2010    6    -      -    -   \n",
       "2005           5  Zulqarnain Haider (PAK)  2007-2010    3    -      -    -   \n",
       "\n",
       "      Runs Wkts   BBI    Ave  Econ    SR  4  5  Unnamed: 14  \n",
       "0     2061  106   5/6  19.44  7.23  16.1  1  2          NaN  \n",
       "1     2396   98  4/11  24.44  6.63  22.1  3  0          NaN  \n",
       "2     1894   92  5/20  20.58  6.81  18.1  3  1          NaN  \n",
       "3     1516   85  4/19  17.83  6.36  16.8  4  0          NaN  \n",
       "4     1443   85   5/6  16.97  7.19  14.1  4  2          NaN  \n",
       "...    ...  ...   ...    ...   ...   ... .. ..          ...  \n",
       "2001     -    -     -      -     -     -  -  -          NaN  \n",
       "2002     -    -     -      -     -     -  -  -          NaN  \n",
       "2003     -    -     -      -     -     -  -  -          NaN  \n",
       "2004     -    -     -      -     -     -  -  -          NaN  \n",
       "2005     -    -     -      -     -     -  -  -          NaN  \n",
       "\n",
       "[2006 rows x 16 columns]"
      ]
     },
     "execution_count": 13,
     "metadata": {},
     "output_type": "execute_result"
    }
   ],
   "source": [
    "bowling_t20"
   ]
  },
  {
   "cell_type": "code",
   "execution_count": 14,
   "metadata": {},
   "outputs": [
    {
     "data": {
      "text/html": [
       "<div>\n",
       "<style scoped>\n",
       "    .dataframe tbody tr th:only-of-type {\n",
       "        vertical-align: middle;\n",
       "    }\n",
       "\n",
       "    .dataframe tbody tr th {\n",
       "        vertical-align: top;\n",
       "    }\n",
       "\n",
       "    .dataframe thead th {\n",
       "        text-align: right;\n",
       "    }\n",
       "</style>\n",
       "<table border=\"1\" class=\"dataframe\">\n",
       "  <thead>\n",
       "    <tr style=\"text-align: right;\">\n",
       "      <th></th>\n",
       "      <th>Player</th>\n",
       "      <th>Span</th>\n",
       "      <th>Mat</th>\n",
       "      <th>Inns</th>\n",
       "      <th>Overs</th>\n",
       "      <th>Mdns</th>\n",
       "      <th>Runs</th>\n",
       "      <th>Wkts</th>\n",
       "      <th>BBI</th>\n",
       "      <th>Ave</th>\n",
       "      <th>Econ</th>\n",
       "      <th>SR</th>\n",
       "      <th>4</th>\n",
       "      <th>5</th>\n",
       "    </tr>\n",
       "  </thead>\n",
       "  <tbody>\n",
       "    <tr>\n",
       "      <th>0</th>\n",
       "      <td>SL Malinga (SL)</td>\n",
       "      <td>2006-2019</td>\n",
       "      <td>79</td>\n",
       "      <td>79</td>\n",
       "      <td>284.5</td>\n",
       "      <td>1</td>\n",
       "      <td>2061</td>\n",
       "      <td>106</td>\n",
       "      <td>5/6</td>\n",
       "      <td>19.44</td>\n",
       "      <td>7.23</td>\n",
       "      <td>16.1</td>\n",
       "      <td>1</td>\n",
       "      <td>2</td>\n",
       "    </tr>\n",
       "    <tr>\n",
       "      <th>1</th>\n",
       "      <td>Shahid Afridi (ICC/PAK)</td>\n",
       "      <td>2006-2018</td>\n",
       "      <td>99</td>\n",
       "      <td>97</td>\n",
       "      <td>361.2</td>\n",
       "      <td>4</td>\n",
       "      <td>2396</td>\n",
       "      <td>98</td>\n",
       "      <td>4/11</td>\n",
       "      <td>24.44</td>\n",
       "      <td>6.63</td>\n",
       "      <td>22.1</td>\n",
       "      <td>3</td>\n",
       "      <td>0</td>\n",
       "    </tr>\n",
       "    <tr>\n",
       "      <th>2</th>\n",
       "      <td>Shakib Al Hasan (BDESH)</td>\n",
       "      <td>2006-2019</td>\n",
       "      <td>76</td>\n",
       "      <td>75</td>\n",
       "      <td>277.5</td>\n",
       "      <td>2</td>\n",
       "      <td>1894</td>\n",
       "      <td>92</td>\n",
       "      <td>5/20</td>\n",
       "      <td>20.58</td>\n",
       "      <td>6.81</td>\n",
       "      <td>18.1</td>\n",
       "      <td>3</td>\n",
       "      <td>1</td>\n",
       "    </tr>\n",
       "    <tr>\n",
       "      <th>3</th>\n",
       "      <td>Saeed Ajmal (PAK)</td>\n",
       "      <td>2009-2015</td>\n",
       "      <td>64</td>\n",
       "      <td>63</td>\n",
       "      <td>238.2</td>\n",
       "      <td>2</td>\n",
       "      <td>1516</td>\n",
       "      <td>85</td>\n",
       "      <td>4/19</td>\n",
       "      <td>17.83</td>\n",
       "      <td>6.36</td>\n",
       "      <td>16.8</td>\n",
       "      <td>4</td>\n",
       "      <td>0</td>\n",
       "    </tr>\n",
       "    <tr>\n",
       "      <th>4</th>\n",
       "      <td>Umar Gul (PAK)</td>\n",
       "      <td>2007-2016</td>\n",
       "      <td>60</td>\n",
       "      <td>60</td>\n",
       "      <td>200.3</td>\n",
       "      <td>2</td>\n",
       "      <td>1443</td>\n",
       "      <td>85</td>\n",
       "      <td>5/6</td>\n",
       "      <td>16.97</td>\n",
       "      <td>7.19</td>\n",
       "      <td>14.1</td>\n",
       "      <td>4</td>\n",
       "      <td>2</td>\n",
       "    </tr>\n",
       "  </tbody>\n",
       "</table>\n",
       "</div>"
      ],
      "text/plain": [
       "                    Player       Span  Mat Inns  Overs Mdns  Runs Wkts   BBI  \\\n",
       "0          SL Malinga (SL)  2006-2019   79   79  284.5    1  2061  106   5/6   \n",
       "1  Shahid Afridi (ICC/PAK)  2006-2018   99   97  361.2    4  2396   98  4/11   \n",
       "2  Shakib Al Hasan (BDESH)  2006-2019   76   75  277.5    2  1894   92  5/20   \n",
       "3        Saeed Ajmal (PAK)  2009-2015   64   63  238.2    2  1516   85  4/19   \n",
       "4           Umar Gul (PAK)  2007-2016   60   60  200.3    2  1443   85   5/6   \n",
       "\n",
       "     Ave  Econ    SR  4  5  \n",
       "0  19.44  7.23  16.1  1  2  \n",
       "1  24.44  6.63  22.1  3  0  \n",
       "2  20.58  6.81  18.1  3  1  \n",
       "3  17.83  6.36  16.8  4  0  \n",
       "4  16.97  7.19  14.1  4  2  "
      ]
     },
     "execution_count": 14,
     "metadata": {},
     "output_type": "execute_result"
    }
   ],
   "source": [
    "#delete unnamed: 0 column\n",
    "bowling_t20 = bowling_t20.drop(['Unnamed: 0', 'Unnamed: 14'], axis=1)\n",
    "bowling_t20.head()"
   ]
  },
  {
   "cell_type": "code",
   "execution_count": 15,
   "metadata": {},
   "outputs": [
    {
     "data": {
      "text/html": [
       "<div>\n",
       "<style scoped>\n",
       "    .dataframe tbody tr th:only-of-type {\n",
       "        vertical-align: middle;\n",
       "    }\n",
       "\n",
       "    .dataframe tbody tr th {\n",
       "        vertical-align: top;\n",
       "    }\n",
       "\n",
       "    .dataframe thead th {\n",
       "        text-align: right;\n",
       "    }\n",
       "</style>\n",
       "<table border=\"1\" class=\"dataframe\">\n",
       "  <thead>\n",
       "    <tr style=\"text-align: right;\">\n",
       "      <th></th>\n",
       "      <th>Player</th>\n",
       "      <th>Span</th>\n",
       "      <th>Mat</th>\n",
       "      <th>Inns</th>\n",
       "      <th>Overs</th>\n",
       "      <th>Mdns</th>\n",
       "      <th>Runs</th>\n",
       "      <th>Wkts</th>\n",
       "      <th>BBI</th>\n",
       "      <th>Ave</th>\n",
       "      <th>Econ</th>\n",
       "      <th>SR</th>\n",
       "      <th>4</th>\n",
       "      <th>5</th>\n",
       "      <th>Region</th>\n",
       "    </tr>\n",
       "  </thead>\n",
       "  <tbody>\n",
       "    <tr>\n",
       "      <th>0</th>\n",
       "      <td>SL Malinga</td>\n",
       "      <td>2006-2019</td>\n",
       "      <td>79</td>\n",
       "      <td>79</td>\n",
       "      <td>284.5</td>\n",
       "      <td>1</td>\n",
       "      <td>2061</td>\n",
       "      <td>106</td>\n",
       "      <td>5/6</td>\n",
       "      <td>19.44</td>\n",
       "      <td>7.23</td>\n",
       "      <td>16.1</td>\n",
       "      <td>1</td>\n",
       "      <td>2</td>\n",
       "      <td>SL)</td>\n",
       "    </tr>\n",
       "    <tr>\n",
       "      <th>1</th>\n",
       "      <td>Shahid Afridi</td>\n",
       "      <td>2006-2018</td>\n",
       "      <td>99</td>\n",
       "      <td>97</td>\n",
       "      <td>361.2</td>\n",
       "      <td>4</td>\n",
       "      <td>2396</td>\n",
       "      <td>98</td>\n",
       "      <td>4/11</td>\n",
       "      <td>24.44</td>\n",
       "      <td>6.63</td>\n",
       "      <td>22.1</td>\n",
       "      <td>3</td>\n",
       "      <td>0</td>\n",
       "      <td>ICC/PAK)</td>\n",
       "    </tr>\n",
       "    <tr>\n",
       "      <th>2</th>\n",
       "      <td>Shakib Al Hasan</td>\n",
       "      <td>2006-2019</td>\n",
       "      <td>76</td>\n",
       "      <td>75</td>\n",
       "      <td>277.5</td>\n",
       "      <td>2</td>\n",
       "      <td>1894</td>\n",
       "      <td>92</td>\n",
       "      <td>5/20</td>\n",
       "      <td>20.58</td>\n",
       "      <td>6.81</td>\n",
       "      <td>18.1</td>\n",
       "      <td>3</td>\n",
       "      <td>1</td>\n",
       "      <td>BDESH)</td>\n",
       "    </tr>\n",
       "    <tr>\n",
       "      <th>3</th>\n",
       "      <td>Saeed Ajmal</td>\n",
       "      <td>2009-2015</td>\n",
       "      <td>64</td>\n",
       "      <td>63</td>\n",
       "      <td>238.2</td>\n",
       "      <td>2</td>\n",
       "      <td>1516</td>\n",
       "      <td>85</td>\n",
       "      <td>4/19</td>\n",
       "      <td>17.83</td>\n",
       "      <td>6.36</td>\n",
       "      <td>16.8</td>\n",
       "      <td>4</td>\n",
       "      <td>0</td>\n",
       "      <td>PAK)</td>\n",
       "    </tr>\n",
       "    <tr>\n",
       "      <th>4</th>\n",
       "      <td>Umar Gul</td>\n",
       "      <td>2007-2016</td>\n",
       "      <td>60</td>\n",
       "      <td>60</td>\n",
       "      <td>200.3</td>\n",
       "      <td>2</td>\n",
       "      <td>1443</td>\n",
       "      <td>85</td>\n",
       "      <td>5/6</td>\n",
       "      <td>16.97</td>\n",
       "      <td>7.19</td>\n",
       "      <td>14.1</td>\n",
       "      <td>4</td>\n",
       "      <td>2</td>\n",
       "      <td>PAK)</td>\n",
       "    </tr>\n",
       "  </tbody>\n",
       "</table>\n",
       "</div>"
      ],
      "text/plain": [
       "             Player       Span  Mat Inns  Overs Mdns  Runs Wkts   BBI    Ave  \\\n",
       "0       SL Malinga   2006-2019   79   79  284.5    1  2061  106   5/6  19.44   \n",
       "1    Shahid Afridi   2006-2018   99   97  361.2    4  2396   98  4/11  24.44   \n",
       "2  Shakib Al Hasan   2006-2019   76   75  277.5    2  1894   92  5/20  20.58   \n",
       "3      Saeed Ajmal   2009-2015   64   63  238.2    2  1516   85  4/19  17.83   \n",
       "4         Umar Gul   2007-2016   60   60  200.3    2  1443   85   5/6  16.97   \n",
       "\n",
       "   Econ    SR  4  5    Region  \n",
       "0  7.23  16.1  1  2       SL)  \n",
       "1  6.63  22.1  3  0  ICC/PAK)  \n",
       "2  6.81  18.1  3  1    BDESH)  \n",
       "3  6.36  16.8  4  0      PAK)  \n",
       "4  7.19  14.1  4  2      PAK)  "
      ]
     },
     "execution_count": 15,
     "metadata": {},
     "output_type": "execute_result"
    }
   ],
   "source": [
    "#remove ( from column player and split into region column)\n",
    "bowling_t20[['Player', 'Region']] = bowling_t20['Player'].str.split(\"(\", n=1, expand=True)\n",
    "bowling_t20.head()"
   ]
  },
  {
   "cell_type": "code",
   "execution_count": 16,
   "metadata": {},
   "outputs": [
    {
     "data": {
      "text/html": [
       "<div>\n",
       "<style scoped>\n",
       "    .dataframe tbody tr th:only-of-type {\n",
       "        vertical-align: middle;\n",
       "    }\n",
       "\n",
       "    .dataframe tbody tr th {\n",
       "        vertical-align: top;\n",
       "    }\n",
       "\n",
       "    .dataframe thead th {\n",
       "        text-align: right;\n",
       "    }\n",
       "</style>\n",
       "<table border=\"1\" class=\"dataframe\">\n",
       "  <thead>\n",
       "    <tr style=\"text-align: right;\">\n",
       "      <th></th>\n",
       "      <th>Player</th>\n",
       "      <th>Span</th>\n",
       "      <th>Mat</th>\n",
       "      <th>Inns</th>\n",
       "      <th>Overs</th>\n",
       "      <th>Mdns</th>\n",
       "      <th>Runs</th>\n",
       "      <th>Wkts</th>\n",
       "      <th>BBI</th>\n",
       "      <th>Ave</th>\n",
       "      <th>Econ</th>\n",
       "      <th>SR</th>\n",
       "      <th>4</th>\n",
       "      <th>5</th>\n",
       "      <th>Region</th>\n",
       "    </tr>\n",
       "  </thead>\n",
       "  <tbody>\n",
       "    <tr>\n",
       "      <th>0</th>\n",
       "      <td>SL Malinga</td>\n",
       "      <td>2006-2019</td>\n",
       "      <td>79</td>\n",
       "      <td>79</td>\n",
       "      <td>284.5</td>\n",
       "      <td>1</td>\n",
       "      <td>2061</td>\n",
       "      <td>106</td>\n",
       "      <td>5/6</td>\n",
       "      <td>19.44</td>\n",
       "      <td>7.23</td>\n",
       "      <td>16.1</td>\n",
       "      <td>1</td>\n",
       "      <td>2</td>\n",
       "      <td>SL</td>\n",
       "    </tr>\n",
       "    <tr>\n",
       "      <th>1</th>\n",
       "      <td>Shahid Afridi</td>\n",
       "      <td>2006-2018</td>\n",
       "      <td>99</td>\n",
       "      <td>97</td>\n",
       "      <td>361.2</td>\n",
       "      <td>4</td>\n",
       "      <td>2396</td>\n",
       "      <td>98</td>\n",
       "      <td>4/11</td>\n",
       "      <td>24.44</td>\n",
       "      <td>6.63</td>\n",
       "      <td>22.1</td>\n",
       "      <td>3</td>\n",
       "      <td>0</td>\n",
       "      <td>ICC/PAK</td>\n",
       "    </tr>\n",
       "  </tbody>\n",
       "</table>\n",
       "</div>"
      ],
      "text/plain": [
       "           Player       Span  Mat Inns  Overs Mdns  Runs Wkts   BBI    Ave  \\\n",
       "0     SL Malinga   2006-2019   79   79  284.5    1  2061  106   5/6  19.44   \n",
       "1  Shahid Afridi   2006-2018   99   97  361.2    4  2396   98  4/11  24.44   \n",
       "\n",
       "   Econ    SR  4  5   Region  \n",
       "0  7.23  16.1  1  2       SL  \n",
       "1  6.63  22.1  3  0  ICC/PAK  "
      ]
     },
     "execution_count": 16,
     "metadata": {},
     "output_type": "execute_result"
    }
   ],
   "source": [
    "#removing ) from region column\n",
    "bowling_t20['Region'] = bowling_t20['Region'].map(lambda x: x.rstrip(')'))\n",
    "bowling_t20.head(2)"
   ]
  },
  {
   "cell_type": "code",
   "execution_count": 17,
   "metadata": {},
   "outputs": [
    {
     "data": {
      "text/html": [
       "<div>\n",
       "<style scoped>\n",
       "    .dataframe tbody tr th:only-of-type {\n",
       "        vertical-align: middle;\n",
       "    }\n",
       "\n",
       "    .dataframe tbody tr th {\n",
       "        vertical-align: top;\n",
       "    }\n",
       "\n",
       "    .dataframe thead th {\n",
       "        text-align: right;\n",
       "    }\n",
       "</style>\n",
       "<table border=\"1\" class=\"dataframe\">\n",
       "  <thead>\n",
       "    <tr style=\"text-align: right;\">\n",
       "      <th></th>\n",
       "      <th>Player</th>\n",
       "      <th>Span</th>\n",
       "      <th>Mat</th>\n",
       "      <th>Inns</th>\n",
       "      <th>Overs</th>\n",
       "      <th>Mdns</th>\n",
       "      <th>Runs</th>\n",
       "      <th>Wkts</th>\n",
       "      <th>BBI</th>\n",
       "      <th>Ave</th>\n",
       "      <th>Econ</th>\n",
       "      <th>SR</th>\n",
       "      <th>4</th>\n",
       "      <th>5</th>\n",
       "      <th>Region</th>\n",
       "      <th>Start</th>\n",
       "      <th>End</th>\n",
       "    </tr>\n",
       "  </thead>\n",
       "  <tbody>\n",
       "    <tr>\n",
       "      <th>0</th>\n",
       "      <td>SL Malinga</td>\n",
       "      <td>2006-2019</td>\n",
       "      <td>79</td>\n",
       "      <td>79</td>\n",
       "      <td>284.5</td>\n",
       "      <td>1</td>\n",
       "      <td>2061</td>\n",
       "      <td>106</td>\n",
       "      <td>5/6</td>\n",
       "      <td>19.44</td>\n",
       "      <td>7.23</td>\n",
       "      <td>16.1</td>\n",
       "      <td>1</td>\n",
       "      <td>2</td>\n",
       "      <td>SL</td>\n",
       "      <td>2006</td>\n",
       "      <td>2019</td>\n",
       "    </tr>\n",
       "    <tr>\n",
       "      <th>1</th>\n",
       "      <td>Shahid Afridi</td>\n",
       "      <td>2006-2018</td>\n",
       "      <td>99</td>\n",
       "      <td>97</td>\n",
       "      <td>361.2</td>\n",
       "      <td>4</td>\n",
       "      <td>2396</td>\n",
       "      <td>98</td>\n",
       "      <td>4/11</td>\n",
       "      <td>24.44</td>\n",
       "      <td>6.63</td>\n",
       "      <td>22.1</td>\n",
       "      <td>3</td>\n",
       "      <td>0</td>\n",
       "      <td>ICC/PAK</td>\n",
       "      <td>2006</td>\n",
       "      <td>2018</td>\n",
       "    </tr>\n",
       "  </tbody>\n",
       "</table>\n",
       "</div>"
      ],
      "text/plain": [
       "           Player       Span  Mat Inns  Overs Mdns  Runs Wkts   BBI    Ave  \\\n",
       "0     SL Malinga   2006-2019   79   79  284.5    1  2061  106   5/6  19.44   \n",
       "1  Shahid Afridi   2006-2018   99   97  361.2    4  2396   98  4/11  24.44   \n",
       "\n",
       "   Econ    SR  4  5   Region Start   End  \n",
       "0  7.23  16.1  1  2       SL  2006  2019  \n",
       "1  6.63  22.1  3  0  ICC/PAK  2006  2018  "
      ]
     },
     "execution_count": 17,
     "metadata": {},
     "output_type": "execute_result"
    }
   ],
   "source": [
    "#split span column into start and end year\n",
    "bowling_t20[['Start', 'End']] = bowling_t20['Span'].str.split(\"-\", n=1, expand=True)\n",
    "bowling_t20.head(2)"
   ]
  },
  {
   "cell_type": "code",
   "execution_count": 18,
   "metadata": {},
   "outputs": [
    {
     "data": {
      "text/html": [
       "<div>\n",
       "<style scoped>\n",
       "    .dataframe tbody tr th:only-of-type {\n",
       "        vertical-align: middle;\n",
       "    }\n",
       "\n",
       "    .dataframe tbody tr th {\n",
       "        vertical-align: top;\n",
       "    }\n",
       "\n",
       "    .dataframe thead th {\n",
       "        text-align: right;\n",
       "    }\n",
       "</style>\n",
       "<table border=\"1\" class=\"dataframe\">\n",
       "  <thead>\n",
       "    <tr style=\"text-align: right;\">\n",
       "      <th></th>\n",
       "      <th>Player</th>\n",
       "      <th>Span</th>\n",
       "      <th>Mat</th>\n",
       "      <th>Inns</th>\n",
       "      <th>Overs</th>\n",
       "      <th>Mdns</th>\n",
       "      <th>Runs</th>\n",
       "      <th>Wkts</th>\n",
       "      <th>BBI</th>\n",
       "      <th>Ave</th>\n",
       "      <th>Econ</th>\n",
       "      <th>SR</th>\n",
       "      <th>4</th>\n",
       "      <th>5</th>\n",
       "      <th>Region</th>\n",
       "      <th>Start</th>\n",
       "      <th>End</th>\n",
       "      <th>Region1</th>\n",
       "    </tr>\n",
       "  </thead>\n",
       "  <tbody>\n",
       "    <tr>\n",
       "      <th>0</th>\n",
       "      <td>SL Malinga</td>\n",
       "      <td>2006-2019</td>\n",
       "      <td>79</td>\n",
       "      <td>79</td>\n",
       "      <td>284.5</td>\n",
       "      <td>1</td>\n",
       "      <td>2061</td>\n",
       "      <td>106</td>\n",
       "      <td>5/6</td>\n",
       "      <td>19.44</td>\n",
       "      <td>7.23</td>\n",
       "      <td>16.1</td>\n",
       "      <td>1</td>\n",
       "      <td>2</td>\n",
       "      <td>None</td>\n",
       "      <td>2006</td>\n",
       "      <td>2019</td>\n",
       "      <td>SL</td>\n",
       "    </tr>\n",
       "    <tr>\n",
       "      <th>1</th>\n",
       "      <td>Shahid Afridi</td>\n",
       "      <td>2006-2018</td>\n",
       "      <td>99</td>\n",
       "      <td>97</td>\n",
       "      <td>361.2</td>\n",
       "      <td>4</td>\n",
       "      <td>2396</td>\n",
       "      <td>98</td>\n",
       "      <td>4/11</td>\n",
       "      <td>24.44</td>\n",
       "      <td>6.63</td>\n",
       "      <td>22.1</td>\n",
       "      <td>3</td>\n",
       "      <td>0</td>\n",
       "      <td>PAK</td>\n",
       "      <td>2006</td>\n",
       "      <td>2018</td>\n",
       "      <td>ICC</td>\n",
       "    </tr>\n",
       "  </tbody>\n",
       "</table>\n",
       "</div>"
      ],
      "text/plain": [
       "           Player       Span  Mat Inns  Overs Mdns  Runs Wkts   BBI    Ave  \\\n",
       "0     SL Malinga   2006-2019   79   79  284.5    1  2061  106   5/6  19.44   \n",
       "1  Shahid Afridi   2006-2018   99   97  361.2    4  2396   98  4/11  24.44   \n",
       "\n",
       "   Econ    SR  4  5 Region Start   End Region1  \n",
       "0  7.23  16.1  1  2   None  2006  2019      SL  \n",
       "1  6.63  22.1  3  0    PAK  2006  2018     ICC  "
      ]
     },
     "execution_count": 18,
     "metadata": {},
     "output_type": "execute_result"
    }
   ],
   "source": [
    "#split region column into region1 and region2\n",
    "bowling_t20[['Region1', 'Region']] = bowling_t20['Region'].str.split(\"/\", n=1, expand=True)\n",
    "bowling_t20.head(2)"
   ]
  },
  {
   "cell_type": "code",
   "execution_count": 19,
   "metadata": {},
   "outputs": [
    {
     "data": {
      "text/html": [
       "<div>\n",
       "<style scoped>\n",
       "    .dataframe tbody tr th:only-of-type {\n",
       "        vertical-align: middle;\n",
       "    }\n",
       "\n",
       "    .dataframe tbody tr th {\n",
       "        vertical-align: top;\n",
       "    }\n",
       "\n",
       "    .dataframe thead th {\n",
       "        text-align: right;\n",
       "    }\n",
       "</style>\n",
       "<table border=\"1\" class=\"dataframe\">\n",
       "  <thead>\n",
       "    <tr style=\"text-align: right;\">\n",
       "      <th></th>\n",
       "      <th>Player</th>\n",
       "      <th>Span</th>\n",
       "      <th>Mat</th>\n",
       "      <th>Inns</th>\n",
       "      <th>Overs</th>\n",
       "      <th>Mdns</th>\n",
       "      <th>Runs</th>\n",
       "      <th>Wkts</th>\n",
       "      <th>BBI</th>\n",
       "      <th>Ave</th>\n",
       "      <th>Econ</th>\n",
       "      <th>SR</th>\n",
       "      <th>4</th>\n",
       "      <th>5</th>\n",
       "      <th>Region</th>\n",
       "      <th>Start</th>\n",
       "      <th>End</th>\n",
       "      <th>Region1</th>\n",
       "      <th>Region2</th>\n",
       "    </tr>\n",
       "  </thead>\n",
       "  <tbody>\n",
       "    <tr>\n",
       "      <th>0</th>\n",
       "      <td>SL Malinga</td>\n",
       "      <td>2006-2019</td>\n",
       "      <td>79</td>\n",
       "      <td>79</td>\n",
       "      <td>284.5</td>\n",
       "      <td>1</td>\n",
       "      <td>2061</td>\n",
       "      <td>106</td>\n",
       "      <td>5/6</td>\n",
       "      <td>19.44</td>\n",
       "      <td>7.23</td>\n",
       "      <td>16.1</td>\n",
       "      <td>1</td>\n",
       "      <td>2</td>\n",
       "      <td>None</td>\n",
       "      <td>2006</td>\n",
       "      <td>2019</td>\n",
       "      <td>SL</td>\n",
       "      <td>None</td>\n",
       "    </tr>\n",
       "    <tr>\n",
       "      <th>1</th>\n",
       "      <td>Shahid Afridi</td>\n",
       "      <td>2006-2018</td>\n",
       "      <td>99</td>\n",
       "      <td>97</td>\n",
       "      <td>361.2</td>\n",
       "      <td>4</td>\n",
       "      <td>2396</td>\n",
       "      <td>98</td>\n",
       "      <td>4/11</td>\n",
       "      <td>24.44</td>\n",
       "      <td>6.63</td>\n",
       "      <td>22.1</td>\n",
       "      <td>3</td>\n",
       "      <td>0</td>\n",
       "      <td>None</td>\n",
       "      <td>2006</td>\n",
       "      <td>2018</td>\n",
       "      <td>ICC</td>\n",
       "      <td>PAK</td>\n",
       "    </tr>\n",
       "  </tbody>\n",
       "</table>\n",
       "</div>"
      ],
      "text/plain": [
       "           Player       Span  Mat Inns  Overs Mdns  Runs Wkts   BBI    Ave  \\\n",
       "0     SL Malinga   2006-2019   79   79  284.5    1  2061  106   5/6  19.44   \n",
       "1  Shahid Afridi   2006-2018   99   97  361.2    4  2396   98  4/11  24.44   \n",
       "\n",
       "   Econ    SR  4  5 Region Start   End Region1 Region2  \n",
       "0  7.23  16.1  1  2   None  2006  2019      SL    None  \n",
       "1  6.63  22.1  3  0   None  2006  2018     ICC     PAK  "
      ]
     },
     "execution_count": 19,
     "metadata": {},
     "output_type": "execute_result"
    }
   ],
   "source": [
    "#split region1 column into region2\n",
    "bowling_t20[['Region2', 'Region']] = bowling_t20['Region'].str.split(\"/\", n=1, expand=True)\n",
    "bowling_t20.head(2)"
   ]
  },
  {
   "cell_type": "code",
   "execution_count": 20,
   "metadata": {},
   "outputs": [
    {
     "name": "stdout",
     "output_type": "stream",
     "text": [
      "Region1 unique values are:  ['SL' 'ICC' 'BDESH' 'PAK' 'AFG' 'IRE' 'NZ' 'ENG' 'SA' 'WI' 'NL' 'INDIA'\n",
      " 'SCOT' 'AUS' 'OMAN' 'UAE' 'ZIM' 'KENYA' 'PNG' 'HKG' 'NEPAL' 'CAN' 'QAT'\n",
      " 'JER' 'VAN' 'NAM' 'SGP' 'GER' 'MWI' 'MAL' 'BMUDA' 'ITA' 'Mald' 'GUE'\n",
      " '3) (PAK' 'KUW' 'Botsw' 'USA' 'Arg' 'ESP' 'Aut' 'DEN' 'Fin' 'CZK-R' 'Mex'\n",
      " 'Blz' 'ROM' 'UGA' 'Peru' 'Chile' 'Saudi' 'Moz' 'LUX' 'Ghana' 'NGA' 'THAI'\n",
      " 'Caym' 'GIBR' 'PORT' 'BAH' '' 'NOR' 'Belg' 'Samoa' 'PNM' 'TKY' 'CRC'\n",
      " 'MALTA' 'PHI' 'Serb' 'BHU' '1) (PAK' '2) (DEN' '2) (PAK']\n",
      "Region2 unique values are:  [None 'PAK' 'ICC' 'World' 'SA' 'IRE' 'SL' 'NZ' 'NEPAL' 'NL' 'GER' 'WI'\n",
      " 'INDIA']\n",
      "Region unique values are:  [None 'World' 'NZ']\n"
     ]
    }
   ],
   "source": [
    "#unique values in region1 \n",
    "print(\"Region1 unique values are: \", bowling_t20.Region1.unique()) \n",
    "print(\"Region2 unique values are: \", bowling_t20.Region2.unique())\n",
    "print(\"Region unique values are: \", bowling_t20.Region.unique())"
   ]
  },
  {
   "cell_type": "code",
   "execution_count": 21,
   "metadata": {},
   "outputs": [],
   "source": [
    "# creating a new column known as final region\n",
    "def new_co(bowling_t20):\n",
    "    if bowling_t20['Region1'] is not None:\n",
    "        if bowling_t20['Region1'].isupper():\n",
    "            if (bowling_t20.Region1=='ICC'):\n",
    "                return bowling_t20['Region2']\n",
    "            else:\n",
    "                return bowling_t20['Region1']\n",
    "                \n",
    "        elif bowling_t20['Region'] is not None:\n",
    "            if bowling_t20['Region'].isupper():\n",
    "                if bowling_t20['Region'] is not \"ICC\":\n",
    "                    return bowling_t20['Region']\n",
    "            else:\n",
    "                return bowling_t20['Region2']\n",
    "        else:\n",
    "                return bowling_t20['Region2']\n",
    "    else:\n",
    "        return \"NA\""
   ]
  },
  {
   "cell_type": "code",
   "execution_count": 22,
   "metadata": {},
   "outputs": [
    {
     "data": {
      "text/html": [
       "<div>\n",
       "<style scoped>\n",
       "    .dataframe tbody tr th:only-of-type {\n",
       "        vertical-align: middle;\n",
       "    }\n",
       "\n",
       "    .dataframe tbody tr th {\n",
       "        vertical-align: top;\n",
       "    }\n",
       "\n",
       "    .dataframe thead th {\n",
       "        text-align: right;\n",
       "    }\n",
       "</style>\n",
       "<table border=\"1\" class=\"dataframe\">\n",
       "  <thead>\n",
       "    <tr style=\"text-align: right;\">\n",
       "      <th></th>\n",
       "      <th>Player</th>\n",
       "      <th>Span</th>\n",
       "      <th>Mat</th>\n",
       "      <th>Inns</th>\n",
       "      <th>Overs</th>\n",
       "      <th>Mdns</th>\n",
       "      <th>Runs</th>\n",
       "      <th>Wkts</th>\n",
       "      <th>BBI</th>\n",
       "      <th>Ave</th>\n",
       "      <th>Econ</th>\n",
       "      <th>SR</th>\n",
       "      <th>4</th>\n",
       "      <th>5</th>\n",
       "      <th>Region</th>\n",
       "      <th>Start</th>\n",
       "      <th>End</th>\n",
       "      <th>Region1</th>\n",
       "      <th>Region2</th>\n",
       "      <th>Final Region</th>\n",
       "    </tr>\n",
       "  </thead>\n",
       "  <tbody>\n",
       "    <tr>\n",
       "      <th>0</th>\n",
       "      <td>SL Malinga</td>\n",
       "      <td>2006-2019</td>\n",
       "      <td>79</td>\n",
       "      <td>79</td>\n",
       "      <td>284.5</td>\n",
       "      <td>1</td>\n",
       "      <td>2061</td>\n",
       "      <td>106</td>\n",
       "      <td>5/6</td>\n",
       "      <td>19.44</td>\n",
       "      <td>7.23</td>\n",
       "      <td>16.1</td>\n",
       "      <td>1</td>\n",
       "      <td>2</td>\n",
       "      <td>None</td>\n",
       "      <td>2006</td>\n",
       "      <td>2019</td>\n",
       "      <td>SL</td>\n",
       "      <td>None</td>\n",
       "      <td>SL</td>\n",
       "    </tr>\n",
       "    <tr>\n",
       "      <th>1</th>\n",
       "      <td>Shahid Afridi</td>\n",
       "      <td>2006-2018</td>\n",
       "      <td>99</td>\n",
       "      <td>97</td>\n",
       "      <td>361.2</td>\n",
       "      <td>4</td>\n",
       "      <td>2396</td>\n",
       "      <td>98</td>\n",
       "      <td>4/11</td>\n",
       "      <td>24.44</td>\n",
       "      <td>6.63</td>\n",
       "      <td>22.1</td>\n",
       "      <td>3</td>\n",
       "      <td>0</td>\n",
       "      <td>None</td>\n",
       "      <td>2006</td>\n",
       "      <td>2018</td>\n",
       "      <td>ICC</td>\n",
       "      <td>PAK</td>\n",
       "      <td>PAK</td>\n",
       "    </tr>\n",
       "    <tr>\n",
       "      <th>2</th>\n",
       "      <td>Shakib Al Hasan</td>\n",
       "      <td>2006-2019</td>\n",
       "      <td>76</td>\n",
       "      <td>75</td>\n",
       "      <td>277.5</td>\n",
       "      <td>2</td>\n",
       "      <td>1894</td>\n",
       "      <td>92</td>\n",
       "      <td>5/20</td>\n",
       "      <td>20.58</td>\n",
       "      <td>6.81</td>\n",
       "      <td>18.1</td>\n",
       "      <td>3</td>\n",
       "      <td>1</td>\n",
       "      <td>None</td>\n",
       "      <td>2006</td>\n",
       "      <td>2019</td>\n",
       "      <td>BDESH</td>\n",
       "      <td>None</td>\n",
       "      <td>BDESH</td>\n",
       "    </tr>\n",
       "    <tr>\n",
       "      <th>3</th>\n",
       "      <td>Saeed Ajmal</td>\n",
       "      <td>2009-2015</td>\n",
       "      <td>64</td>\n",
       "      <td>63</td>\n",
       "      <td>238.2</td>\n",
       "      <td>2</td>\n",
       "      <td>1516</td>\n",
       "      <td>85</td>\n",
       "      <td>4/19</td>\n",
       "      <td>17.83</td>\n",
       "      <td>6.36</td>\n",
       "      <td>16.8</td>\n",
       "      <td>4</td>\n",
       "      <td>0</td>\n",
       "      <td>None</td>\n",
       "      <td>2009</td>\n",
       "      <td>2015</td>\n",
       "      <td>PAK</td>\n",
       "      <td>None</td>\n",
       "      <td>PAK</td>\n",
       "    </tr>\n",
       "    <tr>\n",
       "      <th>4</th>\n",
       "      <td>Umar Gul</td>\n",
       "      <td>2007-2016</td>\n",
       "      <td>60</td>\n",
       "      <td>60</td>\n",
       "      <td>200.3</td>\n",
       "      <td>2</td>\n",
       "      <td>1443</td>\n",
       "      <td>85</td>\n",
       "      <td>5/6</td>\n",
       "      <td>16.97</td>\n",
       "      <td>7.19</td>\n",
       "      <td>14.1</td>\n",
       "      <td>4</td>\n",
       "      <td>2</td>\n",
       "      <td>None</td>\n",
       "      <td>2007</td>\n",
       "      <td>2016</td>\n",
       "      <td>PAK</td>\n",
       "      <td>None</td>\n",
       "      <td>PAK</td>\n",
       "    </tr>\n",
       "    <tr>\n",
       "      <th>...</th>\n",
       "      <td>...</td>\n",
       "      <td>...</td>\n",
       "      <td>...</td>\n",
       "      <td>...</td>\n",
       "      <td>...</td>\n",
       "      <td>...</td>\n",
       "      <td>...</td>\n",
       "      <td>...</td>\n",
       "      <td>...</td>\n",
       "      <td>...</td>\n",
       "      <td>...</td>\n",
       "      <td>...</td>\n",
       "      <td>...</td>\n",
       "      <td>...</td>\n",
       "      <td>...</td>\n",
       "      <td>...</td>\n",
       "      <td>...</td>\n",
       "      <td>...</td>\n",
       "      <td>...</td>\n",
       "      <td>...</td>\n",
       "    </tr>\n",
       "    <tr>\n",
       "      <th>2001</th>\n",
       "      <td>Ziaur Rehman</td>\n",
       "      <td>2019-2019</td>\n",
       "      <td>1</td>\n",
       "      <td>-</td>\n",
       "      <td>-</td>\n",
       "      <td>-</td>\n",
       "      <td>-</td>\n",
       "      <td>-</td>\n",
       "      <td>-</td>\n",
       "      <td>-</td>\n",
       "      <td>-</td>\n",
       "      <td>-</td>\n",
       "      <td>-</td>\n",
       "      <td>-</td>\n",
       "      <td>None</td>\n",
       "      <td>2019</td>\n",
       "      <td>2019</td>\n",
       "      <td>Fin</td>\n",
       "      <td>None</td>\n",
       "      <td>None</td>\n",
       "    </tr>\n",
       "    <tr>\n",
       "      <th>2002</th>\n",
       "      <td>Zishan Shah</td>\n",
       "      <td>2019-2019</td>\n",
       "      <td>6</td>\n",
       "      <td>-</td>\n",
       "      <td>-</td>\n",
       "      <td>-</td>\n",
       "      <td>-</td>\n",
       "      <td>-</td>\n",
       "      <td>-</td>\n",
       "      <td>-</td>\n",
       "      <td>-</td>\n",
       "      <td>-</td>\n",
       "      <td>-</td>\n",
       "      <td>-</td>\n",
       "      <td>None</td>\n",
       "      <td>2019</td>\n",
       "      <td>2019</td>\n",
       "      <td>DEN</td>\n",
       "      <td>None</td>\n",
       "      <td>DEN</td>\n",
       "    </tr>\n",
       "    <tr>\n",
       "      <th>2003</th>\n",
       "      <td>Zubaidi Zulkifle</td>\n",
       "      <td>2019-2019</td>\n",
       "      <td>4</td>\n",
       "      <td>-</td>\n",
       "      <td>-</td>\n",
       "      <td>-</td>\n",
       "      <td>-</td>\n",
       "      <td>-</td>\n",
       "      <td>-</td>\n",
       "      <td>-</td>\n",
       "      <td>-</td>\n",
       "      <td>-</td>\n",
       "      <td>-</td>\n",
       "      <td>-</td>\n",
       "      <td>None</td>\n",
       "      <td>2019</td>\n",
       "      <td>2019</td>\n",
       "      <td>MAL</td>\n",
       "      <td>None</td>\n",
       "      <td>MAL</td>\n",
       "    </tr>\n",
       "    <tr>\n",
       "      <th>2004</th>\n",
       "      <td>B Zuiderent</td>\n",
       "      <td>2009-2010</td>\n",
       "      <td>6</td>\n",
       "      <td>-</td>\n",
       "      <td>-</td>\n",
       "      <td>-</td>\n",
       "      <td>-</td>\n",
       "      <td>-</td>\n",
       "      <td>-</td>\n",
       "      <td>-</td>\n",
       "      <td>-</td>\n",
       "      <td>-</td>\n",
       "      <td>-</td>\n",
       "      <td>-</td>\n",
       "      <td>None</td>\n",
       "      <td>2009</td>\n",
       "      <td>2010</td>\n",
       "      <td>NL</td>\n",
       "      <td>None</td>\n",
       "      <td>NL</td>\n",
       "    </tr>\n",
       "    <tr>\n",
       "      <th>2005</th>\n",
       "      <td>Zulqarnain Haider</td>\n",
       "      <td>2007-2010</td>\n",
       "      <td>3</td>\n",
       "      <td>-</td>\n",
       "      <td>-</td>\n",
       "      <td>-</td>\n",
       "      <td>-</td>\n",
       "      <td>-</td>\n",
       "      <td>-</td>\n",
       "      <td>-</td>\n",
       "      <td>-</td>\n",
       "      <td>-</td>\n",
       "      <td>-</td>\n",
       "      <td>-</td>\n",
       "      <td>None</td>\n",
       "      <td>2007</td>\n",
       "      <td>2010</td>\n",
       "      <td>PAK</td>\n",
       "      <td>None</td>\n",
       "      <td>PAK</td>\n",
       "    </tr>\n",
       "  </tbody>\n",
       "</table>\n",
       "<p>2006 rows × 20 columns</p>\n",
       "</div>"
      ],
      "text/plain": [
       "                  Player       Span  Mat Inns  Overs Mdns  Runs Wkts   BBI  \\\n",
       "0            SL Malinga   2006-2019   79   79  284.5    1  2061  106   5/6   \n",
       "1         Shahid Afridi   2006-2018   99   97  361.2    4  2396   98  4/11   \n",
       "2       Shakib Al Hasan   2006-2019   76   75  277.5    2  1894   92  5/20   \n",
       "3           Saeed Ajmal   2009-2015   64   63  238.2    2  1516   85  4/19   \n",
       "4              Umar Gul   2007-2016   60   60  200.3    2  1443   85   5/6   \n",
       "...                  ...        ...  ...  ...    ...  ...   ...  ...   ...   \n",
       "2001       Ziaur Rehman   2019-2019    1    -      -    -     -    -     -   \n",
       "2002        Zishan Shah   2019-2019    6    -      -    -     -    -     -   \n",
       "2003   Zubaidi Zulkifle   2019-2019    4    -      -    -     -    -     -   \n",
       "2004        B Zuiderent   2009-2010    6    -      -    -     -    -     -   \n",
       "2005  Zulqarnain Haider   2007-2010    3    -      -    -     -    -     -   \n",
       "\n",
       "        Ave  Econ    SR  4  5 Region Start   End Region1 Region2 Final Region  \n",
       "0     19.44  7.23  16.1  1  2   None  2006  2019      SL    None           SL  \n",
       "1     24.44  6.63  22.1  3  0   None  2006  2018     ICC     PAK          PAK  \n",
       "2     20.58  6.81  18.1  3  1   None  2006  2019   BDESH    None        BDESH  \n",
       "3     17.83  6.36  16.8  4  0   None  2009  2015     PAK    None          PAK  \n",
       "4     16.97  7.19  14.1  4  2   None  2007  2016     PAK    None          PAK  \n",
       "...     ...   ...   ... .. ..    ...   ...   ...     ...     ...          ...  \n",
       "2001      -     -     -  -  -   None  2019  2019     Fin    None         None  \n",
       "2002      -     -     -  -  -   None  2019  2019     DEN    None          DEN  \n",
       "2003      -     -     -  -  -   None  2019  2019     MAL    None          MAL  \n",
       "2004      -     -     -  -  -   None  2009  2010      NL    None           NL  \n",
       "2005      -     -     -  -  -   None  2007  2010     PAK    None          PAK  \n",
       "\n",
       "[2006 rows x 20 columns]"
      ]
     },
     "execution_count": 22,
     "metadata": {},
     "output_type": "execute_result"
    }
   ],
   "source": [
    "bowling_t20['Final Region'] = bowling_t20.apply(new_co, axis=1)\n",
    "bowling_t20"
   ]
  },
  {
   "cell_type": "code",
   "execution_count": 24,
   "metadata": {},
   "outputs": [
    {
     "data": {
      "text/plain": [
       "array(['SL', 'PAK', 'BDESH', 'AFG', 'IRE', 'NZ', 'ENG', 'SA', 'WI', 'NL',\n",
       "       'INDIA', 'SCOT', 'AUS', 'OMAN', 'UAE', 'ZIM', 'KENYA', 'PNG',\n",
       "       'HKG', 'NEPAL', 'CAN', 'QAT', 'JER', 'VAN', 'NAM', 'SGP', 'GER',\n",
       "       'MWI', 'MAL', 'BMUDA', 'ITA', None, 'GUE', '3) (PAK', 'KUW', 'USA',\n",
       "       'ESP', 'DEN', 'CZK-R', 'ROM', 'UGA', 'LUX', 'NGA', 'THAI', 'GIBR',\n",
       "       'PORT', 'BAH', 'NOR', 'PNM', 'TKY', 'CRC', 'MALTA', 'PHI', 'BHU',\n",
       "       '1) (PAK', '2) (DEN', '2) (PAK'], dtype=object)"
      ]
     },
     "execution_count": 24,
     "metadata": {},
     "output_type": "execute_result"
    }
   ],
   "source": [
    "bowling_t20[\"Final Region\"].unique()"
   ]
  },
  {
   "cell_type": "code",
   "execution_count": 25,
   "metadata": {},
   "outputs": [
    {
     "name": "stdout",
     "output_type": "stream",
     "text": [
      "271\n"
     ]
    }
   ],
   "source": [
    "#check null values in final region\n",
    "print(bowling_t20[\"Final Region\"].isnull().sum())"
   ]
  },
  {
   "cell_type": "code",
   "execution_count": 26,
   "metadata": {},
   "outputs": [
    {
     "data": {
      "text/html": [
       "<div>\n",
       "<style scoped>\n",
       "    .dataframe tbody tr th:only-of-type {\n",
       "        vertical-align: middle;\n",
       "    }\n",
       "\n",
       "    .dataframe tbody tr th {\n",
       "        vertical-align: top;\n",
       "    }\n",
       "\n",
       "    .dataframe thead th {\n",
       "        text-align: right;\n",
       "    }\n",
       "</style>\n",
       "<table border=\"1\" class=\"dataframe\">\n",
       "  <thead>\n",
       "    <tr style=\"text-align: right;\">\n",
       "      <th></th>\n",
       "      <th>Player</th>\n",
       "      <th>Span</th>\n",
       "      <th>Mat</th>\n",
       "      <th>Inns</th>\n",
       "      <th>Overs</th>\n",
       "      <th>Mdns</th>\n",
       "      <th>Runs</th>\n",
       "      <th>Wkts</th>\n",
       "      <th>BBI</th>\n",
       "      <th>Ave</th>\n",
       "      <th>Econ</th>\n",
       "      <th>SR</th>\n",
       "      <th>4</th>\n",
       "      <th>5</th>\n",
       "      <th>Start</th>\n",
       "      <th>End</th>\n",
       "      <th>Final Region</th>\n",
       "    </tr>\n",
       "  </thead>\n",
       "  <tbody>\n",
       "    <tr>\n",
       "      <th>0</th>\n",
       "      <td>SL Malinga</td>\n",
       "      <td>2006-2019</td>\n",
       "      <td>79</td>\n",
       "      <td>79</td>\n",
       "      <td>284.5</td>\n",
       "      <td>1</td>\n",
       "      <td>2061</td>\n",
       "      <td>106</td>\n",
       "      <td>5/6</td>\n",
       "      <td>19.44</td>\n",
       "      <td>7.23</td>\n",
       "      <td>16.1</td>\n",
       "      <td>1</td>\n",
       "      <td>2</td>\n",
       "      <td>2006</td>\n",
       "      <td>2019</td>\n",
       "      <td>SL</td>\n",
       "    </tr>\n",
       "    <tr>\n",
       "      <th>1</th>\n",
       "      <td>Shahid Afridi</td>\n",
       "      <td>2006-2018</td>\n",
       "      <td>99</td>\n",
       "      <td>97</td>\n",
       "      <td>361.2</td>\n",
       "      <td>4</td>\n",
       "      <td>2396</td>\n",
       "      <td>98</td>\n",
       "      <td>4/11</td>\n",
       "      <td>24.44</td>\n",
       "      <td>6.63</td>\n",
       "      <td>22.1</td>\n",
       "      <td>3</td>\n",
       "      <td>0</td>\n",
       "      <td>2006</td>\n",
       "      <td>2018</td>\n",
       "      <td>PAK</td>\n",
       "    </tr>\n",
       "    <tr>\n",
       "      <th>2</th>\n",
       "      <td>Shakib Al Hasan</td>\n",
       "      <td>2006-2019</td>\n",
       "      <td>76</td>\n",
       "      <td>75</td>\n",
       "      <td>277.5</td>\n",
       "      <td>2</td>\n",
       "      <td>1894</td>\n",
       "      <td>92</td>\n",
       "      <td>5/20</td>\n",
       "      <td>20.58</td>\n",
       "      <td>6.81</td>\n",
       "      <td>18.1</td>\n",
       "      <td>3</td>\n",
       "      <td>1</td>\n",
       "      <td>2006</td>\n",
       "      <td>2019</td>\n",
       "      <td>BDESH</td>\n",
       "    </tr>\n",
       "    <tr>\n",
       "      <th>3</th>\n",
       "      <td>Saeed Ajmal</td>\n",
       "      <td>2009-2015</td>\n",
       "      <td>64</td>\n",
       "      <td>63</td>\n",
       "      <td>238.2</td>\n",
       "      <td>2</td>\n",
       "      <td>1516</td>\n",
       "      <td>85</td>\n",
       "      <td>4/19</td>\n",
       "      <td>17.83</td>\n",
       "      <td>6.36</td>\n",
       "      <td>16.8</td>\n",
       "      <td>4</td>\n",
       "      <td>0</td>\n",
       "      <td>2009</td>\n",
       "      <td>2015</td>\n",
       "      <td>PAK</td>\n",
       "    </tr>\n",
       "    <tr>\n",
       "      <th>4</th>\n",
       "      <td>Umar Gul</td>\n",
       "      <td>2007-2016</td>\n",
       "      <td>60</td>\n",
       "      <td>60</td>\n",
       "      <td>200.3</td>\n",
       "      <td>2</td>\n",
       "      <td>1443</td>\n",
       "      <td>85</td>\n",
       "      <td>5/6</td>\n",
       "      <td>16.97</td>\n",
       "      <td>7.19</td>\n",
       "      <td>14.1</td>\n",
       "      <td>4</td>\n",
       "      <td>2</td>\n",
       "      <td>2007</td>\n",
       "      <td>2016</td>\n",
       "      <td>PAK</td>\n",
       "    </tr>\n",
       "  </tbody>\n",
       "</table>\n",
       "</div>"
      ],
      "text/plain": [
       "             Player       Span  Mat Inns  Overs Mdns  Runs Wkts   BBI    Ave  \\\n",
       "0       SL Malinga   2006-2019   79   79  284.5    1  2061  106   5/6  19.44   \n",
       "1    Shahid Afridi   2006-2018   99   97  361.2    4  2396   98  4/11  24.44   \n",
       "2  Shakib Al Hasan   2006-2019   76   75  277.5    2  1894   92  5/20  20.58   \n",
       "3      Saeed Ajmal   2009-2015   64   63  238.2    2  1516   85  4/19  17.83   \n",
       "4         Umar Gul   2007-2016   60   60  200.3    2  1443   85   5/6  16.97   \n",
       "\n",
       "   Econ    SR  4  5 Start   End Final Region  \n",
       "0  7.23  16.1  1  2  2006  2019           SL  \n",
       "1  6.63  22.1  3  0  2006  2018          PAK  \n",
       "2  6.81  18.1  3  1  2006  2019        BDESH  \n",
       "3  6.36  16.8  4  0  2009  2015          PAK  \n",
       "4  7.19  14.1  4  2  2007  2016          PAK  "
      ]
     },
     "execution_count": 26,
     "metadata": {},
     "output_type": "execute_result"
    }
   ],
   "source": [
    "#drop region1, region2, region columns\n",
    "bowling_t20 = bowling_t20.drop([\"Region1\", \"Region2\", \"Region\"], axis=1)\n",
    "bowling_t20.head()"
   ]
  },
  {
   "cell_type": "code",
   "execution_count": 27,
   "metadata": {},
   "outputs": [
    {
     "data": {
      "text/plain": [
       "array(['SL', 'PAK', 'BDESH', 'AFG', 'IRE', 'NZ', 'ENG', 'SA', 'WI', 'NL',\n",
       "       'INDIA', 'SCOT', 'AUS', 'OMAN', 'UAE', 'ZIM', 'KENYA', 'PNG',\n",
       "       'HKG', 'NEPAL', 'CAN', 'QAT', 'JER', 'VAN', 'NAM', 'SGP', 'GER',\n",
       "       'MWI', 'MAL', 'BMUDA', 'ITA', None, 'GUE', '3) (PAK', 'KUW', 'USA',\n",
       "       'ESP', 'DEN', 'CZK-R', 'ROM', 'UGA', 'LUX', 'NGA', 'THAI', 'GIBR',\n",
       "       'PORT', 'BAH', 'NOR', 'PNM', 'TKY', 'CRC', 'MALTA', 'PHI', 'BHU',\n",
       "       '1) (PAK', '2) (DEN', '2) (PAK'], dtype=object)"
      ]
     },
     "execution_count": 27,
     "metadata": {},
     "output_type": "execute_result"
    }
   ],
   "source": [
    "#check unique values in final region\n",
    "bowling_t20[\"Final Region\"].unique()"
   ]
  },
  {
   "cell_type": "code",
   "execution_count": 28,
   "metadata": {},
   "outputs": [],
   "source": [
    "#Rmoving data of East African Region \n",
    "bowling_t20=bowling_t20[bowling_t20['Final Region'].isnull()==False]"
   ]
  },
  {
   "cell_type": "code",
   "execution_count": 30,
   "metadata": {},
   "outputs": [
    {
     "data": {
      "text/plain": [
       "array(['SL', 'PAK', 'BDESH', 'AFG', 'IRE', 'NZ', 'ENG', 'SA', 'WI', 'NL',\n",
       "       'INDIA', 'SCOT', 'AUS', 'OMAN', 'UAE', 'ZIM', 'KENYA', 'PNG',\n",
       "       'HKG', 'NEPAL', 'CAN', 'QAT', 'JER', 'VAN', 'NAM', 'SGP', 'GER',\n",
       "       'MWI', 'MAL', 'BMUDA', 'ITA', 'GUE', '3) (PAK', 'KUW', 'USA',\n",
       "       'ESP', 'DEN', 'CZK-R', 'ROM', 'UGA', 'LUX', 'NGA', 'THAI', 'GIBR',\n",
       "       'PORT', 'BAH', 'NOR', 'PNM', 'TKY', 'CRC', 'MALTA', 'PHI', 'BHU',\n",
       "       '1) (PAK', '2) (DEN', '2) (PAK'], dtype=object)"
      ]
     },
     "execution_count": 30,
     "metadata": {},
     "output_type": "execute_result"
    }
   ],
   "source": [
    "bowling_t20[\"Final Region\"].unique()"
   ]
  },
  {
   "cell_type": "code",
   "execution_count": 32,
   "metadata": {},
   "outputs": [
    {
     "data": {
      "text/plain": [
       "Player          0\n",
       "Span            0\n",
       "Mat             0\n",
       "Inns            0\n",
       "Overs           0\n",
       "Mdns            0\n",
       "Runs            0\n",
       "Wkts            0\n",
       "BBI             0\n",
       "Ave             0\n",
       "Econ            0\n",
       "SR              0\n",
       "4               0\n",
       "5               0\n",
       "Start           0\n",
       "End             0\n",
       "Final Region    0\n",
       "dtype: int64"
      ]
     },
     "execution_count": 32,
     "metadata": {},
     "output_type": "execute_result"
    }
   ],
   "source": [
    "#check null values in final region\n",
    "\n",
    "bowling_t20[bowling_t20[\"Final Region\"].isnull()]\n",
    "bowling_t20.isna().sum()"
   ]
  },
  {
   "cell_type": "code",
   "execution_count": 33,
   "metadata": {},
   "outputs": [
    {
     "data": {
      "text/html": [
       "<div>\n",
       "<style scoped>\n",
       "    .dataframe tbody tr th:only-of-type {\n",
       "        vertical-align: middle;\n",
       "    }\n",
       "\n",
       "    .dataframe tbody tr th {\n",
       "        vertical-align: top;\n",
       "    }\n",
       "\n",
       "    .dataframe thead th {\n",
       "        text-align: right;\n",
       "    }\n",
       "</style>\n",
       "<table border=\"1\" class=\"dataframe\">\n",
       "  <thead>\n",
       "    <tr style=\"text-align: right;\">\n",
       "      <th></th>\n",
       "      <th>Player</th>\n",
       "      <th>Span</th>\n",
       "      <th>Mat</th>\n",
       "      <th>Inns</th>\n",
       "      <th>Overs</th>\n",
       "      <th>Mdns</th>\n",
       "      <th>Runs</th>\n",
       "      <th>Wkts</th>\n",
       "      <th>BBI</th>\n",
       "      <th>Ave</th>\n",
       "      <th>Econ</th>\n",
       "      <th>SR</th>\n",
       "      <th>4</th>\n",
       "      <th>5</th>\n",
       "      <th>Start</th>\n",
       "      <th>End</th>\n",
       "      <th>Final Region</th>\n",
       "    </tr>\n",
       "  </thead>\n",
       "  <tbody>\n",
       "    <tr>\n",
       "      <th>1983</th>\n",
       "      <td>CD Wallace</td>\n",
       "      <td>2012-2019</td>\n",
       "      <td>19</td>\n",
       "      <td>0</td>\n",
       "      <td>0</td>\n",
       "      <td>0</td>\n",
       "      <td>0</td>\n",
       "      <td>0</td>\n",
       "      <td>0</td>\n",
       "      <td>0</td>\n",
       "      <td>0</td>\n",
       "      <td>0</td>\n",
       "      <td>0</td>\n",
       "      <td>0</td>\n",
       "      <td>2012</td>\n",
       "      <td>2019</td>\n",
       "      <td>SCOT</td>\n",
       "    </tr>\n",
       "    <tr>\n",
       "      <th>1984</th>\n",
       "      <td>CAK Walton</td>\n",
       "      <td>2014-2018</td>\n",
       "      <td>19</td>\n",
       "      <td>0</td>\n",
       "      <td>0</td>\n",
       "      <td>0</td>\n",
       "      <td>0</td>\n",
       "      <td>0</td>\n",
       "      <td>0</td>\n",
       "      <td>0</td>\n",
       "      <td>0</td>\n",
       "      <td>0</td>\n",
       "      <td>0</td>\n",
       "      <td>0</td>\n",
       "      <td>2014</td>\n",
       "      <td>2018</td>\n",
       "      <td>WI</td>\n",
       "    </tr>\n",
       "    <tr>\n",
       "      <th>1985</th>\n",
       "      <td>T Wangchuk jnr</td>\n",
       "      <td>2019-2019</td>\n",
       "      <td>2</td>\n",
       "      <td>0</td>\n",
       "      <td>0</td>\n",
       "      <td>0</td>\n",
       "      <td>0</td>\n",
       "      <td>0</td>\n",
       "      <td>0</td>\n",
       "      <td>0</td>\n",
       "      <td>0</td>\n",
       "      <td>0</td>\n",
       "      <td>0</td>\n",
       "      <td>0</td>\n",
       "      <td>2019</td>\n",
       "      <td>2019</td>\n",
       "      <td>BHU</td>\n",
       "    </tr>\n",
       "    <tr>\n",
       "      <th>1986</th>\n",
       "      <td>DA Warner</td>\n",
       "      <td>2009-2019</td>\n",
       "      <td>76</td>\n",
       "      <td>0</td>\n",
       "      <td>0</td>\n",
       "      <td>0</td>\n",
       "      <td>0</td>\n",
       "      <td>0</td>\n",
       "      <td>0</td>\n",
       "      <td>0</td>\n",
       "      <td>0</td>\n",
       "      <td>0</td>\n",
       "      <td>0</td>\n",
       "      <td>0</td>\n",
       "      <td>2009</td>\n",
       "      <td>2019</td>\n",
       "      <td>AUS</td>\n",
       "    </tr>\n",
       "    <tr>\n",
       "      <th>1987</th>\n",
       "      <td>VS Wategaonkar</td>\n",
       "      <td>2016-2016</td>\n",
       "      <td>2</td>\n",
       "      <td>0</td>\n",
       "      <td>0</td>\n",
       "      <td>0</td>\n",
       "      <td>0</td>\n",
       "      <td>0</td>\n",
       "      <td>0</td>\n",
       "      <td>0</td>\n",
       "      <td>0</td>\n",
       "      <td>0</td>\n",
       "      <td>0</td>\n",
       "      <td>0</td>\n",
       "      <td>2016</td>\n",
       "      <td>2016</td>\n",
       "      <td>OMAN</td>\n",
       "    </tr>\n",
       "    <tr>\n",
       "      <th>1988</th>\n",
       "      <td>BJ Watling</td>\n",
       "      <td>2009-2014</td>\n",
       "      <td>5</td>\n",
       "      <td>0</td>\n",
       "      <td>0</td>\n",
       "      <td>0</td>\n",
       "      <td>0</td>\n",
       "      <td>0</td>\n",
       "      <td>0</td>\n",
       "      <td>0</td>\n",
       "      <td>0</td>\n",
       "      <td>0</td>\n",
       "      <td>0</td>\n",
       "      <td>0</td>\n",
       "      <td>2009</td>\n",
       "      <td>2014</td>\n",
       "      <td>NZ</td>\n",
       "    </tr>\n",
       "    <tr>\n",
       "      <th>1989</th>\n",
       "      <td>DF Watts</td>\n",
       "      <td>2007-2012</td>\n",
       "      <td>11</td>\n",
       "      <td>0</td>\n",
       "      <td>0</td>\n",
       "      <td>0</td>\n",
       "      <td>0</td>\n",
       "      <td>0</td>\n",
       "      <td>0</td>\n",
       "      <td>0</td>\n",
       "      <td>0</td>\n",
       "      <td>0</td>\n",
       "      <td>0</td>\n",
       "      <td>0</td>\n",
       "      <td>2007</td>\n",
       "      <td>2012</td>\n",
       "      <td>SCOT</td>\n",
       "    </tr>\n",
       "    <tr>\n",
       "      <th>1990</th>\n",
       "      <td>D Weston</td>\n",
       "      <td>2019-2019</td>\n",
       "      <td>6</td>\n",
       "      <td>0</td>\n",
       "      <td>0</td>\n",
       "      <td>0</td>\n",
       "      <td>0</td>\n",
       "      <td>0</td>\n",
       "      <td>0</td>\n",
       "      <td>0</td>\n",
       "      <td>0</td>\n",
       "      <td>0</td>\n",
       "      <td>0</td>\n",
       "      <td>0</td>\n",
       "      <td>2019</td>\n",
       "      <td>2019</td>\n",
       "      <td>GER</td>\n",
       "    </tr>\n",
       "    <tr>\n",
       "      <th>1991</th>\n",
       "      <td>SA Wijeyeratne</td>\n",
       "      <td>2019-2019</td>\n",
       "      <td>2</td>\n",
       "      <td>0</td>\n",
       "      <td>0</td>\n",
       "      <td>0</td>\n",
       "      <td>0</td>\n",
       "      <td>0</td>\n",
       "      <td>0</td>\n",
       "      <td>0</td>\n",
       "      <td>0</td>\n",
       "      <td>0</td>\n",
       "      <td>0</td>\n",
       "      <td>0</td>\n",
       "      <td>2019</td>\n",
       "      <td>2019</td>\n",
       "      <td>CAN</td>\n",
       "    </tr>\n",
       "    <tr>\n",
       "      <th>1993</th>\n",
       "      <td>GC Wilson</td>\n",
       "      <td>2008-2019</td>\n",
       "      <td>78</td>\n",
       "      <td>0</td>\n",
       "      <td>0</td>\n",
       "      <td>0</td>\n",
       "      <td>0</td>\n",
       "      <td>0</td>\n",
       "      <td>0</td>\n",
       "      <td>0</td>\n",
       "      <td>0</td>\n",
       "      <td>0</td>\n",
       "      <td>0</td>\n",
       "      <td>0</td>\n",
       "      <td>2008</td>\n",
       "      <td>2019</td>\n",
       "      <td>IRE</td>\n",
       "    </tr>\n",
       "    <tr>\n",
       "      <th>1994</th>\n",
       "      <td>AS Wright</td>\n",
       "      <td>2019-2019</td>\n",
       "      <td>8</td>\n",
       "      <td>0</td>\n",
       "      <td>0</td>\n",
       "      <td>0</td>\n",
       "      <td>0</td>\n",
       "      <td>0</td>\n",
       "      <td>0</td>\n",
       "      <td>0</td>\n",
       "      <td>0</td>\n",
       "      <td>0</td>\n",
       "      <td>0</td>\n",
       "      <td>0</td>\n",
       "      <td>2019</td>\n",
       "      <td>2019</td>\n",
       "      <td>GUE</td>\n",
       "    </tr>\n",
       "    <tr>\n",
       "      <th>1995</th>\n",
       "      <td>Yasar Idrees</td>\n",
       "      <td>2019-2019</td>\n",
       "      <td>1</td>\n",
       "      <td>0</td>\n",
       "      <td>0</td>\n",
       "      <td>0</td>\n",
       "      <td>0</td>\n",
       "      <td>0</td>\n",
       "      <td>0</td>\n",
       "      <td>0</td>\n",
       "      <td>0</td>\n",
       "      <td>0</td>\n",
       "      <td>0</td>\n",
       "      <td>0</td>\n",
       "      <td>2019</td>\n",
       "      <td>2019</td>\n",
       "      <td>KUW</td>\n",
       "    </tr>\n",
       "    <tr>\n",
       "      <th>1997</th>\n",
       "      <td>Zaheer Ibrahim</td>\n",
       "      <td>2019-2019</td>\n",
       "      <td>13</td>\n",
       "      <td>0</td>\n",
       "      <td>0</td>\n",
       "      <td>0</td>\n",
       "      <td>0</td>\n",
       "      <td>0</td>\n",
       "      <td>0</td>\n",
       "      <td>0</td>\n",
       "      <td>0</td>\n",
       "      <td>0</td>\n",
       "      <td>0</td>\n",
       "      <td>0</td>\n",
       "      <td>2019</td>\n",
       "      <td>2019</td>\n",
       "      <td>QAT</td>\n",
       "    </tr>\n",
       "    <tr>\n",
       "      <th>1998</th>\n",
       "      <td>Zakir Hasan</td>\n",
       "      <td>2018-2018</td>\n",
       "      <td>1</td>\n",
       "      <td>0</td>\n",
       "      <td>0</td>\n",
       "      <td>0</td>\n",
       "      <td>0</td>\n",
       "      <td>0</td>\n",
       "      <td>0</td>\n",
       "      <td>0</td>\n",
       "      <td>0</td>\n",
       "      <td>0</td>\n",
       "      <td>0</td>\n",
       "      <td>0</td>\n",
       "      <td>2018</td>\n",
       "      <td>2018</td>\n",
       "      <td>BDESH</td>\n",
       "    </tr>\n",
       "    <tr>\n",
       "      <th>1999</th>\n",
       "      <td>Zameer Khan</td>\n",
       "      <td>2019-2019</td>\n",
       "      <td>2</td>\n",
       "      <td>0</td>\n",
       "      <td>0</td>\n",
       "      <td>0</td>\n",
       "      <td>0</td>\n",
       "      <td>0</td>\n",
       "      <td>0</td>\n",
       "      <td>0</td>\n",
       "      <td>0</td>\n",
       "      <td>0</td>\n",
       "      <td>0</td>\n",
       "      <td>0</td>\n",
       "      <td>2019</td>\n",
       "      <td>2019</td>\n",
       "      <td>DEN</td>\n",
       "    </tr>\n",
       "    <tr>\n",
       "      <th>2000</th>\n",
       "      <td>Zeeshan Siddiqui</td>\n",
       "      <td>2015-2015</td>\n",
       "      <td>5</td>\n",
       "      <td>0</td>\n",
       "      <td>0</td>\n",
       "      <td>0</td>\n",
       "      <td>0</td>\n",
       "      <td>0</td>\n",
       "      <td>0</td>\n",
       "      <td>0</td>\n",
       "      <td>0</td>\n",
       "      <td>0</td>\n",
       "      <td>0</td>\n",
       "      <td>0</td>\n",
       "      <td>2015</td>\n",
       "      <td>2015</td>\n",
       "      <td>OMAN</td>\n",
       "    </tr>\n",
       "    <tr>\n",
       "      <th>2002</th>\n",
       "      <td>Zishan Shah</td>\n",
       "      <td>2019-2019</td>\n",
       "      <td>6</td>\n",
       "      <td>0</td>\n",
       "      <td>0</td>\n",
       "      <td>0</td>\n",
       "      <td>0</td>\n",
       "      <td>0</td>\n",
       "      <td>0</td>\n",
       "      <td>0</td>\n",
       "      <td>0</td>\n",
       "      <td>0</td>\n",
       "      <td>0</td>\n",
       "      <td>0</td>\n",
       "      <td>2019</td>\n",
       "      <td>2019</td>\n",
       "      <td>DEN</td>\n",
       "    </tr>\n",
       "    <tr>\n",
       "      <th>2003</th>\n",
       "      <td>Zubaidi Zulkifle</td>\n",
       "      <td>2019-2019</td>\n",
       "      <td>4</td>\n",
       "      <td>0</td>\n",
       "      <td>0</td>\n",
       "      <td>0</td>\n",
       "      <td>0</td>\n",
       "      <td>0</td>\n",
       "      <td>0</td>\n",
       "      <td>0</td>\n",
       "      <td>0</td>\n",
       "      <td>0</td>\n",
       "      <td>0</td>\n",
       "      <td>0</td>\n",
       "      <td>2019</td>\n",
       "      <td>2019</td>\n",
       "      <td>MAL</td>\n",
       "    </tr>\n",
       "    <tr>\n",
       "      <th>2004</th>\n",
       "      <td>B Zuiderent</td>\n",
       "      <td>2009-2010</td>\n",
       "      <td>6</td>\n",
       "      <td>0</td>\n",
       "      <td>0</td>\n",
       "      <td>0</td>\n",
       "      <td>0</td>\n",
       "      <td>0</td>\n",
       "      <td>0</td>\n",
       "      <td>0</td>\n",
       "      <td>0</td>\n",
       "      <td>0</td>\n",
       "      <td>0</td>\n",
       "      <td>0</td>\n",
       "      <td>2009</td>\n",
       "      <td>2010</td>\n",
       "      <td>NL</td>\n",
       "    </tr>\n",
       "    <tr>\n",
       "      <th>2005</th>\n",
       "      <td>Zulqarnain Haider</td>\n",
       "      <td>2007-2010</td>\n",
       "      <td>3</td>\n",
       "      <td>0</td>\n",
       "      <td>0</td>\n",
       "      <td>0</td>\n",
       "      <td>0</td>\n",
       "      <td>0</td>\n",
       "      <td>0</td>\n",
       "      <td>0</td>\n",
       "      <td>0</td>\n",
       "      <td>0</td>\n",
       "      <td>0</td>\n",
       "      <td>0</td>\n",
       "      <td>2007</td>\n",
       "      <td>2010</td>\n",
       "      <td>PAK</td>\n",
       "    </tr>\n",
       "  </tbody>\n",
       "</table>\n",
       "</div>"
      ],
      "text/plain": [
       "                  Player       Span  Mat Inns Overs Mdns Runs Wkts BBI Ave  \\\n",
       "1983         CD Wallace   2012-2019   19    0     0    0    0    0   0   0   \n",
       "1984         CAK Walton   2014-2018   19    0     0    0    0    0   0   0   \n",
       "1985     T Wangchuk jnr   2019-2019    2    0     0    0    0    0   0   0   \n",
       "1986          DA Warner   2009-2019   76    0     0    0    0    0   0   0   \n",
       "1987     VS Wategaonkar   2016-2016    2    0     0    0    0    0   0   0   \n",
       "1988         BJ Watling   2009-2014    5    0     0    0    0    0   0   0   \n",
       "1989           DF Watts   2007-2012   11    0     0    0    0    0   0   0   \n",
       "1990           D Weston   2019-2019    6    0     0    0    0    0   0   0   \n",
       "1991     SA Wijeyeratne   2019-2019    2    0     0    0    0    0   0   0   \n",
       "1993          GC Wilson   2008-2019   78    0     0    0    0    0   0   0   \n",
       "1994          AS Wright   2019-2019    8    0     0    0    0    0   0   0   \n",
       "1995       Yasar Idrees   2019-2019    1    0     0    0    0    0   0   0   \n",
       "1997     Zaheer Ibrahim   2019-2019   13    0     0    0    0    0   0   0   \n",
       "1998        Zakir Hasan   2018-2018    1    0     0    0    0    0   0   0   \n",
       "1999        Zameer Khan   2019-2019    2    0     0    0    0    0   0   0   \n",
       "2000   Zeeshan Siddiqui   2015-2015    5    0     0    0    0    0   0   0   \n",
       "2002        Zishan Shah   2019-2019    6    0     0    0    0    0   0   0   \n",
       "2003   Zubaidi Zulkifle   2019-2019    4    0     0    0    0    0   0   0   \n",
       "2004        B Zuiderent   2009-2010    6    0     0    0    0    0   0   0   \n",
       "2005  Zulqarnain Haider   2007-2010    3    0     0    0    0    0   0   0   \n",
       "\n",
       "     Econ SR  4  5 Start   End Final Region  \n",
       "1983    0  0  0  0  2012  2019         SCOT  \n",
       "1984    0  0  0  0  2014  2018           WI  \n",
       "1985    0  0  0  0  2019  2019          BHU  \n",
       "1986    0  0  0  0  2009  2019          AUS  \n",
       "1987    0  0  0  0  2016  2016         OMAN  \n",
       "1988    0  0  0  0  2009  2014           NZ  \n",
       "1989    0  0  0  0  2007  2012         SCOT  \n",
       "1990    0  0  0  0  2019  2019          GER  \n",
       "1991    0  0  0  0  2019  2019          CAN  \n",
       "1993    0  0  0  0  2008  2019          IRE  \n",
       "1994    0  0  0  0  2019  2019          GUE  \n",
       "1995    0  0  0  0  2019  2019          KUW  \n",
       "1997    0  0  0  0  2019  2019          QAT  \n",
       "1998    0  0  0  0  2018  2018        BDESH  \n",
       "1999    0  0  0  0  2019  2019          DEN  \n",
       "2000    0  0  0  0  2015  2015         OMAN  \n",
       "2002    0  0  0  0  2019  2019          DEN  \n",
       "2003    0  0  0  0  2019  2019          MAL  \n",
       "2004    0  0  0  0  2009  2010           NL  \n",
       "2005    0  0  0  0  2007  2010          PAK  "
      ]
     },
     "execution_count": 33,
     "metadata": {},
     "output_type": "execute_result"
    }
   ],
   "source": [
    "#replacing - with 0 in t20 data\n",
    "\n",
    "bowling_t20.replace('-', 0, inplace=True)\n",
    "bowling_t20.tail(20)"
   ]
  },
  {
   "cell_type": "code",
   "execution_count": 34,
   "metadata": {},
   "outputs": [
    {
     "name": "stdout",
     "output_type": "stream",
     "text": [
      "<class 'pandas.core.frame.DataFrame'>\n",
      "Int64Index: 1735 entries, 0 to 2005\n",
      "Data columns (total 17 columns):\n",
      " #   Column        Non-Null Count  Dtype \n",
      "---  ------        --------------  ----- \n",
      " 0   Player        1735 non-null   object\n",
      " 1   Span          1735 non-null   object\n",
      " 2   Mat           1735 non-null   int64 \n",
      " 3   Inns          1735 non-null   object\n",
      " 4   Overs         1735 non-null   object\n",
      " 5   Mdns          1735 non-null   object\n",
      " 6   Runs          1735 non-null   object\n",
      " 7   Wkts          1735 non-null   object\n",
      " 8   BBI           1735 non-null   object\n",
      " 9   Ave           1735 non-null   object\n",
      " 10  Econ          1735 non-null   object\n",
      " 11  SR            1735 non-null   object\n",
      " 12  4             1735 non-null   object\n",
      " 13  5             1735 non-null   object\n",
      " 14  Start         1735 non-null   object\n",
      " 15  End           1735 non-null   object\n",
      " 16  Final Region  1735 non-null   object\n",
      "dtypes: int64(1), object(16)\n",
      "memory usage: 244.0+ KB\n"
     ]
    }
   ],
   "source": [
    "#check datatypes of Runs, Ave, HS, and SR\n",
    "bowling_t20.info()"
   ]
  },
  {
   "cell_type": "code",
   "execution_count": 36,
   "metadata": {},
   "outputs": [],
   "source": [
    "#Change datatype of Runs, Ave, HS, and SR to floats\n",
    "bowling_t20[['Overs', 'Runs', 'Wkts', 'SR']] = bowling_t20[['Overs', 'Runs', 'Wkts', 'SR']].astype('float')"
   ]
  },
  {
   "cell_type": "code",
   "execution_count": 37,
   "metadata": {},
   "outputs": [
    {
     "name": "stdout",
     "output_type": "stream",
     "text": [
      "<class 'pandas.core.frame.DataFrame'>\n",
      "Int64Index: 1735 entries, 0 to 2005\n",
      "Data columns (total 17 columns):\n",
      " #   Column        Non-Null Count  Dtype  \n",
      "---  ------        --------------  -----  \n",
      " 0   Player        1735 non-null   object \n",
      " 1   Span          1735 non-null   object \n",
      " 2   Mat           1735 non-null   int64  \n",
      " 3   Inns          1735 non-null   object \n",
      " 4   Overs         1735 non-null   float64\n",
      " 5   Mdns          1735 non-null   object \n",
      " 6   Runs          1735 non-null   float64\n",
      " 7   Wkts          1735 non-null   float64\n",
      " 8   BBI           1735 non-null   object \n",
      " 9   Ave           1735 non-null   object \n",
      " 10  Econ          1735 non-null   object \n",
      " 11  SR            1735 non-null   float64\n",
      " 12  4             1735 non-null   object \n",
      " 13  5             1735 non-null   object \n",
      " 14  Start         1735 non-null   object \n",
      " 15  End           1735 non-null   object \n",
      " 16  Final Region  1735 non-null   object \n",
      "dtypes: float64(4), int64(1), object(12)\n",
      "memory usage: 244.0+ KB\n"
     ]
    }
   ],
   "source": [
    "bowling_t20.info()"
   ]
  },
  {
   "cell_type": "code",
   "execution_count": 38,
   "metadata": {},
   "outputs": [
    {
     "data": {
      "text/html": [
       "<div>\n",
       "<style scoped>\n",
       "    .dataframe tbody tr th:only-of-type {\n",
       "        vertical-align: middle;\n",
       "    }\n",
       "\n",
       "    .dataframe tbody tr th {\n",
       "        vertical-align: top;\n",
       "    }\n",
       "\n",
       "    .dataframe thead th {\n",
       "        text-align: right;\n",
       "    }\n",
       "</style>\n",
       "<table border=\"1\" class=\"dataframe\">\n",
       "  <thead>\n",
       "    <tr style=\"text-align: right;\">\n",
       "      <th></th>\n",
       "      <th>Mat</th>\n",
       "      <th>Overs</th>\n",
       "      <th>Runs</th>\n",
       "      <th>Wkts</th>\n",
       "      <th>SR</th>\n",
       "    </tr>\n",
       "    <tr>\n",
       "      <th>Final Region</th>\n",
       "      <th></th>\n",
       "      <th></th>\n",
       "      <th></th>\n",
       "      <th></th>\n",
       "      <th></th>\n",
       "    </tr>\n",
       "  </thead>\n",
       "  <tbody>\n",
       "    <tr>\n",
       "      <th>BDESH</th>\n",
       "      <td>15.164179</td>\n",
       "      <td>25.317910</td>\n",
       "      <td>200.179104</td>\n",
       "      <td>7.358209</td>\n",
       "      <td>13.685075</td>\n",
       "    </tr>\n",
       "    <tr>\n",
       "      <th>3) (PAK</th>\n",
       "      <td>16.000000</td>\n",
       "      <td>50.000000</td>\n",
       "      <td>340.000000</td>\n",
       "      <td>12.000000</td>\n",
       "      <td>25.000000</td>\n",
       "    </tr>\n",
       "    <tr>\n",
       "      <th>SL</th>\n",
       "      <td>16.154762</td>\n",
       "      <td>27.373810</td>\n",
       "      <td>210.333333</td>\n",
       "      <td>8.214286</td>\n",
       "      <td>13.596429</td>\n",
       "    </tr>\n",
       "    <tr>\n",
       "      <th>WI</th>\n",
       "      <td>16.275000</td>\n",
       "      <td>27.460000</td>\n",
       "      <td>213.812500</td>\n",
       "      <td>8.150000</td>\n",
       "      <td>10.547500</td>\n",
       "    </tr>\n",
       "    <tr>\n",
       "      <th>INDIA</th>\n",
       "      <td>16.914634</td>\n",
       "      <td>29.070732</td>\n",
       "      <td>221.951220</td>\n",
       "      <td>9.048780</td>\n",
       "      <td>14.689024</td>\n",
       "    </tr>\n",
       "    <tr>\n",
       "      <th>NZ</th>\n",
       "      <td>16.937500</td>\n",
       "      <td>28.731250</td>\n",
       "      <td>227.375000</td>\n",
       "      <td>9.175000</td>\n",
       "      <td>14.025000</td>\n",
       "    </tr>\n",
       "    <tr>\n",
       "      <th>NL</th>\n",
       "      <td>17.061224</td>\n",
       "      <td>28.465306</td>\n",
       "      <td>202.224490</td>\n",
       "      <td>9.428571</td>\n",
       "      <td>12.673469</td>\n",
       "    </tr>\n",
       "    <tr>\n",
       "      <th>PAK</th>\n",
       "      <td>20.000000</td>\n",
       "      <td>34.061728</td>\n",
       "      <td>244.259259</td>\n",
       "      <td>10.876543</td>\n",
       "      <td>8.955556</td>\n",
       "    </tr>\n",
       "    <tr>\n",
       "      <th>IRE</th>\n",
       "      <td>20.652174</td>\n",
       "      <td>31.734783</td>\n",
       "      <td>238.543478</td>\n",
       "      <td>10.652174</td>\n",
       "      <td>10.639130</td>\n",
       "    </tr>\n",
       "    <tr>\n",
       "      <th>AFG</th>\n",
       "      <td>21.195122</td>\n",
       "      <td>37.246341</td>\n",
       "      <td>267.439024</td>\n",
       "      <td>12.048780</td>\n",
       "      <td>11.478049</td>\n",
       "    </tr>\n",
       "  </tbody>\n",
       "</table>\n",
       "</div>"
      ],
      "text/plain": [
       "                    Mat      Overs        Runs       Wkts         SR\n",
       "Final Region                                                        \n",
       "BDESH         15.164179  25.317910  200.179104   7.358209  13.685075\n",
       "3) (PAK       16.000000  50.000000  340.000000  12.000000  25.000000\n",
       "SL            16.154762  27.373810  210.333333   8.214286  13.596429\n",
       "WI            16.275000  27.460000  213.812500   8.150000  10.547500\n",
       "INDIA         16.914634  29.070732  221.951220   9.048780  14.689024\n",
       "NZ            16.937500  28.731250  227.375000   9.175000  14.025000\n",
       "NL            17.061224  28.465306  202.224490   9.428571  12.673469\n",
       "PAK           20.000000  34.061728  244.259259  10.876543   8.955556\n",
       "IRE           20.652174  31.734783  238.543478  10.652174  10.639130\n",
       "AFG           21.195122  37.246341  267.439024  12.048780  11.478049"
      ]
     },
     "execution_count": 38,
     "metadata": {},
     "output_type": "execute_result"
    }
   ],
   "source": [
    "bowling_t20.groupby('Final Region').mean().sort_values('Mat').tail(10)"
   ]
  },
  {
   "cell_type": "code",
   "execution_count": 42,
   "metadata": {},
   "outputs": [],
   "source": [
    "bowling_t20.to_csv('processed/cleaned_bowling_t20.csv')"
   ]
  },
  {
   "cell_type": "code",
   "execution_count": 47,
   "metadata": {},
   "outputs": [
    {
     "data": {
      "application/vnd.plotly.v1+json": {
       "config": {
        "plotlyServerURL": "https://plot.ly"
       },
       "data": [
        {
         "alignmentgroup": "True",
         "hovertemplate": "Player=%{x}<br>Wkts=%{y}<extra></extra>",
         "legendgroup": "SL Malinga ",
         "marker": {
          "color": "rgb(103,0,31)",
          "pattern": {
           "shape": ""
          }
         },
         "name": "SL Malinga ",
         "offsetgroup": "SL Malinga ",
         "orientation": "v",
         "showlegend": true,
         "textposition": "auto",
         "type": "bar",
         "x": [
          "SL Malinga "
         ],
         "xaxis": "x",
         "y": [
          106
         ],
         "yaxis": "y"
        },
        {
         "alignmentgroup": "True",
         "hovertemplate": "Player=%{x}<br>Wkts=%{y}<extra></extra>",
         "legendgroup": "Shahid Afridi ",
         "marker": {
          "color": "rgb(178,24,43)",
          "pattern": {
           "shape": ""
          }
         },
         "name": "Shahid Afridi ",
         "offsetgroup": "Shahid Afridi ",
         "orientation": "v",
         "showlegend": true,
         "textposition": "auto",
         "type": "bar",
         "x": [
          "Shahid Afridi "
         ],
         "xaxis": "x",
         "y": [
          98
         ],
         "yaxis": "y"
        },
        {
         "alignmentgroup": "True",
         "hovertemplate": "Player=%{x}<br>Wkts=%{y}<extra></extra>",
         "legendgroup": "Shakib Al Hasan ",
         "marker": {
          "color": "rgb(214,96,77)",
          "pattern": {
           "shape": ""
          }
         },
         "name": "Shakib Al Hasan ",
         "offsetgroup": "Shakib Al Hasan ",
         "orientation": "v",
         "showlegend": true,
         "textposition": "auto",
         "type": "bar",
         "x": [
          "Shakib Al Hasan "
         ],
         "xaxis": "x",
         "y": [
          92
         ],
         "yaxis": "y"
        },
        {
         "alignmentgroup": "True",
         "hovertemplate": "Player=%{x}<br>Wkts=%{y}<extra></extra>",
         "legendgroup": "Saeed Ajmal ",
         "marker": {
          "color": "rgb(244,165,130)",
          "pattern": {
           "shape": ""
          }
         },
         "name": "Saeed Ajmal ",
         "offsetgroup": "Saeed Ajmal ",
         "orientation": "v",
         "showlegend": true,
         "textposition": "auto",
         "type": "bar",
         "x": [
          "Saeed Ajmal "
         ],
         "xaxis": "x",
         "y": [
          85
         ],
         "yaxis": "y"
        },
        {
         "alignmentgroup": "True",
         "hovertemplate": "Player=%{x}<br>Wkts=%{y}<extra></extra>",
         "legendgroup": "Umar Gul ",
         "marker": {
          "color": "rgb(253,219,199)",
          "pattern": {
           "shape": ""
          }
         },
         "name": "Umar Gul ",
         "offsetgroup": "Umar Gul ",
         "orientation": "v",
         "showlegend": true,
         "textposition": "auto",
         "type": "bar",
         "x": [
          "Umar Gul "
         ],
         "xaxis": "x",
         "y": [
          85
         ],
         "yaxis": "y"
        },
        {
         "alignmentgroup": "True",
         "hovertemplate": "Player=%{x}<br>Wkts=%{y}<extra></extra>",
         "legendgroup": "Rashid Khan ",
         "marker": {
          "color": "rgb(247,247,247)",
          "pattern": {
           "shape": ""
          }
         },
         "name": "Rashid Khan ",
         "offsetgroup": "Rashid Khan ",
         "orientation": "v",
         "showlegend": true,
         "textposition": "auto",
         "type": "bar",
         "x": [
          "Rashid Khan "
         ],
         "xaxis": "x",
         "y": [
          84
         ],
         "yaxis": "y"
        },
        {
         "alignmentgroup": "True",
         "hovertemplate": "Player=%{x}<br>Wkts=%{y}<extra></extra>",
         "legendgroup": "GH Dockrell ",
         "marker": {
          "color": "rgb(209,229,240)",
          "pattern": {
           "shape": ""
          }
         },
         "name": "GH Dockrell ",
         "offsetgroup": "GH Dockrell ",
         "orientation": "v",
         "showlegend": true,
         "textposition": "auto",
         "type": "bar",
         "x": [
          "GH Dockrell "
         ],
         "xaxis": "x",
         "y": [
          75
         ],
         "yaxis": "y"
        },
        {
         "alignmentgroup": "True",
         "hovertemplate": "Player=%{x}<br>Wkts=%{y}<extra></extra>",
         "legendgroup": "TG Southee ",
         "marker": {
          "color": "rgb(146,197,222)",
          "pattern": {
           "shape": ""
          }
         },
         "name": "TG Southee ",
         "offsetgroup": "TG Southee ",
         "orientation": "v",
         "showlegend": true,
         "textposition": "auto",
         "type": "bar",
         "x": [
          "TG Southee "
         ],
         "xaxis": "x",
         "y": [
          75
         ],
         "yaxis": "y"
        },
        {
         "alignmentgroup": "True",
         "hovertemplate": "Player=%{x}<br>Wkts=%{y}<extra></extra>",
         "legendgroup": "Mohammad Nabi ",
         "marker": {
          "color": "rgb(67,147,195)",
          "pattern": {
           "shape": ""
          }
         },
         "name": "Mohammad Nabi ",
         "offsetgroup": "Mohammad Nabi ",
         "orientation": "v",
         "showlegend": true,
         "textposition": "auto",
         "type": "bar",
         "x": [
          "Mohammad Nabi "
         ],
         "xaxis": "x",
         "y": [
          69
         ],
         "yaxis": "y"
        },
        {
         "alignmentgroup": "True",
         "hovertemplate": "Player=%{x}<br>Wkts=%{y}<extra></extra>",
         "legendgroup": "KMDN Kulasekara ",
         "marker": {
          "color": "rgb(33,102,172)",
          "pattern": {
           "shape": ""
          }
         },
         "name": "KMDN Kulasekara ",
         "offsetgroup": "KMDN Kulasekara ",
         "orientation": "v",
         "showlegend": true,
         "textposition": "auto",
         "type": "bar",
         "x": [
          "KMDN Kulasekara "
         ],
         "xaxis": "x",
         "y": [
          66
         ],
         "yaxis": "y"
        },
        {
         "alignmentgroup": "True",
         "hovertemplate": "Player=%{x}<br>Wkts=%{y}<extra></extra>",
         "legendgroup": "BAW Mendis ",
         "marker": {
          "color": "rgb(5,48,97)",
          "pattern": {
           "shape": ""
          }
         },
         "name": "BAW Mendis ",
         "offsetgroup": "BAW Mendis ",
         "orientation": "v",
         "showlegend": true,
         "textposition": "auto",
         "type": "bar",
         "x": [
          "BAW Mendis "
         ],
         "xaxis": "x",
         "y": [
          66
         ],
         "yaxis": "y"
        },
        {
         "alignmentgroup": "True",
         "hovertemplate": "Player=%{x}<br>Wkts=%{y}<extra></extra>",
         "legendgroup": "SCJ Broad ",
         "marker": {
          "color": "rgb(103,0,31)",
          "pattern": {
           "shape": ""
          }
         },
         "name": "SCJ Broad ",
         "offsetgroup": "SCJ Broad ",
         "orientation": "v",
         "showlegend": true,
         "textposition": "auto",
         "type": "bar",
         "x": [
          "SCJ Broad "
         ],
         "xaxis": "x",
         "y": [
          65
         ],
         "yaxis": "y"
        },
        {
         "alignmentgroup": "True",
         "hovertemplate": "Player=%{x}<br>Wkts=%{y}<extra></extra>",
         "legendgroup": "Imran Tahir ",
         "marker": {
          "color": "rgb(178,24,43)",
          "pattern": {
           "shape": ""
          }
         },
         "name": "Imran Tahir ",
         "offsetgroup": "Imran Tahir ",
         "orientation": "v",
         "showlegend": true,
         "textposition": "auto",
         "type": "bar",
         "x": [
          "Imran Tahir "
         ],
         "xaxis": "x",
         "y": [
          63
         ],
         "yaxis": "y"
        },
        {
         "alignmentgroup": "True",
         "hovertemplate": "Player=%{x}<br>Wkts=%{y}<extra></extra>",
         "legendgroup": "DW Steyn ",
         "marker": {
          "color": "rgb(214,96,77)",
          "pattern": {
           "shape": ""
          }
         },
         "name": "DW Steyn ",
         "offsetgroup": "DW Steyn ",
         "orientation": "v",
         "showlegend": true,
         "textposition": "auto",
         "type": "bar",
         "x": [
          "DW Steyn "
         ],
         "xaxis": "x",
         "y": [
          61
         ],
         "yaxis": "y"
        },
        {
         "alignmentgroup": "True",
         "hovertemplate": "Player=%{x}<br>Wkts=%{y}<extra></extra>",
         "legendgroup": "Mohammad Amir ",
         "marker": {
          "color": "rgb(244,165,130)",
          "pattern": {
           "shape": ""
          }
         },
         "name": "Mohammad Amir ",
         "offsetgroup": "Mohammad Amir ",
         "orientation": "v",
         "showlegend": true,
         "textposition": "auto",
         "type": "bar",
         "x": [
          "Mohammad Amir "
         ],
         "xaxis": "x",
         "y": [
          59
         ],
         "yaxis": "y"
        },
        {
         "alignmentgroup": "True",
         "hovertemplate": "Player=%{x}<br>Wkts=%{y}<extra></extra>",
         "legendgroup": "NL McCullum ",
         "marker": {
          "color": "rgb(253,219,199)",
          "pattern": {
           "shape": ""
          }
         },
         "name": "NL McCullum ",
         "offsetgroup": "NL McCullum ",
         "orientation": "v",
         "showlegend": true,
         "textposition": "auto",
         "type": "bar",
         "x": [
          "NL McCullum "
         ],
         "xaxis": "x",
         "y": [
          58
         ],
         "yaxis": "y"
        },
        {
         "alignmentgroup": "True",
         "hovertemplate": "Player=%{x}<br>Wkts=%{y}<extra></extra>",
         "legendgroup": "KJ O'Brien ",
         "marker": {
          "color": "rgb(247,247,247)",
          "pattern": {
           "shape": ""
          }
         },
         "name": "KJ O'Brien ",
         "offsetgroup": "KJ O'Brien ",
         "orientation": "v",
         "showlegend": true,
         "textposition": "auto",
         "type": "bar",
         "x": [
          "KJ O'Brien "
         ],
         "xaxis": "x",
         "y": [
          58
         ],
         "yaxis": "y"
        },
        {
         "alignmentgroup": "True",
         "hovertemplate": "Player=%{x}<br>Wkts=%{y}<extra></extra>",
         "legendgroup": "S Badree ",
         "marker": {
          "color": "rgb(209,229,240)",
          "pattern": {
           "shape": ""
          }
         },
         "name": "S Badree ",
         "offsetgroup": "S Badree ",
         "orientation": "v",
         "showlegend": true,
         "textposition": "auto",
         "type": "bar",
         "x": [
          "S Badree "
         ],
         "xaxis": "x",
         "y": [
          56
         ],
         "yaxis": "y"
        },
        {
         "alignmentgroup": "True",
         "hovertemplate": "Player=%{x}<br>Wkts=%{y}<extra></extra>",
         "legendgroup": "CJ Jordan ",
         "marker": {
          "color": "rgb(146,197,222)",
          "pattern": {
           "shape": ""
          }
         },
         "name": "CJ Jordan ",
         "offsetgroup": "CJ Jordan ",
         "orientation": "v",
         "showlegend": true,
         "textposition": "auto",
         "type": "bar",
         "x": [
          "CJ Jordan "
         ],
         "xaxis": "x",
         "y": [
          54
         ],
         "yaxis": "y"
        },
        {
         "alignmentgroup": "True",
         "hovertemplate": "Player=%{x}<br>Wkts=%{y}<extra></extra>",
         "legendgroup": "Mohammad Hafeez ",
         "marker": {
          "color": "rgb(67,147,195)",
          "pattern": {
           "shape": ""
          }
         },
         "name": "Mohammad Hafeez ",
         "offsetgroup": "Mohammad Hafeez ",
         "orientation": "v",
         "showlegend": true,
         "textposition": "auto",
         "type": "bar",
         "x": [
          "Mohammad Hafeez "
         ],
         "xaxis": "x",
         "y": [
          54
         ],
         "yaxis": "y"
        },
        {
         "alignmentgroup": "True",
         "hovertemplate": "Player=%{x}<br>Wkts=%{y}<extra></extra>",
         "legendgroup": "Sohail Tanvir ",
         "marker": {
          "color": "rgb(33,102,172)",
          "pattern": {
           "shape": ""
          }
         },
         "name": "Sohail Tanvir ",
         "offsetgroup": "Sohail Tanvir ",
         "orientation": "v",
         "showlegend": true,
         "textposition": "auto",
         "type": "bar",
         "x": [
          "Sohail Tanvir "
         ],
         "xaxis": "x",
         "y": [
          54
         ],
         "yaxis": "y"
        },
        {
         "alignmentgroup": "True",
         "hovertemplate": "Player=%{x}<br>Wkts=%{y}<extra></extra>",
         "legendgroup": "RE van der Merwe ",
         "marker": {
          "color": "rgb(5,48,97)",
          "pattern": {
           "shape": ""
          }
         },
         "name": "RE van der Merwe ",
         "offsetgroup": "RE van der Merwe ",
         "orientation": "v",
         "showlegend": true,
         "textposition": "auto",
         "type": "bar",
         "x": [
          "RE van der Merwe "
         ],
         "xaxis": "x",
         "y": [
          54
         ],
         "yaxis": "y"
        },
        {
         "alignmentgroup": "True",
         "hovertemplate": "Player=%{x}<br>Wkts=%{y}<extra></extra>",
         "legendgroup": "WB Rankin ",
         "marker": {
          "color": "rgb(103,0,31)",
          "pattern": {
           "shape": ""
          }
         },
         "name": "WB Rankin ",
         "offsetgroup": "WB Rankin ",
         "orientation": "v",
         "showlegend": true,
         "textposition": "auto",
         "type": "bar",
         "x": [
          "WB Rankin "
         ],
         "xaxis": "x",
         "y": [
          53
         ],
         "yaxis": "y"
        },
        {
         "alignmentgroup": "True",
         "hovertemplate": "Player=%{x}<br>Wkts=%{y}<extra></extra>",
         "legendgroup": "PM Seelaar ",
         "marker": {
          "color": "rgb(178,24,43)",
          "pattern": {
           "shape": ""
          }
         },
         "name": "PM Seelaar ",
         "offsetgroup": "PM Seelaar ",
         "orientation": "v",
         "showlegend": true,
         "textposition": "auto",
         "type": "bar",
         "x": [
          "PM Seelaar "
         ],
         "xaxis": "x",
         "y": [
          53
         ],
         "yaxis": "y"
        },
        {
         "alignmentgroup": "True",
         "hovertemplate": "Player=%{x}<br>Wkts=%{y}<extra></extra>",
         "legendgroup": "R Ashwin ",
         "marker": {
          "color": "rgb(214,96,77)",
          "pattern": {
           "shape": ""
          }
         },
         "name": "R Ashwin ",
         "offsetgroup": "R Ashwin ",
         "orientation": "v",
         "showlegend": true,
         "textposition": "auto",
         "type": "bar",
         "x": [
          "R Ashwin "
         ],
         "xaxis": "x",
         "y": [
          52
         ],
         "yaxis": "y"
        },
        {
         "alignmentgroup": "True",
         "hovertemplate": "Player=%{x}<br>Wkts=%{y}<extra></extra>",
         "legendgroup": "DJ Bravo ",
         "marker": {
          "color": "rgb(244,165,130)",
          "pattern": {
           "shape": ""
          }
         },
         "name": "DJ Bravo ",
         "offsetgroup": "DJ Bravo ",
         "orientation": "v",
         "showlegend": true,
         "textposition": "auto",
         "type": "bar",
         "x": [
          "DJ Bravo "
         ],
         "xaxis": "x",
         "y": [
          52
         ],
         "yaxis": "y"
        },
        {
         "alignmentgroup": "True",
         "hovertemplate": "Player=%{x}<br>Wkts=%{y}<extra></extra>",
         "legendgroup": "YS Chahal ",
         "marker": {
          "color": "rgb(253,219,199)",
          "pattern": {
           "shape": ""
          }
         },
         "name": "YS Chahal ",
         "offsetgroup": "YS Chahal ",
         "orientation": "v",
         "showlegend": true,
         "textposition": "auto",
         "type": "bar",
         "x": [
          "YS Chahal "
         ],
         "xaxis": "x",
         "y": [
          52
         ],
         "yaxis": "y"
        },
        {
         "alignmentgroup": "True",
         "hovertemplate": "Player=%{x}<br>Wkts=%{y}<extra></extra>",
         "legendgroup": "Mustafizur Rahman ",
         "marker": {
          "color": "rgb(247,247,247)",
          "pattern": {
           "shape": ""
          }
         },
         "name": "Mustafizur Rahman ",
         "offsetgroup": "Mustafizur Rahman ",
         "orientation": "v",
         "showlegend": true,
         "textposition": "auto",
         "type": "bar",
         "x": [
          "Mustafizur Rahman "
         ],
         "xaxis": "x",
         "y": [
          52
         ],
         "yaxis": "y"
        },
        {
         "alignmentgroup": "True",
         "hovertemplate": "Player=%{x}<br>Wkts=%{y}<extra></extra>",
         "legendgroup": "SP Narine ",
         "marker": {
          "color": "rgb(209,229,240)",
          "pattern": {
           "shape": ""
          }
         },
         "name": "SP Narine ",
         "offsetgroup": "SP Narine ",
         "orientation": "v",
         "showlegend": true,
         "textposition": "auto",
         "type": "bar",
         "x": [
          "SP Narine "
         ],
         "xaxis": "x",
         "y": [
          52
         ],
         "yaxis": "y"
        },
        {
         "alignmentgroup": "True",
         "hovertemplate": "Player=%{x}<br>Wkts=%{y}<extra></extra>",
         "legendgroup": "JJ Bumrah ",
         "marker": {
          "color": "rgb(146,197,222)",
          "pattern": {
           "shape": ""
          }
         },
         "name": "JJ Bumrah ",
         "offsetgroup": "JJ Bumrah ",
         "orientation": "v",
         "showlegend": true,
         "textposition": "auto",
         "type": "bar",
         "x": [
          "JJ Bumrah "
         ],
         "xaxis": "x",
         "y": [
          51
         ],
         "yaxis": "y"
        },
        {
         "alignmentgroup": "True",
         "hovertemplate": "Player=%{x}<br>Wkts=%{y}<extra></extra>",
         "legendgroup": "NLTC Perera ",
         "marker": {
          "color": "rgb(67,147,195)",
          "pattern": {
           "shape": ""
          }
         },
         "name": "NLTC Perera ",
         "offsetgroup": "NLTC Perera ",
         "orientation": "v",
         "showlegend": true,
         "textposition": "auto",
         "type": "bar",
         "x": [
          "NLTC Perera "
         ],
         "xaxis": "x",
         "y": [
          51
         ],
         "yaxis": "y"
        },
        {
         "alignmentgroup": "True",
         "hovertemplate": "Player=%{x}<br>Wkts=%{y}<extra></extra>",
         "legendgroup": "GP Swann ",
         "marker": {
          "color": "rgb(33,102,172)",
          "pattern": {
           "shape": ""
          }
         },
         "name": "GP Swann ",
         "offsetgroup": "GP Swann ",
         "orientation": "v",
         "showlegend": true,
         "textposition": "auto",
         "type": "bar",
         "x": [
          "GP Swann "
         ],
         "xaxis": "x",
         "y": [
          51
         ],
         "yaxis": "y"
        },
        {
         "alignmentgroup": "True",
         "hovertemplate": "Player=%{x}<br>Wkts=%{y}<extra></extra>",
         "legendgroup": "MJ Santner ",
         "marker": {
          "color": "rgb(5,48,97)",
          "pattern": {
           "shape": ""
          }
         },
         "name": "MJ Santner ",
         "offsetgroup": "MJ Santner ",
         "orientation": "v",
         "showlegend": true,
         "textposition": "auto",
         "type": "bar",
         "x": [
          "MJ Santner "
         ],
         "xaxis": "x",
         "y": [
          49
         ],
         "yaxis": "y"
        },
        {
         "alignmentgroup": "True",
         "hovertemplate": "Player=%{x}<br>Wkts=%{y}<extra></extra>",
         "legendgroup": "SM Sharif ",
         "marker": {
          "color": "rgb(103,0,31)",
          "pattern": {
           "shape": ""
          }
         },
         "name": "SM Sharif ",
         "offsetgroup": "SM Sharif ",
         "orientation": "v",
         "showlegend": true,
         "textposition": "auto",
         "type": "bar",
         "x": [
          "SM Sharif "
         ],
         "xaxis": "x",
         "y": [
          49
         ],
         "yaxis": "y"
        },
        {
         "alignmentgroup": "True",
         "hovertemplate": "Player=%{x}<br>Wkts=%{y}<extra></extra>",
         "legendgroup": "SR Watson ",
         "marker": {
          "color": "rgb(178,24,43)",
          "pattern": {
           "shape": ""
          }
         },
         "name": "SR Watson ",
         "offsetgroup": "SR Watson ",
         "orientation": "v",
         "showlegend": true,
         "textposition": "auto",
         "type": "bar",
         "x": [
          "SR Watson "
         ],
         "xaxis": "x",
         "y": [
          48
         ],
         "yaxis": "y"
        },
        {
         "alignmentgroup": "True",
         "hovertemplate": "Player=%{x}<br>Wkts=%{y}<extra></extra>",
         "legendgroup": "M Morkel ",
         "marker": {
          "color": "rgb(214,96,77)",
          "pattern": {
           "shape": ""
          }
         },
         "name": "M Morkel ",
         "offsetgroup": "M Morkel ",
         "orientation": "v",
         "showlegend": true,
         "textposition": "auto",
         "type": "bar",
         "x": [
          "M Morkel "
         ],
         "xaxis": "x",
         "y": [
          47
         ],
         "yaxis": "y"
        },
        {
         "alignmentgroup": "True",
         "hovertemplate": "Player=%{x}<br>Wkts=%{y}<extra></extra>",
         "legendgroup": "IS Sodhi ",
         "marker": {
          "color": "rgb(244,165,130)",
          "pattern": {
           "shape": ""
          }
         },
         "name": "IS Sodhi ",
         "offsetgroup": "IS Sodhi ",
         "orientation": "v",
         "showlegend": true,
         "textposition": "auto",
         "type": "bar",
         "x": [
          "IS Sodhi "
         ],
         "xaxis": "x",
         "y": [
          47
         ],
         "yaxis": "y"
        },
        {
         "alignmentgroup": "True",
         "hovertemplate": "Player=%{x}<br>Wkts=%{y}<extra></extra>",
         "legendgroup": "PA van Meekeren ",
         "marker": {
          "color": "rgb(253,219,199)",
          "pattern": {
           "shape": ""
          }
         },
         "name": "PA van Meekeren ",
         "offsetgroup": "PA van Meekeren ",
         "orientation": "v",
         "showlegend": true,
         "textposition": "auto",
         "type": "bar",
         "x": [
          "PA van Meekeren "
         ],
         "xaxis": "x",
         "y": [
          47
         ],
         "yaxis": "y"
        },
        {
         "alignmentgroup": "True",
         "hovertemplate": "Player=%{x}<br>Wkts=%{y}<extra></extra>",
         "legendgroup": "Shadab Khan ",
         "marker": {
          "color": "rgb(247,247,247)",
          "pattern": {
           "shape": ""
          }
         },
         "name": "Shadab Khan ",
         "offsetgroup": "Shadab Khan ",
         "orientation": "v",
         "showlegend": true,
         "textposition": "auto",
         "type": "bar",
         "x": [
          "Shadab Khan "
         ],
         "xaxis": "x",
         "y": [
          46
         ],
         "yaxis": "y"
        },
        {
         "alignmentgroup": "True",
         "hovertemplate": "Player=%{x}<br>Wkts=%{y}<extra></extra>",
         "legendgroup": "Bilal Khan ",
         "marker": {
          "color": "rgb(209,229,240)",
          "pattern": {
           "shape": ""
          }
         },
         "name": "Bilal Khan ",
         "offsetgroup": "Bilal Khan ",
         "orientation": "v",
         "showlegend": true,
         "textposition": "auto",
         "type": "bar",
         "x": [
          "Bilal Khan "
         ],
         "xaxis": "x",
         "y": [
          45
         ],
         "yaxis": "y"
        },
        {
         "alignmentgroup": "True",
         "hovertemplate": "Player=%{x}<br>Wkts=%{y}<extra></extra>",
         "legendgroup": "MRJ Watt ",
         "marker": {
          "color": "rgb(146,197,222)",
          "pattern": {
           "shape": ""
          }
         },
         "name": "MRJ Watt ",
         "offsetgroup": "MRJ Watt ",
         "orientation": "v",
         "showlegend": true,
         "textposition": "auto",
         "type": "bar",
         "x": [
          "MRJ Watt "
         ],
         "xaxis": "x",
         "y": [
          45
         ],
         "yaxis": "y"
        },
        {
         "alignmentgroup": "True",
         "hovertemplate": "Player=%{x}<br>Wkts=%{y}<extra></extra>",
         "legendgroup": "Abdur Razzak ",
         "marker": {
          "color": "rgb(67,147,195)",
          "pattern": {
           "shape": ""
          }
         },
         "name": "Abdur Razzak ",
         "offsetgroup": "Abdur Razzak ",
         "orientation": "v",
         "showlegend": true,
         "textposition": "auto",
         "type": "bar",
         "x": [
          "Abdur Razzak "
         ],
         "xaxis": "x",
         "y": [
          44
         ],
         "yaxis": "y"
        },
        {
         "alignmentgroup": "True",
         "hovertemplate": "Player=%{x}<br>Wkts=%{y}<extra></extra>",
         "legendgroup": "Ahsan Malik ",
         "marker": {
          "color": "rgb(33,102,172)",
          "pattern": {
           "shape": ""
          }
         },
         "name": "Ahsan Malik ",
         "offsetgroup": "Ahsan Malik ",
         "orientation": "v",
         "showlegend": true,
         "textposition": "auto",
         "type": "bar",
         "x": [
          "Ahsan Malik "
         ],
         "xaxis": "x",
         "y": [
          44
         ],
         "yaxis": "y"
        },
        {
         "alignmentgroup": "True",
         "hovertemplate": "Player=%{x}<br>Wkts=%{y}<extra></extra>",
         "legendgroup": "DJG Sammy ",
         "marker": {
          "color": "rgb(5,48,97)",
          "pattern": {
           "shape": ""
          }
         },
         "name": "DJG Sammy ",
         "offsetgroup": "DJG Sammy ",
         "orientation": "v",
         "showlegend": true,
         "textposition": "auto",
         "type": "bar",
         "x": [
          "DJG Sammy "
         ],
         "xaxis": "x",
         "y": [
          44
         ],
         "yaxis": "y"
        },
        {
         "alignmentgroup": "True",
         "hovertemplate": "Player=%{x}<br>Wkts=%{y}<extra></extra>",
         "legendgroup": "Mudassar Bukhari ",
         "marker": {
          "color": "rgb(103,0,31)",
          "pattern": {
           "shape": ""
          }
         },
         "name": "Mudassar Bukhari ",
         "offsetgroup": "Mudassar Bukhari ",
         "orientation": "v",
         "showlegend": true,
         "textposition": "auto",
         "type": "bar",
         "x": [
          "Mudassar Bukhari "
         ],
         "xaxis": "x",
         "y": [
          43
         ],
         "yaxis": "y"
        },
        {
         "alignmentgroup": "True",
         "hovertemplate": "Player=%{x}<br>Wkts=%{y}<extra></extra>",
         "legendgroup": "KD Mills ",
         "marker": {
          "color": "rgb(178,24,43)",
          "pattern": {
           "shape": ""
          }
         },
         "name": "KD Mills ",
         "offsetgroup": "KD Mills ",
         "orientation": "v",
         "showlegend": true,
         "textposition": "auto",
         "type": "bar",
         "x": [
          "KD Mills "
         ],
         "xaxis": "x",
         "y": [
          43
         ],
         "yaxis": "y"
        },
        {
         "alignmentgroup": "True",
         "hovertemplate": "Player=%{x}<br>Wkts=%{y}<extra></extra>",
         "legendgroup": "Imad Wasim ",
         "marker": {
          "color": "rgb(214,96,77)",
          "pattern": {
           "shape": ""
          }
         },
         "name": "Imad Wasim ",
         "offsetgroup": "Imad Wasim ",
         "orientation": "v",
         "showlegend": true,
         "textposition": "auto",
         "type": "bar",
         "x": [
          "Imad Wasim "
         ],
         "xaxis": "x",
         "y": [
          42
         ],
         "yaxis": "y"
        },
        {
         "alignmentgroup": "True",
         "hovertemplate": "Player=%{x}<br>Wkts=%{y}<extra></extra>",
         "legendgroup": "Mashrafe Mortaza ",
         "marker": {
          "color": "rgb(244,165,130)",
          "pattern": {
           "shape": ""
          }
         },
         "name": "Mashrafe Mortaza ",
         "offsetgroup": "Mashrafe Mortaza ",
         "orientation": "v",
         "showlegend": true,
         "textposition": "auto",
         "type": "bar",
         "x": [
          "Mashrafe Mortaza "
         ],
         "xaxis": "x",
         "y": [
          42
         ],
         "yaxis": "y"
        },
        {
         "alignmentgroup": "True",
         "hovertemplate": "Player=%{x}<br>Wkts=%{y}<extra></extra>",
         "legendgroup": "B Kumar ",
         "marker": {
          "color": "rgb(253,219,199)",
          "pattern": {
           "shape": ""
          }
         },
         "name": "B Kumar ",
         "offsetgroup": "B Kumar ",
         "orientation": "v",
         "showlegend": true,
         "textposition": "auto",
         "type": "bar",
         "x": [
          "B Kumar "
         ],
         "xaxis": "x",
         "y": [
          41
         ],
         "yaxis": "y"
        },
        {
         "alignmentgroup": "True",
         "hovertemplate": "Player=%{x}<br>Wkts=%{y}<extra></extra>",
         "legendgroup": "WD Parnell ",
         "marker": {
          "color": "rgb(247,247,247)",
          "pattern": {
           "shape": ""
          }
         },
         "name": "WD Parnell ",
         "offsetgroup": "WD Parnell ",
         "orientation": "v",
         "showlegend": true,
         "textposition": "auto",
         "type": "bar",
         "x": [
          "WD Parnell "
         ],
         "xaxis": "x",
         "y": [
          41
         ],
         "yaxis": "y"
        }
       ],
       "layout": {
        "barmode": "relative",
        "height": 600,
        "legend": {
         "title": {
          "text": "Player"
         },
         "tracegroupgap": 0
        },
        "template": {
         "data": {
          "bar": [
           {
            "error_x": {
             "color": "#f2f5fa"
            },
            "error_y": {
             "color": "#f2f5fa"
            },
            "marker": {
             "line": {
              "color": "rgb(17,17,17)",
              "width": 0.5
             },
             "pattern": {
              "fillmode": "overlay",
              "size": 10,
              "solidity": 0.2
             }
            },
            "type": "bar"
           }
          ],
          "barpolar": [
           {
            "marker": {
             "line": {
              "color": "rgb(17,17,17)",
              "width": 0.5
             },
             "pattern": {
              "fillmode": "overlay",
              "size": 10,
              "solidity": 0.2
             }
            },
            "type": "barpolar"
           }
          ],
          "carpet": [
           {
            "aaxis": {
             "endlinecolor": "#A2B1C6",
             "gridcolor": "#506784",
             "linecolor": "#506784",
             "minorgridcolor": "#506784",
             "startlinecolor": "#A2B1C6"
            },
            "baxis": {
             "endlinecolor": "#A2B1C6",
             "gridcolor": "#506784",
             "linecolor": "#506784",
             "minorgridcolor": "#506784",
             "startlinecolor": "#A2B1C6"
            },
            "type": "carpet"
           }
          ],
          "choropleth": [
           {
            "colorbar": {
             "outlinewidth": 0,
             "ticks": ""
            },
            "type": "choropleth"
           }
          ],
          "contour": [
           {
            "colorbar": {
             "outlinewidth": 0,
             "ticks": ""
            },
            "colorscale": [
             [
              0,
              "#0d0887"
             ],
             [
              0.1111111111111111,
              "#46039f"
             ],
             [
              0.2222222222222222,
              "#7201a8"
             ],
             [
              0.3333333333333333,
              "#9c179e"
             ],
             [
              0.4444444444444444,
              "#bd3786"
             ],
             [
              0.5555555555555556,
              "#d8576b"
             ],
             [
              0.6666666666666666,
              "#ed7953"
             ],
             [
              0.7777777777777778,
              "#fb9f3a"
             ],
             [
              0.8888888888888888,
              "#fdca26"
             ],
             [
              1,
              "#f0f921"
             ]
            ],
            "type": "contour"
           }
          ],
          "contourcarpet": [
           {
            "colorbar": {
             "outlinewidth": 0,
             "ticks": ""
            },
            "type": "contourcarpet"
           }
          ],
          "heatmap": [
           {
            "colorbar": {
             "outlinewidth": 0,
             "ticks": ""
            },
            "colorscale": [
             [
              0,
              "#0d0887"
             ],
             [
              0.1111111111111111,
              "#46039f"
             ],
             [
              0.2222222222222222,
              "#7201a8"
             ],
             [
              0.3333333333333333,
              "#9c179e"
             ],
             [
              0.4444444444444444,
              "#bd3786"
             ],
             [
              0.5555555555555556,
              "#d8576b"
             ],
             [
              0.6666666666666666,
              "#ed7953"
             ],
             [
              0.7777777777777778,
              "#fb9f3a"
             ],
             [
              0.8888888888888888,
              "#fdca26"
             ],
             [
              1,
              "#f0f921"
             ]
            ],
            "type": "heatmap"
           }
          ],
          "heatmapgl": [
           {
            "colorbar": {
             "outlinewidth": 0,
             "ticks": ""
            },
            "colorscale": [
             [
              0,
              "#0d0887"
             ],
             [
              0.1111111111111111,
              "#46039f"
             ],
             [
              0.2222222222222222,
              "#7201a8"
             ],
             [
              0.3333333333333333,
              "#9c179e"
             ],
             [
              0.4444444444444444,
              "#bd3786"
             ],
             [
              0.5555555555555556,
              "#d8576b"
             ],
             [
              0.6666666666666666,
              "#ed7953"
             ],
             [
              0.7777777777777778,
              "#fb9f3a"
             ],
             [
              0.8888888888888888,
              "#fdca26"
             ],
             [
              1,
              "#f0f921"
             ]
            ],
            "type": "heatmapgl"
           }
          ],
          "histogram": [
           {
            "marker": {
             "pattern": {
              "fillmode": "overlay",
              "size": 10,
              "solidity": 0.2
             }
            },
            "type": "histogram"
           }
          ],
          "histogram2d": [
           {
            "colorbar": {
             "outlinewidth": 0,
             "ticks": ""
            },
            "colorscale": [
             [
              0,
              "#0d0887"
             ],
             [
              0.1111111111111111,
              "#46039f"
             ],
             [
              0.2222222222222222,
              "#7201a8"
             ],
             [
              0.3333333333333333,
              "#9c179e"
             ],
             [
              0.4444444444444444,
              "#bd3786"
             ],
             [
              0.5555555555555556,
              "#d8576b"
             ],
             [
              0.6666666666666666,
              "#ed7953"
             ],
             [
              0.7777777777777778,
              "#fb9f3a"
             ],
             [
              0.8888888888888888,
              "#fdca26"
             ],
             [
              1,
              "#f0f921"
             ]
            ],
            "type": "histogram2d"
           }
          ],
          "histogram2dcontour": [
           {
            "colorbar": {
             "outlinewidth": 0,
             "ticks": ""
            },
            "colorscale": [
             [
              0,
              "#0d0887"
             ],
             [
              0.1111111111111111,
              "#46039f"
             ],
             [
              0.2222222222222222,
              "#7201a8"
             ],
             [
              0.3333333333333333,
              "#9c179e"
             ],
             [
              0.4444444444444444,
              "#bd3786"
             ],
             [
              0.5555555555555556,
              "#d8576b"
             ],
             [
              0.6666666666666666,
              "#ed7953"
             ],
             [
              0.7777777777777778,
              "#fb9f3a"
             ],
             [
              0.8888888888888888,
              "#fdca26"
             ],
             [
              1,
              "#f0f921"
             ]
            ],
            "type": "histogram2dcontour"
           }
          ],
          "mesh3d": [
           {
            "colorbar": {
             "outlinewidth": 0,
             "ticks": ""
            },
            "type": "mesh3d"
           }
          ],
          "parcoords": [
           {
            "line": {
             "colorbar": {
              "outlinewidth": 0,
              "ticks": ""
             }
            },
            "type": "parcoords"
           }
          ],
          "pie": [
           {
            "automargin": true,
            "type": "pie"
           }
          ],
          "scatter": [
           {
            "marker": {
             "line": {
              "color": "#283442"
             }
            },
            "type": "scatter"
           }
          ],
          "scatter3d": [
           {
            "line": {
             "colorbar": {
              "outlinewidth": 0,
              "ticks": ""
             }
            },
            "marker": {
             "colorbar": {
              "outlinewidth": 0,
              "ticks": ""
             }
            },
            "type": "scatter3d"
           }
          ],
          "scattercarpet": [
           {
            "marker": {
             "colorbar": {
              "outlinewidth": 0,
              "ticks": ""
             }
            },
            "type": "scattercarpet"
           }
          ],
          "scattergeo": [
           {
            "marker": {
             "colorbar": {
              "outlinewidth": 0,
              "ticks": ""
             }
            },
            "type": "scattergeo"
           }
          ],
          "scattergl": [
           {
            "marker": {
             "line": {
              "color": "#283442"
             }
            },
            "type": "scattergl"
           }
          ],
          "scattermapbox": [
           {
            "marker": {
             "colorbar": {
              "outlinewidth": 0,
              "ticks": ""
             }
            },
            "type": "scattermapbox"
           }
          ],
          "scatterpolar": [
           {
            "marker": {
             "colorbar": {
              "outlinewidth": 0,
              "ticks": ""
             }
            },
            "type": "scatterpolar"
           }
          ],
          "scatterpolargl": [
           {
            "marker": {
             "colorbar": {
              "outlinewidth": 0,
              "ticks": ""
             }
            },
            "type": "scatterpolargl"
           }
          ],
          "scatterternary": [
           {
            "marker": {
             "colorbar": {
              "outlinewidth": 0,
              "ticks": ""
             }
            },
            "type": "scatterternary"
           }
          ],
          "surface": [
           {
            "colorbar": {
             "outlinewidth": 0,
             "ticks": ""
            },
            "colorscale": [
             [
              0,
              "#0d0887"
             ],
             [
              0.1111111111111111,
              "#46039f"
             ],
             [
              0.2222222222222222,
              "#7201a8"
             ],
             [
              0.3333333333333333,
              "#9c179e"
             ],
             [
              0.4444444444444444,
              "#bd3786"
             ],
             [
              0.5555555555555556,
              "#d8576b"
             ],
             [
              0.6666666666666666,
              "#ed7953"
             ],
             [
              0.7777777777777778,
              "#fb9f3a"
             ],
             [
              0.8888888888888888,
              "#fdca26"
             ],
             [
              1,
              "#f0f921"
             ]
            ],
            "type": "surface"
           }
          ],
          "table": [
           {
            "cells": {
             "fill": {
              "color": "#506784"
             },
             "line": {
              "color": "rgb(17,17,17)"
             }
            },
            "header": {
             "fill": {
              "color": "#2a3f5f"
             },
             "line": {
              "color": "rgb(17,17,17)"
             }
            },
            "type": "table"
           }
          ]
         },
         "layout": {
          "annotationdefaults": {
           "arrowcolor": "#f2f5fa",
           "arrowhead": 0,
           "arrowwidth": 1
          },
          "autotypenumbers": "strict",
          "coloraxis": {
           "colorbar": {
            "outlinewidth": 0,
            "ticks": ""
           }
          },
          "colorscale": {
           "diverging": [
            [
             0,
             "#8e0152"
            ],
            [
             0.1,
             "#c51b7d"
            ],
            [
             0.2,
             "#de77ae"
            ],
            [
             0.3,
             "#f1b6da"
            ],
            [
             0.4,
             "#fde0ef"
            ],
            [
             0.5,
             "#f7f7f7"
            ],
            [
             0.6,
             "#e6f5d0"
            ],
            [
             0.7,
             "#b8e186"
            ],
            [
             0.8,
             "#7fbc41"
            ],
            [
             0.9,
             "#4d9221"
            ],
            [
             1,
             "#276419"
            ]
           ],
           "sequential": [
            [
             0,
             "#0d0887"
            ],
            [
             0.1111111111111111,
             "#46039f"
            ],
            [
             0.2222222222222222,
             "#7201a8"
            ],
            [
             0.3333333333333333,
             "#9c179e"
            ],
            [
             0.4444444444444444,
             "#bd3786"
            ],
            [
             0.5555555555555556,
             "#d8576b"
            ],
            [
             0.6666666666666666,
             "#ed7953"
            ],
            [
             0.7777777777777778,
             "#fb9f3a"
            ],
            [
             0.8888888888888888,
             "#fdca26"
            ],
            [
             1,
             "#f0f921"
            ]
           ],
           "sequentialminus": [
            [
             0,
             "#0d0887"
            ],
            [
             0.1111111111111111,
             "#46039f"
            ],
            [
             0.2222222222222222,
             "#7201a8"
            ],
            [
             0.3333333333333333,
             "#9c179e"
            ],
            [
             0.4444444444444444,
             "#bd3786"
            ],
            [
             0.5555555555555556,
             "#d8576b"
            ],
            [
             0.6666666666666666,
             "#ed7953"
            ],
            [
             0.7777777777777778,
             "#fb9f3a"
            ],
            [
             0.8888888888888888,
             "#fdca26"
            ],
            [
             1,
             "#f0f921"
            ]
           ]
          },
          "colorway": [
           "#636efa",
           "#EF553B",
           "#00cc96",
           "#ab63fa",
           "#FFA15A",
           "#19d3f3",
           "#FF6692",
           "#B6E880",
           "#FF97FF",
           "#FECB52"
          ],
          "font": {
           "color": "#f2f5fa"
          },
          "geo": {
           "bgcolor": "rgb(17,17,17)",
           "lakecolor": "rgb(17,17,17)",
           "landcolor": "rgb(17,17,17)",
           "showlakes": true,
           "showland": true,
           "subunitcolor": "#506784"
          },
          "hoverlabel": {
           "align": "left"
          },
          "hovermode": "closest",
          "mapbox": {
           "style": "dark"
          },
          "paper_bgcolor": "rgb(17,17,17)",
          "plot_bgcolor": "rgb(17,17,17)",
          "polar": {
           "angularaxis": {
            "gridcolor": "#506784",
            "linecolor": "#506784",
            "ticks": ""
           },
           "bgcolor": "rgb(17,17,17)",
           "radialaxis": {
            "gridcolor": "#506784",
            "linecolor": "#506784",
            "ticks": ""
           }
          },
          "scene": {
           "xaxis": {
            "backgroundcolor": "rgb(17,17,17)",
            "gridcolor": "#506784",
            "gridwidth": 2,
            "linecolor": "#506784",
            "showbackground": true,
            "ticks": "",
            "zerolinecolor": "#C8D4E3"
           },
           "yaxis": {
            "backgroundcolor": "rgb(17,17,17)",
            "gridcolor": "#506784",
            "gridwidth": 2,
            "linecolor": "#506784",
            "showbackground": true,
            "ticks": "",
            "zerolinecolor": "#C8D4E3"
           },
           "zaxis": {
            "backgroundcolor": "rgb(17,17,17)",
            "gridcolor": "#506784",
            "gridwidth": 2,
            "linecolor": "#506784",
            "showbackground": true,
            "ticks": "",
            "zerolinecolor": "#C8D4E3"
           }
          },
          "shapedefaults": {
           "line": {
            "color": "#f2f5fa"
           }
          },
          "sliderdefaults": {
           "bgcolor": "#C8D4E3",
           "bordercolor": "rgb(17,17,17)",
           "borderwidth": 1,
           "tickwidth": 0
          },
          "ternary": {
           "aaxis": {
            "gridcolor": "#506784",
            "linecolor": "#506784",
            "ticks": ""
           },
           "baxis": {
            "gridcolor": "#506784",
            "linecolor": "#506784",
            "ticks": ""
           },
           "bgcolor": "rgb(17,17,17)",
           "caxis": {
            "gridcolor": "#506784",
            "linecolor": "#506784",
            "ticks": ""
           }
          },
          "title": {
           "x": 0.05
          },
          "updatemenudefaults": {
           "bgcolor": "#506784",
           "borderwidth": 0
          },
          "xaxis": {
           "automargin": true,
           "gridcolor": "#283442",
           "linecolor": "#506784",
           "ticks": "",
           "title": {
            "standoff": 15
           },
           "zerolinecolor": "#283442",
           "zerolinewidth": 2
          },
          "yaxis": {
           "automargin": true,
           "gridcolor": "#283442",
           "linecolor": "#506784",
           "ticks": "",
           "title": {
            "standoff": 15
           },
           "zerolinecolor": "#283442",
           "zerolinewidth": 2
          }
         }
        },
        "title": {
         "text": "wickets taken by each player in the region"
        },
        "width": 1000,
        "xaxis": {
         "anchor": "y",
         "categoryarray": [
          "SL Malinga ",
          "Shahid Afridi ",
          "Shakib Al Hasan ",
          "Saeed Ajmal ",
          "Umar Gul ",
          "Rashid Khan ",
          "GH Dockrell ",
          "TG Southee ",
          "Mohammad Nabi ",
          "KMDN Kulasekara ",
          "BAW Mendis ",
          "SCJ Broad ",
          "Imran Tahir ",
          "DW Steyn ",
          "Mohammad Amir ",
          "NL McCullum ",
          "KJ O'Brien ",
          "S Badree ",
          "CJ Jordan ",
          "Mohammad Hafeez ",
          "Sohail Tanvir ",
          "RE van der Merwe ",
          "WB Rankin ",
          "PM Seelaar ",
          "R Ashwin ",
          "DJ Bravo ",
          "YS Chahal ",
          "Mustafizur Rahman ",
          "SP Narine ",
          "JJ Bumrah ",
          "NLTC Perera ",
          "GP Swann ",
          "MJ Santner ",
          "SM Sharif ",
          "SR Watson ",
          "M Morkel ",
          "IS Sodhi ",
          "PA van Meekeren ",
          "Shadab Khan ",
          "Bilal Khan ",
          "MRJ Watt ",
          "Abdur Razzak ",
          "Ahsan Malik ",
          "DJG Sammy ",
          "Mudassar Bukhari ",
          "KD Mills ",
          "Imad Wasim ",
          "Mashrafe Mortaza ",
          "B Kumar ",
          "WD Parnell "
         ],
         "categoryorder": "array",
         "domain": [
          0,
          1
         ],
         "title": {
          "text": "Player"
         }
        },
        "yaxis": {
         "anchor": "x",
         "domain": [
          0,
          1
         ],
         "title": {
          "text": "Wkts"
         }
        }
       }
      }
     },
     "metadata": {},
     "output_type": "display_data"
    }
   ],
   "source": [
    "#plotting\n",
    "px.bar(bowling_t20.head(50), x=\"Player\", y=\"Wkts\", color=\"Player\", title=\"wickets taken by each player in the region\"\n",
    "       , color_discrete_sequence=px.colors.sequential.RdBu, height=600, width=1000, template=\"plotly_dark\",\n",
    "       labels={\"Final Region\": \"Region\", \"HS\": \"Matches Played\"})"
   ]
  },
  {
   "cell_type": "code",
   "execution_count": 45,
   "metadata": {},
   "outputs": [
    {
     "data": {
      "application/vnd.plotly.v1+json": {
       "config": {
        "plotlyServerURL": "https://plot.ly"
       },
       "data": [
        {
         "domain": {
          "x": [
           0,
           1
          ],
          "y": [
           0,
           1
          ]
         },
         "hovertemplate": "Final Region=%{label}<br>Wkts=%{value}<extra></extra>",
         "labels": [
          "SL",
          "PAK",
          "BDESH",
          "PAK",
          "PAK",
          "AFG",
          "IRE",
          "NZ",
          "AFG",
          "SL",
          "SL",
          "ENG",
          "SA",
          "SA",
          "PAK",
          "NZ",
          "IRE",
          "WI",
          "ENG",
          "PAK",
          "PAK",
          "NL",
          "ENG",
          "NL",
          "INDIA",
          "WI",
          "INDIA",
          "BDESH",
          "WI",
          "INDIA",
          "SL",
          "ENG",
          "NZ",
          "SCOT",
          "AUS",
          "SA",
          "NZ",
          "NL",
          "PAK",
          "OMAN",
          "SCOT",
          "BDESH",
          "NL",
          "WI",
          "NL",
          "NZ",
          "PAK",
          "BDESH",
          "INDIA",
          "SA",
          "WI",
          "BDESH",
          "AFG",
          "NL",
          "NZ",
          "ENG",
          "ENG",
          "UAE",
          "AUS",
          "AUS",
          "INDIA",
          "NZ",
          "SA",
          "INDIA",
          "SL",
          "UAE",
          "AUS",
          "SCOT",
          "AUS",
          "ZIM",
          "IRE",
          "PAK",
          "INDIA",
          "KENYA",
          "AFG",
          "PNG",
          "HKG",
          "AUS",
          "SA",
          "INDIA",
          "ENG",
          "UAE",
          "NEPAL",
          "WI",
          "AUS",
          "AFG",
          "IRE",
          "ZIM",
          "WI",
          "BDESH",
          "ZIM",
          "WI",
          "NZ",
          "PAK",
          "AFG",
          "OMAN",
          "SA",
          "WI",
          "NL",
          "SCOT",
          "ZIM",
          "NEPAL",
          "AUS",
          "AUS",
          "INDIA",
          "WI",
          "SA",
          "BDESH",
          "AFG",
          "PAK",
          "AUS",
          "INDIA",
          "AUS",
          "IRE",
          "CAN",
          "SCOT",
          "ENG",
          "AUS",
          "SA",
          "QAT",
          "AUS",
          "SA",
          "NEPAL",
          "IRE",
          "ZIM",
          "NZ",
          "ZIM",
          "INDIA",
          "NZ",
          "HKG",
          "ENG",
          "NEPAL",
          "WI",
          "SL",
          "JER",
          "ENG",
          "SCOT",
          "PAK",
          "HKG",
          "AFG",
          "VAN",
          "WI",
          "SA",
          "PNG",
          "SA",
          "NZ",
          "KENYA",
          "ENG",
          "SL",
          "IRE",
          "OMAN",
          "SL",
          "OMAN",
          "WI",
          "NAM",
          "IRE",
          "SA",
          "NAM",
          "PAK",
          "PAK",
          "UAE",
          "NZ",
          "NZ",
          "NL",
          "AFG",
          "ZIM",
          "JER",
          "SA",
          "PNG",
          "NAM",
          "UAE",
          "PNG",
          "SGP",
          "AUS",
          "CAN",
          "AUS",
          "SL",
          "NZ",
          "PNG",
          "PAK",
          "HKG",
          "ENG",
          "WI",
          "NL",
          "AFG",
          "SL",
          "SCOT",
          "SA",
          "SL",
          "AFG",
          "SCOT",
          "QAT",
          "WI",
          "NZ",
          "IRE",
          "SA",
          "KENYA",
          "ENG",
          "OMAN",
          "AUS",
          "INDIA",
          "INDIA",
          "WI",
          "INDIA",
          "SA",
          "SA",
          "JER",
          "AUS",
          "CAN",
          "AUS",
          "NEPAL",
          "ENG",
          "SL",
          "ZIM",
          "ENG",
          "ENG",
          "IRE",
          "SCOT",
          "WI",
          "AFG",
          "INDIA",
          "PAK",
          "KENYA",
          "NZ",
          "BDESH",
          "NAM",
          "IRE",
          "PAK",
          "KENYA",
          "ENG",
          "IRE",
          "SL",
          "SGP",
          "SA",
          "NL",
          "IRE",
          "INDIA",
          "UAE",
          "INDIA",
          "GER",
          "NZ",
          "ZIM",
          "HKG",
          "NZ",
          "NZ",
          "JER",
          "AFG",
          "AFG",
          "KENYA",
          "INDIA",
          "MWI",
          "PAK",
          "PNG",
          "NL",
          "INDIA",
          "INDIA",
          "AUS",
          "SA",
          "MAL",
          "WI",
          "KENYA",
          "IRE",
          "VAN",
          "PAK",
          "UAE",
          "SL",
          "IRE",
          "NZ",
          "BMUDA",
          "INDIA",
          "MAL",
          "ZIM",
          "INDIA",
          "SL",
          "NL",
          "QAT",
          "NL",
          "PAK",
          "BDESH",
          "ITA",
          "ZIM",
          "SL",
          "CAN",
          "NAM",
          "SA",
          "GUE",
          "ZIM",
          "ZIM",
          "ENG",
          "SL",
          "BDESH",
          "KUW",
          "IRE",
          "SCOT",
          "SA",
          "JER",
          "BDESH",
          "SA",
          "KENYA",
          "SGP",
          "PAK",
          "PAK",
          "AFG",
          "MAL",
          "MWI",
          "ZIM",
          "AUS",
          "CAN",
          "HKG",
          "WI",
          "QAT",
          "MAL",
          "SA",
          "VAN",
          "KENYA",
          "KENYA",
          "USA",
          "ZIM",
          "ZIM",
          "ENG",
          "ENG",
          "PAK",
          "QAT",
          "INDIA",
          "HKG",
          "IRE",
          "NZ",
          "AUS",
          "OMAN",
          "NZ",
          "NZ",
          "AUS",
          "CAN",
          "IRE",
          "INDIA",
          "IRE",
          "INDIA",
          "KENYA",
          "CAN",
          "SL",
          "NEPAL",
          "SL",
          "NZ",
          "PAK",
          "WI",
          "SL",
          "ENG",
          "INDIA",
          "USA",
          "JER",
          "WI",
          "ESP",
          "AUS",
          "SL",
          "BDESH",
          "DEN",
          "ESP",
          "AUS",
          "GUE",
          "KUW",
          "IRE",
          "SA",
          "DEN",
          "BMUDA",
          "VAN",
          "OMAN",
          "ITA",
          "MAL",
          "ZIM",
          "SCOT",
          "INDIA",
          "SA",
          "GUE",
          "UAE",
          "AUS",
          "CAN",
          "SL",
          "PNG",
          "AUS",
          "WI",
          "SCOT",
          "NAM",
          "INDIA",
          "PAK",
          "OMAN",
          "BMUDA",
          "CAN",
          "AUS",
          "SCOT",
          "IRE",
          "ESP",
          "PAK",
          "NEPAL",
          "IRE",
          "CAN",
          "USA",
          "CZK-R",
          "NAM",
          "AUS",
          "QAT",
          "PAK",
          "NEPAL",
          "INDIA",
          "SL",
          "OMAN",
          "IRE",
          "BDESH",
          "QAT",
          "HKG",
          "BDESH",
          "WI",
          "ITA",
          "PAK",
          "ROM",
          "INDIA",
          "SL",
          "AUS",
          "CZK-R",
          "INDIA",
          "BMUDA",
          "SA",
          "ESP",
          "UGA",
          "GER",
          "DEN",
          "AUS",
          "WI",
          "SA",
          "DEN",
          "ENG",
          "SCOT",
          "CAN",
          "AUS",
          "NZ",
          "AUS",
          "KUW",
          "UAE",
          "USA",
          "ZIM",
          "UAE",
          "SL",
          "CAN",
          "IRE",
          "SL",
          "ITA",
          "NZ",
          "GER",
          "ZIM",
          "LUX",
          "BDESH",
          "AFG",
          "ESP",
          "ENG",
          "PNG",
          "ITA",
          "AFG",
          "NAM",
          "WI",
          "INDIA",
          "JER",
          "SL",
          "ENG",
          "NZ",
          "ENG",
          "MWI",
          "BDESH",
          "NGA",
          "NGA",
          "BDESH",
          "UAE",
          "CAN",
          "WI",
          "SCOT",
          "SCOT",
          "VAN",
          "AUS",
          "ENG",
          "CZK-R",
          "CAN",
          "THAI",
          "BDESH",
          "MWI",
          "AUS",
          "GUE",
          "GER",
          "AUS",
          "ZIM",
          "SA",
          "NZ",
          "AUS",
          "NGA",
          "NGA",
          "GIBR",
          "AFG",
          "ENG",
          "BDESH",
          "NEPAL",
          "INDIA",
          "NL",
          "INDIA",
          "SGP",
          "WI",
          "SCOT",
          "BDESH",
          "INDIA",
          "PORT",
          "SL",
          "SL",
          "UAE",
          "NZ",
          "NL",
          "HKG",
          "CZK-R",
          "BAH",
          "SGP",
          "NEPAL",
          "PAK",
          "ENG",
          "SCOT",
          "ENG",
          "SL",
          "BMUDA",
          "ENG",
          "SA",
          "PNG",
          "SL",
          "SL",
          "UAE",
          "BAH",
          "AUS",
          "NL",
          "NZ",
          "ROM",
          "AUS",
          "SCOT",
          "NZ",
          "BDESH",
          "MAL",
          "UGA",
          "VAN",
          "PAK",
          "NZ",
          "KENYA",
          "ENG",
          "MWI",
          "USA",
          "SL",
          "WI",
          "VAN",
          "BMUDA",
          "NOR",
          "DEN",
          "HKG",
          "INDIA",
          "AFG",
          "PAK",
          "GUE",
          "ESP",
          "SCOT",
          "ENG",
          "MWI",
          "NL",
          "VAN",
          "NOR",
          "SCOT",
          "AFG",
          "ESP",
          "BDESH",
          "BDESH",
          "BDESH",
          "DEN",
          "NGA",
          "KENYA",
          "SL",
          "NZ",
          "SL",
          "NZ",
          "PNG",
          "NL",
          "ZIM",
          "INDIA",
          "PNG",
          "NGA",
          "CAN",
          "WI",
          "KUW",
          "AUS",
          "AUS",
          "GIBR",
          "PAK",
          "PNM",
          "THAI",
          "INDIA",
          "BMUDA",
          "NL",
          "INDIA",
          "TKY",
          "INDIA",
          "SGP",
          "ZIM",
          "SA",
          "ENG",
          "AUS",
          "NAM",
          "AUS",
          "SCOT",
          "ZIM",
          "WI",
          "BDESH",
          "CZK-R",
          "KUW",
          "NL",
          "SCOT",
          "NEPAL",
          "NZ",
          "ZIM",
          "PORT",
          "AFG",
          "MAL",
          "USA",
          "KENYA",
          "HKG",
          "AUS",
          "MWI",
          "KENYA",
          "INDIA",
          "KENYA",
          "SA",
          "CRC",
          "KENYA",
          "GER",
          "CRC",
          "KUW",
          "ENG",
          "BDESH",
          "SA",
          "BDESH",
          "BMUDA",
          "KENYA",
          "MAL",
          "BDESH",
          "GUE",
          "ZIM",
          "HKG",
          "CZK-R",
          "SL",
          "SCOT",
          "AUS",
          "NGA",
          "NZ",
          "INDIA",
          "MALTA",
          "KUW",
          "NZ",
          "CAN",
          "SA",
          "NOR",
          "NL",
          "AUS",
          "ENG",
          "PORT",
          "GUE",
          "SCOT",
          "JER",
          "HKG",
          "NL",
          "LUX",
          "AUS",
          "SGP",
          "CAN",
          "INDIA",
          "SL",
          "UAE",
          "AUS",
          "SL",
          "ROM",
          "SA",
          "WI",
          "USA",
          "ENG",
          "NL",
          "ENG",
          "SA",
          "AUS",
          "NOR",
          "PHI",
          "MALTA",
          "THAI",
          "ROM",
          "ZIM",
          "SL",
          "OMAN",
          "CAN",
          "BMUDA",
          "KENYA",
          "PNG",
          "TKY",
          "INDIA",
          "SL",
          "KUW",
          "MAL",
          "ENG",
          "ENG",
          "ENG",
          "PAK",
          "ENG",
          "KENYA",
          "HKG",
          "PAK",
          "INDIA",
          "DEN",
          "BDESH",
          "NL",
          "NL",
          "ENG",
          "AUS",
          "SL",
          "ESP",
          "ROM",
          "SA",
          "PNG",
          "ESP",
          "OMAN",
          "PNM",
          "JER",
          "TKY",
          "ENG",
          "INDIA",
          "KUW",
          "AUS",
          "AUS",
          "NL",
          "PHI",
          "PHI",
          "UGA",
          "SCOT",
          "LUX",
          "MAL",
          "BAH",
          "HKG",
          "USA",
          "SA",
          "NZ",
          "NZ",
          "AUS",
          "NL",
          "THAI",
          "MAL",
          "SCOT",
          "IRE",
          "SCOT",
          "CZK-R",
          "PAK",
          "CAN",
          "ROM",
          "BDESH",
          "ESP",
          "PAK",
          "USA",
          "SA",
          "SGP",
          "PORT",
          "BDESH",
          "DEN",
          "OMAN",
          "ITA",
          "ENG",
          "UAE",
          "LUX",
          "GIBR",
          "WI",
          "ENG",
          "NL",
          "HKG",
          "ZIM",
          "PNM",
          "ENG",
          "AFG",
          "CAN",
          "NZ",
          "SL",
          "PNM",
          "BHU",
          "HKG",
          "NZ",
          "PORT",
          "GER",
          "AUS",
          "NGA",
          "AUS",
          "NZ",
          "QAT",
          "SCOT",
          "DEN",
          "BDESH",
          "NOR",
          "UAE",
          "ENG",
          "NZ",
          "ESP",
          "AUS",
          "SL",
          "SA",
          "DEN",
          "NZ",
          "SL",
          "PHI",
          "SCOT",
          "SCOT",
          "UGA",
          "ZIM",
          "NZ",
          "ZIM",
          "ENG",
          "NGA",
          "BAH",
          "CRC",
          "AFG",
          "SA",
          "ZIM",
          "UGA",
          "GUE",
          "GIBR",
          "ENG",
          "SGP",
          "MWI",
          "CAN",
          "THAI",
          "WI",
          "WI",
          "CZK-R",
          "CRC",
          "CAN",
          "NZ",
          "SCOT",
          "BMUDA",
          "NGA",
          "NZ",
          "ROM",
          "GER",
          "OMAN",
          "NL",
          "BAH",
          "NEPAL",
          "WI",
          "UAE",
          "BDESH",
          "UAE",
          "WI",
          "SCOT",
          "VAN",
          "AUS",
          "SA",
          "CAN",
          "ENG",
          "TKY",
          "ROM",
          "AUS",
          "PAK",
          "CAN",
          "IRE",
          "SL",
          "NAM",
          "CRC",
          "AFG",
          "KUW",
          "GIBR",
          "NZ",
          "USA",
          "OMAN",
          "GER",
          "INDIA",
          "BDESH",
          "MALTA",
          "GER",
          "AFG",
          "WI",
          "NEPAL",
          "KENYA",
          "INDIA",
          "VAN",
          "SA",
          "ENG",
          "BMUDA",
          "NZ",
          "INDIA",
          "ITA",
          "ENG",
          "SA",
          "CAN",
          "INDIA",
          "LUX",
          "UAE",
          "KUW",
          "NL",
          "LUX",
          "GIBR",
          "AUS",
          "JER",
          "ENG",
          "ENG",
          "HKG",
          "MALTA",
          "AUS",
          "PNG",
          "AUS",
          "THAI",
          "PAK",
          "ZIM",
          "UGA",
          "ITA",
          "MWI",
          "NEPAL",
          "MALTA",
          "CAN",
          "UAE",
          "PHI",
          "PHI",
          "AUS",
          "SCOT",
          "WI",
          "PNM",
          "KUW",
          "ENG",
          "WI",
          "ZIM",
          "ZIM",
          "THAI",
          "ZIM",
          "UAE",
          "BDESH",
          "BDESH",
          "CAN",
          "SL",
          "QAT",
          "UGA",
          "SL",
          "ZIM",
          "HKG",
          "ESP",
          "CZK-R",
          "NOR",
          "BDESH",
          "ZIM",
          "LUX",
          "INDIA",
          "BHU",
          "PNG",
          "KENYA",
          "SA",
          "NGA",
          "JER",
          "SCOT",
          "INDIA",
          "NZ",
          "ENG",
          "BMUDA",
          "CZK-R",
          "SL",
          "BAH",
          "HKG",
          "SL",
          "MALTA",
          "UGA",
          "CAN",
          "INDIA",
          "DEN",
          "INDIA",
          "INDIA",
          "VAN",
          "SL",
          "BHU",
          "BHU",
          "SA",
          "OMAN",
          "MALTA",
          "SGP",
          "NOR",
          "BDESH",
          "PAK",
          "ZIM",
          "INDIA",
          "NZ",
          "WI",
          "BMUDA",
          "UAE",
          "NL",
          "GUE",
          "NOR",
          "MALTA",
          "SL",
          "AUS",
          "LUX",
          "AUS",
          "NZ",
          "NZ",
          "PNM",
          "UAE",
          "AFG",
          "UAE",
          "ZIM",
          "PORT",
          "SA",
          "DEN",
          "NOR",
          "PAK",
          "NGA",
          "NGA",
          "BDESH",
          "MALTA",
          "PAK",
          "NEPAL",
          "BAH",
          "BAH",
          "IRE",
          "THAI",
          "NOR",
          "CAN",
          "SGP",
          "PAK",
          "CZK-R",
          "UAE",
          "SGP",
          "INDIA",
          "SL",
          "CAN",
          "ENG",
          "WI",
          "PNM",
          "KUW",
          "KENYA",
          "WI",
          "WI",
          "SCOT",
          "WI",
          "GUE",
          "WI",
          "CRC",
          "BMUDA",
          "NL",
          "WI",
          "SL",
          "SL",
          "NZ",
          "SA",
          "TKY",
          "IRE",
          "UAE",
          "PAK",
          "AFG",
          "SL",
          "AUS",
          "GIBR",
          "NZ",
          "NZ",
          "ESP",
          "MALTA",
          "GIBR",
          "SA",
          "PNG",
          "BMUDA",
          "AUS",
          "USA",
          "PAK",
          "PORT",
          "THAI",
          "BHU",
          "OMAN",
          "NOR",
          "SL",
          "PNM",
          "OMAN",
          "IRE",
          "QAT",
          "ZIM",
          "MWI",
          "TKY",
          "INDIA",
          "PHI",
          "SA",
          "IRE",
          "ENG",
          "SA",
          "KENYA",
          "NEPAL",
          "BMUDA",
          "WI",
          "WI",
          "SL",
          "BDESH",
          "ROM",
          "INDIA",
          "MALTA",
          "ZIM",
          "IRE",
          "HKG",
          "BDESH",
          "CRC",
          "SL",
          "ZIM",
          "MAL",
          "UAE",
          "WI",
          "KUW",
          "UAE",
          "NL",
          "BDESH",
          "ESP",
          "PAK",
          "UAE",
          "UGA",
          "BDESH",
          "ZIM",
          "QAT",
          "ROM",
          "CRC",
          "PNG",
          "UAE",
          "PNM",
          "KUW",
          "GIBR",
          "SA",
          "ZIM",
          "UGA",
          "DEN",
          "GIBR",
          "MWI",
          "THAI",
          "SL",
          "SL",
          "ROM",
          "WI",
          "BMUDA",
          "CRC",
          "SL",
          "ZIM",
          "NEPAL",
          "BDESH",
          "SGP",
          "PHI",
          "WI",
          "PAK",
          "BDESH",
          "QAT",
          "BDESH",
          "INDIA",
          "THAI",
          "PAK",
          "IRE",
          "USA",
          "BMUDA",
          "SA",
          "SCOT",
          "ENG",
          "PAK",
          "BDESH",
          "ZIM",
          "BHU",
          "BHU",
          "BMUDA",
          "INDIA",
          "PHI",
          "NOR",
          "TKY",
          "NEPAL",
          "INDIA",
          "LUX",
          "PHI",
          "ZIM",
          "HKG",
          "OMAN",
          "NZ",
          "PAK",
          "BAH",
          "PORT",
          "NEPAL",
          "UAE",
          "ROM",
          "CAN",
          "UGA",
          "DEN",
          "BAH",
          "OMAN",
          "UAE",
          "AFG",
          "NOR",
          "NL",
          "MAL",
          "HKG",
          "MAL",
          "MAL",
          "NEPAL",
          "TKY",
          "TKY",
          "ENG",
          "UAE",
          "UAE",
          "SA",
          "BDESH",
          "ITA",
          "HKG",
          "MAL",
          "MALTA",
          "UGA",
          "SGP",
          "SL",
          "PORT",
          "PAK",
          "PAK",
          "PNG",
          "SL",
          "HKG",
          "ESP",
          "PAK",
          "NGA",
          "NAM",
          "PAK",
          "HKG",
          "INDIA",
          "CAN",
          "AUS",
          "ENG",
          "IRE",
          "AUS",
          "ENG",
          "WI",
          "LUX",
          "GUE",
          "LUX",
          "WI",
          "BMUDA",
          "BMUDA",
          "CAN",
          "PNG",
          "WI",
          "SA",
          "ENG",
          "HKG",
          "NEPAL",
          "SL",
          "DEN",
          "CAN",
          "PHI",
          "KUW",
          "CAN",
          "ENG",
          "NAM",
          "AUS",
          "JER",
          "ZIM",
          "NZ",
          "SA",
          "SA",
          "SA",
          "WI",
          "IRE",
          "NZ",
          "NZ",
          "NZ",
          "NEPAL",
          "SCOT",
          "DEN",
          "ENG",
          "NL",
          "MALTA",
          "ENG",
          "AUS",
          "HKG",
          "GIBR",
          "BMUDA",
          "ZIM",
          "WI",
          "SL",
          "PNM",
          "SGP",
          "ZIM",
          "WI",
          "MALTA",
          "BHU",
          "MWI",
          "GER",
          "UAE",
          "BHU",
          "WI",
          "SA",
          "SCOT",
          "GIBR",
          "ENG",
          "NL",
          "ZIM",
          "SCOT",
          "UAE",
          "CAN",
          "CZK-R",
          "ROM",
          "CAN",
          "ENG",
          "NAM",
          "SA",
          "NL",
          "SA",
          "GIBR",
          "SL",
          "SA",
          "INDIA",
          "BDESH",
          "INDIA",
          "SL",
          "SA",
          "PNG",
          "BHU",
          "BHU",
          "BHU",
          "WI",
          "INDIA",
          "ENG",
          "JER",
          "AUS",
          "VAN",
          "BMUDA",
          "NL",
          "ZIM",
          "QAT",
          "UAE",
          "GUE",
          "AUS",
          "SL",
          "SL",
          "JER",
          "BAH",
          "ITA",
          "WI",
          "SCOT",
          "NZ",
          "WI",
          "ENG",
          "BMUDA",
          "ENG",
          "CRC",
          "BMUDA",
          "GIBR",
          "NZ",
          "INDIA",
          "KENYA",
          "WI",
          "SGP",
          "NGA",
          "ROM",
          "UAE",
          "SA",
          "AUS",
          "TKY",
          "KENYA",
          "PHI",
          "MALTA",
          "CAN",
          "CZK-R",
          "NAM",
          "CAN",
          "AUS",
          "SCOT",
          "ENG",
          "SCOT",
          "PAK",
          "CAN",
          "AUS",
          "PAK",
          "AFG",
          "AUS",
          "AFG",
          "TKY",
          "BMUDA",
          "SA",
          "WI",
          "CZK-R",
          "WI",
          "WI",
          "NZ",
          "NZ",
          "AUS",
          "WI",
          "AFG",
          "PAK",
          "BAH",
          "PAK",
          "ROM",
          "PAK",
          "BDESH",
          "SA",
          "NZ",
          "PAK",
          "INDIA",
          "INDIA",
          "BDESH",
          "AFG",
          "SL",
          "JER",
          "KENYA",
          "CAN",
          "ENG",
          "SA",
          "NEPAL",
          "THAI",
          "ENG",
          "BDESH",
          "CAN",
          "VAN",
          "PAK",
          "SL",
          "SL",
          "KENYA",
          "INDIA",
          "AUS",
          "UGA",
          "NL",
          "CAN",
          "ENG",
          "NEPAL",
          "PAK",
          "AUS",
          "NOR",
          "MALTA",
          "PAK",
          "OMAN",
          "PAK",
          "ENG",
          "GUE",
          "WI",
          "CAN",
          "SA",
          "AUS",
          "CZK-R",
          "TKY",
          "NAM",
          "SA",
          "SL",
          "PHI",
          "VAN",
          "NZ",
          "SA",
          "WI",
          "BDESH",
          "ENG",
          "BHU",
          "NAM",
          "ENG",
          "AUS",
          "SCOT",
          "NZ",
          "AUS",
          "NZ",
          "SA",
          "NZ",
          "AUS",
          "NEPAL",
          "SA",
          "USA",
          "NEPAL",
          "ROM",
          "NEPAL",
          "INDIA",
          "ITA",
          "SGP",
          "SA",
          "AUS",
          "NZ",
          "NZ",
          "USA",
          "AUS",
          "IRE",
          "HKG",
          "ITA",
          "LUX",
          "SL",
          "PORT",
          "MALTA",
          "SA",
          "PAK",
          "KUW",
          "CAN",
          "BDESH",
          "BDESH",
          "CAN",
          "QAT",
          "PAK",
          "PAK",
          "AFG",
          "PAK",
          "MWI",
          "NL",
          "INDIA",
          "ZIM",
          "PNG",
          "ENG",
          "WI",
          "SA",
          "GER",
          "MAL",
          "UAE",
          "MWI",
          "UAE",
          "PAK",
          "ESP",
          "CAN",
          "HKG",
          "ESP",
          "SCOT",
          "CRC",
          "SCOT",
          "ZIM",
          "BDESH",
          "ENG",
          "ZIM",
          "ZIM",
          "MWI",
          "NL",
          "BDESH",
          "AFG",
          "AFG",
          "OMAN",
          "PAK",
          "PAK",
          "BDESH",
          "BDESH",
          "BDESH",
          "AUS",
          "GUE",
          "NZ",
          "ENG",
          "ZIM",
          "MWI",
          "AFG",
          "AUS",
          "BDESH",
          "KENYA",
          "IRE",
          "KENYA",
          "INDIA",
          "NGA",
          "NGA",
          "KENYA",
          "UGA",
          "KENYA",
          "BMUDA",
          "NGA",
          "AUS",
          "PNG",
          "NEPAL",
          "INDIA",
          "INDIA",
          "SGP",
          "WI",
          "PNM",
          "USA",
          "INDIA",
          "KENYA",
          "UAE",
          "NEPAL",
          "ITA",
          "SL",
          "WI",
          "SA",
          "NZ",
          "GER",
          "AUS",
          "AUS",
          "SCOT",
          "WI",
          "IRE",
          "OMAN",
          "WI",
          "IRE",
          "IRE",
          "SA",
          "ENG",
          "SL",
          "QAT",
          "SA",
          "AFG",
          "PAK",
          "INDIA",
          "AFG",
          "INDIA",
          "SL",
          "WI",
          "UAE",
          "MAL",
          "IRE",
          "BDESH",
          "CAN",
          "INDIA",
          "ENG",
          "AUS",
          "NL",
          "ITA",
          "WI",
          "WI",
          "WI",
          "GER",
          "UAE",
          "DEN",
          "AUS",
          "AUS",
          "BDESH",
          "SA",
          "ENG",
          "SA",
          "SL",
          "NZ",
          "PNM",
          "NEPAL",
          "PAK",
          "PAK",
          "SL",
          "INDIA",
          "KUW",
          "SL",
          "UAE",
          "PAK",
          "GER",
          "NL",
          "NZ",
          "AFG",
          "AFG",
          "MAL",
          "ENG",
          "BAH",
          "HKG",
          "BDESH",
          "PAK",
          "UAE",
          "PAK",
          "BDESH",
          "PAK",
          "KUW",
          "UAE",
          "PAK",
          "ZIM",
          "HKG",
          "ITA",
          "NZ",
          "GER",
          "PORT",
          "SCOT",
          "WI",
          "BMUDA",
          "SCOT",
          "NL",
          "USA",
          "PNM",
          "ENG",
          "CRC",
          "UAE",
          "GER",
          "NL",
          "GUE",
          "PORT",
          "ENG",
          "IRE",
          "OMAN",
          "MALTA",
          "OMAN",
          "CAN",
          "THAI",
          "MAL",
          "NL",
          "GER",
          "BDESH",
          "VAN",
          "NZ",
          "IRE",
          "IRE",
          "CAN",
          "SL",
          "SL",
          "WI",
          "CAN",
          "IRE",
          "INDIA",
          "VAN",
          "ENG",
          "ENG",
          "IRE",
          "SL",
          "TKY",
          "PAK",
          "PAK",
          "PNG",
          "AFG",
          "CAN",
          "UAE",
          "KUW",
          "INDIA",
          "SA",
          "SA",
          "SA",
          "KUW",
          "PNG",
          "ENG",
          "LUX",
          "NL",
          "SA",
          "ENG",
          "NZ",
          "ESP",
          "VAN",
          "NL",
          "PNM",
          "LUX",
          "SL",
          "AUS",
          "SCOT",
          "WI",
          "BHU",
          "AUS",
          "OMAN",
          "NZ",
          "SCOT",
          "GER",
          "CAN",
          "IRE",
          "GUE",
          "KUW",
          "QAT",
          "BDESH",
          "DEN",
          "OMAN",
          "DEN",
          "MAL",
          "NL",
          "PAK"
         ],
         "legendgroup": "",
         "name": "",
         "showlegend": true,
         "type": "pie",
         "values": [
          106,
          98,
          92,
          85,
          85,
          84,
          75,
          75,
          69,
          66,
          66,
          65,
          63,
          61,
          59,
          58,
          58,
          56,
          54,
          54,
          54,
          54,
          53,
          53,
          52,
          52,
          52,
          52,
          52,
          51,
          51,
          51,
          49,
          49,
          48,
          47,
          47,
          47,
          46,
          45,
          45,
          44,
          44,
          44,
          43,
          43,
          42,
          42,
          41,
          41,
          41,
          40,
          40,
          40,
          39,
          39,
          39,
          39,
          39,
          38,
          38,
          38,
          37,
          37,
          37,
          37,
          37,
          36,
          36,
          35,
          35,
          35,
          35,
          35,
          35,
          35,
          34,
          34,
          34,
          34,
          34,
          33,
          33,
          33,
          32,
          32,
          32,
          32,
          31,
          31,
          31,
          30,
          30,
          30,
          29,
          29,
          29,
          29,
          28,
          28,
          28,
          28,
          28,
          28,
          28,
          28,
          28,
          28,
          28,
          28,
          28,
          28,
          28,
          27,
          27,
          27,
          27,
          27,
          26,
          26,
          26,
          26,
          26,
          26,
          26,
          25,
          25,
          25,
          25,
          25,
          25,
          25,
          25,
          25,
          24,
          24,
          24,
          24,
          24,
          24,
          24,
          24,
          24,
          24,
          24,
          23,
          23,
          23,
          23,
          23,
          22,
          22,
          22,
          22,
          22,
          21,
          21,
          21,
          21,
          20,
          20,
          20,
          20,
          20,
          20,
          20,
          20,
          20,
          20,
          20,
          20,
          19,
          19,
          19,
          19,
          19,
          19,
          19,
          19,
          19,
          19,
          18,
          18,
          18,
          18,
          18,
          18,
          18,
          18,
          18,
          18,
          18,
          18,
          18,
          18,
          18,
          18,
          18,
          18,
          17,
          17,
          17,
          17,
          17,
          17,
          17,
          17,
          17,
          17,
          17,
          16,
          16,
          16,
          16,
          16,
          16,
          16,
          16,
          16,
          16,
          16,
          16,
          16,
          16,
          16,
          16,
          16,
          16,
          15,
          15,
          15,
          15,
          15,
          15,
          15,
          15,
          15,
          15,
          15,
          14,
          14,
          14,
          14,
          14,
          14,
          14,
          14,
          14,
          14,
          14,
          14,
          14,
          14,
          14,
          14,
          13,
          13,
          13,
          13,
          13,
          13,
          13,
          13,
          13,
          13,
          13,
          13,
          13,
          13,
          13,
          13,
          13,
          13,
          13,
          13,
          13,
          13,
          13,
          12,
          12,
          12,
          12,
          12,
          12,
          12,
          12,
          12,
          12,
          12,
          12,
          12,
          12,
          12,
          12,
          12,
          12,
          12,
          12,
          12,
          12,
          12,
          11,
          11,
          11,
          11,
          11,
          11,
          11,
          11,
          11,
          11,
          11,
          11,
          11,
          11,
          11,
          11,
          11,
          11,
          11,
          11,
          10,
          10,
          10,
          10,
          10,
          10,
          10,
          10,
          10,
          10,
          10,
          10,
          10,
          10,
          10,
          10,
          10,
          10,
          10,
          10,
          10,
          10,
          10,
          10,
          10,
          10,
          10,
          10,
          10,
          9,
          9,
          9,
          9,
          9,
          9,
          9,
          9,
          9,
          9,
          9,
          9,
          9,
          9,
          9,
          9,
          9,
          9,
          9,
          9,
          9,
          9,
          9,
          9,
          9,
          9,
          9,
          9,
          9,
          9,
          9,
          9,
          9,
          8,
          8,
          8,
          8,
          8,
          8,
          8,
          8,
          8,
          8,
          8,
          8,
          8,
          8,
          8,
          8,
          8,
          8,
          8,
          8,
          8,
          8,
          8,
          8,
          8,
          8,
          8,
          8,
          8,
          8,
          8,
          8,
          8,
          8,
          8,
          8,
          8,
          8,
          8,
          8,
          7,
          7,
          7,
          7,
          7,
          7,
          7,
          7,
          7,
          7,
          7,
          7,
          7,
          7,
          7,
          7,
          7,
          7,
          7,
          7,
          7,
          7,
          7,
          7,
          7,
          7,
          7,
          7,
          7,
          7,
          7,
          7,
          7,
          7,
          7,
          7,
          7,
          7,
          7,
          7,
          7,
          6,
          6,
          6,
          6,
          6,
          6,
          6,
          6,
          6,
          6,
          6,
          6,
          6,
          6,
          6,
          6,
          6,
          6,
          6,
          6,
          6,
          6,
          6,
          6,
          6,
          6,
          6,
          6,
          6,
          6,
          6,
          6,
          6,
          6,
          6,
          6,
          6,
          6,
          6,
          6,
          6,
          6,
          6,
          6,
          6,
          6,
          5,
          5,
          5,
          5,
          5,
          5,
          5,
          5,
          5,
          5,
          5,
          5,
          5,
          5,
          5,
          5,
          5,
          5,
          5,
          5,
          5,
          5,
          5,
          5,
          5,
          5,
          5,
          5,
          5,
          5,
          5,
          5,
          5,
          5,
          5,
          5,
          5,
          5,
          5,
          5,
          5,
          5,
          5,
          5,
          5,
          5,
          5,
          5,
          5,
          5,
          5,
          5,
          5,
          5,
          5,
          5,
          5,
          4,
          4,
          4,
          4,
          4,
          4,
          4,
          4,
          4,
          4,
          4,
          4,
          4,
          4,
          4,
          4,
          4,
          4,
          4,
          4,
          4,
          4,
          4,
          4,
          4,
          4,
          4,
          4,
          4,
          4,
          4,
          4,
          4,
          4,
          4,
          4,
          4,
          4,
          4,
          4,
          4,
          4,
          4,
          4,
          4,
          4,
          4,
          4,
          4,
          4,
          4,
          4,
          4,
          4,
          4,
          4,
          4,
          4,
          4,
          4,
          4,
          4,
          4,
          4,
          4,
          4,
          4,
          4,
          4,
          4,
          4,
          4,
          4,
          4,
          4,
          4,
          4,
          4,
          4,
          4,
          3,
          3,
          3,
          3,
          3,
          3,
          3,
          3,
          3,
          3,
          3,
          3,
          3,
          3,
          3,
          3,
          3,
          3,
          3,
          3,
          3,
          3,
          3,
          3,
          3,
          3,
          3,
          3,
          3,
          3,
          3,
          3,
          3,
          3,
          3,
          3,
          3,
          3,
          3,
          3,
          3,
          3,
          3,
          3,
          3,
          3,
          3,
          3,
          3,
          3,
          3,
          3,
          3,
          3,
          3,
          3,
          3,
          3,
          3,
          3,
          3,
          3,
          3,
          3,
          3,
          3,
          3,
          3,
          3,
          3,
          3,
          3,
          3,
          3,
          3,
          3,
          3,
          3,
          3,
          3,
          3,
          3,
          3,
          3,
          3,
          3,
          3,
          3,
          3,
          3,
          3,
          3,
          3,
          3,
          3,
          3,
          3,
          3,
          3,
          3,
          3,
          3,
          3,
          3,
          3,
          3,
          3,
          3,
          3,
          3,
          2,
          2,
          2,
          2,
          2,
          2,
          2,
          2,
          2,
          2,
          2,
          2,
          2,
          2,
          2,
          2,
          2,
          2,
          2,
          2,
          2,
          2,
          2,
          2,
          2,
          2,
          2,
          2,
          2,
          2,
          2,
          2,
          2,
          2,
          2,
          2,
          2,
          2,
          2,
          2,
          2,
          2,
          2,
          2,
          2,
          2,
          2,
          2,
          2,
          2,
          2,
          2,
          2,
          2,
          2,
          2,
          2,
          2,
          2,
          2,
          2,
          2,
          2,
          2,
          2,
          2,
          2,
          2,
          2,
          2,
          2,
          2,
          2,
          2,
          2,
          2,
          2,
          2,
          2,
          2,
          2,
          2,
          2,
          2,
          2,
          2,
          2,
          2,
          2,
          2,
          2,
          2,
          2,
          2,
          2,
          2,
          2,
          2,
          2,
          2,
          2,
          2,
          2,
          2,
          2,
          2,
          2,
          2,
          1,
          1,
          1,
          1,
          1,
          1,
          1,
          1,
          1,
          1,
          1,
          1,
          1,
          1,
          1,
          1,
          1,
          1,
          1,
          1,
          1,
          1,
          1,
          1,
          1,
          1,
          1,
          1,
          1,
          1,
          1,
          1,
          1,
          1,
          1,
          1,
          1,
          1,
          1,
          1,
          1,
          1,
          1,
          1,
          1,
          1,
          1,
          1,
          1,
          1,
          1,
          1,
          1,
          1,
          1,
          1,
          1,
          1,
          1,
          1,
          1,
          1,
          1,
          1,
          1,
          1,
          1,
          1,
          1,
          1,
          1,
          1,
          1,
          1,
          1,
          1,
          1,
          1,
          1,
          1,
          1,
          1,
          1,
          1,
          1,
          1,
          1,
          1,
          1,
          1,
          1,
          1,
          1,
          1,
          1,
          1,
          1,
          1,
          1,
          1,
          1,
          1,
          1,
          1,
          1,
          1,
          1,
          1,
          1,
          1,
          1,
          1,
          1,
          1,
          1,
          1,
          1,
          1,
          1,
          1,
          1,
          1,
          1,
          1,
          1,
          1,
          1,
          1,
          1,
          1,
          1,
          1,
          1,
          1,
          1,
          1,
          1,
          1,
          0,
          0,
          0,
          0,
          0,
          0,
          0,
          0,
          0,
          0,
          0,
          0,
          0,
          0,
          0,
          0,
          0,
          0,
          0,
          0,
          0,
          0,
          0,
          0,
          0,
          0,
          0,
          0,
          0,
          0,
          0,
          0,
          0,
          0,
          0,
          0,
          0,
          0,
          0,
          0,
          0,
          0,
          0,
          0,
          0,
          0,
          0,
          0,
          0,
          0,
          0,
          0,
          0,
          0,
          0,
          0,
          0,
          0,
          0,
          0,
          0,
          0,
          0,
          0,
          0,
          0,
          0,
          0,
          0,
          0,
          0,
          0,
          0,
          0,
          0,
          0,
          0,
          0,
          0,
          0,
          0,
          0,
          0,
          0,
          0,
          0,
          0,
          0,
          0,
          0,
          0,
          0,
          0,
          0,
          0,
          0,
          0,
          0,
          0,
          0,
          0,
          0,
          0,
          0,
          0,
          0,
          0,
          0,
          0,
          0,
          0,
          0,
          0,
          0,
          0,
          0,
          0,
          0,
          0,
          0,
          0,
          0,
          0,
          0,
          0,
          0,
          0,
          0,
          0,
          0,
          0,
          0,
          0,
          0,
          0,
          0,
          0,
          0,
          0,
          0,
          0,
          0,
          0,
          0,
          0,
          0,
          0,
          0,
          0,
          0,
          0,
          0,
          0,
          0,
          0,
          0,
          0,
          0,
          0,
          0,
          0,
          0,
          0,
          0,
          0,
          0,
          0,
          0,
          0,
          0,
          0,
          0,
          0,
          0,
          0,
          0,
          0,
          0,
          0,
          0,
          0,
          0,
          0,
          0,
          0,
          0,
          0,
          0,
          0,
          0,
          0,
          0,
          0,
          0,
          0,
          0,
          0,
          0,
          0,
          0,
          0,
          0,
          0,
          0,
          0,
          0,
          0,
          0,
          0,
          0,
          0,
          0,
          0,
          0,
          0,
          0,
          0,
          0,
          0,
          0,
          0,
          0,
          0,
          0,
          0,
          0,
          0,
          0,
          0,
          0,
          0,
          0,
          0,
          0,
          0,
          0,
          0,
          0,
          0,
          0,
          0,
          0,
          0,
          0,
          0,
          0,
          0,
          0,
          0,
          0,
          0,
          0,
          0,
          0,
          0,
          0,
          0,
          0,
          0,
          0,
          0,
          0,
          0,
          0,
          0,
          0,
          0,
          0,
          0,
          0,
          0,
          0,
          0,
          0,
          0,
          0,
          0,
          0,
          0,
          0,
          0,
          0,
          0,
          0,
          0,
          0,
          0,
          0,
          0,
          0,
          0,
          0,
          0,
          0,
          0,
          0,
          0,
          0,
          0,
          0,
          0,
          0,
          0,
          0,
          0,
          0,
          0,
          0,
          0,
          0,
          0,
          0,
          0,
          0,
          0,
          0,
          0,
          0,
          0,
          0,
          0,
          0,
          0,
          0,
          0,
          0,
          0,
          0,
          0,
          0,
          0,
          0,
          0,
          0,
          0,
          0,
          0,
          0,
          0,
          0,
          0,
          0,
          0,
          0,
          0,
          0,
          0,
          0,
          0,
          0,
          0,
          0,
          0,
          0,
          0,
          0,
          0,
          0,
          0,
          0,
          0,
          0,
          0,
          0,
          0,
          0,
          0,
          0,
          0,
          0,
          0,
          0,
          0,
          0,
          0,
          0,
          0,
          0,
          0,
          0,
          0,
          0,
          0,
          0,
          0,
          0,
          0,
          0,
          0,
          0,
          0,
          0,
          0,
          0,
          0,
          0,
          0,
          0,
          0,
          0,
          0,
          0,
          0,
          0,
          0,
          0,
          0,
          0,
          0,
          0,
          0,
          0,
          0,
          0,
          0,
          0,
          0,
          0,
          0,
          0,
          0,
          0,
          0,
          0,
          0,
          0,
          0,
          0,
          0,
          0,
          0,
          0,
          0,
          0,
          0,
          0,
          0,
          0,
          0,
          0,
          0,
          0,
          0,
          0,
          0,
          0,
          0,
          0,
          0,
          0,
          0,
          0,
          0,
          0,
          0,
          0,
          0,
          0,
          0,
          0,
          0,
          0,
          0,
          0,
          0,
          0,
          0,
          0,
          0,
          0,
          0,
          0,
          0,
          0,
          0,
          0,
          0,
          0,
          0,
          0,
          0,
          0,
          0,
          0,
          0,
          0,
          0,
          0,
          0,
          0,
          0,
          0,
          0,
          0,
          0,
          0,
          0,
          0,
          0,
          0,
          0,
          0,
          0,
          0,
          0,
          0,
          0,
          0,
          0,
          0,
          0,
          0,
          0,
          0,
          0,
          0,
          0,
          0,
          0,
          0,
          0,
          0,
          0,
          0,
          0,
          0,
          0,
          0,
          0,
          0,
          0,
          0,
          0,
          0,
          0,
          0,
          0,
          0,
          0,
          0,
          0,
          0,
          0,
          0,
          0,
          0,
          0,
          0,
          0,
          0,
          0,
          0,
          0,
          0,
          0,
          0,
          0,
          0,
          0,
          0,
          0,
          0,
          0,
          0,
          0,
          0,
          0,
          0,
          0,
          0,
          0,
          0,
          0,
          0,
          0,
          0,
          0,
          0,
          0,
          0,
          0,
          0,
          0,
          0,
          0,
          0,
          0,
          0,
          0,
          0,
          0,
          0,
          0,
          0,
          0,
          0,
          0,
          0,
          0,
          0,
          0,
          0,
          0,
          0,
          0,
          0,
          0,
          0,
          0,
          0,
          0,
          0,
          0,
          0,
          0,
          0,
          0,
          0,
          0,
          0,
          0,
          0,
          0,
          0,
          0,
          0,
          0,
          0,
          0,
          0,
          0,
          0,
          0,
          0,
          0,
          0,
          0,
          0,
          0,
          0,
          0,
          0,
          0,
          0,
          0,
          0,
          0,
          0,
          0,
          0,
          0,
          0,
          0,
          0,
          0,
          0,
          0,
          0,
          0,
          0,
          0,
          0,
          0,
          0,
          0,
          0,
          0,
          0,
          0,
          0,
          0,
          0,
          0,
          0,
          0,
          0,
          0,
          0,
          0,
          0,
          0,
          0,
          0,
          0,
          0,
          0,
          0,
          0,
          0,
          0,
          0,
          0,
          0,
          0,
          0,
          0,
          0,
          0,
          0,
          0,
          0,
          0,
          0,
          0,
          0,
          0,
          0,
          0,
          0,
          0,
          0,
          0,
          0,
          0,
          0,
          0,
          0,
          0,
          0,
          0,
          0,
          0,
          0,
          0,
          0,
          0,
          0,
          0
         ]
        }
       ],
       "layout": {
        "height": 800,
        "legend": {
         "tracegroupgap": 0
        },
        "piecolorway": [
         "rgb(103,0,31)",
         "rgb(178,24,43)",
         "rgb(214,96,77)",
         "rgb(244,165,130)",
         "rgb(253,219,199)",
         "rgb(247,247,247)",
         "rgb(209,229,240)",
         "rgb(146,197,222)",
         "rgb(67,147,195)",
         "rgb(33,102,172)",
         "rgb(5,48,97)"
        ],
        "template": {
         "data": {
          "bar": [
           {
            "error_x": {
             "color": "#2a3f5f"
            },
            "error_y": {
             "color": "#2a3f5f"
            },
            "marker": {
             "line": {
              "color": "#E5ECF6",
              "width": 0.5
             },
             "pattern": {
              "fillmode": "overlay",
              "size": 10,
              "solidity": 0.2
             }
            },
            "type": "bar"
           }
          ],
          "barpolar": [
           {
            "marker": {
             "line": {
              "color": "#E5ECF6",
              "width": 0.5
             },
             "pattern": {
              "fillmode": "overlay",
              "size": 10,
              "solidity": 0.2
             }
            },
            "type": "barpolar"
           }
          ],
          "carpet": [
           {
            "aaxis": {
             "endlinecolor": "#2a3f5f",
             "gridcolor": "white",
             "linecolor": "white",
             "minorgridcolor": "white",
             "startlinecolor": "#2a3f5f"
            },
            "baxis": {
             "endlinecolor": "#2a3f5f",
             "gridcolor": "white",
             "linecolor": "white",
             "minorgridcolor": "white",
             "startlinecolor": "#2a3f5f"
            },
            "type": "carpet"
           }
          ],
          "choropleth": [
           {
            "colorbar": {
             "outlinewidth": 0,
             "ticks": ""
            },
            "type": "choropleth"
           }
          ],
          "contour": [
           {
            "colorbar": {
             "outlinewidth": 0,
             "ticks": ""
            },
            "colorscale": [
             [
              0,
              "#0d0887"
             ],
             [
              0.1111111111111111,
              "#46039f"
             ],
             [
              0.2222222222222222,
              "#7201a8"
             ],
             [
              0.3333333333333333,
              "#9c179e"
             ],
             [
              0.4444444444444444,
              "#bd3786"
             ],
             [
              0.5555555555555556,
              "#d8576b"
             ],
             [
              0.6666666666666666,
              "#ed7953"
             ],
             [
              0.7777777777777778,
              "#fb9f3a"
             ],
             [
              0.8888888888888888,
              "#fdca26"
             ],
             [
              1,
              "#f0f921"
             ]
            ],
            "type": "contour"
           }
          ],
          "contourcarpet": [
           {
            "colorbar": {
             "outlinewidth": 0,
             "ticks": ""
            },
            "type": "contourcarpet"
           }
          ],
          "heatmap": [
           {
            "colorbar": {
             "outlinewidth": 0,
             "ticks": ""
            },
            "colorscale": [
             [
              0,
              "#0d0887"
             ],
             [
              0.1111111111111111,
              "#46039f"
             ],
             [
              0.2222222222222222,
              "#7201a8"
             ],
             [
              0.3333333333333333,
              "#9c179e"
             ],
             [
              0.4444444444444444,
              "#bd3786"
             ],
             [
              0.5555555555555556,
              "#d8576b"
             ],
             [
              0.6666666666666666,
              "#ed7953"
             ],
             [
              0.7777777777777778,
              "#fb9f3a"
             ],
             [
              0.8888888888888888,
              "#fdca26"
             ],
             [
              1,
              "#f0f921"
             ]
            ],
            "type": "heatmap"
           }
          ],
          "heatmapgl": [
           {
            "colorbar": {
             "outlinewidth": 0,
             "ticks": ""
            },
            "colorscale": [
             [
              0,
              "#0d0887"
             ],
             [
              0.1111111111111111,
              "#46039f"
             ],
             [
              0.2222222222222222,
              "#7201a8"
             ],
             [
              0.3333333333333333,
              "#9c179e"
             ],
             [
              0.4444444444444444,
              "#bd3786"
             ],
             [
              0.5555555555555556,
              "#d8576b"
             ],
             [
              0.6666666666666666,
              "#ed7953"
             ],
             [
              0.7777777777777778,
              "#fb9f3a"
             ],
             [
              0.8888888888888888,
              "#fdca26"
             ],
             [
              1,
              "#f0f921"
             ]
            ],
            "type": "heatmapgl"
           }
          ],
          "histogram": [
           {
            "marker": {
             "pattern": {
              "fillmode": "overlay",
              "size": 10,
              "solidity": 0.2
             }
            },
            "type": "histogram"
           }
          ],
          "histogram2d": [
           {
            "colorbar": {
             "outlinewidth": 0,
             "ticks": ""
            },
            "colorscale": [
             [
              0,
              "#0d0887"
             ],
             [
              0.1111111111111111,
              "#46039f"
             ],
             [
              0.2222222222222222,
              "#7201a8"
             ],
             [
              0.3333333333333333,
              "#9c179e"
             ],
             [
              0.4444444444444444,
              "#bd3786"
             ],
             [
              0.5555555555555556,
              "#d8576b"
             ],
             [
              0.6666666666666666,
              "#ed7953"
             ],
             [
              0.7777777777777778,
              "#fb9f3a"
             ],
             [
              0.8888888888888888,
              "#fdca26"
             ],
             [
              1,
              "#f0f921"
             ]
            ],
            "type": "histogram2d"
           }
          ],
          "histogram2dcontour": [
           {
            "colorbar": {
             "outlinewidth": 0,
             "ticks": ""
            },
            "colorscale": [
             [
              0,
              "#0d0887"
             ],
             [
              0.1111111111111111,
              "#46039f"
             ],
             [
              0.2222222222222222,
              "#7201a8"
             ],
             [
              0.3333333333333333,
              "#9c179e"
             ],
             [
              0.4444444444444444,
              "#bd3786"
             ],
             [
              0.5555555555555556,
              "#d8576b"
             ],
             [
              0.6666666666666666,
              "#ed7953"
             ],
             [
              0.7777777777777778,
              "#fb9f3a"
             ],
             [
              0.8888888888888888,
              "#fdca26"
             ],
             [
              1,
              "#f0f921"
             ]
            ],
            "type": "histogram2dcontour"
           }
          ],
          "mesh3d": [
           {
            "colorbar": {
             "outlinewidth": 0,
             "ticks": ""
            },
            "type": "mesh3d"
           }
          ],
          "parcoords": [
           {
            "line": {
             "colorbar": {
              "outlinewidth": 0,
              "ticks": ""
             }
            },
            "type": "parcoords"
           }
          ],
          "pie": [
           {
            "automargin": true,
            "type": "pie"
           }
          ],
          "scatter": [
           {
            "fillpattern": {
             "fillmode": "overlay",
             "size": 10,
             "solidity": 0.2
            },
            "type": "scatter"
           }
          ],
          "scatter3d": [
           {
            "line": {
             "colorbar": {
              "outlinewidth": 0,
              "ticks": ""
             }
            },
            "marker": {
             "colorbar": {
              "outlinewidth": 0,
              "ticks": ""
             }
            },
            "type": "scatter3d"
           }
          ],
          "scattercarpet": [
           {
            "marker": {
             "colorbar": {
              "outlinewidth": 0,
              "ticks": ""
             }
            },
            "type": "scattercarpet"
           }
          ],
          "scattergeo": [
           {
            "marker": {
             "colorbar": {
              "outlinewidth": 0,
              "ticks": ""
             }
            },
            "type": "scattergeo"
           }
          ],
          "scattergl": [
           {
            "marker": {
             "colorbar": {
              "outlinewidth": 0,
              "ticks": ""
             }
            },
            "type": "scattergl"
           }
          ],
          "scattermapbox": [
           {
            "marker": {
             "colorbar": {
              "outlinewidth": 0,
              "ticks": ""
             }
            },
            "type": "scattermapbox"
           }
          ],
          "scatterpolar": [
           {
            "marker": {
             "colorbar": {
              "outlinewidth": 0,
              "ticks": ""
             }
            },
            "type": "scatterpolar"
           }
          ],
          "scatterpolargl": [
           {
            "marker": {
             "colorbar": {
              "outlinewidth": 0,
              "ticks": ""
             }
            },
            "type": "scatterpolargl"
           }
          ],
          "scatterternary": [
           {
            "marker": {
             "colorbar": {
              "outlinewidth": 0,
              "ticks": ""
             }
            },
            "type": "scatterternary"
           }
          ],
          "surface": [
           {
            "colorbar": {
             "outlinewidth": 0,
             "ticks": ""
            },
            "colorscale": [
             [
              0,
              "#0d0887"
             ],
             [
              0.1111111111111111,
              "#46039f"
             ],
             [
              0.2222222222222222,
              "#7201a8"
             ],
             [
              0.3333333333333333,
              "#9c179e"
             ],
             [
              0.4444444444444444,
              "#bd3786"
             ],
             [
              0.5555555555555556,
              "#d8576b"
             ],
             [
              0.6666666666666666,
              "#ed7953"
             ],
             [
              0.7777777777777778,
              "#fb9f3a"
             ],
             [
              0.8888888888888888,
              "#fdca26"
             ],
             [
              1,
              "#f0f921"
             ]
            ],
            "type": "surface"
           }
          ],
          "table": [
           {
            "cells": {
             "fill": {
              "color": "#EBF0F8"
             },
             "line": {
              "color": "white"
             }
            },
            "header": {
             "fill": {
              "color": "#C8D4E3"
             },
             "line": {
              "color": "white"
             }
            },
            "type": "table"
           }
          ]
         },
         "layout": {
          "annotationdefaults": {
           "arrowcolor": "#2a3f5f",
           "arrowhead": 0,
           "arrowwidth": 1
          },
          "autotypenumbers": "strict",
          "coloraxis": {
           "colorbar": {
            "outlinewidth": 0,
            "ticks": ""
           }
          },
          "colorscale": {
           "diverging": [
            [
             0,
             "#8e0152"
            ],
            [
             0.1,
             "#c51b7d"
            ],
            [
             0.2,
             "#de77ae"
            ],
            [
             0.3,
             "#f1b6da"
            ],
            [
             0.4,
             "#fde0ef"
            ],
            [
             0.5,
             "#f7f7f7"
            ],
            [
             0.6,
             "#e6f5d0"
            ],
            [
             0.7,
             "#b8e186"
            ],
            [
             0.8,
             "#7fbc41"
            ],
            [
             0.9,
             "#4d9221"
            ],
            [
             1,
             "#276419"
            ]
           ],
           "sequential": [
            [
             0,
             "#0d0887"
            ],
            [
             0.1111111111111111,
             "#46039f"
            ],
            [
             0.2222222222222222,
             "#7201a8"
            ],
            [
             0.3333333333333333,
             "#9c179e"
            ],
            [
             0.4444444444444444,
             "#bd3786"
            ],
            [
             0.5555555555555556,
             "#d8576b"
            ],
            [
             0.6666666666666666,
             "#ed7953"
            ],
            [
             0.7777777777777778,
             "#fb9f3a"
            ],
            [
             0.8888888888888888,
             "#fdca26"
            ],
            [
             1,
             "#f0f921"
            ]
           ],
           "sequentialminus": [
            [
             0,
             "#0d0887"
            ],
            [
             0.1111111111111111,
             "#46039f"
            ],
            [
             0.2222222222222222,
             "#7201a8"
            ],
            [
             0.3333333333333333,
             "#9c179e"
            ],
            [
             0.4444444444444444,
             "#bd3786"
            ],
            [
             0.5555555555555556,
             "#d8576b"
            ],
            [
             0.6666666666666666,
             "#ed7953"
            ],
            [
             0.7777777777777778,
             "#fb9f3a"
            ],
            [
             0.8888888888888888,
             "#fdca26"
            ],
            [
             1,
             "#f0f921"
            ]
           ]
          },
          "colorway": [
           "#636efa",
           "#EF553B",
           "#00cc96",
           "#ab63fa",
           "#FFA15A",
           "#19d3f3",
           "#FF6692",
           "#B6E880",
           "#FF97FF",
           "#FECB52"
          ],
          "font": {
           "color": "#2a3f5f"
          },
          "geo": {
           "bgcolor": "white",
           "lakecolor": "white",
           "landcolor": "#E5ECF6",
           "showlakes": true,
           "showland": true,
           "subunitcolor": "white"
          },
          "hoverlabel": {
           "align": "left"
          },
          "hovermode": "closest",
          "mapbox": {
           "style": "light"
          },
          "paper_bgcolor": "white",
          "plot_bgcolor": "#E5ECF6",
          "polar": {
           "angularaxis": {
            "gridcolor": "white",
            "linecolor": "white",
            "ticks": ""
           },
           "bgcolor": "#E5ECF6",
           "radialaxis": {
            "gridcolor": "white",
            "linecolor": "white",
            "ticks": ""
           }
          },
          "scene": {
           "xaxis": {
            "backgroundcolor": "#E5ECF6",
            "gridcolor": "white",
            "gridwidth": 2,
            "linecolor": "white",
            "showbackground": true,
            "ticks": "",
            "zerolinecolor": "white"
           },
           "yaxis": {
            "backgroundcolor": "#E5ECF6",
            "gridcolor": "white",
            "gridwidth": 2,
            "linecolor": "white",
            "showbackground": true,
            "ticks": "",
            "zerolinecolor": "white"
           },
           "zaxis": {
            "backgroundcolor": "#E5ECF6",
            "gridcolor": "white",
            "gridwidth": 2,
            "linecolor": "white",
            "showbackground": true,
            "ticks": "",
            "zerolinecolor": "white"
           }
          },
          "shapedefaults": {
           "line": {
            "color": "#2a3f5f"
           }
          },
          "ternary": {
           "aaxis": {
            "gridcolor": "white",
            "linecolor": "white",
            "ticks": ""
           },
           "baxis": {
            "gridcolor": "white",
            "linecolor": "white",
            "ticks": ""
           },
           "bgcolor": "#E5ECF6",
           "caxis": {
            "gridcolor": "white",
            "linecolor": "white",
            "ticks": ""
           }
          },
          "title": {
           "x": 0.05
          },
          "xaxis": {
           "automargin": true,
           "gridcolor": "white",
           "linecolor": "white",
           "ticks": "",
           "title": {
            "standoff": 15
           },
           "zerolinecolor": "white",
           "zerolinewidth": 2
          },
          "yaxis": {
           "automargin": true,
           "gridcolor": "white",
           "linecolor": "white",
           "ticks": "",
           "title": {
            "standoff": 15
           },
           "zerolinecolor": "white",
           "zerolinewidth": 2
          }
         }
        },
        "title": {
         "text": "wickets taken by each player in the region"
        },
        "width": 800
       }
      }
     },
     "metadata": {},
     "output_type": "display_data"
    }
   ],
   "source": [
    "px.pie(bowling_t20, values='Wkts', names='Final Region', title='wickets taken by each player in the region',\n",
    "        color_discrete_sequence=px.colors.sequential.RdBu, width=800, height=800)"
   ]
  },
  {
   "cell_type": "code",
   "execution_count": 43,
   "metadata": {},
   "outputs": [
    {
     "data": {
      "application/vnd.plotly.v1+json": {
       "config": {
        "plotlyServerURL": "https://plot.ly"
       },
       "data": [
        {
         "hovertemplate": "<b>%{hovertext}</b><br><br>Final Region=SL<br>End=2019<br>Wkts=%{x}<br>Player=%{y}<br>Runs=%{marker.size}<extra></extra>",
         "hovertext": [
          "SL",
          "SL",
          "SL",
          "SL",
          "SL",
          "SL",
          "SL",
          "SL",
          "SL",
          "SL",
          "SL",
          "SL",
          "SL",
          "SL",
          "SL",
          "SL",
          "SL",
          "SL",
          "SL",
          "SL",
          "SL",
          "SL",
          "SL",
          "SL",
          "SL",
          "SL"
         ],
         "ids": [
          "SL",
          "SL",
          "SL",
          "SL",
          "SL",
          "SL",
          "SL",
          "SL",
          "SL",
          "SL",
          "SL",
          "SL",
          "SL",
          "SL",
          "SL",
          "SL",
          "SL",
          "SL",
          "SL",
          "SL",
          "SL",
          "SL",
          "SL",
          "SL",
          "SL",
          "SL"
         ],
         "legendgroup": "SL",
         "marker": {
          "color": "#636efa",
          "size": [
           2061,
           1628,
           725,
           620,
           407,
           400,
           204,
           358,
           182,
           330,
           262,
           100,
           128,
           202,
           97,
           36,
           48,
           17,
           0,
           0,
           0,
           0,
           0,
           0,
           0,
           0
          ],
          "sizemode": "area",
          "sizeref": 0.0599,
          "symbol": "circle"
         },
         "mode": "markers",
         "name": "SL",
         "orientation": "h",
         "showlegend": true,
         "type": "scatter",
         "x": [
          106,
          51,
          23,
          22,
          15,
          13,
          12,
          10,
          10,
          8,
          6,
          5,
          5,
          3,
          3,
          0,
          0,
          0,
          0,
          0,
          0,
          0,
          0,
          0,
          0,
          0
         ],
         "xaxis": "x",
         "y": [
          "SL Malinga ",
          "NLTC Perera ",
          "I Udana ",
          "A Dananjaya ",
          "N Pradeep ",
          "PADLR Sandakan ",
          "PWH de Silva ",
          "CAK Rajitha ",
          "MD Shanaka ",
          "RAS Lakmal ",
          "JDF Vandersay ",
          "DM de Silva ",
          "MD Gunathilaka ",
          "GSNFG Jayasuriya ",
          "CBRLS Kumara ",
          "LD Madushanka ",
          "PHKD Mendis ",
          "AK Perera ",
          "M Bhanuka ",
          "N Dickwella ",
          "BOP Fernando ",
          "WIA Fernando ",
          "BKG Mendis ",
          "MDKJ Perera ",
          "PBB Rajapaksa ",
          "S Samarawickrama "
         ],
         "yaxis": "y"
        },
        {
         "hovertemplate": "<b>%{hovertext}</b><br><br>Final Region=PAK<br>End=2019<br>Wkts=%{x}<br>Player=%{y}<br>Runs=%{marker.size}<extra></extra>",
         "hovertext": [
          "PAK",
          "PAK",
          "PAK",
          "PAK",
          "PAK",
          "PAK",
          "PAK",
          "PAK",
          "PAK",
          "PAK",
          "PAK",
          "PAK",
          "PAK",
          "PAK",
          "PAK",
          "PAK",
          "PAK",
          "PAK",
          "PAK",
          "PAK",
          "PAK",
          "PAK",
          "PAK",
          "PAK"
         ],
         "ids": [
          "PAK",
          "PAK",
          "PAK",
          "PAK",
          "PAK",
          "PAK",
          "PAK",
          "PAK",
          "PAK",
          "PAK",
          "PAK",
          "PAK",
          "PAK",
          "PAK",
          "PAK",
          "PAK",
          "PAK",
          "PAK",
          "PAK",
          "PAK",
          "PAK",
          "PAK",
          "PAK",
          "PAK"
         ],
         "legendgroup": "PAK",
         "marker": {
          "color": "#EF553B",
          "size": [
           1224,
           948,
           877,
           877,
           813,
           644,
           557,
           562,
           288,
           424,
           54,
           137,
           10,
           12,
           7,
           39,
           0,
           0,
           0,
           0,
           0,
           0,
           0,
           0
          ],
          "sizemode": "area",
          "sizeref": 0.0599,
          "symbol": "circle"
         },
         "mode": "markers",
         "name": "PAK",
         "orientation": "h",
         "showlegend": true,
         "type": "scatter",
         "x": [
          59,
          46,
          42,
          35,
          30,
          28,
          24,
          16,
          14,
          13,
          4,
          3,
          0,
          0,
          0,
          0,
          0,
          0,
          0,
          0,
          0,
          0,
          0,
          0
         ],
         "xaxis": "x",
         "y": [
          "Mohammad Amir ",
          "Shadab Khan ",
          "Imad Wasim ",
          "Hasan Ali ",
          "Wahab Riaz ",
          "Shoaib Malik ",
          "Faheem Ashraf ",
          "Mohammad Irfan ",
          "Shaheen Shah Afridi ",
          "Usman Shinwari ",
          "Hussain Talat ",
          "Mohammad Hasnain ",
          "Ahmed Shehzad ",
          "Fakhar Zaman ",
          "Iftikhar Ahmed ",
          "Muhammad Musa ",
          "Asif Ali ",
          "Babar Azam ",
          "Haris Sohail ",
          "Imam-ul-Haq ",
          "Khushdil Shah ",
          "Mohammad Rizwan ",
          "Sarfaraz Ahmed ",
          "Umar Akmal "
         ],
         "yaxis": "y"
        },
        {
         "hovertemplate": "<b>%{hovertext}</b><br><br>Final Region=BDESH<br>End=2019<br>Wkts=%{x}<br>Player=%{y}<br>Runs=%{marker.size}<extra></extra>",
         "hovertext": [
          "BDESH",
          "BDESH",
          "BDESH",
          "BDESH",
          "BDESH",
          "BDESH",
          "BDESH",
          "BDESH",
          "BDESH",
          "BDESH",
          "BDESH",
          "BDESH",
          "BDESH",
          "BDESH",
          "BDESH",
          "BDESH",
          "BDESH"
         ],
         "ids": [
          "BDESH",
          "BDESH",
          "BDESH",
          "BDESH",
          "BDESH",
          "BDESH",
          "BDESH",
          "BDESH",
          "BDESH",
          "BDESH",
          "BDESH",
          "BDESH",
          "BDESH",
          "BDESH",
          "BDESH",
          "BDESH",
          "BDESH"
         ],
         "legendgroup": "BDESH",
         "marker": {
          "color": "#00cc96",
          "size": [
           1894,
           1065,
           673,
           861,
           459,
           386,
           98,
           70,
           249,
           160,
           79,
           58,
           0,
           0,
           0,
           0,
           0
          ],
          "sizemode": "area",
          "sizeref": 0.0599,
          "symbol": "circle"
         },
         "mode": "markers",
         "name": "BDESH",
         "orientation": "h",
         "showlegend": true,
         "type": "scatter",
         "x": [
          92,
          52,
          40,
          31,
          16,
          12,
          6,
          6,
          6,
          5,
          4,
          1,
          0,
          0,
          0,
          0,
          0
         ],
         "xaxis": "x",
         "y": [
          "Shakib Al Hasan ",
          "Mustafizur Rahman ",
          "Al-Amin Hossain ",
          "Mahmudullah ",
          "Shafiul Islam ",
          "Mohammad Saifuddin ",
          "Aminul Islam ",
          "Sabbir Rahman ",
          "Soumya Sarkar ",
          "Mosaddek Hossain ",
          "Afif Hossain ",
          "Taijul Islam ",
          "Liton Das ",
          "Mohammad Mithun ",
          "Mohammad Naim ",
          "Mushfiqur Rahim ",
          "Najmul Hossain Shanto "
         ],
         "yaxis": "y"
        },
        {
         "hovertemplate": "<b>%{hovertext}</b><br><br>Final Region=AFG<br>End=2019<br>Wkts=%{x}<br>Player=%{y}<br>Runs=%{marker.size}<extra></extra>",
         "hovertext": [
          "AFG",
          "AFG",
          "AFG",
          "AFG",
          "AFG",
          "AFG",
          "AFG",
          "AFG",
          "AFG",
          "AFG",
          "AFG",
          "AFG",
          "AFG",
          "AFG",
          "AFG",
          "AFG",
          "AFG",
          "AFG",
          "AFG",
          "AFG",
          "AFG",
          "AFG"
         ],
         "ids": [
          "AFG",
          "AFG",
          "AFG",
          "AFG",
          "AFG",
          "AFG",
          "AFG",
          "AFG",
          "AFG",
          "AFG",
          "AFG",
          "AFG",
          "AFG",
          "AFG",
          "AFG",
          "AFG",
          "AFG",
          "AFG",
          "AFG",
          "AFG",
          "AFG",
          "AFG"
         ],
         "legendgroup": "AFG",
         "marker": {
          "color": "#ab63fa",
          "size": [
           1052,
           1839,
           980,
           688,
           614,
           324,
           405,
           345,
           560,
           102,
           116,
           201,
           42,
           4,
           13,
           0,
           0,
           0,
           0,
           0,
           0,
           0
          ],
          "sizemode": "area",
          "sizeref": 0.0599,
          "symbol": "circle"
         },
         "mode": "markers",
         "name": "AFG",
         "orientation": "h",
         "showlegend": true,
         "type": "scatter",
         "x": [
          84,
          69,
          40,
          28,
          24,
          20,
          18,
          18,
          16,
          7,
          7,
          5,
          2,
          1,
          0,
          0,
          0,
          0,
          0,
          0,
          0,
          0
         ],
         "xaxis": "x",
         "y": [
          "Rashid Khan ",
          "Mohammad Nabi ",
          "Dawlat Zadran ",
          "Samiullah Shinwari ",
          "Karim Janat ",
          "Mujeeb Ur Rahman ",
          "Fareed Ahmad ",
          "Izatullah Dawlatzai ",
          "Gulbadin Naib ",
          "Naveen-ul-Haq ",
          "Sayed Shirzad ",
          "Sharafuddin Ashraf ",
          "Ziaur Rahman ",
          "Asghar Afghan ",
          "Fazal Niazai ",
          "Hazratullah Zazai ",
          "Ibrahim Zadran ",
          "Najeeb Tarakai ",
          "Najibullah Zadran ",
          "Rahmanullah Gurbaz ",
          "Shafiqullah ",
          "Usman Ghani "
         ],
         "yaxis": "y"
        },
        {
         "hovertemplate": "<b>%{hovertext}</b><br><br>Final Region=IRE<br>End=2019<br>Wkts=%{x}<br>Player=%{y}<br>Runs=%{marker.size}<extra></extra>",
         "hovertext": [
          "IRE",
          "IRE",
          "IRE",
          "IRE",
          "IRE",
          "IRE",
          "IRE",
          "IRE",
          "IRE",
          "IRE",
          "IRE",
          "IRE",
          "IRE",
          "IRE",
          "IRE",
          "IRE",
          "IRE",
          "IRE",
          "IRE"
         ],
         "ids": [
          "IRE",
          "IRE",
          "IRE",
          "IRE",
          "IRE",
          "IRE",
          "IRE",
          "IRE",
          "IRE",
          "IRE",
          "IRE",
          "IRE",
          "IRE",
          "IRE",
          "IRE",
          "IRE",
          "IRE",
          "IRE",
          "IRE"
         ],
         "legendgroup": "IRE",
         "marker": {
          "color": "#FFA15A",
          "size": [
           1539,
           1134,
           413,
           635,
           670,
           391,
           600,
           416,
           344,
           143,
           222,
           323,
           367,
           0,
           0,
           0,
           0,
           0,
           0
          ],
          "sizemode": "area",
          "sizeref": 0.0599,
          "symbol": "circle"
         },
         "mode": "markers",
         "name": "IRE",
         "orientation": "h",
         "showlegend": true,
         "type": "scatter",
         "x": [
          75,
          58,
          27,
          23,
          18,
          16,
          16,
          15,
          15,
          9,
          8,
          8,
          7,
          0,
          0,
          0,
          0,
          0,
          0
         ],
         "xaxis": "x",
         "y": [
          "GH Dockrell ",
          "KJ O'Brien ",
          "MR Adair ",
          "CA Young ",
          "SR Thompson ",
          "GJ Delany ",
          "PR Stirling ",
          "PKD Chase ",
          "Simi Singh ",
          "TE Kane ",
          "DC Delany ",
          "SC Getkate ",
          "JB Little ",
          "A Balbirnie ",
          "SW Poynter ",
          "HT Tector ",
          "GJ Thompson ",
          "LJ Tucker ",
          "GC Wilson "
         ],
         "yaxis": "y"
        },
        {
         "hovertemplate": "<b>%{hovertext}</b><br><br>Final Region=NZ<br>End=2019<br>Wkts=%{x}<br>Player=%{y}<br>Runs=%{marker.size}<extra></extra>",
         "hovertext": [
          "NZ",
          "NZ",
          "NZ",
          "NZ",
          "NZ",
          "NZ",
          "NZ",
          "NZ",
          "NZ",
          "NZ",
          "NZ",
          "NZ",
          "NZ",
          "NZ",
          "NZ",
          "NZ",
          "NZ",
          "NZ",
          "NZ",
          "NZ",
          "NZ"
         ],
         "ids": [
          "NZ",
          "NZ",
          "NZ",
          "NZ",
          "NZ",
          "NZ",
          "NZ",
          "NZ",
          "NZ",
          "NZ",
          "NZ",
          "NZ",
          "NZ",
          "NZ",
          "NZ",
          "NZ",
          "NZ",
          "NZ",
          "NZ",
          "NZ",
          "NZ"
         ],
         "legendgroup": "NZ",
         "marker": {
          "color": "#19d3f3",
          "size": [
           1954,
           928,
           1131,
           854,
           437,
           222,
           323,
           432,
           245,
           164,
           260,
           89,
           186,
           69,
           109,
           11,
           0,
           0,
           0,
           0,
           0
          ],
          "sizemode": "area",
          "sizeref": 0.0599,
          "symbol": "circle"
         },
         "mode": "markers",
         "name": "NZ",
         "orientation": "h",
         "showlegend": true,
         "type": "scatter",
         "x": [
          75,
          49,
          47,
          39,
          20,
          14,
          13,
          10,
          10,
          6,
          5,
          5,
          4,
          3,
          3,
          0,
          0,
          0,
          0,
          0,
          0
         ],
         "xaxis": "x",
         "y": [
          "TG Southee ",
          "MJ Santner ",
          "IS Sodhi ",
          "TA Boult ",
          "DAJ Bracewell ",
          "LH Ferguson ",
          "JDS Neesham ",
          "C de Grandhomme ",
          "SHA Rance ",
          "KS Williamson ",
          "SC Kuggeleijn ",
          "DJ Mitchell ",
          "C Munro ",
          "TD Astle ",
          "BM Tickner ",
          "MJ Guptill ",
          "TC Bruce ",
          "HM Nicholls ",
          "HD Rutherford ",
          "TL Seifert ",
          "LRPL Taylor "
         ],
         "yaxis": "y"
        },
        {
         "hovertemplate": "<b>%{hovertext}</b><br><br>Final Region=ENG<br>End=2019<br>Wkts=%{x}<br>Player=%{y}<br>Runs=%{marker.size}<extra></extra>",
         "hovertext": [
          "ENG",
          "ENG",
          "ENG",
          "ENG",
          "ENG",
          "ENG",
          "ENG",
          "ENG",
          "ENG",
          "ENG",
          "ENG",
          "ENG",
          "ENG",
          "ENG",
          "ENG",
          "ENG",
          "ENG",
          "ENG",
          "ENG",
          "ENG",
          "ENG",
          "ENG",
          "ENG",
          "ENG"
         ],
         "ids": [
          "ENG",
          "ENG",
          "ENG",
          "ENG",
          "ENG",
          "ENG",
          "ENG",
          "ENG",
          "ENG",
          "ENG",
          "ENG",
          "ENG",
          "ENG",
          "ENG",
          "ENG",
          "ENG",
          "ENG",
          "ENG",
          "ENG",
          "ENG",
          "ENG",
          "ENG",
          "ENG",
          "ENG"
         ],
         "legendgroup": "ENG",
         "marker": {
          "color": "#FF6692",
          "size": [
           1300,
           1138,
           1000,
           761,
           627,
           418,
           148,
           85,
           153,
           139,
           61,
           128,
           115,
           29,
           29,
           27,
           0,
           0,
           0,
           0,
           0,
           0,
           0,
           0
          ],
          "sizemode": "area",
          "sizeref": 0.0599,
          "symbol": "circle"
         },
         "mode": "markers",
         "name": "ENG",
         "orientation": "h",
         "showlegend": true,
         "type": "scatter",
         "x": [
          54,
          53,
          39,
          34,
          25,
          16,
          11,
          7,
          6,
          6,
          5,
          3,
          3,
          2,
          1,
          1,
          0,
          0,
          0,
          0,
          0,
          0,
          0,
          0
         ],
         "xaxis": "x",
         "y": [
          "CJ Jordan ",
          "WB Rankin ",
          "AU Rashid ",
          "DJ Willey ",
          "LE Plunkett ",
          "TK Curran ",
          "MA Wood ",
          "JL Denly ",
          "SM Curran ",
          "JE Root ",
          "MW Parkinson ",
          "PR Brown ",
          "S Mahmood ",
          "JC Archer ",
          "L Gregory ",
          "DJ Malan ",
          "JM Bairstow ",
          "T Banton ",
          "SW Billings ",
          "BM Duckett ",
          "BT Foakes ",
          "AD Hales ",
          "EJG Morgan ",
          "JM Vince "
         ],
         "yaxis": "y"
        },
        {
         "hovertemplate": "<b>%{hovertext}</b><br><br>Final Region=SA<br>End=2019<br>Wkts=%{x}<br>Player=%{y}<br>Runs=%{marker.size}<extra></extra>",
         "hovertext": [
          "SA",
          "SA",
          "SA",
          "SA",
          "SA",
          "SA",
          "SA",
          "SA",
          "SA",
          "SA",
          "SA",
          "SA",
          "SA",
          "SA",
          "SA",
          "SA",
          "SA",
          "SA",
          "SA",
          "SA",
          "SA",
          "SA",
          "SA",
          "SA"
         ],
         "ids": [
          "SA",
          "SA",
          "SA",
          "SA",
          "SA",
          "SA",
          "SA",
          "SA",
          "SA",
          "SA",
          "SA",
          "SA",
          "SA",
          "SA",
          "SA",
          "SA",
          "SA",
          "SA",
          "SA",
          "SA",
          "SA",
          "SA",
          "SA",
          "SA"
         ],
         "legendgroup": "SA",
         "marker": {
          "color": "#B6E880",
          "size": [
           948,
           1068,
           697,
           550,
           648,
           599,
           317,
           282,
           429,
           131,
           51,
           116,
           3,
           27,
           0,
           0,
           0,
           0,
           0,
           0,
           0,
           0,
           0,
           0
          ],
          "sizemode": "area",
          "sizeref": 0.0599,
          "symbol": "circle"
         },
         "mode": "markers",
         "name": "SA",
         "orientation": "h",
         "showlegend": true,
         "type": "scatter",
         "x": [
          63,
          61,
          34,
          29,
          28,
          21,
          18,
          13,
          12,
          4,
          3,
          3,
          0,
          0,
          0,
          0,
          0,
          0,
          0,
          0,
          0,
          0,
          0,
          0
         ],
         "xaxis": "x",
         "y": [
          "Imran Tahir ",
          "DW Steyn ",
          "CH Morris ",
          "AL Phehlukwayo ",
          "K Rabada ",
          "JP Duminy ",
          "BE Hendricks ",
          "CJ Dala ",
          "T Shamsi ",
          "L Sipamla ",
          "BC Fortuin ",
          "D Pretorius ",
          "F du Plessis ",
          "A Nortje ",
          "T Bavuma ",
          "GL Cloete ",
          "Q de Kock ",
          "RR Hendricks ",
          "H Klaasen ",
          "JN Malan ",
          "AK Markram ",
          "DA Miller ",
          "S Qeshile ",
          "HE van der Dussen "
         ],
         "yaxis": "y"
        },
        {
         "hovertemplate": "<b>%{hovertext}</b><br><br>Final Region=WI<br>End=2019<br>Wkts=%{x}<br>Player=%{y}<br>Runs=%{marker.size}<extra></extra>",
         "hovertext": [
          "WI",
          "WI",
          "WI",
          "WI",
          "WI",
          "WI",
          "WI",
          "WI",
          "WI",
          "WI",
          "WI",
          "WI",
          "WI",
          "WI",
          "WI",
          "WI",
          "WI",
          "WI",
          "WI",
          "WI",
          "WI",
          "WI",
          "WI",
          "WI",
          "WI"
         ],
         "ids": [
          "WI",
          "WI",
          "WI",
          "WI",
          "WI",
          "WI",
          "WI",
          "WI",
          "WI",
          "WI",
          "WI",
          "WI",
          "WI",
          "WI",
          "WI",
          "WI",
          "WI",
          "WI",
          "WI",
          "WI",
          "WI",
          "WI",
          "WI",
          "WI",
          "WI"
         ],
         "legendgroup": "WI",
         "marker": {
          "color": "#FF97FF",
          "size": [
           1105,
           724,
           1013,
           615,
           830,
           540,
           377,
           524,
           214,
           326,
           318,
           137,
           55,
           203,
           74,
           44,
           1,
           28,
           0,
           0,
           0,
           0,
           0,
           0,
           0
          ],
          "sizemode": "area",
          "sizeref": 0.0599,
          "symbol": "circle"
         },
         "mode": "markers",
         "name": "WI",
         "orientation": "h",
         "showlegend": true,
         "type": "scatter",
         "x": [
          52,
          41,
          31,
          30,
          28,
          24,
          17,
          13,
          9,
          9,
          8,
          7,
          6,
          5,
          2,
          1,
          0,
          0,
          0,
          0,
          0,
          0,
          0,
          0,
          0
         ],
         "xaxis": "x",
         "y": [
          "SP Narine ",
          "KOK Williams ",
          "CR Brathwaite ",
          "SS Cottrell ",
          "KA Pollard ",
          "KMA Paul ",
          "CH Gayle ",
          "JO Holder ",
          "FA Allen ",
          "O Thomas ",
          "AR Nurse ",
          "D Bishoo ",
          "LMP Simmons ",
          "K Pierre ",
          "R Powell ",
          "OC McCoy ",
          "JD Campbell ",
          "SE Rutherford ",
          "DM Bravo ",
          "SO Hetmyer ",
          "SD Hope ",
          "BA King ",
          "E Lewis ",
          "N Pooran ",
          "D Ramdin "
         ],
         "yaxis": "y"
        },
        {
         "hovertemplate": "<b>%{hovertext}</b><br><br>Final Region=NL<br>End=2019<br>Wkts=%{x}<br>Player=%{y}<br>Runs=%{marker.size}<extra></extra>",
         "hovertext": [
          "NL",
          "NL",
          "NL",
          "NL",
          "NL",
          "NL",
          "NL",
          "NL",
          "NL",
          "NL",
          "NL",
          "NL",
          "NL",
          "NL",
          "NL",
          "NL",
          "NL",
          "NL",
          "NL",
          "NL",
          "NL",
          "NL",
          "NL",
          "NL",
          "NL"
         ],
         "ids": [
          "NL",
          "NL",
          "NL",
          "NL",
          "NL",
          "NL",
          "NL",
          "NL",
          "NL",
          "NL",
          "NL",
          "NL",
          "NL",
          "NL",
          "NL",
          "NL",
          "NL",
          "NL",
          "NL",
          "NL",
          "NL",
          "NL",
          "NL",
          "NL",
          "NL"
         ],
         "legendgroup": "NL",
         "marker": {
          "color": "#FECB52",
          "size": [
           938,
           1190,
           945,
           847,
           448,
           581,
           337,
           245,
           147,
           142,
           70,
           116,
           119,
           72,
           79,
           49,
           61,
           51,
           27,
           0,
           0,
           0,
           0,
           0,
           0
          ],
          "sizemode": "area",
          "sizeref": 0.0599,
          "symbol": "circle"
         },
         "mode": "markers",
         "name": "NL",
         "orientation": "h",
         "showlegend": true,
         "type": "scatter",
         "x": [
          54,
          53,
          47,
          40,
          28,
          20,
          13,
          13,
          5,
          5,
          4,
          3,
          3,
          3,
          3,
          2,
          2,
          1,
          0,
          0,
          0,
          0,
          0,
          0,
          0
         ],
         "xaxis": "x",
         "y": [
          "RE van der Merwe ",
          "PM Seelaar ",
          "PA van Meekeren ",
          "T van der Gugten ",
          "BD Glover ",
          "FJ Klaassen ",
          "S Snater ",
          "RN ten Doeschate ",
          "CN Ackermann ",
          "VJ Kingma ",
          "TS Braat ",
          "PRP Boissevain ",
          "MP O'Dowd ",
          "HC Overdijk ",
          "Sikander Zulfiqar ",
          "W Barresi ",
          "Saqib Zulfiqar ",
          "C Floyd ",
          "BFW de Leede ",
          "BN Cooper ",
          "SA Edwards ",
          "SJ Myburgh ",
          "AJ Staal ",
          "Vikramjit Singh ",
          "TP Visee "
         ],
         "yaxis": "y"
        },
        {
         "hovertemplate": "<b>%{hovertext}</b><br><br>Final Region=INDIA<br>End=2019<br>Wkts=%{x}<br>Player=%{y}<br>Runs=%{marker.size}<extra></extra>",
         "hovertext": [
          "INDIA",
          "INDIA",
          "INDIA",
          "INDIA",
          "INDIA",
          "INDIA",
          "INDIA",
          "INDIA",
          "INDIA",
          "INDIA",
          "INDIA",
          "INDIA",
          "INDIA",
          "INDIA",
          "INDIA",
          "INDIA",
          "INDIA",
          "INDIA",
          "INDIA",
          "INDIA",
          "INDIA",
          "INDIA",
          "INDIA",
          "INDIA",
          "INDIA",
          "INDIA",
          "INDIA"
         ],
         "ids": [
          "INDIA",
          "INDIA",
          "INDIA",
          "INDIA",
          "INDIA",
          "INDIA",
          "INDIA",
          "INDIA",
          "INDIA",
          "INDIA",
          "INDIA",
          "INDIA",
          "INDIA",
          "INDIA",
          "INDIA",
          "INDIA",
          "INDIA",
          "INDIA",
          "INDIA",
          "INDIA",
          "INDIA",
          "INDIA",
          "INDIA",
          "INDIA",
          "INDIA",
          "INDIA",
          "INDIA"
         ],
         "legendgroup": "INDIA",
         "marker": {
          "color": "#636efa",
          "size": [
           1139,
           1029,
           1088,
           976,
           499,
           1093,
           251,
           417,
           538,
           459,
           275,
           219,
           137,
           191,
           84,
           198,
           114,
           27,
           113,
           31,
           0,
           0,
           0,
           0,
           0,
           0,
           0
          ],
          "sizemode": "area",
          "sizeref": 0.0599,
          "symbol": "circle"
         },
         "mode": "markers",
         "name": "INDIA",
         "orientation": "h",
         "showlegend": true,
         "type": "scatter",
         "x": [
          52,
          51,
          41,
          38,
          37,
          35,
          17,
          15,
          14,
          13,
          10,
          9,
          6,
          5,
          4,
          4,
          3,
          1,
          1,
          0,
          0,
          0,
          0,
          0,
          0,
          0,
          0
         ],
         "xaxis": "x",
         "y": [
          "YS Chahal ",
          "JJ Bumrah ",
          "B Kumar ",
          "HH Pandya ",
          "Kuldeep Yadav ",
          "RA Jadeja ",
          "DL Chahar ",
          "Washington Sundar ",
          "KH Pandya ",
          "KK Ahmed ",
          "Mohammed Shami ",
          "UT Yadav ",
          "NA Saini ",
          "V Shankar ",
          "S Kaul ",
          "V Kohli ",
          "S Dube ",
          "RD Chahar ",
          "RG Sharma ",
          "M Markande ",
          "S Dhawan ",
          "MS Dhoni ",
          "SS Iyer ",
          "KD Karthik ",
          "MK Pandey ",
          "RR Pant ",
          "KL Rahul "
         ],
         "yaxis": "y"
        },
        {
         "hovertemplate": "<b>%{hovertext}</b><br><br>Final Region=SCOT<br>End=2019<br>Wkts=%{x}<br>Player=%{y}<br>Runs=%{marker.size}<extra></extra>",
         "hovertext": [
          "SCOT",
          "SCOT",
          "SCOT",
          "SCOT",
          "SCOT",
          "SCOT",
          "SCOT",
          "SCOT",
          "SCOT",
          "SCOT",
          "SCOT",
          "SCOT",
          "SCOT",
          "SCOT",
          "SCOT",
          "SCOT"
         ],
         "ids": [
          "SCOT",
          "SCOT",
          "SCOT",
          "SCOT",
          "SCOT",
          "SCOT",
          "SCOT",
          "SCOT",
          "SCOT",
          "SCOT",
          "SCOT",
          "SCOT",
          "SCOT",
          "SCOT",
          "SCOT",
          "SCOT"
         ],
         "legendgroup": "SCOT",
         "marker": {
          "color": "#EF553B",
          "size": [
           1185,
           903,
           689,
           609,
           610,
           352,
           499,
           154,
           137,
           71,
           174,
           66,
           0,
           0,
           0,
           0
          ],
          "sizemode": "area",
          "sizeref": 0.0599,
          "symbol": "circle"
         },
         "mode": "markers",
         "name": "SCOT",
         "orientation": "h",
         "showlegend": true,
         "type": "scatter",
         "x": [
          49,
          45,
          36,
          27,
          24,
          18,
          18,
          9,
          6,
          5,
          4,
          0,
          0,
          0,
          0,
          0
         ],
         "xaxis": "x",
         "y": [
          "SM Sharif ",
          "MRJ Watt ",
          "AC Evans ",
          "RD Berrington ",
          "JH Davey ",
          "Hamza Tahir ",
          "MA Leask ",
          "A Neill ",
          "TB Sole ",
          "KJ Coetzer ",
          "CS MacLeod ",
          "RAJ Smith ",
          "MH Cross ",
          "OJ Hairs ",
          "HG Munsey ",
          "CD Wallace "
         ],
         "yaxis": "y"
        },
        {
         "hovertemplate": "<b>%{hovertext}</b><br><br>Final Region=AUS<br>End=2019<br>Wkts=%{x}<br>Player=%{y}<br>Runs=%{marker.size}<extra></extra>",
         "hovertext": [
          "AUS",
          "AUS",
          "AUS",
          "AUS",
          "AUS",
          "AUS",
          "AUS",
          "AUS",
          "AUS",
          "AUS",
          "AUS",
          "AUS",
          "AUS",
          "AUS",
          "AUS",
          "AUS",
          "AUS",
          "AUS",
          "AUS",
          "AUS"
         ],
         "ids": [
          "AUS",
          "AUS",
          "AUS",
          "AUS",
          "AUS",
          "AUS",
          "AUS",
          "AUS",
          "AUS",
          "AUS",
          "AUS",
          "AUS",
          "AUS",
          "AUS",
          "AUS",
          "AUS",
          "AUS",
          "AUS",
          "AUS",
          "AUS"
         ],
         "legendgroup": "AUS",
         "marker": {
          "color": "#00cc96",
          "size": [
           718,
           802,
           644,
           572,
           544,
           704,
           464,
           447,
           377,
           287,
           319,
           117,
           61,
           151,
           42,
           27,
           0,
           0,
           0,
           0
          ],
          "sizemode": "area",
          "sizeref": 0.0599,
          "symbol": "circle"
         },
         "mode": "markers",
         "name": "AUS",
         "orientation": "h",
         "showlegend": true,
         "type": "scatter",
         "x": [
          39,
          34,
          32,
          28,
          27,
          26,
          17,
          17,
          17,
          9,
          9,
          7,
          3,
          3,
          3,
          0,
          0,
          0,
          0,
          0
         ],
         "xaxis": "x",
         "y": [
          "MA Starc ",
          "NM Coulter-Nile ",
          "PJ Cummins ",
          "A Zampa ",
          "B Stanlake ",
          "GJ Maxwell ",
          "AC Agar ",
          "KW Richardson ",
          "SPD Smith ",
          "JA Richardson ",
          "MP Stoinis ",
          "JP Behrendorff ",
          "SA Abbott ",
          "DJM Short ",
          "AJ Turner ",
          "AJ Finch ",
          "AT Carey ",
          "PSP Handscomb ",
          "BR McDermott ",
          "DA Warner "
         ],
         "yaxis": "y"
        },
        {
         "hovertemplate": "<b>%{hovertext}</b><br><br>Final Region=OMAN<br>End=2019<br>Wkts=%{x}<br>Player=%{y}<br>Runs=%{marker.size}<extra></extra>",
         "hovertext": [
          "OMAN",
          "OMAN",
          "OMAN",
          "OMAN",
          "OMAN",
          "OMAN",
          "OMAN",
          "OMAN",
          "OMAN",
          "OMAN",
          "OMAN",
          "OMAN",
          "OMAN",
          "OMAN",
          "OMAN",
          "OMAN",
          "OMAN",
          "OMAN"
         ],
         "ids": [
          "OMAN",
          "OMAN",
          "OMAN",
          "OMAN",
          "OMAN",
          "OMAN",
          "OMAN",
          "OMAN",
          "OMAN",
          "OMAN",
          "OMAN",
          "OMAN",
          "OMAN",
          "OMAN",
          "OMAN",
          "OMAN",
          "OMAN",
          "OMAN"
         ],
         "legendgroup": "OMAN",
         "marker": {
          "color": "#ab63fa",
          "size": [
           778,
           534,
           388,
           445,
           416,
           313,
           222,
           374,
           132,
           59,
           48,
           39,
           17,
           74,
           16,
           0,
           0,
           0
          ],
          "sizemode": "area",
          "sizeref": 0.0599,
          "symbol": "circle"
         },
         "mode": "markers",
         "name": "OMAN",
         "orientation": "h",
         "showlegend": true,
         "type": "scatter",
         "x": [
          45,
          29,
          22,
          22,
          18,
          10,
          9,
          8,
          3,
          2,
          2,
          1,
          0,
          0,
          0,
          0,
          0,
          0
         ],
         "xaxis": "x",
         "y": [
          "Bilal Khan ",
          "Khawar Ali ",
          "Aamir Kaleem ",
          "Mohammad Nadeem ",
          "Zeeshan Maqsood ",
          "Fayyaz Butt ",
          "Mehran Khan ",
          "AV Lalcheta ",
          "Kaleemullah ",
          "Aqib Ilyas ",
          "Sandeep Goud ",
          "Sufyan Mehmood ",
          "Jatinder Singh ",
          "Jay Odedra ",
          "Wasim Ali ",
          "Khurram Nawaz ",
          "Naseem Khushi ",
          "Suraj Kumar "
         ],
         "yaxis": "y"
        },
        {
         "hovertemplate": "<b>%{hovertext}</b><br><br>Final Region=UAE<br>End=2019<br>Wkts=%{x}<br>Player=%{y}<br>Runs=%{marker.size}<extra></extra>",
         "hovertext": [
          "UAE",
          "UAE",
          "UAE",
          "UAE",
          "UAE",
          "UAE",
          "UAE",
          "UAE",
          "UAE",
          "UAE",
          "UAE",
          "UAE",
          "UAE",
          "UAE",
          "UAE",
          "UAE",
          "UAE",
          "UAE",
          "UAE",
          "UAE",
          "UAE"
         ],
         "ids": [
          "UAE",
          "UAE",
          "UAE",
          "UAE",
          "UAE",
          "UAE",
          "UAE",
          "UAE",
          "UAE",
          "UAE",
          "UAE",
          "UAE",
          "UAE",
          "UAE",
          "UAE",
          "UAE",
          "UAE",
          "UAE",
          "UAE",
          "UAE",
          "UAE"
         ],
         "legendgroup": "UAE",
         "marker": {
          "color": "#FFA15A",
          "size": [
           774,
           729,
           779,
           442,
           365,
           253,
           250,
           179,
           103,
           198,
           34,
           13,
           35,
           0,
           0,
           0,
           0,
           0,
           0,
           0,
           0
          ],
          "sizemode": "area",
          "sizeref": 0.0599,
          "symbol": "circle"
         },
         "mode": "markers",
         "name": "UAE",
         "orientation": "h",
         "showlegend": true,
         "type": "scatter",
         "x": [
          39,
          37,
          20,
          20,
          15,
          9,
          7,
          7,
          6,
          6,
          2,
          1,
          1,
          0,
          0,
          0,
          0,
          0,
          0,
          0,
          0
         ],
         "xaxis": "x",
         "y": [
          "Rohan Mustafa ",
          "Mohammad Naveed ",
          "Ahmed Raza ",
          "Zahoor Khan ",
          "Sultan Ahmed ",
          "Qadeer Ahmed ",
          "Imran Haider ",
          "Junaid Siddique ",
          "Amir Hayat ",
          "Waheed Ahmed ",
          "Ashfaq Ahmed ",
          "Mohammad Boota ",
          "Zawar Farid ",
          "Abdul Shakoor ",
          "Chirag Suri ",
          "DDP D'Silva ",
          "Ghulam Shabber ",
          "Muhammad Usman ",
          "Rameez Shahzad ",
          "CP Rizwan ",
          "Shaiman Anwar "
         ],
         "yaxis": "y"
        },
        {
         "hovertemplate": "<b>%{hovertext}</b><br><br>Final Region=ZIM<br>End=2019<br>Wkts=%{x}<br>Player=%{y}<br>Runs=%{marker.size}<extra></extra>",
         "hovertext": [
          "ZIM",
          "ZIM",
          "ZIM",
          "ZIM",
          "ZIM",
          "ZIM",
          "ZIM",
          "ZIM",
          "ZIM",
          "ZIM",
          "ZIM",
          "ZIM",
          "ZIM",
          "ZIM",
          "ZIM",
          "ZIM",
          "ZIM",
          "ZIM",
          "ZIM",
          "ZIM",
          "ZIM",
          "ZIM",
          "ZIM",
          "ZIM",
          "ZIM"
         ],
         "ids": [
          "ZIM",
          "ZIM",
          "ZIM",
          "ZIM",
          "ZIM",
          "ZIM",
          "ZIM",
          "ZIM",
          "ZIM",
          "ZIM",
          "ZIM",
          "ZIM",
          "ZIM",
          "ZIM",
          "ZIM",
          "ZIM",
          "ZIM",
          "ZIM",
          "ZIM",
          "ZIM",
          "ZIM",
          "ZIM",
          "ZIM",
          "ZIM",
          "ZIM"
         ],
         "legendgroup": "ZIM",
         "marker": {
          "color": "#19d3f3",
          "size": [
           890,
           950,
           665,
           591,
           427,
           417,
           312,
           279,
           376,
           278,
           188,
           44,
           113,
           48,
           20,
           57,
           115,
           90,
           17,
           3,
           0,
           0,
           0,
           0,
           0
          ],
          "sizemode": "area",
          "sizeref": 0.0599,
          "symbol": "circle"
         },
         "mode": "markers",
         "name": "ZIM",
         "orientation": "h",
         "showlegend": true,
         "type": "scatter",
         "x": [
          32,
          31,
          28,
          25,
          16,
          12,
          12,
          11,
          11,
          11,
          7,
          3,
          2,
          2,
          1,
          1,
          1,
          1,
          1,
          0,
          0,
          0,
          0,
          0,
          0
         ],
         "xaxis": "x",
         "y": [
          "SC Williams ",
          "CB Mpofu ",
          "KM Jarvis ",
          "TL Chatara ",
          "E Chigumbura ",
          "N Madziva ",
          "WP Masakadza ",
          "RP Burl ",
          "Sikandar Raza ",
          "DT Tiripano ",
          "CT Mutombodzi ",
          "D Jakiel ",
          "H Masakadza ",
          "R Ngarava ",
          "T Maruma ",
          "WT Mashinge ",
          "SF Mire ",
          "A Ndlovu ",
          "BRM Taylor ",
          "T Munyonga ",
          "RW Chakabva ",
          "BB Chari ",
          "CR Ervine ",
          "PJ Moor ",
          "R Mutumbami "
         ],
         "yaxis": "y"
        },
        {
         "hovertemplate": "<b>%{hovertext}</b><br><br>Final Region=KENYA<br>End=2019<br>Wkts=%{x}<br>Player=%{y}<br>Runs=%{marker.size}<extra></extra>",
         "hovertext": [
          "KENYA",
          "KENYA",
          "KENYA",
          "KENYA",
          "KENYA",
          "KENYA",
          "KENYA",
          "KENYA",
          "KENYA",
          "KENYA",
          "KENYA",
          "KENYA",
          "KENYA",
          "KENYA",
          "KENYA",
          "KENYA"
         ],
         "ids": [
          "KENYA",
          "KENYA",
          "KENYA",
          "KENYA",
          "KENYA",
          "KENYA",
          "KENYA",
          "KENYA",
          "KENYA",
          "KENYA",
          "KENYA",
          "KENYA",
          "KENYA",
          "KENYA",
          "KENYA",
          "KENYA"
         ],
         "legendgroup": "KENYA",
         "marker": {
          "color": "#FF6692",
          "size": [
           637,
           334,
           370,
           319,
           209,
           104,
           18,
           82,
           63,
           30,
           15,
           0,
           0,
           0,
           0,
           0
          ],
          "sizemode": "area",
          "sizeref": 0.0599,
          "symbol": "circle"
         },
         "mode": "markers",
         "name": "KENYA",
         "orientation": "h",
         "showlegend": true,
         "type": "scatter",
         "x": [
          35,
          23,
          14,
          11,
          10,
          4,
          4,
          3,
          1,
          1,
          0,
          0,
          0,
          0,
          0,
          0
         ],
         "xaxis": "x",
         "y": [
          "SO Ngoche ",
          "CO Obuya ",
          "E Otieno ",
          "NM Odhiambo ",
          "LN Oluoch ",
          "RR Patel ",
          "EB Ringera ",
          "P Kerai ",
          "SR Bhudia ",
          "E Ochieng ",
          "JS Kundi ",
          "AR Gandhi ",
          "DM Gondaria ",
          "IA Karim ",
          "AA Obanda ",
          "RN Patel "
         ],
         "yaxis": "y"
        },
        {
         "hovertemplate": "<b>%{hovertext}</b><br><br>Final Region=PNG<br>End=2019<br>Wkts=%{x}<br>Player=%{y}<br>Runs=%{marker.size}<extra></extra>",
         "hovertext": [
          "PNG",
          "PNG",
          "PNG",
          "PNG",
          "PNG",
          "PNG",
          "PNG",
          "PNG",
          "PNG",
          "PNG",
          "PNG",
          "PNG",
          "PNG",
          "PNG",
          "PNG"
         ],
         "ids": [
          "PNG",
          "PNG",
          "PNG",
          "PNG",
          "PNG",
          "PNG",
          "PNG",
          "PNG",
          "PNG",
          "PNG",
          "PNG",
          "PNG",
          "PNG",
          "PNG",
          "PNG"
         ],
         "legendgroup": "PNG",
         "marker": {
          "color": "#B6E880",
          "size": [
           505,
           221,
           249,
           367,
           328,
           153,
           56,
           148,
           79,
           99,
           37,
           5,
           0,
           0,
           0
          ],
          "sizemode": "area",
          "sizeref": 0.0599,
          "symbol": "circle"
         },
         "mode": "markers",
         "name": "PNG",
         "orientation": "h",
         "showlegend": true,
         "type": "scatter",
         "x": [
          35,
          24,
          20,
          19,
          19,
          14,
          9,
          7,
          4,
          3,
          1,
          0,
          0,
          0,
          0
         ],
         "xaxis": "x",
         "y": [
          "N Vanua ",
          "D Ravu ",
          "A Vala ",
          "CJA Amini ",
          "N Pokana ",
          "CA Soper ",
          "L Siaka ",
          "JB Reva ",
          "S Bau ",
          "J Kila ",
          "R Hekure ",
          "H Hiri ",
          "SK Atai ",
          "K Doriga ",
          "TP Ura "
         ],
         "yaxis": "y"
        },
        {
         "hovertemplate": "<b>%{hovertext}</b><br><br>Final Region=HKG<br>End=2019<br>Wkts=%{x}<br>Player=%{y}<br>Runs=%{marker.size}<extra></extra>",
         "hovertext": [
          "HKG",
          "HKG",
          "HKG",
          "HKG",
          "HKG",
          "HKG",
          "HKG",
          "HKG",
          "HKG",
          "HKG",
          "HKG",
          "HKG",
          "HKG",
          "HKG",
          "HKG"
         ],
         "ids": [
          "HKG",
          "HKG",
          "HKG",
          "HKG",
          "HKG",
          "HKG",
          "HKG",
          "HKG",
          "HKG",
          "HKG",
          "HKG",
          "HKG",
          "HKG",
          "HKG",
          "HKG"
         ],
         "legendgroup": "HKG",
         "marker": {
          "color": "#FF97FF",
          "size": [
           692,
           325,
           292,
           162,
           190,
           83,
           152,
           85,
           108,
           49,
           0,
           0,
           0,
           0,
           0
          ],
          "sizemode": "area",
          "sizeref": 0.0599,
          "symbol": "circle"
         },
         "mode": "markers",
         "name": "HKG",
         "orientation": "h",
         "showlegend": true,
         "type": "scatter",
         "x": [
          34,
          14,
          10,
          8,
          5,
          4,
          4,
          3,
          1,
          1,
          0,
          0,
          0,
          0,
          0
         ],
         "xaxis": "x",
         "y": [
          "Aizaz Khan ",
          "Ehsan Khan ",
          "K Christie ",
          "Nasrulla Rana ",
          "KD Shah ",
          "Nizakat Khan ",
          "Waqas Barkat ",
          "Mohammad Ghazanfar ",
          "Haroon Arshad ",
          "Raag Kapur ",
          "Ahsan Abbasi ",
          "A Bhagwat ",
          "SS McKechnie ",
          "Shahid Wasif ",
          "Simandeep Singh "
         ],
         "yaxis": "y"
        },
        {
         "hovertemplate": "<b>%{hovertext}</b><br><br>Final Region=NEPAL<br>End=2019<br>Wkts=%{x}<br>Player=%{y}<br>Runs=%{marker.size}<extra></extra>",
         "hovertext": [
          "NEPAL",
          "NEPAL",
          "NEPAL",
          "NEPAL",
          "NEPAL",
          "NEPAL",
          "NEPAL",
          "NEPAL",
          "NEPAL",
          "NEPAL",
          "NEPAL",
          "NEPAL",
          "NEPAL",
          "NEPAL",
          "NEPAL",
          "NEPAL",
          "NEPAL",
          "NEPAL",
          "NEPAL",
          "NEPAL"
         ],
         "ids": [
          "NEPAL",
          "NEPAL",
          "NEPAL",
          "NEPAL",
          "NEPAL",
          "NEPAL",
          "NEPAL",
          "NEPAL",
          "NEPAL",
          "NEPAL",
          "NEPAL",
          "NEPAL",
          "NEPAL",
          "NEPAL",
          "NEPAL",
          "NEPAL",
          "NEPAL",
          "NEPAL",
          "NEPAL",
          "NEPAL"
         ],
         "legendgroup": "NEPAL",
         "marker": {
          "color": "#FECB52",
          "size": [
           631,
           439,
           644,
           405,
           350,
           231,
           323,
           113,
           58,
           23,
           38,
           19,
           25,
           0,
           0,
           0,
           0,
           0,
           0,
           0
          ],
          "sizemode": "area",
          "sizeref": 0.0599,
          "symbol": "circle"
         },
         "mode": "markers",
         "name": "NEPAL",
         "orientation": "h",
         "showlegend": true,
         "type": "scatter",
         "x": [
          33,
          28,
          26,
          25,
          16,
          10,
          8,
          5,
          2,
          0,
          0,
          0,
          0,
          0,
          0,
          0,
          0,
          0,
          0,
          0
         ],
         "xaxis": "x",
         "y": [
          "Karan KC ",
          "S Lamichhane ",
          "Sompal Kami ",
          "B Regmi ",
          "A Bohara ",
          "LN Rajbanshi ",
          "P Khadka ",
          "S Bhari ",
          "P Sarraf ",
          "DS Airee ",
          "Kushal Malla ",
          "Rashid Khan ",
          "S Vesawkar ",
          "Aarif Sheikh ",
          "PS Airee ",
          "B Bhandari ",
          "S Jora ",
          "G Malla ",
          "I Pandey ",
          "RK Paudel "
         ],
         "yaxis": "y"
        },
        {
         "hovertemplate": "<b>%{hovertext}</b><br><br>Final Region=CAN<br>End=2019<br>Wkts=%{x}<br>Player=%{y}<br>Runs=%{marker.size}<extra></extra>",
         "hovertext": [
          "CAN",
          "CAN",
          "CAN",
          "CAN",
          "CAN",
          "CAN",
          "CAN",
          "CAN",
          "CAN",
          "CAN",
          "CAN",
          "CAN",
          "CAN",
          "CAN",
          "CAN",
          "CAN",
          "CAN"
         ],
         "ids": [
          "CAN",
          "CAN",
          "CAN",
          "CAN",
          "CAN",
          "CAN",
          "CAN",
          "CAN",
          "CAN",
          "CAN",
          "CAN",
          "CAN",
          "CAN",
          "CAN",
          "CAN",
          "CAN",
          "CAN"
         ],
         "legendgroup": "CAN",
         "marker": {
          "color": "#636efa",
          "size": [
           306,
           285,
           204,
           253,
           266,
           382,
           184,
           160,
           43,
           25,
           0,
           0,
           0,
           0,
           0,
           0,
           0
          ],
          "sizemode": "area",
          "sizeref": 0.0599,
          "symbol": "circle"
         },
         "mode": "markers",
         "name": "CAN",
         "orientation": "h",
         "showlegend": true,
         "type": "scatter",
         "x": [
          19,
          17,
          12,
          11,
          10,
          9,
          8,
          7,
          3,
          1,
          0,
          0,
          0,
          0,
          0,
          0,
          0
         ],
         "xaxis": "x",
         "y": [
          "D Heyliger ",
          "Saad Bin Zafar ",
          "GDR Eranga ",
          "N Dutta ",
          "Junaid Siddiqui ",
          "Rizwan Cheema ",
          "JOA Gordon ",
          "NR Kumar ",
          "NS Dhaliwal ",
          "MR Montfort ",
          "Abraash Khan ",
          "Hamza Tariq ",
          "NR Kirton ",
          "Ravinderpal Singh ",
          "H Thaker ",
          "RA Thomas ",
          "SA Wijeyeratne "
         ],
         "yaxis": "y"
        },
        {
         "hovertemplate": "<b>%{hovertext}</b><br><br>Final Region=QAT<br>End=2019<br>Wkts=%{x}<br>Player=%{y}<br>Runs=%{marker.size}<extra></extra>",
         "hovertext": [
          "QAT",
          "QAT",
          "QAT",
          "QAT",
          "QAT",
          "QAT",
          "QAT",
          "QAT",
          "QAT",
          "QAT",
          "QAT",
          "QAT",
          "QAT",
          "QAT",
          "QAT",
          "QAT"
         ],
         "ids": [
          "QAT",
          "QAT",
          "QAT",
          "QAT",
          "QAT",
          "QAT",
          "QAT",
          "QAT",
          "QAT",
          "QAT",
          "QAT",
          "QAT",
          "QAT",
          "QAT",
          "QAT",
          "QAT"
         ],
         "legendgroup": "QAT",
         "marker": {
          "color": "#EF553B",
          "size": [
           426,
           267,
           309,
           364,
           279,
           211,
           132,
           78,
           63,
           48,
           32,
           12,
           0,
           0,
           0,
           0
          ],
          "sizemode": "area",
          "sizeref": 0.0599,
          "symbol": "circle"
         },
         "mode": "markers",
         "name": "QAT",
         "orientation": "h",
         "showlegend": true,
         "type": "scatter",
         "x": [
          26,
          18,
          13,
          11,
          10,
          8,
          8,
          2,
          1,
          0,
          0,
          0,
          0,
          0,
          0,
          0
         ],
         "xaxis": "x",
         "y": [
          "Iqbal Hussain ",
          "Nouman Sarwar ",
          "Tamoor Sajjad ",
          "Mohammed Nadeem ",
          "Awais Malik ",
          "Inam-ul-Haq ",
          "GBW Munaweera ",
          "Imran Ashraf ",
          "Muhammad Tanveer ",
          "Kamran Khan ",
          "Musawar Shah ",
          "Saqlain Arshad ",
          "Faisal Javed ",
          "Mohammed Rizlan ",
          "Qalandar Khan ",
          "Zaheer Ibrahim "
         ],
         "yaxis": "y"
        },
        {
         "hovertemplate": "<b>%{hovertext}</b><br><br>Final Region=JER<br>End=2019<br>Wkts=%{x}<br>Player=%{y}<br>Runs=%{marker.size}<extra></extra>",
         "hovertext": [
          "JER",
          "JER",
          "JER",
          "JER",
          "JER",
          "JER",
          "JER",
          "JER",
          "JER",
          "JER",
          "JER",
          "JER",
          "JER",
          "JER",
          "JER"
         ],
         "ids": [
          "JER",
          "JER",
          "JER",
          "JER",
          "JER",
          "JER",
          "JER",
          "JER",
          "JER",
          "JER",
          "JER",
          "JER",
          "JER",
          "JER",
          "JER"
         ],
         "legendgroup": "JER",
         "marker": {
          "color": "#00cc96",
          "size": [
           395,
           275,
           266,
           266,
           249,
           249,
           155,
           42,
           101,
           14,
           27,
           0,
           0,
           0,
           0
          ],
          "sizemode": "area",
          "sizeref": 0.0599,
          "symbol": "circle"
         },
         "mode": "markers",
         "name": "JER",
         "orientation": "h",
         "showlegend": true,
         "type": "scatter",
         "x": [
          24,
          20,
          17,
          14,
          12,
          10,
          7,
          3,
          3,
          1,
          1,
          0,
          0,
          0,
          0
         ],
         "xaxis": "x",
         "y": [
          "DG Blampied ",
          "CW Perchard ",
          "EJB Miles ",
          "AW Hawkins-Kay ",
          "BDH Stevens ",
          "B Ward ",
          "JTS Sumerauer ",
          "HL Carlyon ",
          "WJR Robertson ",
          "NA Greenwood ",
          "RJG Palmer ",
          "C Bisson ",
          "JSE Dunford ",
          "NJ Ferraby ",
          "JW Jenner "
         ],
         "yaxis": "y"
        },
        {
         "hovertemplate": "<b>%{hovertext}</b><br><br>Final Region=VAN<br>End=2019<br>Wkts=%{x}<br>Player=%{y}<br>Runs=%{marker.size}<extra></extra>",
         "hovertext": [
          "VAN",
          "VAN",
          "VAN",
          "VAN",
          "VAN",
          "VAN",
          "VAN",
          "VAN",
          "VAN",
          "VAN",
          "VAN",
          "VAN",
          "VAN",
          "VAN",
          "VAN",
          "VAN",
          "VAN"
         ],
         "ids": [
          "VAN",
          "VAN",
          "VAN",
          "VAN",
          "VAN",
          "VAN",
          "VAN",
          "VAN",
          "VAN",
          "VAN",
          "VAN",
          "VAN",
          "VAN",
          "VAN",
          "VAN",
          "VAN",
          "VAN"
         ],
         "legendgroup": "VAN",
         "marker": {
          "color": "#ab63fa",
          "size": [
           311,
           176,
           190,
           199,
           315,
           177,
           44,
           164,
           29,
           49,
           72,
           0,
           0,
           0,
           0,
           0,
           0
          ],
          "sizemode": "area",
          "sizeref": 0.0599,
          "symbol": "circle"
         },
         "mode": "markers",
         "name": "VAN",
         "orientation": "h",
         "showlegend": true,
         "type": "scatter",
         "x": [
          24,
          13,
          11,
          9,
          6,
          5,
          5,
          5,
          2,
          1,
          1,
          0,
          0,
          0,
          0,
          0,
          0
         ],
         "xaxis": "x",
         "y": [
          "N Nipiko ",
          "A Mansale ",
          "SH Obed ",
          "PK Matautaava ",
          "JW Chilia ",
          "W Nalisa ",
          "J Rasu ",
          "W Viraliliu ",
          "AL Stephen ",
          "CC Blake ",
          "ZK Shem ",
          "J Dunn ",
          "G Kaltongga ",
          "T Langa ",
          "R Tari ",
          "C Tommy ",
          "J Vira "
         ],
         "yaxis": "y"
        },
        {
         "hovertemplate": "<b>%{hovertext}</b><br><br>Final Region=NAM<br>End=2019<br>Wkts=%{x}<br>Player=%{y}<br>Runs=%{marker.size}<extra></extra>",
         "hovertext": [
          "NAM",
          "NAM",
          "NAM",
          "NAM",
          "NAM",
          "NAM",
          "NAM",
          "NAM",
          "NAM",
          "NAM",
          "NAM",
          "NAM",
          "NAM",
          "NAM",
          "NAM",
          "NAM"
         ],
         "ids": [
          "NAM",
          "NAM",
          "NAM",
          "NAM",
          "NAM",
          "NAM",
          "NAM",
          "NAM",
          "NAM",
          "NAM",
          "NAM",
          "NAM",
          "NAM",
          "NAM",
          "NAM",
          "NAM"
         ],
         "legendgroup": "NAM",
         "marker": {
          "color": "#FFA15A",
          "size": [
           285,
           240,
           236,
           234,
           171,
           142,
           163,
           131,
           88,
           82,
           0,
           0,
           0,
           0,
           0,
           0
          ],
          "sizemode": "area",
          "sizeref": 0.0599,
          "symbol": "circle"
         },
         "mode": "markers",
         "name": "NAM",
         "orientation": "h",
         "showlegend": true,
         "type": "scatter",
         "x": [
          22,
          21,
          20,
          16,
          12,
          9,
          8,
          7,
          4,
          2,
          0,
          0,
          0,
          0,
          0,
          0
         ],
         "xaxis": "x",
         "y": [
          "BM Scholtz ",
          "JN Frylinck ",
          "C Viljoen ",
          "JJ Smit ",
          "MG Erasmus ",
          "CG Williams ",
          "Z Groenewald ",
          "B Shikongo ",
          "T Lungameni ",
          "HN Ya France ",
          "SJ Baard ",
          "K Birkenstock ",
          "N Davin ",
          "ZE Green ",
          "JP Kotze ",
          "L Louwrens "
         ],
         "yaxis": "y"
        },
        {
         "hovertemplate": "<b>%{hovertext}</b><br><br>Final Region=SGP<br>End=2019<br>Wkts=%{x}<br>Player=%{y}<br>Runs=%{marker.size}<extra></extra>",
         "hovertext": [
          "SGP",
          "SGP",
          "SGP",
          "SGP",
          "SGP",
          "SGP",
          "SGP",
          "SGP",
          "SGP",
          "SGP",
          "SGP",
          "SGP",
          "SGP",
          "SGP",
          "SGP",
          "SGP",
          "SGP",
          "SGP"
         ],
         "ids": [
          "SGP",
          "SGP",
          "SGP",
          "SGP",
          "SGP",
          "SGP",
          "SGP",
          "SGP",
          "SGP",
          "SGP",
          "SGP",
          "SGP",
          "SGP",
          "SGP",
          "SGP",
          "SGP",
          "SGP",
          "SGP"
         ],
         "legendgroup": "SGP",
         "marker": {
          "color": "#19d3f3",
          "size": [
           317,
           309,
           204,
           216,
           245,
           121,
           202,
           44,
           55,
           13,
           28,
           15,
           7,
           0,
           0,
           0,
           0,
           0
          ],
          "sizemode": "area",
          "sizeref": 0.0599,
          "symbol": "circle"
         },
         "mode": "markers",
         "name": "SGP",
         "orientation": "h",
         "showlegend": true,
         "type": "scatter",
         "x": [
          19,
          15,
          12,
          6,
          5,
          4,
          3,
          2,
          2,
          1,
          0,
          0,
          0,
          0,
          0,
          0,
          0,
          0
         ],
         "xaxis": "x",
         "y": [
          "Amjad Mahboob ",
          "Janak Prakash ",
          "S Vijayakumar ",
          "Sidhant Singh ",
          "V Baskaran ",
          "A Krishna ",
          "TH David ",
          "AG Achar ",
          "NMS Param ",
          "CR Suryawanshi ",
          "U Aryaman Sunil ",
          "Avi Dixit ",
          "R Rohan ",
          "Aritra Dutta ",
          "S Chandramohan ",
          "R Gaznavi ",
          "Manpreet Singh ",
          "AE Paraam "
         ],
         "yaxis": "y"
        },
        {
         "hovertemplate": "<b>%{hovertext}</b><br><br>Final Region=GER<br>End=2019<br>Wkts=%{x}<br>Player=%{y}<br>Runs=%{marker.size}<extra></extra>",
         "hovertext": [
          "GER",
          "GER",
          "GER",
          "GER",
          "GER",
          "GER",
          "GER",
          "GER",
          "GER",
          "GER",
          "GER",
          "GER",
          "GER",
          "GER",
          "GER",
          "GER",
          "GER",
          "GER"
         ],
         "ids": [
          "GER",
          "GER",
          "GER",
          "GER",
          "GER",
          "GER",
          "GER",
          "GER",
          "GER",
          "GER",
          "GER",
          "GER",
          "GER",
          "GER",
          "GER",
          "GER",
          "GER",
          "GER"
         ],
         "legendgroup": "GER",
         "marker": {
          "color": "#FF6692",
          "size": [
           170,
           101,
           119,
           115,
           52,
           44,
           72,
           57,
           158,
           0,
           0,
           0,
           0,
           0,
           0,
           0,
           0,
           0
          ],
          "sizemode": "area",
          "sizeref": 0.0599,
          "symbol": "circle"
         },
         "mode": "markers",
         "name": "GER",
         "orientation": "h",
         "showlegend": true,
         "type": "scatter",
         "x": [
          14,
          7,
          7,
          6,
          4,
          2,
          2,
          1,
          1,
          0,
          0,
          0,
          0,
          0,
          0,
          0,
          0,
          0
         ],
         "xaxis": "x",
         "y": [
          "Ahmed Wardak ",
          "Abdul-Shakoor Rahimzei ",
          "Muslim Yar ",
          "CAJ Meschede ",
          "Sahir Naqash ",
          "V Ganesan ",
          "Sajid Liaqat ",
          "Amir Mangal ",
          "Asad Mohammad ",
          "VB Chikkannaiah ",
          "Mudassar Muhammad ",
          "R Pillai ",
          "MJ Richardson ",
          "A Sarma ",
          "H Singh ",
          "H Srinivasan ",
          "Talha Khan ",
          "D Weston "
         ],
         "yaxis": "y"
        },
        {
         "hovertemplate": "<b>%{hovertext}</b><br><br>Final Region=MWI<br>End=2019<br>Wkts=%{x}<br>Player=%{y}<br>Runs=%{marker.size}<extra></extra>",
         "hovertext": [
          "MWI",
          "MWI",
          "MWI",
          "MWI",
          "MWI",
          "MWI",
          "MWI",
          "MWI",
          "MWI",
          "MWI",
          "MWI",
          "MWI",
          "MWI",
          "MWI",
          "MWI",
          "MWI"
         ],
         "ids": [
          "MWI",
          "MWI",
          "MWI",
          "MWI",
          "MWI",
          "MWI",
          "MWI",
          "MWI",
          "MWI",
          "MWI",
          "MWI",
          "MWI",
          "MWI",
          "MWI",
          "MWI",
          "MWI"
         ],
         "legendgroup": "MWI",
         "marker": {
          "color": "#B6E880",
          "size": [
           164,
           160,
           76,
           51,
           83,
           106,
           56,
           104,
           60,
           15,
           19,
           0,
           0,
           0,
           0,
           0
          ],
          "sizemode": "area",
          "sizeref": 0.0599,
          "symbol": "circle"
         },
         "mode": "markers",
         "name": "MWI",
         "orientation": "h",
         "showlegend": true,
         "type": "scatter",
         "x": [
          14,
          11,
          6,
          6,
          5,
          5,
          4,
          2,
          1,
          0,
          0,
          0,
          0,
          0,
          0,
          0
         ],
         "xaxis": "x",
         "y": [
          "Sami Sohail ",
          "MA Baig ",
          "M Abdulla ",
          "Irfan Bhima ",
          "MIA Patel ",
          "Usama Master ",
          "GM Ntambalika ",
          "HH Patel ",
          "D Kansonkho ",
          "G Kansonkho ",
          "A Patel ",
          "C Chete ",
          "Mohammed Nurji ",
          "Muhammad Khurram ",
          "M Mwamadi ",
          "F Nkhoma "
         ],
         "yaxis": "y"
        },
        {
         "hovertemplate": "<b>%{hovertext}</b><br><br>Final Region=MAL<br>End=2019<br>Wkts=%{x}<br>Player=%{y}<br>Runs=%{marker.size}<extra></extra>",
         "hovertext": [
          "MAL",
          "MAL",
          "MAL",
          "MAL",
          "MAL",
          "MAL",
          "MAL",
          "MAL",
          "MAL",
          "MAL",
          "MAL",
          "MAL",
          "MAL",
          "MAL",
          "MAL",
          "MAL",
          "MAL",
          "MAL",
          "MAL",
          "MAL",
          "MAL"
         ],
         "ids": [
          "MAL",
          "MAL",
          "MAL",
          "MAL",
          "MAL",
          "MAL",
          "MAL",
          "MAL",
          "MAL",
          "MAL",
          "MAL",
          "MAL",
          "MAL",
          "MAL",
          "MAL",
          "MAL",
          "MAL",
          "MAL",
          "MAL",
          "MAL",
          "MAL"
         ],
         "legendgroup": "MAL",
         "marker": {
          "color": "#FF97FF",
          "size": [
           312,
           249,
           117,
           127,
           260,
           114,
           166,
           187,
           100,
           64,
           135,
           19,
           0,
           0,
           0,
           0,
           0,
           0,
           0,
           0,
           0
          ],
          "sizemode": "area",
          "sizeref": 0.0599,
          "symbol": "circle"
         },
         "mode": "markers",
         "name": "MAL",
         "orientation": "h",
         "showlegend": true,
         "type": "scatter",
         "x": [
          13,
          13,
          11,
          11,
          9,
          5,
          4,
          4,
          3,
          3,
          3,
          0,
          0,
          0,
          0,
          0,
          0,
          0,
          0,
          0,
          0
         ],
         "xaxis": "x",
         "y": [
          "Fitri Sham ",
          "Pavandeep Singh ",
          "Anwar Rahman ",
          "Muhamad Syahadat ",
          "S Muniandy ",
          "Muhammad Wafiq ",
          "Nazril Rahman ",
          "Syed Aziz ",
          "NCK Liyanage ",
          "Syazrul Idrus ",
          "Virandeep Singh ",
          "Mohamed Arief ",
          "Ahmed Faiz ",
          "Ainool Hafizs ",
          "Ainool Haqqiem ",
          "Anwar Arudin ",
          "Muhammad Amir ",
          "Aminuddin Ramly ",
          "Shafiq Sharif ",
          "P Syafiq Ali ",
          "Zubaidi Zulkifle "
         ],
         "yaxis": "y"
        },
        {
         "hovertemplate": "<b>%{hovertext}</b><br><br>Final Region=BMUDA<br>End=2019<br>Wkts=%{x}<br>Player=%{y}<br>Runs=%{marker.size}<extra></extra>",
         "hovertext": [
          "BMUDA",
          "BMUDA",
          "BMUDA",
          "BMUDA",
          "BMUDA",
          "BMUDA",
          "BMUDA",
          "BMUDA",
          "BMUDA",
          "BMUDA",
          "BMUDA",
          "BMUDA",
          "BMUDA",
          "BMUDA",
          "BMUDA",
          "BMUDA",
          "BMUDA"
         ],
         "ids": [
          "BMUDA",
          "BMUDA",
          "BMUDA",
          "BMUDA",
          "BMUDA",
          "BMUDA",
          "BMUDA",
          "BMUDA",
          "BMUDA",
          "BMUDA",
          "BMUDA",
          "BMUDA",
          "BMUDA",
          "BMUDA",
          "BMUDA",
          "BMUDA",
          "BMUDA"
         ],
         "legendgroup": "BMUDA",
         "marker": {
          "color": "#FECB52",
          "size": [
           232,
           210,
           117,
           277,
           30,
           285,
           116,
           126,
           84,
           50,
           62,
           14,
           21,
           0,
           0,
           0,
           0
          ],
          "sizemode": "area",
          "sizeref": 0.0599,
          "symbol": "circle"
         },
         "mode": "markers",
         "name": "BMUDA",
         "orientation": "h",
         "showlegend": true,
         "type": "scatter",
         "x": [
          13,
          9,
          8,
          8,
          5,
          5,
          4,
          4,
          1,
          1,
          1,
          0,
          0,
          0,
          0,
          0,
          0
         ],
         "xaxis": "x",
         "y": [
          "GH O'Brien ",
          "KS Leverock ",
          "OGL Bascome ",
          "RJ Trott ",
          "AC Douglas ",
          "DMW Rawlins ",
          "MO Jones ",
          "DC Stovell ",
          "DL Brangman ",
          "JE Pitcher ",
          "JJ Tucker ",
          "DAP Darrell ",
          "M Simmons ",
          "O Bascome ",
          "OO Bascome ",
          "TS Fray ",
          "S Smith "
         ],
         "yaxis": "y"
        },
        {
         "hovertemplate": "<b>%{hovertext}</b><br><br>Final Region=ITA<br>End=2019<br>Wkts=%{x}<br>Player=%{y}<br>Runs=%{marker.size}<extra></extra>",
         "hovertext": [
          "ITA",
          "ITA",
          "ITA",
          "ITA",
          "ITA",
          "ITA",
          "ITA",
          "ITA",
          "ITA",
          "ITA",
          "ITA",
          "ITA",
          "ITA",
          "ITA",
          "ITA"
         ],
         "ids": [
          "ITA",
          "ITA",
          "ITA",
          "ITA",
          "ITA",
          "ITA",
          "ITA",
          "ITA",
          "ITA",
          "ITA",
          "ITA",
          "ITA",
          "ITA",
          "ITA",
          "ITA"
         ],
         "legendgroup": "ITA",
         "marker": {
          "color": "#636efa",
          "size": [
           127,
           191,
           147,
           152,
           120,
           42,
           35,
           53,
           0,
           0,
           0,
           0,
           0,
           0,
           0
          ],
          "sizemode": "area",
          "sizeref": 0.0599,
          "symbol": "circle"
         },
         "mode": "markers",
         "name": "ITA",
         "orientation": "h",
         "showlegend": true,
         "type": "scatter",
         "x": [
          12,
          9,
          8,
          7,
          7,
          2,
          1,
          1,
          0,
          0,
          0,
          0,
          0,
          0,
          0
         ],
         "xaxis": "x",
         "y": [
          "Baljit Singh ",
          "GRD Munasinghe ",
          "Rakibul Hasan ",
          "NA Maiolo ",
          "MJ Ross ",
          "S Arachchige ",
          "Charanjeet Singh ",
          "Jaspreet Singh ",
          "Anam Mollik ",
          "Fida Hussain ",
          "Manpreet Singh ",
          "GP Meade ",
          "BBJL Perera ",
          "Rehman Abdul ",
          "Simranjit Singh "
         ],
         "yaxis": "y"
        },
        {
         "hovertemplate": "<b>%{hovertext}</b><br><br>Final Region=GUE<br>End=2019<br>Wkts=%{x}<br>Player=%{y}<br>Runs=%{marker.size}<extra></extra>",
         "hovertext": [
          "GUE",
          "GUE",
          "GUE",
          "GUE",
          "GUE",
          "GUE",
          "GUE",
          "GUE",
          "GUE",
          "GUE",
          "GUE",
          "GUE",
          "GUE",
          "GUE",
          "GUE",
          "GUE"
         ],
         "ids": [
          "GUE",
          "GUE",
          "GUE",
          "GUE",
          "GUE",
          "GUE",
          "GUE",
          "GUE",
          "GUE",
          "GUE",
          "GUE",
          "GUE",
          "GUE",
          "GUE",
          "GUE",
          "GUE"
         ],
         "legendgroup": "GUE",
         "marker": {
          "color": "#EF553B",
          "size": [
           207,
           211,
           198,
           59,
           152,
           93,
           76,
           44,
           32,
           15,
           0,
           0,
           0,
           0,
           0,
           0
          ],
          "sizemode": "area",
          "sizeref": 0.0599,
          "symbol": "circle"
         },
         "mode": "markers",
         "name": "GUE",
         "orientation": "h",
         "showlegend": true,
         "type": "scatter",
         "x": [
          12,
          9,
          9,
          6,
          5,
          4,
          3,
          2,
          1,
          0,
          0,
          0,
          0,
          0,
          0,
          0
         ],
         "xaxis": "x",
         "y": [
          "LC Le Tissier ",
          "DR Hooper ",
          "WA Peatfield ",
          "JL Martel ",
          "ACF Stokes ",
          "TCW Veillard ",
          "N Buckle ",
          "L Nussbaumer ",
          "C Vorster ",
          "J Butler ",
          "LJ Barker ",
          "LB Ferbrache ",
          "TCR Kimber ",
          "OE Newey ",
          "MWR Stokes ",
          "AS Wright "
         ],
         "yaxis": "y"
        },
        {
         "hovertemplate": "<b>%{hovertext}</b><br><br>Final Region=KUW<br>End=2019<br>Wkts=%{x}<br>Player=%{y}<br>Runs=%{marker.size}<extra></extra>",
         "hovertext": [
          "KUW",
          "KUW",
          "KUW",
          "KUW",
          "KUW",
          "KUW",
          "KUW",
          "KUW",
          "KUW",
          "KUW",
          "KUW",
          "KUW",
          "KUW",
          "KUW",
          "KUW",
          "KUW",
          "KUW",
          "KUW",
          "KUW",
          "KUW",
          "KUW",
          "KUW"
         ],
         "ids": [
          "KUW",
          "KUW",
          "KUW",
          "KUW",
          "KUW",
          "KUW",
          "KUW",
          "KUW",
          "KUW",
          "KUW",
          "KUW",
          "KUW",
          "KUW",
          "KUW",
          "KUW",
          "KUW",
          "KUW",
          "KUW",
          "KUW",
          "KUW",
          "KUW",
          "KUW"
         ],
         "legendgroup": "KUW",
         "marker": {
          "color": "#ab63fa",
          "size": [
           212,
           160,
           136,
           112,
           192,
           99,
           85,
           102,
           140,
           67,
           56,
           79,
           11,
           28,
           16,
           0,
           0,
           0,
           0,
           0,
           0,
           0
          ],
          "sizemode": "area",
          "sizeref": 0.0599,
          "symbol": "circle"
         },
         "mode": "markers",
         "name": "KUW",
         "orientation": "h",
         "showlegend": true,
         "type": "scatter",
         "x": [
          12,
          9,
          7,
          4,
          4,
          4,
          3,
          3,
          3,
          1,
          1,
          1,
          0,
          0,
          0,
          0,
          0,
          0,
          0,
          0,
          0,
          0
         ],
         "xaxis": "x",
         "y": [
          "Muhammad Kashif ",
          "Ilyas Ahmed ",
          "Imran Ali ",
          "Jandu Hamoud ",
          "Mohammad Ahsan ",
          "MM Sarwar ",
          "MNM Aslam ",
          "UKPW Kumaranayaka ",
          "Shiraz Khan ",
          "Adnan Idrees ",
          "Fiaz Ahmad ",
          "A Makesh ",
          "Meet Bhavsar ",
          "Mohammed Asghar ",
          "Nawaf Ahmed ",
          "Bilal Tahir ",
          "Mohammad Amin ",
          "R Sandaruwan ",
          "D Sheeli ",
          "Usman Waheed ",
          "S Varathappan ",
          "Yasar Idrees "
         ],
         "yaxis": "y"
        },
        {
         "hovertemplate": "<b>%{hovertext}</b><br><br>Final Region=USA<br>End=2019<br>Wkts=%{x}<br>Player=%{y}<br>Runs=%{marker.size}<extra></extra>",
         "hovertext": [
          "USA",
          "USA",
          "USA",
          "USA",
          "USA",
          "USA",
          "USA",
          "USA",
          "USA",
          "USA",
          "USA",
          "USA",
          "USA",
          "USA",
          "USA",
          "USA"
         ],
         "ids": [
          "USA",
          "USA",
          "USA",
          "USA",
          "USA",
          "USA",
          "USA",
          "USA",
          "USA",
          "USA",
          "USA",
          "USA",
          "USA",
          "USA",
          "USA",
          "USA"
         ],
         "legendgroup": "USA",
         "marker": {
          "color": "#FFA15A",
          "size": [
           146,
           257,
           70,
           140,
           61,
           161,
           67,
           70,
           28,
           28,
           20,
           19,
           0,
           0,
           0,
           0
          ],
          "sizemode": "area",
          "sizeref": 0.0599,
          "symbol": "circle"
         },
         "mode": "markers",
         "name": "USA",
         "orientation": "h",
         "showlegend": true,
         "type": "scatter",
         "x": [
          11,
          10,
          8,
          7,
          5,
          4,
          3,
          3,
          2,
          1,
          0,
          0,
          0,
          0,
          0,
          0
         ],
         "xaxis": "x",
         "y": [
          "TK Patel ",
          "HR Walsh ",
          "K Gore ",
          "Jasdeep Singh ",
          "NK Patel ",
          "SN Netravalkar ",
          "CJ Gannon ",
          "SR Taylor ",
          "Aaron Jones ",
          "TP Allen ",
          "EH Hutchinson ",
          "KRP Silva ",
          "JS Malhotra ",
          "XM Marshall ",
          "MD Patel ",
          "S Sohal "
         ],
         "yaxis": "y"
        },
        {
         "hovertemplate": "<b>%{hovertext}</b><br><br>Final Region=ESP<br>End=2019<br>Wkts=%{x}<br>Player=%{y}<br>Runs=%{marker.size}<extra></extra>",
         "hovertext": [
          "ESP",
          "ESP",
          "ESP",
          "ESP",
          "ESP",
          "ESP",
          "ESP",
          "ESP",
          "ESP",
          "ESP",
          "ESP",
          "ESP",
          "ESP",
          "ESP",
          "ESP",
          "ESP",
          "ESP",
          "ESP"
         ],
         "ids": [
          "ESP",
          "ESP",
          "ESP",
          "ESP",
          "ESP",
          "ESP",
          "ESP",
          "ESP",
          "ESP",
          "ESP",
          "ESP",
          "ESP",
          "ESP",
          "ESP",
          "ESP",
          "ESP",
          "ESP",
          "ESP"
         ],
         "legendgroup": "ESP",
         "marker": {
          "color": "#19d3f3",
          "size": [
           154,
           86,
           143,
           105,
           139,
           48,
           52,
           41,
           36,
           60,
           100,
           32,
           22,
           9,
           0,
           0,
           0,
           0
          ],
          "sizemode": "area",
          "sizeref": 0.0599,
          "symbol": "circle"
         },
         "mode": "markers",
         "name": "ESP",
         "orientation": "h",
         "showlegend": true,
         "type": "scatter",
         "x": [
          9,
          9,
          8,
          8,
          7,
          5,
          5,
          3,
          3,
          3,
          2,
          1,
          0,
          0,
          0,
          0,
          0,
          0
         ],
         "xaxis": "x",
         "y": [
          "Atif Mehmood ",
          "PD Hennessy ",
          "Faran Afzal ",
          "TC Vine ",
          "R Panchal ",
          "Tauqeer Hussain ",
          "Yasir Ali ",
          "J Perman ",
          "Raja Adeel ",
          "Zulqarnain Haider ",
          "Kuldeep Lal ",
          "NH Naureen ",
          "Hamza Dar ",
          "Muhammad Asjed ",
          "Awais Ahmed ",
          "Mukhtiar Singh ",
          "C Munoz-Mills ",
          "Vinod Kumar "
         ],
         "yaxis": "y"
        },
        {
         "hovertemplate": "<b>%{hovertext}</b><br><br>Final Region=DEN<br>End=2019<br>Wkts=%{x}<br>Player=%{y}<br>Runs=%{marker.size}<extra></extra>",
         "hovertext": [
          "DEN",
          "DEN",
          "DEN",
          "DEN",
          "DEN",
          "DEN",
          "DEN",
          "DEN",
          "DEN",
          "DEN",
          "DEN",
          "DEN",
          "DEN",
          "DEN",
          "DEN",
          "DEN",
          "DEN",
          "DEN",
          "DEN"
         ],
         "ids": [
          "DEN",
          "DEN",
          "DEN",
          "DEN",
          "DEN",
          "DEN",
          "DEN",
          "DEN",
          "DEN",
          "DEN",
          "DEN",
          "DEN",
          "DEN",
          "DEN",
          "DEN",
          "DEN",
          "DEN",
          "DEN",
          "DEN"
         ],
         "legendgroup": "DEN",
         "marker": {
          "color": "#FF6692",
          "size": [
           113,
           105,
           76,
           129,
           86,
           40,
           11,
           14,
           98,
           40,
           12,
           9,
           11,
           0,
           0,
           0,
           0,
           0,
           0
          ],
          "sizemode": "area",
          "sizeref": 0.0599,
          "symbol": "circle"
         },
         "mode": "markers",
         "name": "DEN",
         "orientation": "h",
         "showlegend": true,
         "type": "scatter",
         "x": [
          9,
          9,
          7,
          7,
          5,
          4,
          3,
          2,
          2,
          2,
          1,
          0,
          0,
          0,
          0,
          0,
          0,
          0,
          0
         ],
         "xaxis": "x",
         "y": [
          "OD Hald ",
          "ND Laegsgaard ",
          "Bashir Shah ",
          "Delawar Khan ",
          "HAM Shah ",
          "SA Ahmad ",
          "Musa Shaheen ",
          "Anique Uddin ",
          "J Jojo ",
          "Lucky Ali ",
          "I Sawmy ",
          "Abdullah Mahmood ",
          "Omar Hayat ",
          "Abdul Hashmi ",
          "TS Bharaj ",
          "A Bulow ",
          "Rizwan Mahmood ",
          "Zameer Khan ",
          "Zishan Shah "
         ],
         "yaxis": "y"
        },
        {
         "hovertemplate": "<b>%{hovertext}</b><br><br>Final Region=CZK-R<br>End=2019<br>Wkts=%{x}<br>Player=%{y}<br>Runs=%{marker.size}<extra></extra>",
         "hovertext": [
          "CZK-R",
          "CZK-R",
          "CZK-R",
          "CZK-R",
          "CZK-R",
          "CZK-R",
          "CZK-R",
          "CZK-R",
          "CZK-R",
          "CZK-R",
          "CZK-R",
          "CZK-R",
          "CZK-R",
          "CZK-R",
          "CZK-R"
         ],
         "ids": [
          "CZK-R",
          "CZK-R",
          "CZK-R",
          "CZK-R",
          "CZK-R",
          "CZK-R",
          "CZK-R",
          "CZK-R",
          "CZK-R",
          "CZK-R",
          "CZK-R",
          "CZK-R",
          "CZK-R",
          "CZK-R",
          "CZK-R"
         ],
         "legendgroup": "CZK-R",
         "marker": {
          "color": "#B6E880",
          "size": [
           133,
           144,
           23,
           103,
           78,
           66,
           93,
           99,
           56,
           22,
           16,
           0,
           0,
           0,
           0
          ],
          "sizemode": "area",
          "sizeref": 0.0599,
          "symbol": "circle"
         },
         "mode": "markers",
         "name": "CZK-R",
         "orientation": "h",
         "showlegend": true,
         "type": "scatter",
         "x": [
          8,
          8,
          6,
          5,
          4,
          4,
          3,
          2,
          1,
          1,
          0,
          0,
          0,
          0,
          0
         ],
         "xaxis": "x",
         "y": [
          "H Gori ",
          "P Taylor ",
          "S Davizi ",
          "Arshad Hayat ",
          "K Mendon ",
          "SMK Waththage ",
          "S Wickramasekara ",
          "S Rakshit ",
          "Naveed Ahmed ",
          "S Pokhriyal ",
          "A Ashokan ",
          "S Dalton ",
          "S Goud ",
          "Hilal Ahmad ",
          "EB Knowles "
         ],
         "yaxis": "y"
        },
        {
         "hovertemplate": "<b>%{hovertext}</b><br><br>Final Region=ROM<br>End=2019<br>Wkts=%{x}<br>Player=%{y}<br>Runs=%{marker.size}<extra></extra>",
         "hovertext": [
          "ROM",
          "ROM",
          "ROM",
          "ROM",
          "ROM",
          "ROM",
          "ROM",
          "ROM",
          "ROM",
          "ROM",
          "ROM",
          "ROM",
          "ROM",
          "ROM",
          "ROM",
          "ROM"
         ],
         "ids": [
          "ROM",
          "ROM",
          "ROM",
          "ROM",
          "ROM",
          "ROM",
          "ROM",
          "ROM",
          "ROM",
          "ROM",
          "ROM",
          "ROM",
          "ROM",
          "ROM",
          "ROM",
          "ROM"
         ],
         "legendgroup": "ROM",
         "marker": {
          "color": "#FF97FF",
          "size": [
           44,
           98,
           10,
           89,
           4,
           4,
           63,
           31,
           27,
           10,
           4,
           0,
           0,
           0,
           0,
           0
          ],
          "sizemode": "area",
          "sizeref": 0.0599,
          "symbol": "circle"
         },
         "mode": "markers",
         "name": "ROM",
         "orientation": "h",
         "showlegend": true,
         "type": "scatter",
         "x": [
          8,
          5,
          3,
          3,
          3,
          3,
          2,
          2,
          0,
          0,
          0,
          0,
          0,
          0,
          0,
          0
         ],
         "xaxis": "x",
         "y": [
          "R Satheesan ",
          "R Kumar ",
          "P Florin ",
          "Ijaz Hussain ",
          "R Pisal ",
          "C Zavoiu ",
          "Sadeeq Khan ",
          "S Vashisht ",
          "D Manani ",
          "S Nadigotla ",
          "S Periyalwar ",
          "Abdul Shakoor ",
          "P Danci ",
          "L Gharasim ",
          "Imran Haider ",
          "G Manan "
         ],
         "yaxis": "y"
        },
        {
         "hovertemplate": "<b>%{hovertext}</b><br><br>Final Region=UGA<br>End=2019<br>Wkts=%{x}<br>Player=%{y}<br>Runs=%{marker.size}<extra></extra>",
         "hovertext": [
          "UGA",
          "UGA",
          "UGA",
          "UGA",
          "UGA",
          "UGA",
          "UGA",
          "UGA",
          "UGA",
          "UGA",
          "UGA",
          "UGA",
          "UGA",
          "UGA"
         ],
         "ids": [
          "UGA",
          "UGA",
          "UGA",
          "UGA",
          "UGA",
          "UGA",
          "UGA",
          "UGA",
          "UGA",
          "UGA",
          "UGA",
          "UGA",
          "UGA",
          "UGA"
         ],
         "legendgroup": "UGA",
         "marker": {
          "color": "#FECB52",
          "size": [
           115,
           93,
           48,
           14,
           46,
           53,
           35,
           58,
           40,
           8,
           0,
           0,
           0,
           0
          ],
          "sizemode": "area",
          "sizeref": 0.0599,
          "symbol": "circle"
         },
         "mode": "markers",
         "name": "UGA",
         "orientation": "h",
         "showlegend": true,
         "type": "scatter",
         "x": [
          8,
          5,
          3,
          2,
          2,
          1,
          1,
          1,
          0,
          0,
          0,
          0,
          0,
          0
         ],
         "xaxis": "x",
         "y": [
          "C Waiswa ",
          "DM Nakrani ",
          "H Ssenyondo ",
          "B Masaba ",
          "F Nsubuga ",
          "E Isaneez ",
          "D Muhumuza ",
          "Riazat Ali Shah ",
          "RG Mukasa ",
          "R Olipa ",
          "F Achelam ",
          "Z Arinaitwe ",
          "HB Kayondo ",
          "A Otwani "
         ],
         "yaxis": "y"
        },
        {
         "hovertemplate": "<b>%{hovertext}</b><br><br>Final Region=LUX<br>End=2019<br>Wkts=%{x}<br>Player=%{y}<br>Runs=%{marker.size}<extra></extra>",
         "hovertext": [
          "LUX",
          "LUX",
          "LUX",
          "LUX",
          "LUX",
          "LUX",
          "LUX",
          "LUX",
          "LUX",
          "LUX",
          "LUX",
          "LUX",
          "LUX",
          "LUX"
         ],
         "ids": [
          "LUX",
          "LUX",
          "LUX",
          "LUX",
          "LUX",
          "LUX",
          "LUX",
          "LUX",
          "LUX",
          "LUX",
          "LUX",
          "LUX",
          "LUX",
          "LUX"
         ],
         "legendgroup": "LUX",
         "marker": {
          "color": "#636efa",
          "size": [
           47,
           61,
           45,
           90,
           93,
           62,
           30,
           38,
           72,
           0,
           0,
           0,
           0,
           0
          ],
          "sizemode": "area",
          "sizeref": 0.0599,
          "symbol": "circle"
         },
         "mode": "markers",
         "name": "LUX",
         "orientation": "h",
         "showlegend": true,
         "type": "scatter",
         "x": [
          7,
          3,
          3,
          2,
          1,
          1,
          1,
          1,
          0,
          0,
          0,
          0,
          0,
          0
         ],
         "xaxis": "x",
         "y": [
          "A Nanda ",
          "M Cope ",
          "Suhail Sadiq ",
          "Atif Kamal ",
          "M Dixit ",
          "C Fry ",
          "R Neale ",
          "T Whiteman ",
          "V Vijh ",
          "J Barker ",
          "TC Barker ",
          "J Mees ",
          "G Venkateswaran ",
          "R Vishwanath "
         ],
         "yaxis": "y"
        },
        {
         "hovertemplate": "<b>%{hovertext}</b><br><br>Final Region=NGA<br>End=2019<br>Wkts=%{x}<br>Player=%{y}<br>Runs=%{marker.size}<extra></extra>",
         "hovertext": [
          "NGA",
          "NGA",
          "NGA",
          "NGA",
          "NGA",
          "NGA",
          "NGA",
          "NGA",
          "NGA",
          "NGA",
          "NGA",
          "NGA",
          "NGA",
          "NGA",
          "NGA",
          "NGA",
          "NGA",
          "NGA"
         ],
         "ids": [
          "NGA",
          "NGA",
          "NGA",
          "NGA",
          "NGA",
          "NGA",
          "NGA",
          "NGA",
          "NGA",
          "NGA",
          "NGA",
          "NGA",
          "NGA",
          "NGA",
          "NGA",
          "NGA",
          "NGA",
          "NGA"
         ],
         "legendgroup": "NGA",
         "marker": {
          "color": "#EF553B",
          "size": [
           135,
           151,
           188,
           94,
           76,
           52,
           87,
           65,
           41,
           23,
           44,
           7,
           21,
           0,
           0,
           0,
           0,
           0
          ],
          "sizemode": "area",
          "sizeref": 0.0599,
          "symbol": "circle"
         },
         "mode": "markers",
         "name": "NGA",
         "orientation": "h",
         "showlegend": true,
         "type": "scatter",
         "x": [
          6,
          6,
          6,
          6,
          4,
          4,
          3,
          2,
          2,
          2,
          1,
          0,
          0,
          0,
          0,
          0,
          0,
          0
         ],
         "xaxis": "x",
         "y": [
          "VD Adewoye ",
          "CM Akachukwu ",
          "IO Okpe ",
          "SA Okpe ",
          "D Ajekun ",
          "I Danladi ",
          "AS Abioye ",
          "D Gim ",
          "Mohameed Taiwo ",
          "SI Runsewe ",
          "AM Oyede ",
          "RA Abolarin ",
          "S Adedeji ",
          "AJ Ayannaike ",
          "Gershon Yusuf ",
          "AA Onikoyi ",
          "CN Onwuzulike ",
          "Ovais Yousof "
         ],
         "yaxis": "y"
        },
        {
         "hovertemplate": "<b>%{hovertext}</b><br><br>Final Region=THAI<br>End=2019<br>Wkts=%{x}<br>Player=%{y}<br>Runs=%{marker.size}<extra></extra>",
         "hovertext": [
          "THAI",
          "THAI",
          "THAI",
          "THAI",
          "THAI",
          "THAI",
          "THAI",
          "THAI",
          "THAI",
          "THAI",
          "THAI",
          "THAI",
          "THAI"
         ],
         "ids": [
          "THAI",
          "THAI",
          "THAI",
          "THAI",
          "THAI",
          "THAI",
          "THAI",
          "THAI",
          "THAI",
          "THAI",
          "THAI",
          "THAI",
          "THAI"
         ],
         "legendgroup": "THAI",
         "marker": {
          "color": "#00cc96",
          "size": [
           103,
           26,
           51,
           90,
           60,
           35,
           25,
           25,
           12,
           58,
           29,
           0,
           0
          ],
          "sizemode": "area",
          "sizeref": 0.0599,
          "symbol": "circle"
         },
         "mode": "markers",
         "name": "THAI",
         "orientation": "h",
         "showlegend": true,
         "type": "scatter",
         "x": [
          6,
          4,
          3,
          3,
          2,
          1,
          1,
          0,
          0,
          0,
          0,
          0,
          0
         ],
         "xaxis": "x",
         "y": [
          "M Faheem ",
          "DF Jacobs ",
          "Z Hoque ",
          "Vichanath Singh ",
          "N Pathan ",
          "S Hongsi ",
          "Md Shafiqul Haque ",
          "Anowarul Islam ",
          "NA Janes ",
          "C Pengkumta ",
          "K Senamontree ",
          "HJ Jordaan ",
          "K Suttisan "
         ],
         "yaxis": "y"
        },
        {
         "hovertemplate": "<b>%{hovertext}</b><br><br>Final Region=GIBR<br>End=2019<br>Wkts=%{x}<br>Player=%{y}<br>Runs=%{marker.size}<extra></extra>",
         "hovertext": [
          "GIBR",
          "GIBR",
          "GIBR",
          "GIBR",
          "GIBR",
          "GIBR",
          "GIBR",
          "GIBR",
          "GIBR",
          "GIBR",
          "GIBR",
          "GIBR",
          "GIBR",
          "GIBR"
         ],
         "ids": [
          "GIBR",
          "GIBR",
          "GIBR",
          "GIBR",
          "GIBR",
          "GIBR",
          "GIBR",
          "GIBR",
          "GIBR",
          "GIBR",
          "GIBR",
          "GIBR",
          "GIBR",
          "GIBR"
         ],
         "legendgroup": "GIBR",
         "marker": {
          "color": "#ab63fa",
          "size": [
           82,
           63,
           51,
           79,
           12,
           12,
           22,
           33,
           54,
           7,
           0,
           0,
           0,
           0
          ],
          "sizemode": "area",
          "sizeref": 0.0599,
          "symbol": "circle"
         },
         "mode": "markers",
         "name": "GIBR",
         "orientation": "h",
         "showlegend": true,
         "type": "scatter",
         "x": [
          6,
          4,
          2,
          2,
          1,
          1,
          0,
          0,
          0,
          0,
          0,
          0,
          0,
          0
         ],
         "xaxis": "x",
         "y": [
          "BA Pai ",
          "MG Hunter ",
          "MO Bacarese ",
          "E Packard ",
          "N Advani ",
          "MD Garratt ",
          "JA Fitzgerald ",
          "RJ Hatchman ",
          "K Nestor ",
          "A Orfila ",
          "T Caruana ",
          "LA Collado ",
          "CJ Delany ",
          "JD Freyone "
         ],
         "yaxis": "y"
        },
        {
         "hovertemplate": "<b>%{hovertext}</b><br><br>Final Region=PORT<br>End=2019<br>Wkts=%{x}<br>Player=%{y}<br>Runs=%{marker.size}<extra></extra>",
         "hovertext": [
          "PORT",
          "PORT",
          "PORT",
          "PORT",
          "PORT",
          "PORT",
          "PORT",
          "PORT",
          "PORT",
          "PORT",
          "PORT",
          "PORT"
         ],
         "ids": [
          "PORT",
          "PORT",
          "PORT",
          "PORT",
          "PORT",
          "PORT",
          "PORT",
          "PORT",
          "PORT",
          "PORT",
          "PORT",
          "PORT"
         ],
         "legendgroup": "PORT",
         "marker": {
          "color": "#FFA15A",
          "size": [
           70,
           65,
           86,
           65,
           85,
           51,
           13,
           0,
           0,
           0,
           0,
           0
          ],
          "sizemode": "area",
          "sizeref": 0.0599,
          "symbol": "circle"
         },
         "mode": "markers",
         "name": "PORT",
         "orientation": "h",
         "showlegend": true,
         "type": "scatter",
         "x": [
          6,
          4,
          3,
          2,
          2,
          1,
          0,
          0,
          0,
          0,
          0,
          0
         ],
         "xaxis": "x",
         "y": [
          "Tariq Aziz ",
          "Najjam Shahzad ",
          "P Buccimazza ",
          "Ali Naqi ",
          "Fakhrul Mohon ",
          "Zohaib Sarwar ",
          "Imran Khan ",
          "Aamer Ikram ",
          "Arslan Ahmed ",
          "Mian Mehmood ",
          "S Singh ",
          "F Stoman "
         ],
         "yaxis": "y"
        },
        {
         "hovertemplate": "<b>%{hovertext}</b><br><br>Final Region=BAH<br>End=2019<br>Wkts=%{x}<br>Player=%{y}<br>Runs=%{marker.size}<extra></extra>",
         "hovertext": [
          "BAH",
          "BAH",
          "BAH",
          "BAH",
          "BAH",
          "BAH",
          "BAH",
          "BAH",
          "BAH",
          "BAH",
          "BAH",
          "BAH",
          "BAH"
         ],
         "ids": [
          "BAH",
          "BAH",
          "BAH",
          "BAH",
          "BAH",
          "BAH",
          "BAH",
          "BAH",
          "BAH",
          "BAH",
          "BAH",
          "BAH",
          "BAH"
         ],
         "legendgroup": "BAH",
         "marker": {
          "color": "#19d3f3",
          "size": [
           70,
           134,
           128,
           63,
           60,
           68,
           1,
           119,
           20,
           0,
           0,
           0,
           0
          ],
          "sizemode": "area",
          "sizeref": 0.0599,
          "symbol": "circle"
         },
         "mode": "markers",
         "name": "BAH",
         "orientation": "h",
         "showlegend": true,
         "type": "scatter",
         "x": [
          5,
          5,
          3,
          2,
          2,
          1,
          0,
          0,
          0,
          0,
          0,
          0,
          0
         ],
         "xaxis": "x",
         "y": [
          "Babar Ali ",
          "Imran Anwar ",
          "Tahir Dar ",
          "Muhammad Rafique ",
          "Sarfaraz Ali ",
          "Qasim Zia ",
          "Ammad Uddin ",
          "Anasim Khan ",
          "Zeeshan Abbas ",
          "Adil Hanif ",
          "Fiaz Ahmed ",
          "Imran Ali Butt ",
          "Shahbaz Badar "
         ],
         "yaxis": "y"
        },
        {
         "hovertemplate": "<b>%{hovertext}</b><br><br>Final Region=NOR<br>End=2019<br>Wkts=%{x}<br>Player=%{y}<br>Runs=%{marker.size}<extra></extra>",
         "hovertext": [
          "NOR",
          "NOR",
          "NOR",
          "NOR",
          "NOR",
          "NOR",
          "NOR",
          "NOR",
          "NOR",
          "NOR",
          "NOR",
          "NOR",
          "NOR",
          "NOR"
         ],
         "ids": [
          "NOR",
          "NOR",
          "NOR",
          "NOR",
          "NOR",
          "NOR",
          "NOR",
          "NOR",
          "NOR",
          "NOR",
          "NOR",
          "NOR",
          "NOR",
          "NOR"
         ],
         "legendgroup": "NOR",
         "marker": {
          "color": "#FF6692",
          "size": [
           85,
           83,
           68,
           81,
           104,
           16,
           37,
           31,
           13,
           13,
           22,
           4,
           0,
           0
          ],
          "sizemode": "area",
          "sizeref": 0.0599,
          "symbol": "circle"
         },
         "mode": "markers",
         "name": "NOR",
         "orientation": "h",
         "showlegend": true,
         "type": "scatter",
         "x": [
          5,
          5,
          3,
          3,
          2,
          1,
          1,
          1,
          0,
          0,
          0,
          0,
          0,
          0
         ],
         "xaxis": "x",
         "y": [
          "Raza Iqbal ",
          "S Waqas Ahmed ",
          "P Bhart ",
          "Hayatullah Niazi ",
          "Junaid Sheikh ",
          "Nazakat Ali ",
          "Tafseer Ali ",
          "Walid Ghauri ",
          "Abdullah Sheikh ",
          "Ansar Iqbal ",
          "Javed Maroofkhail ",
          "E Ul Haq ",
          "P Agnihotri ",
          "Khizer Ahmed "
         ],
         "yaxis": "y"
        },
        {
         "hovertemplate": "<b>%{hovertext}</b><br><br>Final Region=PNM<br>End=2019<br>Wkts=%{x}<br>Player=%{y}<br>Runs=%{marker.size}<extra></extra>",
         "hovertext": [
          "PNM",
          "PNM",
          "PNM",
          "PNM",
          "PNM",
          "PNM",
          "PNM",
          "PNM",
          "PNM",
          "PNM",
          "PNM",
          "PNM",
          "PNM",
          "PNM"
         ],
         "ids": [
          "PNM",
          "PNM",
          "PNM",
          "PNM",
          "PNM",
          "PNM",
          "PNM",
          "PNM",
          "PNM",
          "PNM",
          "PNM",
          "PNM",
          "PNM",
          "PNM"
         ],
         "legendgroup": "PNM",
         "marker": {
          "color": "#B6E880",
          "size": [
           59,
           61,
           27,
           42,
           31,
           44,
           40,
           21,
           49,
           0,
           0,
           0,
           0,
           0
          ],
          "sizemode": "area",
          "sizeref": 0.0599,
          "symbol": "circle"
         },
         "mode": "markers",
         "name": "PNM",
         "orientation": "h",
         "showlegend": true,
         "type": "scatter",
         "x": [
          4,
          3,
          2,
          2,
          1,
          1,
          0,
          0,
          0,
          0,
          0,
          0,
          0,
          0
         ],
         "xaxis": "x",
         "y": [
          "Imran Bulbulia ",
          "KB Ratilal ",
          "DK Dahyabhai Ahir ",
          "N Dipakkumar Patel ",
          "Mahmad Data ",
          "Yusuf Ebrahim ",
          "P Bharat Patel ",
          "P Jayeshbhai Patel ",
          "A Natubhai Ahir ",
          "VD Chandra ",
          "M Patel ",
          "VM Sachdev ",
          "M Sohel Patel ",
          "Vishal Ahir "
         ],
         "yaxis": "y"
        },
        {
         "hovertemplate": "<b>%{hovertext}</b><br><br>Final Region=TKY<br>End=2019<br>Wkts=%{x}<br>Player=%{y}<br>Runs=%{marker.size}<extra></extra>",
         "hovertext": [
          "TKY",
          "TKY",
          "TKY",
          "TKY",
          "TKY",
          "TKY",
          "TKY",
          "TKY",
          "TKY",
          "TKY",
          "TKY",
          "TKY",
          "TKY"
         ],
         "ids": [
          "TKY",
          "TKY",
          "TKY",
          "TKY",
          "TKY",
          "TKY",
          "TKY",
          "TKY",
          "TKY",
          "TKY",
          "TKY",
          "TKY",
          "TKY"
         ],
         "legendgroup": "TKY",
         "marker": {
          "color": "#FF97FF",
          "size": [
           74,
           116,
           93,
           111,
           134,
           14,
           11,
           0,
           0,
           0,
           0,
           0,
           0
          ],
          "sizemode": "area",
          "sizeref": 0.0599,
          "symbol": "circle"
         },
         "mode": "markers",
         "name": "TKY",
         "orientation": "h",
         "showlegend": true,
         "type": "scatter",
         "x": [
          4,
          3,
          3,
          2,
          0,
          0,
          0,
          0,
          0,
          0,
          0,
          0,
          0
         ],
         "xaxis": "x",
         "y": [
          "S Kizilkaya ",
          "AC Kose ",
          "M Sert ",
          "T Turan ",
          "AB Dursak ",
          "S Kansoy ",
          "R Ulutuna ",
          "C Akyuz ",
          "HS Alta ",
          "O Goker ",
          "H Helva ",
          "MF Koc ",
          "T Ulutuna "
         ],
         "yaxis": "y"
        },
        {
         "hovertemplate": "<b>%{hovertext}</b><br><br>Final Region=CRC<br>End=2019<br>Wkts=%{x}<br>Player=%{y}<br>Runs=%{marker.size}<extra></extra>",
         "hovertext": [
          "CRC",
          "CRC",
          "CRC",
          "CRC",
          "CRC",
          "CRC",
          "CRC",
          "CRC",
          "CRC",
          "CRC",
          "CRC",
          "CRC"
         ],
         "ids": [
          "CRC",
          "CRC",
          "CRC",
          "CRC",
          "CRC",
          "CRC",
          "CRC",
          "CRC",
          "CRC",
          "CRC",
          "CRC",
          "CRC"
         ],
         "legendgroup": "CRC",
         "marker": {
          "color": "#FECB52",
          "size": [
           56,
           76,
           52,
           56,
           35,
           7,
           23,
           10,
           12,
           0,
           0,
           0
          ],
          "sizemode": "area",
          "sizeref": 0.0599,
          "symbol": "circle"
         },
         "mode": "markers",
         "name": "CRC",
         "orientation": "h",
         "showlegend": true,
         "type": "scatter",
         "x": [
          4,
          4,
          2,
          2,
          2,
          0,
          0,
          0,
          0,
          0,
          0,
          0
         ],
         "xaxis": "x",
         "y": [
          "S Pillai ",
          "O Sam Arthur ",
          "S Murari ",
          "S Ravikumar ",
          "Zain ul Tashnam ",
          "J Cutinho ",
          "D Mejia ",
          "Nanda Kumar ",
          "C Prasad ",
          "O Fournier ",
          "G Murali ",
          "ES Soto "
         ],
         "yaxis": "y"
        },
        {
         "hovertemplate": "<b>%{hovertext}</b><br><br>Final Region=MALTA<br>End=2019<br>Wkts=%{x}<br>Player=%{y}<br>Runs=%{marker.size}<extra></extra>",
         "hovertext": [
          "MALTA",
          "MALTA",
          "MALTA",
          "MALTA",
          "MALTA",
          "MALTA",
          "MALTA",
          "MALTA",
          "MALTA",
          "MALTA",
          "MALTA",
          "MALTA",
          "MALTA",
          "MALTA",
          "MALTA",
          "MALTA",
          "MALTA",
          "MALTA"
         ],
         "ids": [
          "MALTA",
          "MALTA",
          "MALTA",
          "MALTA",
          "MALTA",
          "MALTA",
          "MALTA",
          "MALTA",
          "MALTA",
          "MALTA",
          "MALTA",
          "MALTA",
          "MALTA",
          "MALTA",
          "MALTA",
          "MALTA",
          "MALTA",
          "MALTA"
         ],
         "legendgroup": "MALTA",
         "marker": {
          "color": "#636efa",
          "size": [
           74,
           96,
           75,
           31,
           47,
           72,
           44,
           70,
           53,
           32,
           54,
           0,
           0,
           0,
           0,
           0,
           0,
           0
          ],
          "sizemode": "area",
          "sizeref": 0.0599,
          "symbol": "circle"
         },
         "mode": "markers",
         "name": "MALTA",
         "orientation": "h",
         "showlegend": true,
         "type": "scatter",
         "x": [
          3,
          3,
          1,
          1,
          1,
          1,
          1,
          1,
          0,
          0,
          0,
          0,
          0,
          0,
          0,
          0,
          0,
          0
         ],
         "xaxis": "x",
         "y": [
          "S Appu ",
          "J Hirschi ",
          "B Arora ",
          "Haroon Mughal ",
          "N Khanna ",
          "Ravinder Singh ",
          "Suhrid Roy ",
          "Washeem Abbas ",
          "GJ Agius ",
          "Hasheem Shahzad ",
          "D Marks ",
          "SE Aquilina ",
          "S Byrne ",
          "G Chaturvedi ",
          "M Goonetilleke ",
          "N Khosla ",
          "Michael Nazir ",
          "Sumair Khan "
         ],
         "yaxis": "y"
        },
        {
         "hovertemplate": "<b>%{hovertext}</b><br><br>Final Region=PHI<br>End=2019<br>Wkts=%{x}<br>Player=%{y}<br>Runs=%{marker.size}<extra></extra>",
         "hovertext": [
          "PHI",
          "PHI",
          "PHI",
          "PHI",
          "PHI",
          "PHI",
          "PHI",
          "PHI",
          "PHI",
          "PHI",
          "PHI",
          "PHI",
          "PHI"
         ],
         "ids": [
          "PHI",
          "PHI",
          "PHI",
          "PHI",
          "PHI",
          "PHI",
          "PHI",
          "PHI",
          "PHI",
          "PHI",
          "PHI",
          "PHI",
          "PHI"
         ],
         "legendgroup": "PHI",
         "marker": {
          "color": "#EF553B",
          "size": [
           50,
           110,
           89,
           93,
           26,
           26,
           81,
           52,
           48,
           32,
           0,
           0,
           0
          ],
          "sizemode": "area",
          "sizeref": 0.0599,
          "symbol": "circle"
         },
         "mode": "markers",
         "name": "PHI",
         "orientation": "h",
         "showlegend": true,
         "type": "scatter",
         "x": [
          3,
          3,
          3,
          2,
          1,
          1,
          0,
          0,
          0,
          0,
          0,
          0,
          0
         ],
         "xaxis": "x",
         "y": [
          "J Hill ",
          "S Singh ",
          "DC Smith ",
          "R Mahajan ",
          "JH Kiani ",
          "J Long ",
          "Karweng NG ",
          "GR Russ ",
          "HER Tyler ",
          "Vimal Kumar ",
          "MP Biddappa ",
          "R Goodwin ",
          "Kuldeep Singh "
         ],
         "yaxis": "y"
        },
        {
         "hovertemplate": "<b>%{hovertext}</b><br><br>Final Region=BHU<br>End=2019<br>Wkts=%{x}<br>Player=%{y}<br>Runs=%{marker.size}<extra></extra>",
         "hovertext": [
          "BHU",
          "BHU",
          "BHU",
          "BHU",
          "BHU",
          "BHU",
          "BHU",
          "BHU",
          "BHU",
          "BHU",
          "BHU",
          "BHU",
          "BHU",
          "BHU"
         ],
         "ids": [
          "BHU",
          "BHU",
          "BHU",
          "BHU",
          "BHU",
          "BHU",
          "BHU",
          "BHU",
          "BHU",
          "BHU",
          "BHU",
          "BHU",
          "BHU",
          "BHU"
         ],
         "legendgroup": "BHU",
         "marker": {
          "color": "#00cc96",
          "size": [
           69,
           22,
           65,
           69,
           48,
           25,
           50,
           0,
           0,
           0,
           0,
           0,
           0,
           0
          ],
          "sizemode": "area",
          "sizeref": 0.0599,
          "symbol": "circle"
         },
         "mode": "markers",
         "name": "BHU",
         "orientation": "h",
         "showlegend": true,
         "type": "scatter",
         "x": [
          2,
          1,
          1,
          1,
          0,
          0,
          0,
          0,
          0,
          0,
          0,
          0,
          0,
          0
         ],
         "xaxis": "x",
         "y": [
          "K Dorji ",
          "K Nima ",
          "T Singye ",
          "J Singye ",
          "T Jamtsho ",
          "J Thinley ",
          "S Tobgay ",
          "N Chejay ",
          "S Chophel ",
          "JN Dorji ",
          "RM Dorji ",
          "U Dorji ",
          "K Loday ",
          "T Wangchuk jnr "
         ],
         "yaxis": "y"
        },
        {
         "hovertemplate": "<b>%{hovertext}</b><br><br>Final Region=2) (DEN<br>End=2019<br>Wkts=%{x}<br>Player=%{y}<br>Runs=%{marker.size}<extra></extra>",
         "hovertext": [
          "2) (DEN"
         ],
         "ids": [
          "2) (DEN"
         ],
         "legendgroup": "2) (DEN",
         "marker": {
          "color": "#FFA15A",
          "size": [
           10
          ],
          "sizemode": "area",
          "sizeref": 0.0599,
          "symbol": "circle"
         },
         "mode": "markers",
         "name": "2) (DEN",
         "orientation": "h",
         "showlegend": true,
         "type": "scatter",
         "x": [
          1
         ],
         "xaxis": "x",
         "y": [
          "Aftab Ahmed "
         ],
         "yaxis": "y"
        }
       ],
       "frames": [
        {
         "data": [
          {
           "hovertemplate": "<b>%{hovertext}</b><br><br>Final Region=SL<br>End=2019<br>Wkts=%{x}<br>Player=%{y}<br>Runs=%{marker.size}<extra></extra>",
           "hovertext": [
            "SL",
            "SL",
            "SL",
            "SL",
            "SL",
            "SL",
            "SL",
            "SL",
            "SL",
            "SL",
            "SL",
            "SL",
            "SL",
            "SL",
            "SL",
            "SL",
            "SL",
            "SL",
            "SL",
            "SL",
            "SL",
            "SL",
            "SL",
            "SL",
            "SL",
            "SL"
           ],
           "ids": [
            "SL",
            "SL",
            "SL",
            "SL",
            "SL",
            "SL",
            "SL",
            "SL",
            "SL",
            "SL",
            "SL",
            "SL",
            "SL",
            "SL",
            "SL",
            "SL",
            "SL",
            "SL",
            "SL",
            "SL",
            "SL",
            "SL",
            "SL",
            "SL",
            "SL",
            "SL"
           ],
           "legendgroup": "SL",
           "marker": {
            "color": "#636efa",
            "size": [
             2061,
             1628,
             725,
             620,
             407,
             400,
             204,
             358,
             182,
             330,
             262,
             100,
             128,
             202,
             97,
             36,
             48,
             17,
             0,
             0,
             0,
             0,
             0,
             0,
             0,
             0
            ],
            "sizemode": "area",
            "sizeref": 0.0599,
            "symbol": "circle"
           },
           "mode": "markers",
           "name": "SL",
           "orientation": "h",
           "showlegend": true,
           "type": "scatter",
           "x": [
            106,
            51,
            23,
            22,
            15,
            13,
            12,
            10,
            10,
            8,
            6,
            5,
            5,
            3,
            3,
            0,
            0,
            0,
            0,
            0,
            0,
            0,
            0,
            0,
            0,
            0
           ],
           "xaxis": "x",
           "y": [
            "SL Malinga ",
            "NLTC Perera ",
            "I Udana ",
            "A Dananjaya ",
            "N Pradeep ",
            "PADLR Sandakan ",
            "PWH de Silva ",
            "CAK Rajitha ",
            "MD Shanaka ",
            "RAS Lakmal ",
            "JDF Vandersay ",
            "DM de Silva ",
            "MD Gunathilaka ",
            "GSNFG Jayasuriya ",
            "CBRLS Kumara ",
            "LD Madushanka ",
            "PHKD Mendis ",
            "AK Perera ",
            "M Bhanuka ",
            "N Dickwella ",
            "BOP Fernando ",
            "WIA Fernando ",
            "BKG Mendis ",
            "MDKJ Perera ",
            "PBB Rajapaksa ",
            "S Samarawickrama "
           ],
           "yaxis": "y"
          },
          {
           "hovertemplate": "<b>%{hovertext}</b><br><br>Final Region=PAK<br>End=2019<br>Wkts=%{x}<br>Player=%{y}<br>Runs=%{marker.size}<extra></extra>",
           "hovertext": [
            "PAK",
            "PAK",
            "PAK",
            "PAK",
            "PAK",
            "PAK",
            "PAK",
            "PAK",
            "PAK",
            "PAK",
            "PAK",
            "PAK",
            "PAK",
            "PAK",
            "PAK",
            "PAK",
            "PAK",
            "PAK",
            "PAK",
            "PAK",
            "PAK",
            "PAK",
            "PAK",
            "PAK"
           ],
           "ids": [
            "PAK",
            "PAK",
            "PAK",
            "PAK",
            "PAK",
            "PAK",
            "PAK",
            "PAK",
            "PAK",
            "PAK",
            "PAK",
            "PAK",
            "PAK",
            "PAK",
            "PAK",
            "PAK",
            "PAK",
            "PAK",
            "PAK",
            "PAK",
            "PAK",
            "PAK",
            "PAK",
            "PAK"
           ],
           "legendgroup": "PAK",
           "marker": {
            "color": "#EF553B",
            "size": [
             1224,
             948,
             877,
             877,
             813,
             644,
             557,
             562,
             288,
             424,
             54,
             137,
             10,
             12,
             7,
             39,
             0,
             0,
             0,
             0,
             0,
             0,
             0,
             0
            ],
            "sizemode": "area",
            "sizeref": 0.0599,
            "symbol": "circle"
           },
           "mode": "markers",
           "name": "PAK",
           "orientation": "h",
           "showlegend": true,
           "type": "scatter",
           "x": [
            59,
            46,
            42,
            35,
            30,
            28,
            24,
            16,
            14,
            13,
            4,
            3,
            0,
            0,
            0,
            0,
            0,
            0,
            0,
            0,
            0,
            0,
            0,
            0
           ],
           "xaxis": "x",
           "y": [
            "Mohammad Amir ",
            "Shadab Khan ",
            "Imad Wasim ",
            "Hasan Ali ",
            "Wahab Riaz ",
            "Shoaib Malik ",
            "Faheem Ashraf ",
            "Mohammad Irfan ",
            "Shaheen Shah Afridi ",
            "Usman Shinwari ",
            "Hussain Talat ",
            "Mohammad Hasnain ",
            "Ahmed Shehzad ",
            "Fakhar Zaman ",
            "Iftikhar Ahmed ",
            "Muhammad Musa ",
            "Asif Ali ",
            "Babar Azam ",
            "Haris Sohail ",
            "Imam-ul-Haq ",
            "Khushdil Shah ",
            "Mohammad Rizwan ",
            "Sarfaraz Ahmed ",
            "Umar Akmal "
           ],
           "yaxis": "y"
          },
          {
           "hovertemplate": "<b>%{hovertext}</b><br><br>Final Region=BDESH<br>End=2019<br>Wkts=%{x}<br>Player=%{y}<br>Runs=%{marker.size}<extra></extra>",
           "hovertext": [
            "BDESH",
            "BDESH",
            "BDESH",
            "BDESH",
            "BDESH",
            "BDESH",
            "BDESH",
            "BDESH",
            "BDESH",
            "BDESH",
            "BDESH",
            "BDESH",
            "BDESH",
            "BDESH",
            "BDESH",
            "BDESH",
            "BDESH"
           ],
           "ids": [
            "BDESH",
            "BDESH",
            "BDESH",
            "BDESH",
            "BDESH",
            "BDESH",
            "BDESH",
            "BDESH",
            "BDESH",
            "BDESH",
            "BDESH",
            "BDESH",
            "BDESH",
            "BDESH",
            "BDESH",
            "BDESH",
            "BDESH"
           ],
           "legendgroup": "BDESH",
           "marker": {
            "color": "#00cc96",
            "size": [
             1894,
             1065,
             673,
             861,
             459,
             386,
             98,
             70,
             249,
             160,
             79,
             58,
             0,
             0,
             0,
             0,
             0
            ],
            "sizemode": "area",
            "sizeref": 0.0599,
            "symbol": "circle"
           },
           "mode": "markers",
           "name": "BDESH",
           "orientation": "h",
           "showlegend": true,
           "type": "scatter",
           "x": [
            92,
            52,
            40,
            31,
            16,
            12,
            6,
            6,
            6,
            5,
            4,
            1,
            0,
            0,
            0,
            0,
            0
           ],
           "xaxis": "x",
           "y": [
            "Shakib Al Hasan ",
            "Mustafizur Rahman ",
            "Al-Amin Hossain ",
            "Mahmudullah ",
            "Shafiul Islam ",
            "Mohammad Saifuddin ",
            "Aminul Islam ",
            "Sabbir Rahman ",
            "Soumya Sarkar ",
            "Mosaddek Hossain ",
            "Afif Hossain ",
            "Taijul Islam ",
            "Liton Das ",
            "Mohammad Mithun ",
            "Mohammad Naim ",
            "Mushfiqur Rahim ",
            "Najmul Hossain Shanto "
           ],
           "yaxis": "y"
          },
          {
           "hovertemplate": "<b>%{hovertext}</b><br><br>Final Region=AFG<br>End=2019<br>Wkts=%{x}<br>Player=%{y}<br>Runs=%{marker.size}<extra></extra>",
           "hovertext": [
            "AFG",
            "AFG",
            "AFG",
            "AFG",
            "AFG",
            "AFG",
            "AFG",
            "AFG",
            "AFG",
            "AFG",
            "AFG",
            "AFG",
            "AFG",
            "AFG",
            "AFG",
            "AFG",
            "AFG",
            "AFG",
            "AFG",
            "AFG",
            "AFG",
            "AFG"
           ],
           "ids": [
            "AFG",
            "AFG",
            "AFG",
            "AFG",
            "AFG",
            "AFG",
            "AFG",
            "AFG",
            "AFG",
            "AFG",
            "AFG",
            "AFG",
            "AFG",
            "AFG",
            "AFG",
            "AFG",
            "AFG",
            "AFG",
            "AFG",
            "AFG",
            "AFG",
            "AFG"
           ],
           "legendgroup": "AFG",
           "marker": {
            "color": "#ab63fa",
            "size": [
             1052,
             1839,
             980,
             688,
             614,
             324,
             405,
             345,
             560,
             102,
             116,
             201,
             42,
             4,
             13,
             0,
             0,
             0,
             0,
             0,
             0,
             0
            ],
            "sizemode": "area",
            "sizeref": 0.0599,
            "symbol": "circle"
           },
           "mode": "markers",
           "name": "AFG",
           "orientation": "h",
           "showlegend": true,
           "type": "scatter",
           "x": [
            84,
            69,
            40,
            28,
            24,
            20,
            18,
            18,
            16,
            7,
            7,
            5,
            2,
            1,
            0,
            0,
            0,
            0,
            0,
            0,
            0,
            0
           ],
           "xaxis": "x",
           "y": [
            "Rashid Khan ",
            "Mohammad Nabi ",
            "Dawlat Zadran ",
            "Samiullah Shinwari ",
            "Karim Janat ",
            "Mujeeb Ur Rahman ",
            "Fareed Ahmad ",
            "Izatullah Dawlatzai ",
            "Gulbadin Naib ",
            "Naveen-ul-Haq ",
            "Sayed Shirzad ",
            "Sharafuddin Ashraf ",
            "Ziaur Rahman ",
            "Asghar Afghan ",
            "Fazal Niazai ",
            "Hazratullah Zazai ",
            "Ibrahim Zadran ",
            "Najeeb Tarakai ",
            "Najibullah Zadran ",
            "Rahmanullah Gurbaz ",
            "Shafiqullah ",
            "Usman Ghani "
           ],
           "yaxis": "y"
          },
          {
           "hovertemplate": "<b>%{hovertext}</b><br><br>Final Region=IRE<br>End=2019<br>Wkts=%{x}<br>Player=%{y}<br>Runs=%{marker.size}<extra></extra>",
           "hovertext": [
            "IRE",
            "IRE",
            "IRE",
            "IRE",
            "IRE",
            "IRE",
            "IRE",
            "IRE",
            "IRE",
            "IRE",
            "IRE",
            "IRE",
            "IRE",
            "IRE",
            "IRE",
            "IRE",
            "IRE",
            "IRE",
            "IRE"
           ],
           "ids": [
            "IRE",
            "IRE",
            "IRE",
            "IRE",
            "IRE",
            "IRE",
            "IRE",
            "IRE",
            "IRE",
            "IRE",
            "IRE",
            "IRE",
            "IRE",
            "IRE",
            "IRE",
            "IRE",
            "IRE",
            "IRE",
            "IRE"
           ],
           "legendgroup": "IRE",
           "marker": {
            "color": "#FFA15A",
            "size": [
             1539,
             1134,
             413,
             635,
             670,
             391,
             600,
             416,
             344,
             143,
             222,
             323,
             367,
             0,
             0,
             0,
             0,
             0,
             0
            ],
            "sizemode": "area",
            "sizeref": 0.0599,
            "symbol": "circle"
           },
           "mode": "markers",
           "name": "IRE",
           "orientation": "h",
           "showlegend": true,
           "type": "scatter",
           "x": [
            75,
            58,
            27,
            23,
            18,
            16,
            16,
            15,
            15,
            9,
            8,
            8,
            7,
            0,
            0,
            0,
            0,
            0,
            0
           ],
           "xaxis": "x",
           "y": [
            "GH Dockrell ",
            "KJ O'Brien ",
            "MR Adair ",
            "CA Young ",
            "SR Thompson ",
            "GJ Delany ",
            "PR Stirling ",
            "PKD Chase ",
            "Simi Singh ",
            "TE Kane ",
            "DC Delany ",
            "SC Getkate ",
            "JB Little ",
            "A Balbirnie ",
            "SW Poynter ",
            "HT Tector ",
            "GJ Thompson ",
            "LJ Tucker ",
            "GC Wilson "
           ],
           "yaxis": "y"
          },
          {
           "hovertemplate": "<b>%{hovertext}</b><br><br>Final Region=NZ<br>End=2019<br>Wkts=%{x}<br>Player=%{y}<br>Runs=%{marker.size}<extra></extra>",
           "hovertext": [
            "NZ",
            "NZ",
            "NZ",
            "NZ",
            "NZ",
            "NZ",
            "NZ",
            "NZ",
            "NZ",
            "NZ",
            "NZ",
            "NZ",
            "NZ",
            "NZ",
            "NZ",
            "NZ",
            "NZ",
            "NZ",
            "NZ",
            "NZ",
            "NZ"
           ],
           "ids": [
            "NZ",
            "NZ",
            "NZ",
            "NZ",
            "NZ",
            "NZ",
            "NZ",
            "NZ",
            "NZ",
            "NZ",
            "NZ",
            "NZ",
            "NZ",
            "NZ",
            "NZ",
            "NZ",
            "NZ",
            "NZ",
            "NZ",
            "NZ",
            "NZ"
           ],
           "legendgroup": "NZ",
           "marker": {
            "color": "#19d3f3",
            "size": [
             1954,
             928,
             1131,
             854,
             437,
             222,
             323,
             432,
             245,
             164,
             260,
             89,
             186,
             69,
             109,
             11,
             0,
             0,
             0,
             0,
             0
            ],
            "sizemode": "area",
            "sizeref": 0.0599,
            "symbol": "circle"
           },
           "mode": "markers",
           "name": "NZ",
           "orientation": "h",
           "showlegend": true,
           "type": "scatter",
           "x": [
            75,
            49,
            47,
            39,
            20,
            14,
            13,
            10,
            10,
            6,
            5,
            5,
            4,
            3,
            3,
            0,
            0,
            0,
            0,
            0,
            0
           ],
           "xaxis": "x",
           "y": [
            "TG Southee ",
            "MJ Santner ",
            "IS Sodhi ",
            "TA Boult ",
            "DAJ Bracewell ",
            "LH Ferguson ",
            "JDS Neesham ",
            "C de Grandhomme ",
            "SHA Rance ",
            "KS Williamson ",
            "SC Kuggeleijn ",
            "DJ Mitchell ",
            "C Munro ",
            "TD Astle ",
            "BM Tickner ",
            "MJ Guptill ",
            "TC Bruce ",
            "HM Nicholls ",
            "HD Rutherford ",
            "TL Seifert ",
            "LRPL Taylor "
           ],
           "yaxis": "y"
          },
          {
           "hovertemplate": "<b>%{hovertext}</b><br><br>Final Region=ENG<br>End=2019<br>Wkts=%{x}<br>Player=%{y}<br>Runs=%{marker.size}<extra></extra>",
           "hovertext": [
            "ENG",
            "ENG",
            "ENG",
            "ENG",
            "ENG",
            "ENG",
            "ENG",
            "ENG",
            "ENG",
            "ENG",
            "ENG",
            "ENG",
            "ENG",
            "ENG",
            "ENG",
            "ENG",
            "ENG",
            "ENG",
            "ENG",
            "ENG",
            "ENG",
            "ENG",
            "ENG",
            "ENG"
           ],
           "ids": [
            "ENG",
            "ENG",
            "ENG",
            "ENG",
            "ENG",
            "ENG",
            "ENG",
            "ENG",
            "ENG",
            "ENG",
            "ENG",
            "ENG",
            "ENG",
            "ENG",
            "ENG",
            "ENG",
            "ENG",
            "ENG",
            "ENG",
            "ENG",
            "ENG",
            "ENG",
            "ENG",
            "ENG"
           ],
           "legendgroup": "ENG",
           "marker": {
            "color": "#FF6692",
            "size": [
             1300,
             1138,
             1000,
             761,
             627,
             418,
             148,
             85,
             153,
             139,
             61,
             128,
             115,
             29,
             29,
             27,
             0,
             0,
             0,
             0,
             0,
             0,
             0,
             0
            ],
            "sizemode": "area",
            "sizeref": 0.0599,
            "symbol": "circle"
           },
           "mode": "markers",
           "name": "ENG",
           "orientation": "h",
           "showlegend": true,
           "type": "scatter",
           "x": [
            54,
            53,
            39,
            34,
            25,
            16,
            11,
            7,
            6,
            6,
            5,
            3,
            3,
            2,
            1,
            1,
            0,
            0,
            0,
            0,
            0,
            0,
            0,
            0
           ],
           "xaxis": "x",
           "y": [
            "CJ Jordan ",
            "WB Rankin ",
            "AU Rashid ",
            "DJ Willey ",
            "LE Plunkett ",
            "TK Curran ",
            "MA Wood ",
            "JL Denly ",
            "SM Curran ",
            "JE Root ",
            "MW Parkinson ",
            "PR Brown ",
            "S Mahmood ",
            "JC Archer ",
            "L Gregory ",
            "DJ Malan ",
            "JM Bairstow ",
            "T Banton ",
            "SW Billings ",
            "BM Duckett ",
            "BT Foakes ",
            "AD Hales ",
            "EJG Morgan ",
            "JM Vince "
           ],
           "yaxis": "y"
          },
          {
           "hovertemplate": "<b>%{hovertext}</b><br><br>Final Region=SA<br>End=2019<br>Wkts=%{x}<br>Player=%{y}<br>Runs=%{marker.size}<extra></extra>",
           "hovertext": [
            "SA",
            "SA",
            "SA",
            "SA",
            "SA",
            "SA",
            "SA",
            "SA",
            "SA",
            "SA",
            "SA",
            "SA",
            "SA",
            "SA",
            "SA",
            "SA",
            "SA",
            "SA",
            "SA",
            "SA",
            "SA",
            "SA",
            "SA",
            "SA"
           ],
           "ids": [
            "SA",
            "SA",
            "SA",
            "SA",
            "SA",
            "SA",
            "SA",
            "SA",
            "SA",
            "SA",
            "SA",
            "SA",
            "SA",
            "SA",
            "SA",
            "SA",
            "SA",
            "SA",
            "SA",
            "SA",
            "SA",
            "SA",
            "SA",
            "SA"
           ],
           "legendgroup": "SA",
           "marker": {
            "color": "#B6E880",
            "size": [
             948,
             1068,
             697,
             550,
             648,
             599,
             317,
             282,
             429,
             131,
             51,
             116,
             3,
             27,
             0,
             0,
             0,
             0,
             0,
             0,
             0,
             0,
             0,
             0
            ],
            "sizemode": "area",
            "sizeref": 0.0599,
            "symbol": "circle"
           },
           "mode": "markers",
           "name": "SA",
           "orientation": "h",
           "showlegend": true,
           "type": "scatter",
           "x": [
            63,
            61,
            34,
            29,
            28,
            21,
            18,
            13,
            12,
            4,
            3,
            3,
            0,
            0,
            0,
            0,
            0,
            0,
            0,
            0,
            0,
            0,
            0,
            0
           ],
           "xaxis": "x",
           "y": [
            "Imran Tahir ",
            "DW Steyn ",
            "CH Morris ",
            "AL Phehlukwayo ",
            "K Rabada ",
            "JP Duminy ",
            "BE Hendricks ",
            "CJ Dala ",
            "T Shamsi ",
            "L Sipamla ",
            "BC Fortuin ",
            "D Pretorius ",
            "F du Plessis ",
            "A Nortje ",
            "T Bavuma ",
            "GL Cloete ",
            "Q de Kock ",
            "RR Hendricks ",
            "H Klaasen ",
            "JN Malan ",
            "AK Markram ",
            "DA Miller ",
            "S Qeshile ",
            "HE van der Dussen "
           ],
           "yaxis": "y"
          },
          {
           "hovertemplate": "<b>%{hovertext}</b><br><br>Final Region=WI<br>End=2019<br>Wkts=%{x}<br>Player=%{y}<br>Runs=%{marker.size}<extra></extra>",
           "hovertext": [
            "WI",
            "WI",
            "WI",
            "WI",
            "WI",
            "WI",
            "WI",
            "WI",
            "WI",
            "WI",
            "WI",
            "WI",
            "WI",
            "WI",
            "WI",
            "WI",
            "WI",
            "WI",
            "WI",
            "WI",
            "WI",
            "WI",
            "WI",
            "WI",
            "WI"
           ],
           "ids": [
            "WI",
            "WI",
            "WI",
            "WI",
            "WI",
            "WI",
            "WI",
            "WI",
            "WI",
            "WI",
            "WI",
            "WI",
            "WI",
            "WI",
            "WI",
            "WI",
            "WI",
            "WI",
            "WI",
            "WI",
            "WI",
            "WI",
            "WI",
            "WI",
            "WI"
           ],
           "legendgroup": "WI",
           "marker": {
            "color": "#FF97FF",
            "size": [
             1105,
             724,
             1013,
             615,
             830,
             540,
             377,
             524,
             214,
             326,
             318,
             137,
             55,
             203,
             74,
             44,
             1,
             28,
             0,
             0,
             0,
             0,
             0,
             0,
             0
            ],
            "sizemode": "area",
            "sizeref": 0.0599,
            "symbol": "circle"
           },
           "mode": "markers",
           "name": "WI",
           "orientation": "h",
           "showlegend": true,
           "type": "scatter",
           "x": [
            52,
            41,
            31,
            30,
            28,
            24,
            17,
            13,
            9,
            9,
            8,
            7,
            6,
            5,
            2,
            1,
            0,
            0,
            0,
            0,
            0,
            0,
            0,
            0,
            0
           ],
           "xaxis": "x",
           "y": [
            "SP Narine ",
            "KOK Williams ",
            "CR Brathwaite ",
            "SS Cottrell ",
            "KA Pollard ",
            "KMA Paul ",
            "CH Gayle ",
            "JO Holder ",
            "FA Allen ",
            "O Thomas ",
            "AR Nurse ",
            "D Bishoo ",
            "LMP Simmons ",
            "K Pierre ",
            "R Powell ",
            "OC McCoy ",
            "JD Campbell ",
            "SE Rutherford ",
            "DM Bravo ",
            "SO Hetmyer ",
            "SD Hope ",
            "BA King ",
            "E Lewis ",
            "N Pooran ",
            "D Ramdin "
           ],
           "yaxis": "y"
          },
          {
           "hovertemplate": "<b>%{hovertext}</b><br><br>Final Region=NL<br>End=2019<br>Wkts=%{x}<br>Player=%{y}<br>Runs=%{marker.size}<extra></extra>",
           "hovertext": [
            "NL",
            "NL",
            "NL",
            "NL",
            "NL",
            "NL",
            "NL",
            "NL",
            "NL",
            "NL",
            "NL",
            "NL",
            "NL",
            "NL",
            "NL",
            "NL",
            "NL",
            "NL",
            "NL",
            "NL",
            "NL",
            "NL",
            "NL",
            "NL",
            "NL"
           ],
           "ids": [
            "NL",
            "NL",
            "NL",
            "NL",
            "NL",
            "NL",
            "NL",
            "NL",
            "NL",
            "NL",
            "NL",
            "NL",
            "NL",
            "NL",
            "NL",
            "NL",
            "NL",
            "NL",
            "NL",
            "NL",
            "NL",
            "NL",
            "NL",
            "NL",
            "NL"
           ],
           "legendgroup": "NL",
           "marker": {
            "color": "#FECB52",
            "size": [
             938,
             1190,
             945,
             847,
             448,
             581,
             337,
             245,
             147,
             142,
             70,
             116,
             119,
             72,
             79,
             49,
             61,
             51,
             27,
             0,
             0,
             0,
             0,
             0,
             0
            ],
            "sizemode": "area",
            "sizeref": 0.0599,
            "symbol": "circle"
           },
           "mode": "markers",
           "name": "NL",
           "orientation": "h",
           "showlegend": true,
           "type": "scatter",
           "x": [
            54,
            53,
            47,
            40,
            28,
            20,
            13,
            13,
            5,
            5,
            4,
            3,
            3,
            3,
            3,
            2,
            2,
            1,
            0,
            0,
            0,
            0,
            0,
            0,
            0
           ],
           "xaxis": "x",
           "y": [
            "RE van der Merwe ",
            "PM Seelaar ",
            "PA van Meekeren ",
            "T van der Gugten ",
            "BD Glover ",
            "FJ Klaassen ",
            "S Snater ",
            "RN ten Doeschate ",
            "CN Ackermann ",
            "VJ Kingma ",
            "TS Braat ",
            "PRP Boissevain ",
            "MP O'Dowd ",
            "HC Overdijk ",
            "Sikander Zulfiqar ",
            "W Barresi ",
            "Saqib Zulfiqar ",
            "C Floyd ",
            "BFW de Leede ",
            "BN Cooper ",
            "SA Edwards ",
            "SJ Myburgh ",
            "AJ Staal ",
            "Vikramjit Singh ",
            "TP Visee "
           ],
           "yaxis": "y"
          },
          {
           "hovertemplate": "<b>%{hovertext}</b><br><br>Final Region=INDIA<br>End=2019<br>Wkts=%{x}<br>Player=%{y}<br>Runs=%{marker.size}<extra></extra>",
           "hovertext": [
            "INDIA",
            "INDIA",
            "INDIA",
            "INDIA",
            "INDIA",
            "INDIA",
            "INDIA",
            "INDIA",
            "INDIA",
            "INDIA",
            "INDIA",
            "INDIA",
            "INDIA",
            "INDIA",
            "INDIA",
            "INDIA",
            "INDIA",
            "INDIA",
            "INDIA",
            "INDIA",
            "INDIA",
            "INDIA",
            "INDIA",
            "INDIA",
            "INDIA",
            "INDIA",
            "INDIA"
           ],
           "ids": [
            "INDIA",
            "INDIA",
            "INDIA",
            "INDIA",
            "INDIA",
            "INDIA",
            "INDIA",
            "INDIA",
            "INDIA",
            "INDIA",
            "INDIA",
            "INDIA",
            "INDIA",
            "INDIA",
            "INDIA",
            "INDIA",
            "INDIA",
            "INDIA",
            "INDIA",
            "INDIA",
            "INDIA",
            "INDIA",
            "INDIA",
            "INDIA",
            "INDIA",
            "INDIA",
            "INDIA"
           ],
           "legendgroup": "INDIA",
           "marker": {
            "color": "#636efa",
            "size": [
             1139,
             1029,
             1088,
             976,
             499,
             1093,
             251,
             417,
             538,
             459,
             275,
             219,
             137,
             191,
             84,
             198,
             114,
             27,
             113,
             31,
             0,
             0,
             0,
             0,
             0,
             0,
             0
            ],
            "sizemode": "area",
            "sizeref": 0.0599,
            "symbol": "circle"
           },
           "mode": "markers",
           "name": "INDIA",
           "orientation": "h",
           "showlegend": true,
           "type": "scatter",
           "x": [
            52,
            51,
            41,
            38,
            37,
            35,
            17,
            15,
            14,
            13,
            10,
            9,
            6,
            5,
            4,
            4,
            3,
            1,
            1,
            0,
            0,
            0,
            0,
            0,
            0,
            0,
            0
           ],
           "xaxis": "x",
           "y": [
            "YS Chahal ",
            "JJ Bumrah ",
            "B Kumar ",
            "HH Pandya ",
            "Kuldeep Yadav ",
            "RA Jadeja ",
            "DL Chahar ",
            "Washington Sundar ",
            "KH Pandya ",
            "KK Ahmed ",
            "Mohammed Shami ",
            "UT Yadav ",
            "NA Saini ",
            "V Shankar ",
            "S Kaul ",
            "V Kohli ",
            "S Dube ",
            "RD Chahar ",
            "RG Sharma ",
            "M Markande ",
            "S Dhawan ",
            "MS Dhoni ",
            "SS Iyer ",
            "KD Karthik ",
            "MK Pandey ",
            "RR Pant ",
            "KL Rahul "
           ],
           "yaxis": "y"
          },
          {
           "hovertemplate": "<b>%{hovertext}</b><br><br>Final Region=SCOT<br>End=2019<br>Wkts=%{x}<br>Player=%{y}<br>Runs=%{marker.size}<extra></extra>",
           "hovertext": [
            "SCOT",
            "SCOT",
            "SCOT",
            "SCOT",
            "SCOT",
            "SCOT",
            "SCOT",
            "SCOT",
            "SCOT",
            "SCOT",
            "SCOT",
            "SCOT",
            "SCOT",
            "SCOT",
            "SCOT",
            "SCOT"
           ],
           "ids": [
            "SCOT",
            "SCOT",
            "SCOT",
            "SCOT",
            "SCOT",
            "SCOT",
            "SCOT",
            "SCOT",
            "SCOT",
            "SCOT",
            "SCOT",
            "SCOT",
            "SCOT",
            "SCOT",
            "SCOT",
            "SCOT"
           ],
           "legendgroup": "SCOT",
           "marker": {
            "color": "#EF553B",
            "size": [
             1185,
             903,
             689,
             609,
             610,
             352,
             499,
             154,
             137,
             71,
             174,
             66,
             0,
             0,
             0,
             0
            ],
            "sizemode": "area",
            "sizeref": 0.0599,
            "symbol": "circle"
           },
           "mode": "markers",
           "name": "SCOT",
           "orientation": "h",
           "showlegend": true,
           "type": "scatter",
           "x": [
            49,
            45,
            36,
            27,
            24,
            18,
            18,
            9,
            6,
            5,
            4,
            0,
            0,
            0,
            0,
            0
           ],
           "xaxis": "x",
           "y": [
            "SM Sharif ",
            "MRJ Watt ",
            "AC Evans ",
            "RD Berrington ",
            "JH Davey ",
            "Hamza Tahir ",
            "MA Leask ",
            "A Neill ",
            "TB Sole ",
            "KJ Coetzer ",
            "CS MacLeod ",
            "RAJ Smith ",
            "MH Cross ",
            "OJ Hairs ",
            "HG Munsey ",
            "CD Wallace "
           ],
           "yaxis": "y"
          },
          {
           "hovertemplate": "<b>%{hovertext}</b><br><br>Final Region=AUS<br>End=2019<br>Wkts=%{x}<br>Player=%{y}<br>Runs=%{marker.size}<extra></extra>",
           "hovertext": [
            "AUS",
            "AUS",
            "AUS",
            "AUS",
            "AUS",
            "AUS",
            "AUS",
            "AUS",
            "AUS",
            "AUS",
            "AUS",
            "AUS",
            "AUS",
            "AUS",
            "AUS",
            "AUS",
            "AUS",
            "AUS",
            "AUS",
            "AUS"
           ],
           "ids": [
            "AUS",
            "AUS",
            "AUS",
            "AUS",
            "AUS",
            "AUS",
            "AUS",
            "AUS",
            "AUS",
            "AUS",
            "AUS",
            "AUS",
            "AUS",
            "AUS",
            "AUS",
            "AUS",
            "AUS",
            "AUS",
            "AUS",
            "AUS"
           ],
           "legendgroup": "AUS",
           "marker": {
            "color": "#00cc96",
            "size": [
             718,
             802,
             644,
             572,
             544,
             704,
             464,
             447,
             377,
             287,
             319,
             117,
             61,
             151,
             42,
             27,
             0,
             0,
             0,
             0
            ],
            "sizemode": "area",
            "sizeref": 0.0599,
            "symbol": "circle"
           },
           "mode": "markers",
           "name": "AUS",
           "orientation": "h",
           "showlegend": true,
           "type": "scatter",
           "x": [
            39,
            34,
            32,
            28,
            27,
            26,
            17,
            17,
            17,
            9,
            9,
            7,
            3,
            3,
            3,
            0,
            0,
            0,
            0,
            0
           ],
           "xaxis": "x",
           "y": [
            "MA Starc ",
            "NM Coulter-Nile ",
            "PJ Cummins ",
            "A Zampa ",
            "B Stanlake ",
            "GJ Maxwell ",
            "AC Agar ",
            "KW Richardson ",
            "SPD Smith ",
            "JA Richardson ",
            "MP Stoinis ",
            "JP Behrendorff ",
            "SA Abbott ",
            "DJM Short ",
            "AJ Turner ",
            "AJ Finch ",
            "AT Carey ",
            "PSP Handscomb ",
            "BR McDermott ",
            "DA Warner "
           ],
           "yaxis": "y"
          },
          {
           "hovertemplate": "<b>%{hovertext}</b><br><br>Final Region=OMAN<br>End=2019<br>Wkts=%{x}<br>Player=%{y}<br>Runs=%{marker.size}<extra></extra>",
           "hovertext": [
            "OMAN",
            "OMAN",
            "OMAN",
            "OMAN",
            "OMAN",
            "OMAN",
            "OMAN",
            "OMAN",
            "OMAN",
            "OMAN",
            "OMAN",
            "OMAN",
            "OMAN",
            "OMAN",
            "OMAN",
            "OMAN",
            "OMAN",
            "OMAN"
           ],
           "ids": [
            "OMAN",
            "OMAN",
            "OMAN",
            "OMAN",
            "OMAN",
            "OMAN",
            "OMAN",
            "OMAN",
            "OMAN",
            "OMAN",
            "OMAN",
            "OMAN",
            "OMAN",
            "OMAN",
            "OMAN",
            "OMAN",
            "OMAN",
            "OMAN"
           ],
           "legendgroup": "OMAN",
           "marker": {
            "color": "#ab63fa",
            "size": [
             778,
             534,
             388,
             445,
             416,
             313,
             222,
             374,
             132,
             59,
             48,
             39,
             17,
             74,
             16,
             0,
             0,
             0
            ],
            "sizemode": "area",
            "sizeref": 0.0599,
            "symbol": "circle"
           },
           "mode": "markers",
           "name": "OMAN",
           "orientation": "h",
           "showlegend": true,
           "type": "scatter",
           "x": [
            45,
            29,
            22,
            22,
            18,
            10,
            9,
            8,
            3,
            2,
            2,
            1,
            0,
            0,
            0,
            0,
            0,
            0
           ],
           "xaxis": "x",
           "y": [
            "Bilal Khan ",
            "Khawar Ali ",
            "Aamir Kaleem ",
            "Mohammad Nadeem ",
            "Zeeshan Maqsood ",
            "Fayyaz Butt ",
            "Mehran Khan ",
            "AV Lalcheta ",
            "Kaleemullah ",
            "Aqib Ilyas ",
            "Sandeep Goud ",
            "Sufyan Mehmood ",
            "Jatinder Singh ",
            "Jay Odedra ",
            "Wasim Ali ",
            "Khurram Nawaz ",
            "Naseem Khushi ",
            "Suraj Kumar "
           ],
           "yaxis": "y"
          },
          {
           "hovertemplate": "<b>%{hovertext}</b><br><br>Final Region=UAE<br>End=2019<br>Wkts=%{x}<br>Player=%{y}<br>Runs=%{marker.size}<extra></extra>",
           "hovertext": [
            "UAE",
            "UAE",
            "UAE",
            "UAE",
            "UAE",
            "UAE",
            "UAE",
            "UAE",
            "UAE",
            "UAE",
            "UAE",
            "UAE",
            "UAE",
            "UAE",
            "UAE",
            "UAE",
            "UAE",
            "UAE",
            "UAE",
            "UAE",
            "UAE"
           ],
           "ids": [
            "UAE",
            "UAE",
            "UAE",
            "UAE",
            "UAE",
            "UAE",
            "UAE",
            "UAE",
            "UAE",
            "UAE",
            "UAE",
            "UAE",
            "UAE",
            "UAE",
            "UAE",
            "UAE",
            "UAE",
            "UAE",
            "UAE",
            "UAE",
            "UAE"
           ],
           "legendgroup": "UAE",
           "marker": {
            "color": "#FFA15A",
            "size": [
             774,
             729,
             779,
             442,
             365,
             253,
             250,
             179,
             103,
             198,
             34,
             13,
             35,
             0,
             0,
             0,
             0,
             0,
             0,
             0,
             0
            ],
            "sizemode": "area",
            "sizeref": 0.0599,
            "symbol": "circle"
           },
           "mode": "markers",
           "name": "UAE",
           "orientation": "h",
           "showlegend": true,
           "type": "scatter",
           "x": [
            39,
            37,
            20,
            20,
            15,
            9,
            7,
            7,
            6,
            6,
            2,
            1,
            1,
            0,
            0,
            0,
            0,
            0,
            0,
            0,
            0
           ],
           "xaxis": "x",
           "y": [
            "Rohan Mustafa ",
            "Mohammad Naveed ",
            "Ahmed Raza ",
            "Zahoor Khan ",
            "Sultan Ahmed ",
            "Qadeer Ahmed ",
            "Imran Haider ",
            "Junaid Siddique ",
            "Amir Hayat ",
            "Waheed Ahmed ",
            "Ashfaq Ahmed ",
            "Mohammad Boota ",
            "Zawar Farid ",
            "Abdul Shakoor ",
            "Chirag Suri ",
            "DDP D'Silva ",
            "Ghulam Shabber ",
            "Muhammad Usman ",
            "Rameez Shahzad ",
            "CP Rizwan ",
            "Shaiman Anwar "
           ],
           "yaxis": "y"
          },
          {
           "hovertemplate": "<b>%{hovertext}</b><br><br>Final Region=ZIM<br>End=2019<br>Wkts=%{x}<br>Player=%{y}<br>Runs=%{marker.size}<extra></extra>",
           "hovertext": [
            "ZIM",
            "ZIM",
            "ZIM",
            "ZIM",
            "ZIM",
            "ZIM",
            "ZIM",
            "ZIM",
            "ZIM",
            "ZIM",
            "ZIM",
            "ZIM",
            "ZIM",
            "ZIM",
            "ZIM",
            "ZIM",
            "ZIM",
            "ZIM",
            "ZIM",
            "ZIM",
            "ZIM",
            "ZIM",
            "ZIM",
            "ZIM",
            "ZIM"
           ],
           "ids": [
            "ZIM",
            "ZIM",
            "ZIM",
            "ZIM",
            "ZIM",
            "ZIM",
            "ZIM",
            "ZIM",
            "ZIM",
            "ZIM",
            "ZIM",
            "ZIM",
            "ZIM",
            "ZIM",
            "ZIM",
            "ZIM",
            "ZIM",
            "ZIM",
            "ZIM",
            "ZIM",
            "ZIM",
            "ZIM",
            "ZIM",
            "ZIM",
            "ZIM"
           ],
           "legendgroup": "ZIM",
           "marker": {
            "color": "#19d3f3",
            "size": [
             890,
             950,
             665,
             591,
             427,
             417,
             312,
             279,
             376,
             278,
             188,
             44,
             113,
             48,
             20,
             57,
             115,
             90,
             17,
             3,
             0,
             0,
             0,
             0,
             0
            ],
            "sizemode": "area",
            "sizeref": 0.0599,
            "symbol": "circle"
           },
           "mode": "markers",
           "name": "ZIM",
           "orientation": "h",
           "showlegend": true,
           "type": "scatter",
           "x": [
            32,
            31,
            28,
            25,
            16,
            12,
            12,
            11,
            11,
            11,
            7,
            3,
            2,
            2,
            1,
            1,
            1,
            1,
            1,
            0,
            0,
            0,
            0,
            0,
            0
           ],
           "xaxis": "x",
           "y": [
            "SC Williams ",
            "CB Mpofu ",
            "KM Jarvis ",
            "TL Chatara ",
            "E Chigumbura ",
            "N Madziva ",
            "WP Masakadza ",
            "RP Burl ",
            "Sikandar Raza ",
            "DT Tiripano ",
            "CT Mutombodzi ",
            "D Jakiel ",
            "H Masakadza ",
            "R Ngarava ",
            "T Maruma ",
            "WT Mashinge ",
            "SF Mire ",
            "A Ndlovu ",
            "BRM Taylor ",
            "T Munyonga ",
            "RW Chakabva ",
            "BB Chari ",
            "CR Ervine ",
            "PJ Moor ",
            "R Mutumbami "
           ],
           "yaxis": "y"
          },
          {
           "hovertemplate": "<b>%{hovertext}</b><br><br>Final Region=KENYA<br>End=2019<br>Wkts=%{x}<br>Player=%{y}<br>Runs=%{marker.size}<extra></extra>",
           "hovertext": [
            "KENYA",
            "KENYA",
            "KENYA",
            "KENYA",
            "KENYA",
            "KENYA",
            "KENYA",
            "KENYA",
            "KENYA",
            "KENYA",
            "KENYA",
            "KENYA",
            "KENYA",
            "KENYA",
            "KENYA",
            "KENYA"
           ],
           "ids": [
            "KENYA",
            "KENYA",
            "KENYA",
            "KENYA",
            "KENYA",
            "KENYA",
            "KENYA",
            "KENYA",
            "KENYA",
            "KENYA",
            "KENYA",
            "KENYA",
            "KENYA",
            "KENYA",
            "KENYA",
            "KENYA"
           ],
           "legendgroup": "KENYA",
           "marker": {
            "color": "#FF6692",
            "size": [
             637,
             334,
             370,
             319,
             209,
             104,
             18,
             82,
             63,
             30,
             15,
             0,
             0,
             0,
             0,
             0
            ],
            "sizemode": "area",
            "sizeref": 0.0599,
            "symbol": "circle"
           },
           "mode": "markers",
           "name": "KENYA",
           "orientation": "h",
           "showlegend": true,
           "type": "scatter",
           "x": [
            35,
            23,
            14,
            11,
            10,
            4,
            4,
            3,
            1,
            1,
            0,
            0,
            0,
            0,
            0,
            0
           ],
           "xaxis": "x",
           "y": [
            "SO Ngoche ",
            "CO Obuya ",
            "E Otieno ",
            "NM Odhiambo ",
            "LN Oluoch ",
            "RR Patel ",
            "EB Ringera ",
            "P Kerai ",
            "SR Bhudia ",
            "E Ochieng ",
            "JS Kundi ",
            "AR Gandhi ",
            "DM Gondaria ",
            "IA Karim ",
            "AA Obanda ",
            "RN Patel "
           ],
           "yaxis": "y"
          },
          {
           "hovertemplate": "<b>%{hovertext}</b><br><br>Final Region=PNG<br>End=2019<br>Wkts=%{x}<br>Player=%{y}<br>Runs=%{marker.size}<extra></extra>",
           "hovertext": [
            "PNG",
            "PNG",
            "PNG",
            "PNG",
            "PNG",
            "PNG",
            "PNG",
            "PNG",
            "PNG",
            "PNG",
            "PNG",
            "PNG",
            "PNG",
            "PNG",
            "PNG"
           ],
           "ids": [
            "PNG",
            "PNG",
            "PNG",
            "PNG",
            "PNG",
            "PNG",
            "PNG",
            "PNG",
            "PNG",
            "PNG",
            "PNG",
            "PNG",
            "PNG",
            "PNG",
            "PNG"
           ],
           "legendgroup": "PNG",
           "marker": {
            "color": "#B6E880",
            "size": [
             505,
             221,
             249,
             367,
             328,
             153,
             56,
             148,
             79,
             99,
             37,
             5,
             0,
             0,
             0
            ],
            "sizemode": "area",
            "sizeref": 0.0599,
            "symbol": "circle"
           },
           "mode": "markers",
           "name": "PNG",
           "orientation": "h",
           "showlegend": true,
           "type": "scatter",
           "x": [
            35,
            24,
            20,
            19,
            19,
            14,
            9,
            7,
            4,
            3,
            1,
            0,
            0,
            0,
            0
           ],
           "xaxis": "x",
           "y": [
            "N Vanua ",
            "D Ravu ",
            "A Vala ",
            "CJA Amini ",
            "N Pokana ",
            "CA Soper ",
            "L Siaka ",
            "JB Reva ",
            "S Bau ",
            "J Kila ",
            "R Hekure ",
            "H Hiri ",
            "SK Atai ",
            "K Doriga ",
            "TP Ura "
           ],
           "yaxis": "y"
          },
          {
           "hovertemplate": "<b>%{hovertext}</b><br><br>Final Region=HKG<br>End=2019<br>Wkts=%{x}<br>Player=%{y}<br>Runs=%{marker.size}<extra></extra>",
           "hovertext": [
            "HKG",
            "HKG",
            "HKG",
            "HKG",
            "HKG",
            "HKG",
            "HKG",
            "HKG",
            "HKG",
            "HKG",
            "HKG",
            "HKG",
            "HKG",
            "HKG",
            "HKG"
           ],
           "ids": [
            "HKG",
            "HKG",
            "HKG",
            "HKG",
            "HKG",
            "HKG",
            "HKG",
            "HKG",
            "HKG",
            "HKG",
            "HKG",
            "HKG",
            "HKG",
            "HKG",
            "HKG"
           ],
           "legendgroup": "HKG",
           "marker": {
            "color": "#FF97FF",
            "size": [
             692,
             325,
             292,
             162,
             190,
             83,
             152,
             85,
             108,
             49,
             0,
             0,
             0,
             0,
             0
            ],
            "sizemode": "area",
            "sizeref": 0.0599,
            "symbol": "circle"
           },
           "mode": "markers",
           "name": "HKG",
           "orientation": "h",
           "showlegend": true,
           "type": "scatter",
           "x": [
            34,
            14,
            10,
            8,
            5,
            4,
            4,
            3,
            1,
            1,
            0,
            0,
            0,
            0,
            0
           ],
           "xaxis": "x",
           "y": [
            "Aizaz Khan ",
            "Ehsan Khan ",
            "K Christie ",
            "Nasrulla Rana ",
            "KD Shah ",
            "Nizakat Khan ",
            "Waqas Barkat ",
            "Mohammad Ghazanfar ",
            "Haroon Arshad ",
            "Raag Kapur ",
            "Ahsan Abbasi ",
            "A Bhagwat ",
            "SS McKechnie ",
            "Shahid Wasif ",
            "Simandeep Singh "
           ],
           "yaxis": "y"
          },
          {
           "hovertemplate": "<b>%{hovertext}</b><br><br>Final Region=NEPAL<br>End=2019<br>Wkts=%{x}<br>Player=%{y}<br>Runs=%{marker.size}<extra></extra>",
           "hovertext": [
            "NEPAL",
            "NEPAL",
            "NEPAL",
            "NEPAL",
            "NEPAL",
            "NEPAL",
            "NEPAL",
            "NEPAL",
            "NEPAL",
            "NEPAL",
            "NEPAL",
            "NEPAL",
            "NEPAL",
            "NEPAL",
            "NEPAL",
            "NEPAL",
            "NEPAL",
            "NEPAL",
            "NEPAL",
            "NEPAL"
           ],
           "ids": [
            "NEPAL",
            "NEPAL",
            "NEPAL",
            "NEPAL",
            "NEPAL",
            "NEPAL",
            "NEPAL",
            "NEPAL",
            "NEPAL",
            "NEPAL",
            "NEPAL",
            "NEPAL",
            "NEPAL",
            "NEPAL",
            "NEPAL",
            "NEPAL",
            "NEPAL",
            "NEPAL",
            "NEPAL",
            "NEPAL"
           ],
           "legendgroup": "NEPAL",
           "marker": {
            "color": "#FECB52",
            "size": [
             631,
             439,
             644,
             405,
             350,
             231,
             323,
             113,
             58,
             23,
             38,
             19,
             25,
             0,
             0,
             0,
             0,
             0,
             0,
             0
            ],
            "sizemode": "area",
            "sizeref": 0.0599,
            "symbol": "circle"
           },
           "mode": "markers",
           "name": "NEPAL",
           "orientation": "h",
           "showlegend": true,
           "type": "scatter",
           "x": [
            33,
            28,
            26,
            25,
            16,
            10,
            8,
            5,
            2,
            0,
            0,
            0,
            0,
            0,
            0,
            0,
            0,
            0,
            0,
            0
           ],
           "xaxis": "x",
           "y": [
            "Karan KC ",
            "S Lamichhane ",
            "Sompal Kami ",
            "B Regmi ",
            "A Bohara ",
            "LN Rajbanshi ",
            "P Khadka ",
            "S Bhari ",
            "P Sarraf ",
            "DS Airee ",
            "Kushal Malla ",
            "Rashid Khan ",
            "S Vesawkar ",
            "Aarif Sheikh ",
            "PS Airee ",
            "B Bhandari ",
            "S Jora ",
            "G Malla ",
            "I Pandey ",
            "RK Paudel "
           ],
           "yaxis": "y"
          },
          {
           "hovertemplate": "<b>%{hovertext}</b><br><br>Final Region=CAN<br>End=2019<br>Wkts=%{x}<br>Player=%{y}<br>Runs=%{marker.size}<extra></extra>",
           "hovertext": [
            "CAN",
            "CAN",
            "CAN",
            "CAN",
            "CAN",
            "CAN",
            "CAN",
            "CAN",
            "CAN",
            "CAN",
            "CAN",
            "CAN",
            "CAN",
            "CAN",
            "CAN",
            "CAN",
            "CAN"
           ],
           "ids": [
            "CAN",
            "CAN",
            "CAN",
            "CAN",
            "CAN",
            "CAN",
            "CAN",
            "CAN",
            "CAN",
            "CAN",
            "CAN",
            "CAN",
            "CAN",
            "CAN",
            "CAN",
            "CAN",
            "CAN"
           ],
           "legendgroup": "CAN",
           "marker": {
            "color": "#636efa",
            "size": [
             306,
             285,
             204,
             253,
             266,
             382,
             184,
             160,
             43,
             25,
             0,
             0,
             0,
             0,
             0,
             0,
             0
            ],
            "sizemode": "area",
            "sizeref": 0.0599,
            "symbol": "circle"
           },
           "mode": "markers",
           "name": "CAN",
           "orientation": "h",
           "showlegend": true,
           "type": "scatter",
           "x": [
            19,
            17,
            12,
            11,
            10,
            9,
            8,
            7,
            3,
            1,
            0,
            0,
            0,
            0,
            0,
            0,
            0
           ],
           "xaxis": "x",
           "y": [
            "D Heyliger ",
            "Saad Bin Zafar ",
            "GDR Eranga ",
            "N Dutta ",
            "Junaid Siddiqui ",
            "Rizwan Cheema ",
            "JOA Gordon ",
            "NR Kumar ",
            "NS Dhaliwal ",
            "MR Montfort ",
            "Abraash Khan ",
            "Hamza Tariq ",
            "NR Kirton ",
            "Ravinderpal Singh ",
            "H Thaker ",
            "RA Thomas ",
            "SA Wijeyeratne "
           ],
           "yaxis": "y"
          },
          {
           "hovertemplate": "<b>%{hovertext}</b><br><br>Final Region=QAT<br>End=2019<br>Wkts=%{x}<br>Player=%{y}<br>Runs=%{marker.size}<extra></extra>",
           "hovertext": [
            "QAT",
            "QAT",
            "QAT",
            "QAT",
            "QAT",
            "QAT",
            "QAT",
            "QAT",
            "QAT",
            "QAT",
            "QAT",
            "QAT",
            "QAT",
            "QAT",
            "QAT",
            "QAT"
           ],
           "ids": [
            "QAT",
            "QAT",
            "QAT",
            "QAT",
            "QAT",
            "QAT",
            "QAT",
            "QAT",
            "QAT",
            "QAT",
            "QAT",
            "QAT",
            "QAT",
            "QAT",
            "QAT",
            "QAT"
           ],
           "legendgroup": "QAT",
           "marker": {
            "color": "#EF553B",
            "size": [
             426,
             267,
             309,
             364,
             279,
             211,
             132,
             78,
             63,
             48,
             32,
             12,
             0,
             0,
             0,
             0
            ],
            "sizemode": "area",
            "sizeref": 0.0599,
            "symbol": "circle"
           },
           "mode": "markers",
           "name": "QAT",
           "orientation": "h",
           "showlegend": true,
           "type": "scatter",
           "x": [
            26,
            18,
            13,
            11,
            10,
            8,
            8,
            2,
            1,
            0,
            0,
            0,
            0,
            0,
            0,
            0
           ],
           "xaxis": "x",
           "y": [
            "Iqbal Hussain ",
            "Nouman Sarwar ",
            "Tamoor Sajjad ",
            "Mohammed Nadeem ",
            "Awais Malik ",
            "Inam-ul-Haq ",
            "GBW Munaweera ",
            "Imran Ashraf ",
            "Muhammad Tanveer ",
            "Kamran Khan ",
            "Musawar Shah ",
            "Saqlain Arshad ",
            "Faisal Javed ",
            "Mohammed Rizlan ",
            "Qalandar Khan ",
            "Zaheer Ibrahim "
           ],
           "yaxis": "y"
          },
          {
           "hovertemplate": "<b>%{hovertext}</b><br><br>Final Region=JER<br>End=2019<br>Wkts=%{x}<br>Player=%{y}<br>Runs=%{marker.size}<extra></extra>",
           "hovertext": [
            "JER",
            "JER",
            "JER",
            "JER",
            "JER",
            "JER",
            "JER",
            "JER",
            "JER",
            "JER",
            "JER",
            "JER",
            "JER",
            "JER",
            "JER"
           ],
           "ids": [
            "JER",
            "JER",
            "JER",
            "JER",
            "JER",
            "JER",
            "JER",
            "JER",
            "JER",
            "JER",
            "JER",
            "JER",
            "JER",
            "JER",
            "JER"
           ],
           "legendgroup": "JER",
           "marker": {
            "color": "#00cc96",
            "size": [
             395,
             275,
             266,
             266,
             249,
             249,
             155,
             42,
             101,
             14,
             27,
             0,
             0,
             0,
             0
            ],
            "sizemode": "area",
            "sizeref": 0.0599,
            "symbol": "circle"
           },
           "mode": "markers",
           "name": "JER",
           "orientation": "h",
           "showlegend": true,
           "type": "scatter",
           "x": [
            24,
            20,
            17,
            14,
            12,
            10,
            7,
            3,
            3,
            1,
            1,
            0,
            0,
            0,
            0
           ],
           "xaxis": "x",
           "y": [
            "DG Blampied ",
            "CW Perchard ",
            "EJB Miles ",
            "AW Hawkins-Kay ",
            "BDH Stevens ",
            "B Ward ",
            "JTS Sumerauer ",
            "HL Carlyon ",
            "WJR Robertson ",
            "NA Greenwood ",
            "RJG Palmer ",
            "C Bisson ",
            "JSE Dunford ",
            "NJ Ferraby ",
            "JW Jenner "
           ],
           "yaxis": "y"
          },
          {
           "hovertemplate": "<b>%{hovertext}</b><br><br>Final Region=VAN<br>End=2019<br>Wkts=%{x}<br>Player=%{y}<br>Runs=%{marker.size}<extra></extra>",
           "hovertext": [
            "VAN",
            "VAN",
            "VAN",
            "VAN",
            "VAN",
            "VAN",
            "VAN",
            "VAN",
            "VAN",
            "VAN",
            "VAN",
            "VAN",
            "VAN",
            "VAN",
            "VAN",
            "VAN",
            "VAN"
           ],
           "ids": [
            "VAN",
            "VAN",
            "VAN",
            "VAN",
            "VAN",
            "VAN",
            "VAN",
            "VAN",
            "VAN",
            "VAN",
            "VAN",
            "VAN",
            "VAN",
            "VAN",
            "VAN",
            "VAN",
            "VAN"
           ],
           "legendgroup": "VAN",
           "marker": {
            "color": "#ab63fa",
            "size": [
             311,
             176,
             190,
             199,
             315,
             177,
             44,
             164,
             29,
             49,
             72,
             0,
             0,
             0,
             0,
             0,
             0
            ],
            "sizemode": "area",
            "sizeref": 0.0599,
            "symbol": "circle"
           },
           "mode": "markers",
           "name": "VAN",
           "orientation": "h",
           "showlegend": true,
           "type": "scatter",
           "x": [
            24,
            13,
            11,
            9,
            6,
            5,
            5,
            5,
            2,
            1,
            1,
            0,
            0,
            0,
            0,
            0,
            0
           ],
           "xaxis": "x",
           "y": [
            "N Nipiko ",
            "A Mansale ",
            "SH Obed ",
            "PK Matautaava ",
            "JW Chilia ",
            "W Nalisa ",
            "J Rasu ",
            "W Viraliliu ",
            "AL Stephen ",
            "CC Blake ",
            "ZK Shem ",
            "J Dunn ",
            "G Kaltongga ",
            "T Langa ",
            "R Tari ",
            "C Tommy ",
            "J Vira "
           ],
           "yaxis": "y"
          },
          {
           "hovertemplate": "<b>%{hovertext}</b><br><br>Final Region=NAM<br>End=2019<br>Wkts=%{x}<br>Player=%{y}<br>Runs=%{marker.size}<extra></extra>",
           "hovertext": [
            "NAM",
            "NAM",
            "NAM",
            "NAM",
            "NAM",
            "NAM",
            "NAM",
            "NAM",
            "NAM",
            "NAM",
            "NAM",
            "NAM",
            "NAM",
            "NAM",
            "NAM",
            "NAM"
           ],
           "ids": [
            "NAM",
            "NAM",
            "NAM",
            "NAM",
            "NAM",
            "NAM",
            "NAM",
            "NAM",
            "NAM",
            "NAM",
            "NAM",
            "NAM",
            "NAM",
            "NAM",
            "NAM",
            "NAM"
           ],
           "legendgroup": "NAM",
           "marker": {
            "color": "#FFA15A",
            "size": [
             285,
             240,
             236,
             234,
             171,
             142,
             163,
             131,
             88,
             82,
             0,
             0,
             0,
             0,
             0,
             0
            ],
            "sizemode": "area",
            "sizeref": 0.0599,
            "symbol": "circle"
           },
           "mode": "markers",
           "name": "NAM",
           "orientation": "h",
           "showlegend": true,
           "type": "scatter",
           "x": [
            22,
            21,
            20,
            16,
            12,
            9,
            8,
            7,
            4,
            2,
            0,
            0,
            0,
            0,
            0,
            0
           ],
           "xaxis": "x",
           "y": [
            "BM Scholtz ",
            "JN Frylinck ",
            "C Viljoen ",
            "JJ Smit ",
            "MG Erasmus ",
            "CG Williams ",
            "Z Groenewald ",
            "B Shikongo ",
            "T Lungameni ",
            "HN Ya France ",
            "SJ Baard ",
            "K Birkenstock ",
            "N Davin ",
            "ZE Green ",
            "JP Kotze ",
            "L Louwrens "
           ],
           "yaxis": "y"
          },
          {
           "hovertemplate": "<b>%{hovertext}</b><br><br>Final Region=SGP<br>End=2019<br>Wkts=%{x}<br>Player=%{y}<br>Runs=%{marker.size}<extra></extra>",
           "hovertext": [
            "SGP",
            "SGP",
            "SGP",
            "SGP",
            "SGP",
            "SGP",
            "SGP",
            "SGP",
            "SGP",
            "SGP",
            "SGP",
            "SGP",
            "SGP",
            "SGP",
            "SGP",
            "SGP",
            "SGP",
            "SGP"
           ],
           "ids": [
            "SGP",
            "SGP",
            "SGP",
            "SGP",
            "SGP",
            "SGP",
            "SGP",
            "SGP",
            "SGP",
            "SGP",
            "SGP",
            "SGP",
            "SGP",
            "SGP",
            "SGP",
            "SGP",
            "SGP",
            "SGP"
           ],
           "legendgroup": "SGP",
           "marker": {
            "color": "#19d3f3",
            "size": [
             317,
             309,
             204,
             216,
             245,
             121,
             202,
             44,
             55,
             13,
             28,
             15,
             7,
             0,
             0,
             0,
             0,
             0
            ],
            "sizemode": "area",
            "sizeref": 0.0599,
            "symbol": "circle"
           },
           "mode": "markers",
           "name": "SGP",
           "orientation": "h",
           "showlegend": true,
           "type": "scatter",
           "x": [
            19,
            15,
            12,
            6,
            5,
            4,
            3,
            2,
            2,
            1,
            0,
            0,
            0,
            0,
            0,
            0,
            0,
            0
           ],
           "xaxis": "x",
           "y": [
            "Amjad Mahboob ",
            "Janak Prakash ",
            "S Vijayakumar ",
            "Sidhant Singh ",
            "V Baskaran ",
            "A Krishna ",
            "TH David ",
            "AG Achar ",
            "NMS Param ",
            "CR Suryawanshi ",
            "U Aryaman Sunil ",
            "Avi Dixit ",
            "R Rohan ",
            "Aritra Dutta ",
            "S Chandramohan ",
            "R Gaznavi ",
            "Manpreet Singh ",
            "AE Paraam "
           ],
           "yaxis": "y"
          },
          {
           "hovertemplate": "<b>%{hovertext}</b><br><br>Final Region=GER<br>End=2019<br>Wkts=%{x}<br>Player=%{y}<br>Runs=%{marker.size}<extra></extra>",
           "hovertext": [
            "GER",
            "GER",
            "GER",
            "GER",
            "GER",
            "GER",
            "GER",
            "GER",
            "GER",
            "GER",
            "GER",
            "GER",
            "GER",
            "GER",
            "GER",
            "GER",
            "GER",
            "GER"
           ],
           "ids": [
            "GER",
            "GER",
            "GER",
            "GER",
            "GER",
            "GER",
            "GER",
            "GER",
            "GER",
            "GER",
            "GER",
            "GER",
            "GER",
            "GER",
            "GER",
            "GER",
            "GER",
            "GER"
           ],
           "legendgroup": "GER",
           "marker": {
            "color": "#FF6692",
            "size": [
             170,
             101,
             119,
             115,
             52,
             44,
             72,
             57,
             158,
             0,
             0,
             0,
             0,
             0,
             0,
             0,
             0,
             0
            ],
            "sizemode": "area",
            "sizeref": 0.0599,
            "symbol": "circle"
           },
           "mode": "markers",
           "name": "GER",
           "orientation": "h",
           "showlegend": true,
           "type": "scatter",
           "x": [
            14,
            7,
            7,
            6,
            4,
            2,
            2,
            1,
            1,
            0,
            0,
            0,
            0,
            0,
            0,
            0,
            0,
            0
           ],
           "xaxis": "x",
           "y": [
            "Ahmed Wardak ",
            "Abdul-Shakoor Rahimzei ",
            "Muslim Yar ",
            "CAJ Meschede ",
            "Sahir Naqash ",
            "V Ganesan ",
            "Sajid Liaqat ",
            "Amir Mangal ",
            "Asad Mohammad ",
            "VB Chikkannaiah ",
            "Mudassar Muhammad ",
            "R Pillai ",
            "MJ Richardson ",
            "A Sarma ",
            "H Singh ",
            "H Srinivasan ",
            "Talha Khan ",
            "D Weston "
           ],
           "yaxis": "y"
          },
          {
           "hovertemplate": "<b>%{hovertext}</b><br><br>Final Region=MWI<br>End=2019<br>Wkts=%{x}<br>Player=%{y}<br>Runs=%{marker.size}<extra></extra>",
           "hovertext": [
            "MWI",
            "MWI",
            "MWI",
            "MWI",
            "MWI",
            "MWI",
            "MWI",
            "MWI",
            "MWI",
            "MWI",
            "MWI",
            "MWI",
            "MWI",
            "MWI",
            "MWI",
            "MWI"
           ],
           "ids": [
            "MWI",
            "MWI",
            "MWI",
            "MWI",
            "MWI",
            "MWI",
            "MWI",
            "MWI",
            "MWI",
            "MWI",
            "MWI",
            "MWI",
            "MWI",
            "MWI",
            "MWI",
            "MWI"
           ],
           "legendgroup": "MWI",
           "marker": {
            "color": "#B6E880",
            "size": [
             164,
             160,
             76,
             51,
             83,
             106,
             56,
             104,
             60,
             15,
             19,
             0,
             0,
             0,
             0,
             0
            ],
            "sizemode": "area",
            "sizeref": 0.0599,
            "symbol": "circle"
           },
           "mode": "markers",
           "name": "MWI",
           "orientation": "h",
           "showlegend": true,
           "type": "scatter",
           "x": [
            14,
            11,
            6,
            6,
            5,
            5,
            4,
            2,
            1,
            0,
            0,
            0,
            0,
            0,
            0,
            0
           ],
           "xaxis": "x",
           "y": [
            "Sami Sohail ",
            "MA Baig ",
            "M Abdulla ",
            "Irfan Bhima ",
            "MIA Patel ",
            "Usama Master ",
            "GM Ntambalika ",
            "HH Patel ",
            "D Kansonkho ",
            "G Kansonkho ",
            "A Patel ",
            "C Chete ",
            "Mohammed Nurji ",
            "Muhammad Khurram ",
            "M Mwamadi ",
            "F Nkhoma "
           ],
           "yaxis": "y"
          },
          {
           "hovertemplate": "<b>%{hovertext}</b><br><br>Final Region=MAL<br>End=2019<br>Wkts=%{x}<br>Player=%{y}<br>Runs=%{marker.size}<extra></extra>",
           "hovertext": [
            "MAL",
            "MAL",
            "MAL",
            "MAL",
            "MAL",
            "MAL",
            "MAL",
            "MAL",
            "MAL",
            "MAL",
            "MAL",
            "MAL",
            "MAL",
            "MAL",
            "MAL",
            "MAL",
            "MAL",
            "MAL",
            "MAL",
            "MAL",
            "MAL"
           ],
           "ids": [
            "MAL",
            "MAL",
            "MAL",
            "MAL",
            "MAL",
            "MAL",
            "MAL",
            "MAL",
            "MAL",
            "MAL",
            "MAL",
            "MAL",
            "MAL",
            "MAL",
            "MAL",
            "MAL",
            "MAL",
            "MAL",
            "MAL",
            "MAL",
            "MAL"
           ],
           "legendgroup": "MAL",
           "marker": {
            "color": "#FF97FF",
            "size": [
             312,
             249,
             117,
             127,
             260,
             114,
             166,
             187,
             100,
             64,
             135,
             19,
             0,
             0,
             0,
             0,
             0,
             0,
             0,
             0,
             0
            ],
            "sizemode": "area",
            "sizeref": 0.0599,
            "symbol": "circle"
           },
           "mode": "markers",
           "name": "MAL",
           "orientation": "h",
           "showlegend": true,
           "type": "scatter",
           "x": [
            13,
            13,
            11,
            11,
            9,
            5,
            4,
            4,
            3,
            3,
            3,
            0,
            0,
            0,
            0,
            0,
            0,
            0,
            0,
            0,
            0
           ],
           "xaxis": "x",
           "y": [
            "Fitri Sham ",
            "Pavandeep Singh ",
            "Anwar Rahman ",
            "Muhamad Syahadat ",
            "S Muniandy ",
            "Muhammad Wafiq ",
            "Nazril Rahman ",
            "Syed Aziz ",
            "NCK Liyanage ",
            "Syazrul Idrus ",
            "Virandeep Singh ",
            "Mohamed Arief ",
            "Ahmed Faiz ",
            "Ainool Hafizs ",
            "Ainool Haqqiem ",
            "Anwar Arudin ",
            "Muhammad Amir ",
            "Aminuddin Ramly ",
            "Shafiq Sharif ",
            "P Syafiq Ali ",
            "Zubaidi Zulkifle "
           ],
           "yaxis": "y"
          },
          {
           "hovertemplate": "<b>%{hovertext}</b><br><br>Final Region=BMUDA<br>End=2019<br>Wkts=%{x}<br>Player=%{y}<br>Runs=%{marker.size}<extra></extra>",
           "hovertext": [
            "BMUDA",
            "BMUDA",
            "BMUDA",
            "BMUDA",
            "BMUDA",
            "BMUDA",
            "BMUDA",
            "BMUDA",
            "BMUDA",
            "BMUDA",
            "BMUDA",
            "BMUDA",
            "BMUDA",
            "BMUDA",
            "BMUDA",
            "BMUDA",
            "BMUDA"
           ],
           "ids": [
            "BMUDA",
            "BMUDA",
            "BMUDA",
            "BMUDA",
            "BMUDA",
            "BMUDA",
            "BMUDA",
            "BMUDA",
            "BMUDA",
            "BMUDA",
            "BMUDA",
            "BMUDA",
            "BMUDA",
            "BMUDA",
            "BMUDA",
            "BMUDA",
            "BMUDA"
           ],
           "legendgroup": "BMUDA",
           "marker": {
            "color": "#FECB52",
            "size": [
             232,
             210,
             117,
             277,
             30,
             285,
             116,
             126,
             84,
             50,
             62,
             14,
             21,
             0,
             0,
             0,
             0
            ],
            "sizemode": "area",
            "sizeref": 0.0599,
            "symbol": "circle"
           },
           "mode": "markers",
           "name": "BMUDA",
           "orientation": "h",
           "showlegend": true,
           "type": "scatter",
           "x": [
            13,
            9,
            8,
            8,
            5,
            5,
            4,
            4,
            1,
            1,
            1,
            0,
            0,
            0,
            0,
            0,
            0
           ],
           "xaxis": "x",
           "y": [
            "GH O'Brien ",
            "KS Leverock ",
            "OGL Bascome ",
            "RJ Trott ",
            "AC Douglas ",
            "DMW Rawlins ",
            "MO Jones ",
            "DC Stovell ",
            "DL Brangman ",
            "JE Pitcher ",
            "JJ Tucker ",
            "DAP Darrell ",
            "M Simmons ",
            "O Bascome ",
            "OO Bascome ",
            "TS Fray ",
            "S Smith "
           ],
           "yaxis": "y"
          },
          {
           "hovertemplate": "<b>%{hovertext}</b><br><br>Final Region=ITA<br>End=2019<br>Wkts=%{x}<br>Player=%{y}<br>Runs=%{marker.size}<extra></extra>",
           "hovertext": [
            "ITA",
            "ITA",
            "ITA",
            "ITA",
            "ITA",
            "ITA",
            "ITA",
            "ITA",
            "ITA",
            "ITA",
            "ITA",
            "ITA",
            "ITA",
            "ITA",
            "ITA"
           ],
           "ids": [
            "ITA",
            "ITA",
            "ITA",
            "ITA",
            "ITA",
            "ITA",
            "ITA",
            "ITA",
            "ITA",
            "ITA",
            "ITA",
            "ITA",
            "ITA",
            "ITA",
            "ITA"
           ],
           "legendgroup": "ITA",
           "marker": {
            "color": "#636efa",
            "size": [
             127,
             191,
             147,
             152,
             120,
             42,
             35,
             53,
             0,
             0,
             0,
             0,
             0,
             0,
             0
            ],
            "sizemode": "area",
            "sizeref": 0.0599,
            "symbol": "circle"
           },
           "mode": "markers",
           "name": "ITA",
           "orientation": "h",
           "showlegend": true,
           "type": "scatter",
           "x": [
            12,
            9,
            8,
            7,
            7,
            2,
            1,
            1,
            0,
            0,
            0,
            0,
            0,
            0,
            0
           ],
           "xaxis": "x",
           "y": [
            "Baljit Singh ",
            "GRD Munasinghe ",
            "Rakibul Hasan ",
            "NA Maiolo ",
            "MJ Ross ",
            "S Arachchige ",
            "Charanjeet Singh ",
            "Jaspreet Singh ",
            "Anam Mollik ",
            "Fida Hussain ",
            "Manpreet Singh ",
            "GP Meade ",
            "BBJL Perera ",
            "Rehman Abdul ",
            "Simranjit Singh "
           ],
           "yaxis": "y"
          },
          {
           "hovertemplate": "<b>%{hovertext}</b><br><br>Final Region=GUE<br>End=2019<br>Wkts=%{x}<br>Player=%{y}<br>Runs=%{marker.size}<extra></extra>",
           "hovertext": [
            "GUE",
            "GUE",
            "GUE",
            "GUE",
            "GUE",
            "GUE",
            "GUE",
            "GUE",
            "GUE",
            "GUE",
            "GUE",
            "GUE",
            "GUE",
            "GUE",
            "GUE",
            "GUE"
           ],
           "ids": [
            "GUE",
            "GUE",
            "GUE",
            "GUE",
            "GUE",
            "GUE",
            "GUE",
            "GUE",
            "GUE",
            "GUE",
            "GUE",
            "GUE",
            "GUE",
            "GUE",
            "GUE",
            "GUE"
           ],
           "legendgroup": "GUE",
           "marker": {
            "color": "#EF553B",
            "size": [
             207,
             211,
             198,
             59,
             152,
             93,
             76,
             44,
             32,
             15,
             0,
             0,
             0,
             0,
             0,
             0
            ],
            "sizemode": "area",
            "sizeref": 0.0599,
            "symbol": "circle"
           },
           "mode": "markers",
           "name": "GUE",
           "orientation": "h",
           "showlegend": true,
           "type": "scatter",
           "x": [
            12,
            9,
            9,
            6,
            5,
            4,
            3,
            2,
            1,
            0,
            0,
            0,
            0,
            0,
            0,
            0
           ],
           "xaxis": "x",
           "y": [
            "LC Le Tissier ",
            "DR Hooper ",
            "WA Peatfield ",
            "JL Martel ",
            "ACF Stokes ",
            "TCW Veillard ",
            "N Buckle ",
            "L Nussbaumer ",
            "C Vorster ",
            "J Butler ",
            "LJ Barker ",
            "LB Ferbrache ",
            "TCR Kimber ",
            "OE Newey ",
            "MWR Stokes ",
            "AS Wright "
           ],
           "yaxis": "y"
          },
          {
           "hovertemplate": "<b>%{hovertext}</b><br><br>Final Region=KUW<br>End=2019<br>Wkts=%{x}<br>Player=%{y}<br>Runs=%{marker.size}<extra></extra>",
           "hovertext": [
            "KUW",
            "KUW",
            "KUW",
            "KUW",
            "KUW",
            "KUW",
            "KUW",
            "KUW",
            "KUW",
            "KUW",
            "KUW",
            "KUW",
            "KUW",
            "KUW",
            "KUW",
            "KUW",
            "KUW",
            "KUW",
            "KUW",
            "KUW",
            "KUW",
            "KUW"
           ],
           "ids": [
            "KUW",
            "KUW",
            "KUW",
            "KUW",
            "KUW",
            "KUW",
            "KUW",
            "KUW",
            "KUW",
            "KUW",
            "KUW",
            "KUW",
            "KUW",
            "KUW",
            "KUW",
            "KUW",
            "KUW",
            "KUW",
            "KUW",
            "KUW",
            "KUW",
            "KUW"
           ],
           "legendgroup": "KUW",
           "marker": {
            "color": "#ab63fa",
            "size": [
             212,
             160,
             136,
             112,
             192,
             99,
             85,
             102,
             140,
             67,
             56,
             79,
             11,
             28,
             16,
             0,
             0,
             0,
             0,
             0,
             0,
             0
            ],
            "sizemode": "area",
            "sizeref": 0.0599,
            "symbol": "circle"
           },
           "mode": "markers",
           "name": "KUW",
           "orientation": "h",
           "showlegend": true,
           "type": "scatter",
           "x": [
            12,
            9,
            7,
            4,
            4,
            4,
            3,
            3,
            3,
            1,
            1,
            1,
            0,
            0,
            0,
            0,
            0,
            0,
            0,
            0,
            0,
            0
           ],
           "xaxis": "x",
           "y": [
            "Muhammad Kashif ",
            "Ilyas Ahmed ",
            "Imran Ali ",
            "Jandu Hamoud ",
            "Mohammad Ahsan ",
            "MM Sarwar ",
            "MNM Aslam ",
            "UKPW Kumaranayaka ",
            "Shiraz Khan ",
            "Adnan Idrees ",
            "Fiaz Ahmad ",
            "A Makesh ",
            "Meet Bhavsar ",
            "Mohammed Asghar ",
            "Nawaf Ahmed ",
            "Bilal Tahir ",
            "Mohammad Amin ",
            "R Sandaruwan ",
            "D Sheeli ",
            "Usman Waheed ",
            "S Varathappan ",
            "Yasar Idrees "
           ],
           "yaxis": "y"
          },
          {
           "hovertemplate": "<b>%{hovertext}</b><br><br>Final Region=USA<br>End=2019<br>Wkts=%{x}<br>Player=%{y}<br>Runs=%{marker.size}<extra></extra>",
           "hovertext": [
            "USA",
            "USA",
            "USA",
            "USA",
            "USA",
            "USA",
            "USA",
            "USA",
            "USA",
            "USA",
            "USA",
            "USA",
            "USA",
            "USA",
            "USA",
            "USA"
           ],
           "ids": [
            "USA",
            "USA",
            "USA",
            "USA",
            "USA",
            "USA",
            "USA",
            "USA",
            "USA",
            "USA",
            "USA",
            "USA",
            "USA",
            "USA",
            "USA",
            "USA"
           ],
           "legendgroup": "USA",
           "marker": {
            "color": "#FFA15A",
            "size": [
             146,
             257,
             70,
             140,
             61,
             161,
             67,
             70,
             28,
             28,
             20,
             19,
             0,
             0,
             0,
             0
            ],
            "sizemode": "area",
            "sizeref": 0.0599,
            "symbol": "circle"
           },
           "mode": "markers",
           "name": "USA",
           "orientation": "h",
           "showlegend": true,
           "type": "scatter",
           "x": [
            11,
            10,
            8,
            7,
            5,
            4,
            3,
            3,
            2,
            1,
            0,
            0,
            0,
            0,
            0,
            0
           ],
           "xaxis": "x",
           "y": [
            "TK Patel ",
            "HR Walsh ",
            "K Gore ",
            "Jasdeep Singh ",
            "NK Patel ",
            "SN Netravalkar ",
            "CJ Gannon ",
            "SR Taylor ",
            "Aaron Jones ",
            "TP Allen ",
            "EH Hutchinson ",
            "KRP Silva ",
            "JS Malhotra ",
            "XM Marshall ",
            "MD Patel ",
            "S Sohal "
           ],
           "yaxis": "y"
          },
          {
           "hovertemplate": "<b>%{hovertext}</b><br><br>Final Region=ESP<br>End=2019<br>Wkts=%{x}<br>Player=%{y}<br>Runs=%{marker.size}<extra></extra>",
           "hovertext": [
            "ESP",
            "ESP",
            "ESP",
            "ESP",
            "ESP",
            "ESP",
            "ESP",
            "ESP",
            "ESP",
            "ESP",
            "ESP",
            "ESP",
            "ESP",
            "ESP",
            "ESP",
            "ESP",
            "ESP",
            "ESP"
           ],
           "ids": [
            "ESP",
            "ESP",
            "ESP",
            "ESP",
            "ESP",
            "ESP",
            "ESP",
            "ESP",
            "ESP",
            "ESP",
            "ESP",
            "ESP",
            "ESP",
            "ESP",
            "ESP",
            "ESP",
            "ESP",
            "ESP"
           ],
           "legendgroup": "ESP",
           "marker": {
            "color": "#19d3f3",
            "size": [
             154,
             86,
             143,
             105,
             139,
             48,
             52,
             41,
             36,
             60,
             100,
             32,
             22,
             9,
             0,
             0,
             0,
             0
            ],
            "sizemode": "area",
            "sizeref": 0.0599,
            "symbol": "circle"
           },
           "mode": "markers",
           "name": "ESP",
           "orientation": "h",
           "showlegend": true,
           "type": "scatter",
           "x": [
            9,
            9,
            8,
            8,
            7,
            5,
            5,
            3,
            3,
            3,
            2,
            1,
            0,
            0,
            0,
            0,
            0,
            0
           ],
           "xaxis": "x",
           "y": [
            "Atif Mehmood ",
            "PD Hennessy ",
            "Faran Afzal ",
            "TC Vine ",
            "R Panchal ",
            "Tauqeer Hussain ",
            "Yasir Ali ",
            "J Perman ",
            "Raja Adeel ",
            "Zulqarnain Haider ",
            "Kuldeep Lal ",
            "NH Naureen ",
            "Hamza Dar ",
            "Muhammad Asjed ",
            "Awais Ahmed ",
            "Mukhtiar Singh ",
            "C Munoz-Mills ",
            "Vinod Kumar "
           ],
           "yaxis": "y"
          },
          {
           "hovertemplate": "<b>%{hovertext}</b><br><br>Final Region=DEN<br>End=2019<br>Wkts=%{x}<br>Player=%{y}<br>Runs=%{marker.size}<extra></extra>",
           "hovertext": [
            "DEN",
            "DEN",
            "DEN",
            "DEN",
            "DEN",
            "DEN",
            "DEN",
            "DEN",
            "DEN",
            "DEN",
            "DEN",
            "DEN",
            "DEN",
            "DEN",
            "DEN",
            "DEN",
            "DEN",
            "DEN",
            "DEN"
           ],
           "ids": [
            "DEN",
            "DEN",
            "DEN",
            "DEN",
            "DEN",
            "DEN",
            "DEN",
            "DEN",
            "DEN",
            "DEN",
            "DEN",
            "DEN",
            "DEN",
            "DEN",
            "DEN",
            "DEN",
            "DEN",
            "DEN",
            "DEN"
           ],
           "legendgroup": "DEN",
           "marker": {
            "color": "#FF6692",
            "size": [
             113,
             105,
             76,
             129,
             86,
             40,
             11,
             14,
             98,
             40,
             12,
             9,
             11,
             0,
             0,
             0,
             0,
             0,
             0
            ],
            "sizemode": "area",
            "sizeref": 0.0599,
            "symbol": "circle"
           },
           "mode": "markers",
           "name": "DEN",
           "orientation": "h",
           "showlegend": true,
           "type": "scatter",
           "x": [
            9,
            9,
            7,
            7,
            5,
            4,
            3,
            2,
            2,
            2,
            1,
            0,
            0,
            0,
            0,
            0,
            0,
            0,
            0
           ],
           "xaxis": "x",
           "y": [
            "OD Hald ",
            "ND Laegsgaard ",
            "Bashir Shah ",
            "Delawar Khan ",
            "HAM Shah ",
            "SA Ahmad ",
            "Musa Shaheen ",
            "Anique Uddin ",
            "J Jojo ",
            "Lucky Ali ",
            "I Sawmy ",
            "Abdullah Mahmood ",
            "Omar Hayat ",
            "Abdul Hashmi ",
            "TS Bharaj ",
            "A Bulow ",
            "Rizwan Mahmood ",
            "Zameer Khan ",
            "Zishan Shah "
           ],
           "yaxis": "y"
          },
          {
           "hovertemplate": "<b>%{hovertext}</b><br><br>Final Region=CZK-R<br>End=2019<br>Wkts=%{x}<br>Player=%{y}<br>Runs=%{marker.size}<extra></extra>",
           "hovertext": [
            "CZK-R",
            "CZK-R",
            "CZK-R",
            "CZK-R",
            "CZK-R",
            "CZK-R",
            "CZK-R",
            "CZK-R",
            "CZK-R",
            "CZK-R",
            "CZK-R",
            "CZK-R",
            "CZK-R",
            "CZK-R",
            "CZK-R"
           ],
           "ids": [
            "CZK-R",
            "CZK-R",
            "CZK-R",
            "CZK-R",
            "CZK-R",
            "CZK-R",
            "CZK-R",
            "CZK-R",
            "CZK-R",
            "CZK-R",
            "CZK-R",
            "CZK-R",
            "CZK-R",
            "CZK-R",
            "CZK-R"
           ],
           "legendgroup": "CZK-R",
           "marker": {
            "color": "#B6E880",
            "size": [
             133,
             144,
             23,
             103,
             78,
             66,
             93,
             99,
             56,
             22,
             16,
             0,
             0,
             0,
             0
            ],
            "sizemode": "area",
            "sizeref": 0.0599,
            "symbol": "circle"
           },
           "mode": "markers",
           "name": "CZK-R",
           "orientation": "h",
           "showlegend": true,
           "type": "scatter",
           "x": [
            8,
            8,
            6,
            5,
            4,
            4,
            3,
            2,
            1,
            1,
            0,
            0,
            0,
            0,
            0
           ],
           "xaxis": "x",
           "y": [
            "H Gori ",
            "P Taylor ",
            "S Davizi ",
            "Arshad Hayat ",
            "K Mendon ",
            "SMK Waththage ",
            "S Wickramasekara ",
            "S Rakshit ",
            "Naveed Ahmed ",
            "S Pokhriyal ",
            "A Ashokan ",
            "S Dalton ",
            "S Goud ",
            "Hilal Ahmad ",
            "EB Knowles "
           ],
           "yaxis": "y"
          },
          {
           "hovertemplate": "<b>%{hovertext}</b><br><br>Final Region=ROM<br>End=2019<br>Wkts=%{x}<br>Player=%{y}<br>Runs=%{marker.size}<extra></extra>",
           "hovertext": [
            "ROM",
            "ROM",
            "ROM",
            "ROM",
            "ROM",
            "ROM",
            "ROM",
            "ROM",
            "ROM",
            "ROM",
            "ROM",
            "ROM",
            "ROM",
            "ROM",
            "ROM",
            "ROM"
           ],
           "ids": [
            "ROM",
            "ROM",
            "ROM",
            "ROM",
            "ROM",
            "ROM",
            "ROM",
            "ROM",
            "ROM",
            "ROM",
            "ROM",
            "ROM",
            "ROM",
            "ROM",
            "ROM",
            "ROM"
           ],
           "legendgroup": "ROM",
           "marker": {
            "color": "#FF97FF",
            "size": [
             44,
             98,
             10,
             89,
             4,
             4,
             63,
             31,
             27,
             10,
             4,
             0,
             0,
             0,
             0,
             0
            ],
            "sizemode": "area",
            "sizeref": 0.0599,
            "symbol": "circle"
           },
           "mode": "markers",
           "name": "ROM",
           "orientation": "h",
           "showlegend": true,
           "type": "scatter",
           "x": [
            8,
            5,
            3,
            3,
            3,
            3,
            2,
            2,
            0,
            0,
            0,
            0,
            0,
            0,
            0,
            0
           ],
           "xaxis": "x",
           "y": [
            "R Satheesan ",
            "R Kumar ",
            "P Florin ",
            "Ijaz Hussain ",
            "R Pisal ",
            "C Zavoiu ",
            "Sadeeq Khan ",
            "S Vashisht ",
            "D Manani ",
            "S Nadigotla ",
            "S Periyalwar ",
            "Abdul Shakoor ",
            "P Danci ",
            "L Gharasim ",
            "Imran Haider ",
            "G Manan "
           ],
           "yaxis": "y"
          },
          {
           "hovertemplate": "<b>%{hovertext}</b><br><br>Final Region=UGA<br>End=2019<br>Wkts=%{x}<br>Player=%{y}<br>Runs=%{marker.size}<extra></extra>",
           "hovertext": [
            "UGA",
            "UGA",
            "UGA",
            "UGA",
            "UGA",
            "UGA",
            "UGA",
            "UGA",
            "UGA",
            "UGA",
            "UGA",
            "UGA",
            "UGA",
            "UGA"
           ],
           "ids": [
            "UGA",
            "UGA",
            "UGA",
            "UGA",
            "UGA",
            "UGA",
            "UGA",
            "UGA",
            "UGA",
            "UGA",
            "UGA",
            "UGA",
            "UGA",
            "UGA"
           ],
           "legendgroup": "UGA",
           "marker": {
            "color": "#FECB52",
            "size": [
             115,
             93,
             48,
             14,
             46,
             53,
             35,
             58,
             40,
             8,
             0,
             0,
             0,
             0
            ],
            "sizemode": "area",
            "sizeref": 0.0599,
            "symbol": "circle"
           },
           "mode": "markers",
           "name": "UGA",
           "orientation": "h",
           "showlegend": true,
           "type": "scatter",
           "x": [
            8,
            5,
            3,
            2,
            2,
            1,
            1,
            1,
            0,
            0,
            0,
            0,
            0,
            0
           ],
           "xaxis": "x",
           "y": [
            "C Waiswa ",
            "DM Nakrani ",
            "H Ssenyondo ",
            "B Masaba ",
            "F Nsubuga ",
            "E Isaneez ",
            "D Muhumuza ",
            "Riazat Ali Shah ",
            "RG Mukasa ",
            "R Olipa ",
            "F Achelam ",
            "Z Arinaitwe ",
            "HB Kayondo ",
            "A Otwani "
           ],
           "yaxis": "y"
          },
          {
           "hovertemplate": "<b>%{hovertext}</b><br><br>Final Region=LUX<br>End=2019<br>Wkts=%{x}<br>Player=%{y}<br>Runs=%{marker.size}<extra></extra>",
           "hovertext": [
            "LUX",
            "LUX",
            "LUX",
            "LUX",
            "LUX",
            "LUX",
            "LUX",
            "LUX",
            "LUX",
            "LUX",
            "LUX",
            "LUX",
            "LUX",
            "LUX"
           ],
           "ids": [
            "LUX",
            "LUX",
            "LUX",
            "LUX",
            "LUX",
            "LUX",
            "LUX",
            "LUX",
            "LUX",
            "LUX",
            "LUX",
            "LUX",
            "LUX",
            "LUX"
           ],
           "legendgroup": "LUX",
           "marker": {
            "color": "#636efa",
            "size": [
             47,
             61,
             45,
             90,
             93,
             62,
             30,
             38,
             72,
             0,
             0,
             0,
             0,
             0
            ],
            "sizemode": "area",
            "sizeref": 0.0599,
            "symbol": "circle"
           },
           "mode": "markers",
           "name": "LUX",
           "orientation": "h",
           "showlegend": true,
           "type": "scatter",
           "x": [
            7,
            3,
            3,
            2,
            1,
            1,
            1,
            1,
            0,
            0,
            0,
            0,
            0,
            0
           ],
           "xaxis": "x",
           "y": [
            "A Nanda ",
            "M Cope ",
            "Suhail Sadiq ",
            "Atif Kamal ",
            "M Dixit ",
            "C Fry ",
            "R Neale ",
            "T Whiteman ",
            "V Vijh ",
            "J Barker ",
            "TC Barker ",
            "J Mees ",
            "G Venkateswaran ",
            "R Vishwanath "
           ],
           "yaxis": "y"
          },
          {
           "hovertemplate": "<b>%{hovertext}</b><br><br>Final Region=NGA<br>End=2019<br>Wkts=%{x}<br>Player=%{y}<br>Runs=%{marker.size}<extra></extra>",
           "hovertext": [
            "NGA",
            "NGA",
            "NGA",
            "NGA",
            "NGA",
            "NGA",
            "NGA",
            "NGA",
            "NGA",
            "NGA",
            "NGA",
            "NGA",
            "NGA",
            "NGA",
            "NGA",
            "NGA",
            "NGA",
            "NGA"
           ],
           "ids": [
            "NGA",
            "NGA",
            "NGA",
            "NGA",
            "NGA",
            "NGA",
            "NGA",
            "NGA",
            "NGA",
            "NGA",
            "NGA",
            "NGA",
            "NGA",
            "NGA",
            "NGA",
            "NGA",
            "NGA",
            "NGA"
           ],
           "legendgroup": "NGA",
           "marker": {
            "color": "#EF553B",
            "size": [
             135,
             151,
             188,
             94,
             76,
             52,
             87,
             65,
             41,
             23,
             44,
             7,
             21,
             0,
             0,
             0,
             0,
             0
            ],
            "sizemode": "area",
            "sizeref": 0.0599,
            "symbol": "circle"
           },
           "mode": "markers",
           "name": "NGA",
           "orientation": "h",
           "showlegend": true,
           "type": "scatter",
           "x": [
            6,
            6,
            6,
            6,
            4,
            4,
            3,
            2,
            2,
            2,
            1,
            0,
            0,
            0,
            0,
            0,
            0,
            0
           ],
           "xaxis": "x",
           "y": [
            "VD Adewoye ",
            "CM Akachukwu ",
            "IO Okpe ",
            "SA Okpe ",
            "D Ajekun ",
            "I Danladi ",
            "AS Abioye ",
            "D Gim ",
            "Mohameed Taiwo ",
            "SI Runsewe ",
            "AM Oyede ",
            "RA Abolarin ",
            "S Adedeji ",
            "AJ Ayannaike ",
            "Gershon Yusuf ",
            "AA Onikoyi ",
            "CN Onwuzulike ",
            "Ovais Yousof "
           ],
           "yaxis": "y"
          },
          {
           "hovertemplate": "<b>%{hovertext}</b><br><br>Final Region=THAI<br>End=2019<br>Wkts=%{x}<br>Player=%{y}<br>Runs=%{marker.size}<extra></extra>",
           "hovertext": [
            "THAI",
            "THAI",
            "THAI",
            "THAI",
            "THAI",
            "THAI",
            "THAI",
            "THAI",
            "THAI",
            "THAI",
            "THAI",
            "THAI",
            "THAI"
           ],
           "ids": [
            "THAI",
            "THAI",
            "THAI",
            "THAI",
            "THAI",
            "THAI",
            "THAI",
            "THAI",
            "THAI",
            "THAI",
            "THAI",
            "THAI",
            "THAI"
           ],
           "legendgroup": "THAI",
           "marker": {
            "color": "#00cc96",
            "size": [
             103,
             26,
             51,
             90,
             60,
             35,
             25,
             25,
             12,
             58,
             29,
             0,
             0
            ],
            "sizemode": "area",
            "sizeref": 0.0599,
            "symbol": "circle"
           },
           "mode": "markers",
           "name": "THAI",
           "orientation": "h",
           "showlegend": true,
           "type": "scatter",
           "x": [
            6,
            4,
            3,
            3,
            2,
            1,
            1,
            0,
            0,
            0,
            0,
            0,
            0
           ],
           "xaxis": "x",
           "y": [
            "M Faheem ",
            "DF Jacobs ",
            "Z Hoque ",
            "Vichanath Singh ",
            "N Pathan ",
            "S Hongsi ",
            "Md Shafiqul Haque ",
            "Anowarul Islam ",
            "NA Janes ",
            "C Pengkumta ",
            "K Senamontree ",
            "HJ Jordaan ",
            "K Suttisan "
           ],
           "yaxis": "y"
          },
          {
           "hovertemplate": "<b>%{hovertext}</b><br><br>Final Region=GIBR<br>End=2019<br>Wkts=%{x}<br>Player=%{y}<br>Runs=%{marker.size}<extra></extra>",
           "hovertext": [
            "GIBR",
            "GIBR",
            "GIBR",
            "GIBR",
            "GIBR",
            "GIBR",
            "GIBR",
            "GIBR",
            "GIBR",
            "GIBR",
            "GIBR",
            "GIBR",
            "GIBR",
            "GIBR"
           ],
           "ids": [
            "GIBR",
            "GIBR",
            "GIBR",
            "GIBR",
            "GIBR",
            "GIBR",
            "GIBR",
            "GIBR",
            "GIBR",
            "GIBR",
            "GIBR",
            "GIBR",
            "GIBR",
            "GIBR"
           ],
           "legendgroup": "GIBR",
           "marker": {
            "color": "#ab63fa",
            "size": [
             82,
             63,
             51,
             79,
             12,
             12,
             22,
             33,
             54,
             7,
             0,
             0,
             0,
             0
            ],
            "sizemode": "area",
            "sizeref": 0.0599,
            "symbol": "circle"
           },
           "mode": "markers",
           "name": "GIBR",
           "orientation": "h",
           "showlegend": true,
           "type": "scatter",
           "x": [
            6,
            4,
            2,
            2,
            1,
            1,
            0,
            0,
            0,
            0,
            0,
            0,
            0,
            0
           ],
           "xaxis": "x",
           "y": [
            "BA Pai ",
            "MG Hunter ",
            "MO Bacarese ",
            "E Packard ",
            "N Advani ",
            "MD Garratt ",
            "JA Fitzgerald ",
            "RJ Hatchman ",
            "K Nestor ",
            "A Orfila ",
            "T Caruana ",
            "LA Collado ",
            "CJ Delany ",
            "JD Freyone "
           ],
           "yaxis": "y"
          },
          {
           "hovertemplate": "<b>%{hovertext}</b><br><br>Final Region=PORT<br>End=2019<br>Wkts=%{x}<br>Player=%{y}<br>Runs=%{marker.size}<extra></extra>",
           "hovertext": [
            "PORT",
            "PORT",
            "PORT",
            "PORT",
            "PORT",
            "PORT",
            "PORT",
            "PORT",
            "PORT",
            "PORT",
            "PORT",
            "PORT"
           ],
           "ids": [
            "PORT",
            "PORT",
            "PORT",
            "PORT",
            "PORT",
            "PORT",
            "PORT",
            "PORT",
            "PORT",
            "PORT",
            "PORT",
            "PORT"
           ],
           "legendgroup": "PORT",
           "marker": {
            "color": "#FFA15A",
            "size": [
             70,
             65,
             86,
             65,
             85,
             51,
             13,
             0,
             0,
             0,
             0,
             0
            ],
            "sizemode": "area",
            "sizeref": 0.0599,
            "symbol": "circle"
           },
           "mode": "markers",
           "name": "PORT",
           "orientation": "h",
           "showlegend": true,
           "type": "scatter",
           "x": [
            6,
            4,
            3,
            2,
            2,
            1,
            0,
            0,
            0,
            0,
            0,
            0
           ],
           "xaxis": "x",
           "y": [
            "Tariq Aziz ",
            "Najjam Shahzad ",
            "P Buccimazza ",
            "Ali Naqi ",
            "Fakhrul Mohon ",
            "Zohaib Sarwar ",
            "Imran Khan ",
            "Aamer Ikram ",
            "Arslan Ahmed ",
            "Mian Mehmood ",
            "S Singh ",
            "F Stoman "
           ],
           "yaxis": "y"
          },
          {
           "hovertemplate": "<b>%{hovertext}</b><br><br>Final Region=BAH<br>End=2019<br>Wkts=%{x}<br>Player=%{y}<br>Runs=%{marker.size}<extra></extra>",
           "hovertext": [
            "BAH",
            "BAH",
            "BAH",
            "BAH",
            "BAH",
            "BAH",
            "BAH",
            "BAH",
            "BAH",
            "BAH",
            "BAH",
            "BAH",
            "BAH"
           ],
           "ids": [
            "BAH",
            "BAH",
            "BAH",
            "BAH",
            "BAH",
            "BAH",
            "BAH",
            "BAH",
            "BAH",
            "BAH",
            "BAH",
            "BAH",
            "BAH"
           ],
           "legendgroup": "BAH",
           "marker": {
            "color": "#19d3f3",
            "size": [
             70,
             134,
             128,
             63,
             60,
             68,
             1,
             119,
             20,
             0,
             0,
             0,
             0
            ],
            "sizemode": "area",
            "sizeref": 0.0599,
            "symbol": "circle"
           },
           "mode": "markers",
           "name": "BAH",
           "orientation": "h",
           "showlegend": true,
           "type": "scatter",
           "x": [
            5,
            5,
            3,
            2,
            2,
            1,
            0,
            0,
            0,
            0,
            0,
            0,
            0
           ],
           "xaxis": "x",
           "y": [
            "Babar Ali ",
            "Imran Anwar ",
            "Tahir Dar ",
            "Muhammad Rafique ",
            "Sarfaraz Ali ",
            "Qasim Zia ",
            "Ammad Uddin ",
            "Anasim Khan ",
            "Zeeshan Abbas ",
            "Adil Hanif ",
            "Fiaz Ahmed ",
            "Imran Ali Butt ",
            "Shahbaz Badar "
           ],
           "yaxis": "y"
          },
          {
           "hovertemplate": "<b>%{hovertext}</b><br><br>Final Region=NOR<br>End=2019<br>Wkts=%{x}<br>Player=%{y}<br>Runs=%{marker.size}<extra></extra>",
           "hovertext": [
            "NOR",
            "NOR",
            "NOR",
            "NOR",
            "NOR",
            "NOR",
            "NOR",
            "NOR",
            "NOR",
            "NOR",
            "NOR",
            "NOR",
            "NOR",
            "NOR"
           ],
           "ids": [
            "NOR",
            "NOR",
            "NOR",
            "NOR",
            "NOR",
            "NOR",
            "NOR",
            "NOR",
            "NOR",
            "NOR",
            "NOR",
            "NOR",
            "NOR",
            "NOR"
           ],
           "legendgroup": "NOR",
           "marker": {
            "color": "#FF6692",
            "size": [
             85,
             83,
             68,
             81,
             104,
             16,
             37,
             31,
             13,
             13,
             22,
             4,
             0,
             0
            ],
            "sizemode": "area",
            "sizeref": 0.0599,
            "symbol": "circle"
           },
           "mode": "markers",
           "name": "NOR",
           "orientation": "h",
           "showlegend": true,
           "type": "scatter",
           "x": [
            5,
            5,
            3,
            3,
            2,
            1,
            1,
            1,
            0,
            0,
            0,
            0,
            0,
            0
           ],
           "xaxis": "x",
           "y": [
            "Raza Iqbal ",
            "S Waqas Ahmed ",
            "P Bhart ",
            "Hayatullah Niazi ",
            "Junaid Sheikh ",
            "Nazakat Ali ",
            "Tafseer Ali ",
            "Walid Ghauri ",
            "Abdullah Sheikh ",
            "Ansar Iqbal ",
            "Javed Maroofkhail ",
            "E Ul Haq ",
            "P Agnihotri ",
            "Khizer Ahmed "
           ],
           "yaxis": "y"
          },
          {
           "hovertemplate": "<b>%{hovertext}</b><br><br>Final Region=PNM<br>End=2019<br>Wkts=%{x}<br>Player=%{y}<br>Runs=%{marker.size}<extra></extra>",
           "hovertext": [
            "PNM",
            "PNM",
            "PNM",
            "PNM",
            "PNM",
            "PNM",
            "PNM",
            "PNM",
            "PNM",
            "PNM",
            "PNM",
            "PNM",
            "PNM",
            "PNM"
           ],
           "ids": [
            "PNM",
            "PNM",
            "PNM",
            "PNM",
            "PNM",
            "PNM",
            "PNM",
            "PNM",
            "PNM",
            "PNM",
            "PNM",
            "PNM",
            "PNM",
            "PNM"
           ],
           "legendgroup": "PNM",
           "marker": {
            "color": "#B6E880",
            "size": [
             59,
             61,
             27,
             42,
             31,
             44,
             40,
             21,
             49,
             0,
             0,
             0,
             0,
             0
            ],
            "sizemode": "area",
            "sizeref": 0.0599,
            "symbol": "circle"
           },
           "mode": "markers",
           "name": "PNM",
           "orientation": "h",
           "showlegend": true,
           "type": "scatter",
           "x": [
            4,
            3,
            2,
            2,
            1,
            1,
            0,
            0,
            0,
            0,
            0,
            0,
            0,
            0
           ],
           "xaxis": "x",
           "y": [
            "Imran Bulbulia ",
            "KB Ratilal ",
            "DK Dahyabhai Ahir ",
            "N Dipakkumar Patel ",
            "Mahmad Data ",
            "Yusuf Ebrahim ",
            "P Bharat Patel ",
            "P Jayeshbhai Patel ",
            "A Natubhai Ahir ",
            "VD Chandra ",
            "M Patel ",
            "VM Sachdev ",
            "M Sohel Patel ",
            "Vishal Ahir "
           ],
           "yaxis": "y"
          },
          {
           "hovertemplate": "<b>%{hovertext}</b><br><br>Final Region=TKY<br>End=2019<br>Wkts=%{x}<br>Player=%{y}<br>Runs=%{marker.size}<extra></extra>",
           "hovertext": [
            "TKY",
            "TKY",
            "TKY",
            "TKY",
            "TKY",
            "TKY",
            "TKY",
            "TKY",
            "TKY",
            "TKY",
            "TKY",
            "TKY",
            "TKY"
           ],
           "ids": [
            "TKY",
            "TKY",
            "TKY",
            "TKY",
            "TKY",
            "TKY",
            "TKY",
            "TKY",
            "TKY",
            "TKY",
            "TKY",
            "TKY",
            "TKY"
           ],
           "legendgroup": "TKY",
           "marker": {
            "color": "#FF97FF",
            "size": [
             74,
             116,
             93,
             111,
             134,
             14,
             11,
             0,
             0,
             0,
             0,
             0,
             0
            ],
            "sizemode": "area",
            "sizeref": 0.0599,
            "symbol": "circle"
           },
           "mode": "markers",
           "name": "TKY",
           "orientation": "h",
           "showlegend": true,
           "type": "scatter",
           "x": [
            4,
            3,
            3,
            2,
            0,
            0,
            0,
            0,
            0,
            0,
            0,
            0,
            0
           ],
           "xaxis": "x",
           "y": [
            "S Kizilkaya ",
            "AC Kose ",
            "M Sert ",
            "T Turan ",
            "AB Dursak ",
            "S Kansoy ",
            "R Ulutuna ",
            "C Akyuz ",
            "HS Alta ",
            "O Goker ",
            "H Helva ",
            "MF Koc ",
            "T Ulutuna "
           ],
           "yaxis": "y"
          },
          {
           "hovertemplate": "<b>%{hovertext}</b><br><br>Final Region=CRC<br>End=2019<br>Wkts=%{x}<br>Player=%{y}<br>Runs=%{marker.size}<extra></extra>",
           "hovertext": [
            "CRC",
            "CRC",
            "CRC",
            "CRC",
            "CRC",
            "CRC",
            "CRC",
            "CRC",
            "CRC",
            "CRC",
            "CRC",
            "CRC"
           ],
           "ids": [
            "CRC",
            "CRC",
            "CRC",
            "CRC",
            "CRC",
            "CRC",
            "CRC",
            "CRC",
            "CRC",
            "CRC",
            "CRC",
            "CRC"
           ],
           "legendgroup": "CRC",
           "marker": {
            "color": "#FECB52",
            "size": [
             56,
             76,
             52,
             56,
             35,
             7,
             23,
             10,
             12,
             0,
             0,
             0
            ],
            "sizemode": "area",
            "sizeref": 0.0599,
            "symbol": "circle"
           },
           "mode": "markers",
           "name": "CRC",
           "orientation": "h",
           "showlegend": true,
           "type": "scatter",
           "x": [
            4,
            4,
            2,
            2,
            2,
            0,
            0,
            0,
            0,
            0,
            0,
            0
           ],
           "xaxis": "x",
           "y": [
            "S Pillai ",
            "O Sam Arthur ",
            "S Murari ",
            "S Ravikumar ",
            "Zain ul Tashnam ",
            "J Cutinho ",
            "D Mejia ",
            "Nanda Kumar ",
            "C Prasad ",
            "O Fournier ",
            "G Murali ",
            "ES Soto "
           ],
           "yaxis": "y"
          },
          {
           "hovertemplate": "<b>%{hovertext}</b><br><br>Final Region=MALTA<br>End=2019<br>Wkts=%{x}<br>Player=%{y}<br>Runs=%{marker.size}<extra></extra>",
           "hovertext": [
            "MALTA",
            "MALTA",
            "MALTA",
            "MALTA",
            "MALTA",
            "MALTA",
            "MALTA",
            "MALTA",
            "MALTA",
            "MALTA",
            "MALTA",
            "MALTA",
            "MALTA",
            "MALTA",
            "MALTA",
            "MALTA",
            "MALTA",
            "MALTA"
           ],
           "ids": [
            "MALTA",
            "MALTA",
            "MALTA",
            "MALTA",
            "MALTA",
            "MALTA",
            "MALTA",
            "MALTA",
            "MALTA",
            "MALTA",
            "MALTA",
            "MALTA",
            "MALTA",
            "MALTA",
            "MALTA",
            "MALTA",
            "MALTA",
            "MALTA"
           ],
           "legendgroup": "MALTA",
           "marker": {
            "color": "#636efa",
            "size": [
             74,
             96,
             75,
             31,
             47,
             72,
             44,
             70,
             53,
             32,
             54,
             0,
             0,
             0,
             0,
             0,
             0,
             0
            ],
            "sizemode": "area",
            "sizeref": 0.0599,
            "symbol": "circle"
           },
           "mode": "markers",
           "name": "MALTA",
           "orientation": "h",
           "showlegend": true,
           "type": "scatter",
           "x": [
            3,
            3,
            1,
            1,
            1,
            1,
            1,
            1,
            0,
            0,
            0,
            0,
            0,
            0,
            0,
            0,
            0,
            0
           ],
           "xaxis": "x",
           "y": [
            "S Appu ",
            "J Hirschi ",
            "B Arora ",
            "Haroon Mughal ",
            "N Khanna ",
            "Ravinder Singh ",
            "Suhrid Roy ",
            "Washeem Abbas ",
            "GJ Agius ",
            "Hasheem Shahzad ",
            "D Marks ",
            "SE Aquilina ",
            "S Byrne ",
            "G Chaturvedi ",
            "M Goonetilleke ",
            "N Khosla ",
            "Michael Nazir ",
            "Sumair Khan "
           ],
           "yaxis": "y"
          },
          {
           "hovertemplate": "<b>%{hovertext}</b><br><br>Final Region=PHI<br>End=2019<br>Wkts=%{x}<br>Player=%{y}<br>Runs=%{marker.size}<extra></extra>",
           "hovertext": [
            "PHI",
            "PHI",
            "PHI",
            "PHI",
            "PHI",
            "PHI",
            "PHI",
            "PHI",
            "PHI",
            "PHI",
            "PHI",
            "PHI",
            "PHI"
           ],
           "ids": [
            "PHI",
            "PHI",
            "PHI",
            "PHI",
            "PHI",
            "PHI",
            "PHI",
            "PHI",
            "PHI",
            "PHI",
            "PHI",
            "PHI",
            "PHI"
           ],
           "legendgroup": "PHI",
           "marker": {
            "color": "#EF553B",
            "size": [
             50,
             110,
             89,
             93,
             26,
             26,
             81,
             52,
             48,
             32,
             0,
             0,
             0
            ],
            "sizemode": "area",
            "sizeref": 0.0599,
            "symbol": "circle"
           },
           "mode": "markers",
           "name": "PHI",
           "orientation": "h",
           "showlegend": true,
           "type": "scatter",
           "x": [
            3,
            3,
            3,
            2,
            1,
            1,
            0,
            0,
            0,
            0,
            0,
            0,
            0
           ],
           "xaxis": "x",
           "y": [
            "J Hill ",
            "S Singh ",
            "DC Smith ",
            "R Mahajan ",
            "JH Kiani ",
            "J Long ",
            "Karweng NG ",
            "GR Russ ",
            "HER Tyler ",
            "Vimal Kumar ",
            "MP Biddappa ",
            "R Goodwin ",
            "Kuldeep Singh "
           ],
           "yaxis": "y"
          },
          {
           "hovertemplate": "<b>%{hovertext}</b><br><br>Final Region=BHU<br>End=2019<br>Wkts=%{x}<br>Player=%{y}<br>Runs=%{marker.size}<extra></extra>",
           "hovertext": [
            "BHU",
            "BHU",
            "BHU",
            "BHU",
            "BHU",
            "BHU",
            "BHU",
            "BHU",
            "BHU",
            "BHU",
            "BHU",
            "BHU",
            "BHU",
            "BHU"
           ],
           "ids": [
            "BHU",
            "BHU",
            "BHU",
            "BHU",
            "BHU",
            "BHU",
            "BHU",
            "BHU",
            "BHU",
            "BHU",
            "BHU",
            "BHU",
            "BHU",
            "BHU"
           ],
           "legendgroup": "BHU",
           "marker": {
            "color": "#00cc96",
            "size": [
             69,
             22,
             65,
             69,
             48,
             25,
             50,
             0,
             0,
             0,
             0,
             0,
             0,
             0
            ],
            "sizemode": "area",
            "sizeref": 0.0599,
            "symbol": "circle"
           },
           "mode": "markers",
           "name": "BHU",
           "orientation": "h",
           "showlegend": true,
           "type": "scatter",
           "x": [
            2,
            1,
            1,
            1,
            0,
            0,
            0,
            0,
            0,
            0,
            0,
            0,
            0,
            0
           ],
           "xaxis": "x",
           "y": [
            "K Dorji ",
            "K Nima ",
            "T Singye ",
            "J Singye ",
            "T Jamtsho ",
            "J Thinley ",
            "S Tobgay ",
            "N Chejay ",
            "S Chophel ",
            "JN Dorji ",
            "RM Dorji ",
            "U Dorji ",
            "K Loday ",
            "T Wangchuk jnr "
           ],
           "yaxis": "y"
          },
          {
           "hovertemplate": "<b>%{hovertext}</b><br><br>Final Region=2) (DEN<br>End=2019<br>Wkts=%{x}<br>Player=%{y}<br>Runs=%{marker.size}<extra></extra>",
           "hovertext": [
            "2) (DEN"
           ],
           "ids": [
            "2) (DEN"
           ],
           "legendgroup": "2) (DEN",
           "marker": {
            "color": "#FFA15A",
            "size": [
             10
            ],
            "sizemode": "area",
            "sizeref": 0.0599,
            "symbol": "circle"
           },
           "mode": "markers",
           "name": "2) (DEN",
           "orientation": "h",
           "showlegend": true,
           "type": "scatter",
           "x": [
            1
           ],
           "xaxis": "x",
           "y": [
            "Aftab Ahmed "
           ],
           "yaxis": "y"
          }
         ],
         "name": "2019"
        },
        {
         "data": [
          {
           "hovertemplate": "<b>%{hovertext}</b><br><br>Final Region=SL<br>End=2018<br>Wkts=%{x}<br>Player=%{y}<br>Runs=%{marker.size}<extra></extra>",
           "hovertext": [
            "SL",
            "SL",
            "SL",
            "SL",
            "SL",
            "SL",
            "SL"
           ],
           "ids": [
            "SL",
            "SL",
            "SL",
            "SL",
            "SL",
            "SL",
            "SL"
           ],
           "legendgroup": "SL",
           "marker": {
            "color": "#636efa",
            "size": [
             1101,
             574,
             249,
             79,
             62,
             0,
             0
            ],
            "sizemode": "area",
            "sizeref": 0.0599,
            "symbol": "circle"
           },
           "mode": "markers",
           "name": "SL",
           "orientation": "h",
           "showlegend": true,
           "type": "scatter",
           "x": [
            37,
            16,
            12,
            4,
            2,
            0,
            0
           ],
           "xaxis": "x",
           "y": [
            "AD Mathews ",
            "PVD Chameera ",
            "BMAJ Mendis ",
            "MA Aponso ",
            "DSK Madushanka ",
            "LD Chandimal ",
            "WU Tharanga "
           ],
           "yaxis": "y"
          },
          {
           "hovertemplate": "<b>%{hovertext}</b><br><br>Final Region=PAK<br>End=2018<br>Wkts=%{x}<br>Player=%{y}<br>Runs=%{marker.size}<extra></extra>",
           "hovertext": [
            "PAK",
            "PAK",
            "PAK",
            "PAK",
            "PAK",
            "PAK",
            "PAK"
           ],
           "ids": [
            "PAK",
            "PAK",
            "PAK",
            "PAK",
            "PAK",
            "PAK",
            "PAK"
           ],
           "legendgroup": "PAK",
           "marker": {
            "color": "#EF553B",
            "size": [
             2396,
             1226,
             220,
             37,
             21,
             0,
             0
            ],
            "sizemode": "area",
            "sizeref": 0.0599,
            "symbol": "circle"
           },
           "mode": "markers",
           "name": "PAK",
           "orientation": "h",
           "showlegend": true,
           "type": "scatter",
           "x": [
            98,
            54,
            8,
            2,
            2,
            0,
            0
           ],
           "xaxis": "x",
           "y": [
            "Shahid Afridi ",
            "Mohammad Hafeez ",
            "Rumman Raees ",
            "Aamer Yamin ",
            "Waqas Maqsood ",
            "Sahibzada Farhan ",
            "Umar Amin "
           ],
           "yaxis": "y"
          },
          {
           "hovertemplate": "<b>%{hovertext}</b><br><br>Final Region=BDESH<br>End=2018<br>Wkts=%{x}<br>Player=%{y}<br>Runs=%{marker.size}<extra></extra>",
           "hovertext": [
            "BDESH",
            "BDESH",
            "BDESH",
            "BDESH",
            "BDESH",
            "BDESH",
            "BDESH",
            "BDESH",
            "BDESH",
            "BDESH",
            "BDESH"
           ],
           "ids": [
            "BDESH",
            "BDESH",
            "BDESH",
            "BDESH",
            "BDESH",
            "BDESH",
            "BDESH",
            "BDESH",
            "BDESH",
            "BDESH",
            "BDESH"
           ],
           "legendgroup": "BDESH",
           "marker": {
            "color": "#00cc96",
            "size": [
             879,
             438,
             265,
             330,
             148,
             106,
             330,
             13,
             25,
             0,
             0
            ],
            "sizemode": "area",
            "sizeref": 0.0599,
            "symbol": "circle"
           },
           "mode": "markers",
           "name": "BDESH",
           "orientation": "h",
           "showlegend": true,
           "type": "scatter",
           "x": [
            28,
            12,
            8,
            6,
            4,
            4,
            4,
            1,
            0,
            0,
            0
           ],
           "xaxis": "x",
           "y": [
            "Rubel Hossain ",
            "Taskin Ahmed ",
            "Nazmul Islam ",
            "Abu Hider ",
            "Abul Hasan ",
            "Abu Jayed ",
            "Mehidy Hasan Miraz ",
            "Ariful Haque ",
            "Mahedi Hasan ",
            "Tamim Iqbal ",
            "Zakir Hasan "
           ],
           "yaxis": "y"
          },
          {
           "hovertemplate": "<b>%{hovertext}</b><br><br>Final Region=AFG<br>End=2018<br>Wkts=%{x}<br>Player=%{y}<br>Runs=%{marker.size}<extra></extra>",
           "hovertext": [
            "AFG",
            "AFG",
            "AFG",
            "AFG"
           ],
           "ids": [
            "AFG",
            "AFG",
            "AFG",
            "AFG"
           ],
           "legendgroup": "AFG",
           "marker": {
            "color": "#ab63fa",
            "size": [
             843,
             482,
             324,
             0
            ],
            "sizemode": "area",
            "sizeref": 0.0599,
            "symbol": "circle"
           },
           "mode": "markers",
           "name": "AFG",
           "orientation": "h",
           "showlegend": true,
           "type": "scatter",
           "x": [
            35,
            14,
            11,
            0
           ],
           "xaxis": "x",
           "y": [
            "Shapoor Zadran ",
            "Karim Sadiq ",
            "Aftab Alam ",
            "Mohammad Shahzad "
           ],
           "yaxis": "y"
          },
          {
           "hovertemplate": "<b>%{hovertext}</b><br><br>Final Region=IRE<br>End=2018<br>Wkts=%{x}<br>Player=%{y}<br>Runs=%{marker.size}<extra></extra>",
           "hovertext": [
            "IRE",
            "IRE",
            "IRE"
           ],
           "ids": [
            "IRE",
            "IRE",
            "IRE"
           ],
           "legendgroup": "IRE",
           "marker": {
            "color": "#FFA15A",
            "size": [
             259,
             11,
             0
            ],
            "sizemode": "area",
            "sizeref": 0.0599,
            "symbol": "circle"
           },
           "mode": "markers",
           "name": "IRE",
           "orientation": "h",
           "showlegend": true,
           "type": "scatter",
           "x": [
            10,
            0,
            0
           ],
           "xaxis": "x",
           "y": [
            "BJ McCarthy ",
            "JNK Shannon ",
            "WTS Porterfield "
           ],
           "yaxis": "y"
          },
          {
           "hovertemplate": "<b>%{hovertext}</b><br><br>Final Region=NZ<br>End=2018<br>Wkts=%{x}<br>Player=%{y}<br>Runs=%{marker.size}<extra></extra>",
           "hovertext": [
            "NZ",
            "NZ",
            "NZ",
            "NZ",
            "NZ",
            "NZ",
            "NZ",
            "NZ"
           ],
           "ids": [
            "NZ",
            "NZ",
            "NZ",
            "NZ",
            "NZ",
            "NZ",
            "NZ",
            "NZ"
           ],
           "legendgroup": "NZ",
           "marker": {
            "color": "#19d3f3",
            "size": [
             789,
             541,
             495,
             216,
             46,
             45,
             0,
             0
            ],
            "sizemode": "area",
            "sizeref": 0.0599,
            "symbol": "circle"
           },
           "mode": "markers",
           "name": "NZ",
           "orientation": "h",
           "showlegend": true,
           "type": "scatter",
           "x": [
            30,
            25,
            14,
            7,
            2,
            1,
            0,
            0
           ],
           "xaxis": "x",
           "y": [
            "MJ McClenaghan ",
            "AF Milne ",
            "CJ Anderson ",
            "BM Wheeler ",
            "AK Kitchen ",
            "AY Patel ",
            "TA Blundell ",
            "GD Phillips "
           ],
           "yaxis": "y"
          },
          {
           "hovertemplate": "<b>%{hovertext}</b><br><br>Final Region=ENG<br>End=2018<br>Wkts=%{x}<br>Player=%{y}<br>Runs=%{marker.size}<extra></extra>",
           "hovertext": [
            "ENG",
            "ENG",
            "ENG",
            "ENG",
            "ENG",
            "ENG",
            "ENG"
           ],
           "ids": [
            "ENG",
            "ENG",
            "ENG",
            "ENG",
            "ENG",
            "ENG",
            "ENG"
           ],
           "legendgroup": "ENG",
           "marker": {
            "color": "#FF6692",
            "size": [
             519,
             496,
             152,
             129,
             83,
             0,
             0
            ],
            "sizemode": "area",
            "sizeref": 0.0599,
            "symbol": "circle"
           },
           "mode": "markers",
           "name": "ENG",
           "orientation": "h",
           "showlegend": true,
           "type": "scatter",
           "x": [
            15,
            10,
            5,
            3,
            2,
            0,
            0
           ],
           "xaxis": "x",
           "y": [
            "MM Ali ",
            "BA Stokes ",
            "LA Dawson ",
            "TS Mills ",
            "JT Ball ",
            "JC Buttler ",
            "JJ Roy "
           ],
           "yaxis": "y"
          },
          {
           "hovertemplate": "<b>%{hovertext}</b><br><br>Final Region=SA<br>End=2018<br>Wkts=%{x}<br>Player=%{y}<br>Runs=%{marker.size}<extra></extra>",
           "hovertext": [
            "SA",
            "SA",
            "SA",
            "SA",
            "SA",
            "SA",
            "SA",
            "SA"
           ],
           "ids": [
            "SA",
            "SA",
            "SA",
            "SA",
            "SA",
            "SA",
            "SA",
            "SA"
           ],
           "legendgroup": "SA",
           "marker": {
            "color": "#B6E880",
            "size": [
             443,
             128,
             265,
             62,
             27,
             101,
             0,
             0
            ],
            "sizemode": "area",
            "sizeref": 0.0599,
            "symbol": "circle"
           },
           "mode": "markers",
           "name": "SA",
           "orientation": "h",
           "showlegend": true,
           "type": "scatter",
           "x": [
            20,
            11,
            9,
            5,
            3,
            1,
            0,
            0
           ],
           "xaxis": "x",
           "y": [
            "AM Phangiso ",
            "L Ngidi ",
            "D Paterson ",
            "R Frylinck ",
            "F Behardien ",
            "JT Smuts ",
            "HM Amla ",
            "C Jonker "
           ],
           "yaxis": "y"
          },
          {
           "hovertemplate": "<b>%{hovertext}</b><br><br>Final Region=WI<br>End=2018<br>Wkts=%{x}<br>Player=%{y}<br>Runs=%{marker.size}<extra></extra>",
           "hovertext": [
            "WI",
            "WI",
            "WI",
            "WI",
            "WI",
            "WI",
            "WI",
            "WI",
            "WI",
            "WI",
            "WI"
           ],
           "ids": [
            "WI",
            "WI",
            "WI",
            "WI",
            "WI",
            "WI",
            "WI",
            "WI",
            "WI",
            "WI",
            "WI"
           ],
           "legendgroup": "WI",
           "marker": {
            "color": "#FF97FF",
            "size": [
             1180,
             863,
             908,
             622,
             156,
             78,
             12,
             13,
             8,
             0,
             0
            ],
            "sizemode": "area",
            "sizeref": 0.0599,
            "symbol": "circle"
           },
           "mode": "markers",
           "name": "WI",
           "orientation": "h",
           "showlegend": true,
           "type": "scatter",
           "x": [
            56,
            33,
            25,
            22,
            4,
            2,
            0,
            0,
            0,
            0,
            0
           ],
           "xaxis": "x",
           "y": [
            "S Badree ",
            "JE Taylor ",
            "AD Russell ",
            "MN Samuels ",
            "RR Emrit ",
            "OF Smith ",
            "AM McCarthy ",
            "JN Mohammed ",
            "V Permaul ",
            "ADS Fletcher ",
            "CAK Walton "
           ],
           "yaxis": "y"
          },
          {
           "hovertemplate": "<b>%{hovertext}</b><br><br>Final Region=NL<br>End=2018<br>Wkts=%{x}<br>Player=%{y}<br>Runs=%{marker.size}<extra></extra>",
           "hovertext": [
            "NL"
           ],
           "ids": [
            "NL"
           ],
           "legendgroup": "NL",
           "marker": {
            "color": "#FECB52",
            "size": [
             310
            ],
            "sizemode": "area",
            "sizeref": 0.0599,
            "symbol": "circle"
           },
           "mode": "markers",
           "name": "NL",
           "orientation": "h",
           "showlegend": true,
           "type": "scatter",
           "x": [
            15
           ],
           "xaxis": "x",
           "y": [
            "MJG Rippon "
           ],
           "yaxis": "y"
          },
          {
           "hovertemplate": "<b>%{hovertext}</b><br><br>Final Region=INDIA<br>End=2018<br>Wkts=%{x}<br>Player=%{y}<br>Runs=%{marker.size}<extra></extra>",
           "hovertext": [
            "INDIA",
            "INDIA",
            "INDIA",
            "INDIA",
            "INDIA"
           ],
           "ids": [
            "INDIA",
            "INDIA",
            "INDIA",
            "INDIA",
            "INDIA"
           ],
           "legendgroup": "INDIA",
           "marker": {
            "color": "#636efa",
            "size": [
             301,
             442,
             265,
             242,
             148
            ],
            "sizemode": "area",
            "sizeref": 0.0599,
            "symbol": "circle"
           },
           "mode": "markers",
           "name": "INDIA",
           "orientation": "h",
           "showlegend": true,
           "type": "scatter",
           "x": [
            14,
            13,
            9,
            8,
            3
           ],
           "xaxis": "x",
           "y": [
            "JD Unadkat ",
            "SK Raina ",
            "AR Patel ",
            "SN Thakur ",
            "Mohammed Siraj "
           ],
           "yaxis": "y"
          },
          {
           "hovertemplate": "<b>%{hovertext}</b><br><br>Final Region=SCOT<br>End=2018<br>Wkts=%{x}<br>Player=%{y}<br>Runs=%{marker.size}<extra></extra>",
           "hovertext": [
            "SCOT",
            "SCOT",
            "SCOT"
           ],
           "ids": [
            "SCOT",
            "SCOT",
            "SCOT"
           ],
           "legendgroup": "SCOT",
           "marker": {
            "color": "#EF553B",
            "size": [
             79,
             141,
             0
            ],
            "sizemode": "area",
            "sizeref": 0.0599,
            "symbol": "circle"
           },
           "mode": "markers",
           "name": "SCOT",
           "orientation": "h",
           "showlegend": true,
           "type": "scatter",
           "x": [
            3,
            2,
            0
           ],
           "xaxis": "x",
           "y": [
            "SG Whittingham ",
            "CB Sole ",
            "DE Budge "
           ],
           "yaxis": "y"
          },
          {
           "hovertemplate": "<b>%{hovertext}</b><br><br>Final Region=AUS<br>End=2018<br>Wkts=%{x}<br>Player=%{y}<br>Runs=%{marker.size}<extra></extra>",
           "hovertext": [
            "AUS",
            "AUS",
            "AUS",
            "AUS",
            "AUS",
            "AUS",
            "AUS",
            "AUS",
            "AUS"
           ],
           "ids": [
            "AUS",
            "AUS",
            "AUS",
            "AUS",
            "AUS",
            "AUS",
            "AUS",
            "AUS",
            "AUS"
           ],
           "legendgroup": "AUS",
           "marker": {
            "color": "#00cc96",
            "size": [
             815,
             156,
             37,
             39,
             48,
             32,
             0,
             0,
             0
            ],
            "sizemode": "area",
            "sizeref": 0.0599,
            "symbol": "circle"
           },
           "mode": "markers",
           "name": "AUS",
           "orientation": "h",
           "showlegend": true,
           "type": "scatter",
           "x": [
            37,
            6,
            2,
            1,
            1,
            1,
            0,
            0,
            0
           ],
           "xaxis": "x",
           "y": [
            "AJ Tye ",
            "MR Marsh ",
            "MJ Swepson ",
            "TM Head ",
            "NM Lyon ",
            "JD Wildermuth ",
            "CA Lynn ",
            "NJ Maddinson ",
            "L Ronchi "
           ],
           "yaxis": "y"
          },
          {
           "hovertemplate": "<b>%{hovertext}</b><br><br>Final Region=ZIM<br>End=2018<br>Wkts=%{x}<br>Player=%{y}<br>Runs=%{marker.size}<extra></extra>",
           "hovertext": [
            "ZIM",
            "ZIM",
            "ZIM",
            "ZIM",
            "ZIM",
            "ZIM",
            "ZIM",
            "ZIM",
            "ZIM"
           ],
           "ids": [
            "ZIM",
            "ZIM",
            "ZIM",
            "ZIM",
            "ZIM",
            "ZIM",
            "ZIM",
            "ZIM",
            "ZIM"
           ],
           "legendgroup": "ZIM",
           "marker": {
            "color": "#19d3f3",
            "size": [
             660,
             455,
             316,
             220,
             81,
             1,
             76,
             42,
             0
            ],
            "sizemode": "area",
            "sizeref": 0.0599,
            "symbol": "circle"
           },
           "mode": "markers",
           "name": "ZIM",
           "orientation": "h",
           "showlegend": true,
           "type": "scatter",
           "x": [
            35,
            14,
            12,
            9,
            2,
            1,
            0,
            0,
            0
           ],
           "xaxis": "x",
           "y": [
            "AG Cremer ",
            "CJ Chibhabha ",
            "TS Chisoro ",
            "B Muzarabani ",
            "B Mavuta ",
            "C Zhuwao ",
            "J Nyumbu ",
            "MN Waller ",
            "TK Musakanda "
           ],
           "yaxis": "y"
          },
          {
           "hovertemplate": "<b>%{hovertext}</b><br><br>Final Region=HKG<br>End=2018<br>Wkts=%{x}<br>Player=%{y}<br>Runs=%{marker.size}<extra></extra>",
           "hovertext": [
            "HKG"
           ],
           "ids": [
            "HKG"
           ],
           "legendgroup": "HKG",
           "marker": {
            "color": "#FF97FF",
            "size": [
             77
            ],
            "sizemode": "area",
            "sizeref": 0.0599,
            "symbol": "circle"
           },
           "mode": "markers",
           "name": "HKG",
           "orientation": "h",
           "showlegend": true,
           "type": "scatter",
           "x": [
            3
           ],
           "xaxis": "x",
           "y": [
            "MS Chapman "
           ],
           "yaxis": "y"
          },
          {
           "hovertemplate": "<b>%{hovertext}</b><br><br>Final Region=NEPAL<br>End=2018<br>Wkts=%{x}<br>Player=%{y}<br>Runs=%{marker.size}<extra></extra>",
           "hovertext": [
            "NEPAL"
           ],
           "ids": [
            "NEPAL"
           ],
           "legendgroup": "NEPAL",
           "marker": {
            "color": "#FECB52",
            "size": [
             0
            ],
            "sizemode": "area",
            "sizeref": 0.0599,
            "symbol": "circle"
           },
           "mode": "markers",
           "name": "NEPAL",
           "orientation": "h",
           "showlegend": true,
           "type": "scatter",
           "x": [
            0
           ],
           "xaxis": "x",
           "y": [
            "AK Sah "
           ],
           "yaxis": "y"
          },
          {
           "hovertemplate": "<b>%{hovertext}</b><br><br>Final Region=3) (PAK<br>End=2018<br>Wkts=%{x}<br>Player=%{y}<br>Runs=%{marker.size}<extra></extra>",
           "hovertext": [
            "3) (PAK"
           ],
           "ids": [
            "3) (PAK"
           ],
           "legendgroup": "3) (PAK",
           "marker": {
            "color": "#00cc96",
            "size": [
             340
            ],
            "sizemode": "area",
            "sizeref": 0.0599,
            "symbol": "circle"
           },
           "mode": "markers",
           "name": "3) (PAK",
           "orientation": "h",
           "showlegend": true,
           "type": "scatter",
           "x": [
            12
           ],
           "xaxis": "x",
           "y": [
            "Mohammad Nawaz "
           ],
           "yaxis": "y"
          }
         ],
         "name": "2018"
        },
        {
         "data": [
          {
           "hovertemplate": "<b>%{hovertext}</b><br><br>Final Region=SL<br>End=2015<br>Wkts=%{x}<br>Player=%{y}<br>Runs=%{marker.size}<extra></extra>",
           "hovertext": [
            "SL"
           ],
           "ids": [
            "SL"
           ],
           "legendgroup": "SL",
           "marker": {
            "color": "#636efa",
            "size": [
             71
            ],
            "sizemode": "area",
            "sizeref": 0.0599,
            "symbol": "circle"
           },
           "mode": "markers",
           "name": "SL",
           "orientation": "h",
           "showlegend": true,
           "type": "scatter",
           "x": [
            3
           ],
           "xaxis": "x",
           "y": [
            "B Fernando "
           ],
           "yaxis": "y"
          },
          {
           "hovertemplate": "<b>%{hovertext}</b><br><br>Final Region=PAK<br>End=2015<br>Wkts=%{x}<br>Player=%{y}<br>Runs=%{marker.size}<extra></extra>",
           "hovertext": [
            "PAK",
            "PAK",
            "PAK",
            "PAK",
            "PAK"
           ],
           "ids": [
            "PAK",
            "PAK",
            "PAK",
            "PAK",
            "PAK"
           ],
           "legendgroup": "PAK",
           "marker": {
            "color": "#EF553B",
            "size": [
             1516,
             255,
             0,
             0,
             0
            ],
            "sizemode": "area",
            "sizeref": 0.0599,
            "symbol": "circle"
           },
           "mode": "markers",
           "name": "PAK",
           "orientation": "h",
           "showlegend": true,
           "type": "scatter",
           "x": [
            85,
            5,
            0,
            0,
            0
           ],
           "xaxis": "x",
           "y": [
            "Saeed Ajmal ",
            "Bilawal Bhatti ",
            "Mukhtar Ahmed ",
            "Nauman Anwar ",
            "Rafatullah Mohmand "
           ],
           "yaxis": "y"
          },
          {
           "hovertemplate": "<b>%{hovertext}</b><br><br>Final Region=BDESH<br>End=2015<br>Wkts=%{x}<br>Player=%{y}<br>Runs=%{marker.size}<extra></extra>",
           "hovertext": [
            "BDESH",
            "BDESH",
            "BDESH",
            "BDESH"
           ],
           "ids": [
            "BDESH",
            "BDESH",
            "BDESH",
            "BDESH"
           ],
           "legendgroup": "BDESH",
           "marker": {
            "color": "#00cc96",
            "size": [
             299,
             20,
             0,
             0
            ],
            "sizemode": "area",
            "sizeref": 0.0599,
            "symbol": "circle"
           },
           "mode": "markers",
           "name": "BDESH",
           "orientation": "h",
           "showlegend": true,
           "type": "scatter",
           "x": [
            4,
            2,
            0,
            0
           ],
           "xaxis": "x",
           "y": [
            "Sohag Gazi ",
            "Jubair Hossain ",
            "Anamul Haque ",
            "Rony Talukdar "
           ],
           "yaxis": "y"
          },
          {
           "hovertemplate": "<b>%{hovertext}</b><br><br>Final Region=AFG<br>End=2015<br>Wkts=%{x}<br>Player=%{y}<br>Runs=%{marker.size}<extra></extra>",
           "hovertext": [
            "AFG",
            "AFG",
            "AFG"
           ],
           "ids": [
            "AFG",
            "AFG",
            "AFG"
           ],
           "legendgroup": "AFG",
           "marker": {
            "color": "#ab63fa",
            "size": [
             75,
             65,
             56
            ],
            "sizemode": "area",
            "sizeref": 0.0599,
            "symbol": "circle"
           },
           "mode": "markers",
           "name": "AFG",
           "orientation": "h",
           "showlegend": true,
           "type": "scatter",
           "x": [
            6,
            5,
            2
           ],
           "xaxis": "x",
           "y": [
            "Rokhan Barakzai ",
            "Yamin Ahmadzai ",
            "M Nasim Baras "
           ],
           "yaxis": "y"
          },
          {
           "hovertemplate": "<b>%{hovertext}</b><br><br>Final Region=IRE<br>End=2015<br>Wkts=%{x}<br>Player=%{y}<br>Runs=%{marker.size}<extra></extra>",
           "hovertext": [
            "IRE",
            "IRE",
            "IRE",
            "IRE"
           ],
           "ids": [
            "IRE",
            "IRE",
            "IRE",
            "IRE"
           ],
           "legendgroup": "IRE",
           "marker": {
            "color": "#FFA15A",
            "size": [
             714,
             176,
             13,
             50
            ],
            "sizemode": "area",
            "sizeref": 0.0599,
            "symbol": "circle"
           },
           "mode": "markers",
           "name": "IRE",
           "orientation": "h",
           "showlegend": true,
           "type": "scatter",
           "x": [
            35,
            10,
            0,
            0
           ],
           "xaxis": "x",
           "y": [
            "AR Cusack ",
            "JF Mooney ",
            "J Anderson ",
            "GJ McCarter "
           ],
           "yaxis": "y"
          },
          {
           "hovertemplate": "<b>%{hovertext}</b><br><br>Final Region=NZ<br>End=2015<br>Wkts=%{x}<br>Player=%{y}<br>Runs=%{marker.size}<extra></extra>",
           "hovertext": [
            "NZ",
            "NZ"
           ],
           "ids": [
            "NZ",
            "NZ"
           ],
           "legendgroup": "NZ",
           "marker": {
            "color": "#19d3f3",
            "size": [
             19,
             0
            ],
            "sizemode": "area",
            "sizeref": 0.0599,
            "symbol": "circle"
           },
           "mode": "markers",
           "name": "NZ",
           "orientation": "h",
           "showlegend": true,
           "type": "scatter",
           "x": [
            1,
            0
           ],
           "xaxis": "x",
           "y": [
            "GH Worker ",
            "BB McCullum "
           ],
           "yaxis": "y"
          },
          {
           "hovertemplate": "<b>%{hovertext}</b><br><br>Final Region=ENG<br>End=2015<br>Wkts=%{x}<br>Player=%{y}<br>Runs=%{marker.size}<extra></extra>",
           "hovertext": [
            "ENG",
            "ENG",
            "ENG"
           ],
           "ids": [
            "ENG",
            "ENG",
            "ENG"
           ],
           "legendgroup": "ENG",
           "marker": {
            "color": "#FF6692",
            "size": [
             583,
             253,
             138
            ],
            "sizemode": "area",
            "sizeref": 0.0599,
            "symbol": "circle"
           },
           "mode": "markers",
           "name": "ENG",
           "orientation": "h",
           "showlegend": true,
           "type": "scatter",
           "x": [
            27,
            7,
            3
           ],
           "xaxis": "x",
           "y": [
            "ST Finn ",
            "CR Woakes ",
            "SD Parry "
           ],
           "yaxis": "y"
          },
          {
           "hovertemplate": "<b>%{hovertext}</b><br><br>Final Region=SA<br>End=2015<br>Wkts=%{x}<br>Player=%{y}<br>Runs=%{marker.size}<extra></extra>",
           "hovertext": [
            "SA",
            "SA",
            "SA",
            "SA",
            "SA"
           ],
           "ids": [
            "SA",
            "SA",
            "SA",
            "SA",
            "SA"
           ],
           "legendgroup": "SA",
           "marker": {
            "color": "#B6E880",
            "size": [
             864,
             228,
             48,
             83,
             0
            ],
            "sizemode": "area",
            "sizeref": 0.0599,
            "symbol": "circle"
           },
           "mode": "markers",
           "name": "SA",
           "orientation": "h",
           "showlegend": true,
           "type": "scatter",
           "x": [
            26,
            7,
            4,
            1,
            0
           ],
           "xaxis": "x",
           "y": [
            "JA Morkel ",
            "M de Lange ",
            "E Leie ",
            "JL Ontong ",
            "MN van Wyk "
           ],
           "yaxis": "y"
          },
          {
           "hovertemplate": "<b>%{hovertext}</b><br><br>Final Region=WI<br>End=2015<br>Wkts=%{x}<br>Player=%{y}<br>Runs=%{marker.size}<extra></extra>",
           "hovertext": [
            "WI",
            "WI"
           ],
           "ids": [
            "WI",
            "WI"
           ],
           "legendgroup": "WI",
           "marker": {
            "color": "#FF97FF",
            "size": [
             705,
             212
            ],
            "sizemode": "area",
            "sizeref": 0.0599,
            "symbol": "circle"
           },
           "mode": "markers",
           "name": "WI",
           "orientation": "h",
           "showlegend": true,
           "type": "scatter",
           "x": [
            29,
            7
           ],
           "xaxis": "x",
           "y": [
            "R Rampaul ",
            "DR Smith "
           ],
           "yaxis": "y"
          },
          {
           "hovertemplate": "<b>%{hovertext}</b><br><br>Final Region=NL<br>End=2015<br>Wkts=%{x}<br>Player=%{y}<br>Runs=%{marker.size}<extra></extra>",
           "hovertext": [
            "NL",
            "NL"
           ],
           "ids": [
            "NL",
            "NL"
           ],
           "legendgroup": "NL",
           "marker": {
            "color": "#FECB52",
            "size": [
             30,
             0
            ],
            "sizemode": "area",
            "sizeref": 0.0599,
            "symbol": "circle"
           },
           "mode": "markers",
           "name": "NL",
           "orientation": "h",
           "showlegend": true,
           "type": "scatter",
           "x": [
            3,
            0
           ],
           "xaxis": "x",
           "y": [
            "MB van Schelven ",
            "RI Ahmed "
           ],
           "yaxis": "y"
          },
          {
           "hovertemplate": "<b>%{hovertext}</b><br><br>Final Region=INDIA<br>End=2015<br>Wkts=%{x}<br>Player=%{y}<br>Runs=%{marker.size}<extra></extra>",
           "hovertext": [
            "INDIA",
            "INDIA",
            "INDIA",
            "INDIA",
            "INDIA",
            "INDIA"
           ],
           "ids": [
            "INDIA",
            "INDIA",
            "INDIA",
            "INDIA",
            "INDIA",
            "INDIA"
           ],
           "legendgroup": "INDIA",
           "marker": {
            "color": "#636efa",
            "size": [
             185,
             44,
             73,
             9,
             0,
             0
            ],
            "sizemode": "area",
            "sizeref": 0.0599,
            "symbol": "circle"
           },
           "mode": "markers",
           "name": "INDIA",
           "orientation": "h",
           "showlegend": true,
           "type": "scatter",
           "x": [
            6,
            1,
            1,
            0,
            0,
            0
           ],
           "xaxis": "x",
           "y": [
            "MM Sharma ",
            "S Aravind ",
            "Sandeep Sharma ",
            "M Vijay ",
            "SV Samson ",
            "RV Uthappa "
           ],
           "yaxis": "y"
          },
          {
           "hovertemplate": "<b>%{hovertext}</b><br><br>Final Region=OMAN<br>End=2015<br>Wkts=%{x}<br>Player=%{y}<br>Runs=%{marker.size}<extra></extra>",
           "hovertext": [
            "OMAN"
           ],
           "ids": [
            "OMAN"
           ],
           "legendgroup": "OMAN",
           "marker": {
            "color": "#ab63fa",
            "size": [
             0
            ],
            "sizemode": "area",
            "sizeref": 0.0599,
            "symbol": "circle"
           },
           "mode": "markers",
           "name": "OMAN",
           "orientation": "h",
           "showlegend": true,
           "type": "scatter",
           "x": [
            0
           ],
           "xaxis": "x",
           "y": [
            "Zeeshan Siddiqui "
           ],
           "yaxis": "y"
          },
          {
           "hovertemplate": "<b>%{hovertext}</b><br><br>Final Region=UAE<br>End=2015<br>Wkts=%{x}<br>Player=%{y}<br>Runs=%{marker.size}<extra></extra>",
           "hovertext": [
            "UAE",
            "UAE",
            "UAE",
            "UAE",
            "UAE",
            "UAE",
            "UAE"
           ],
           "ids": [
            "UAE",
            "UAE",
            "UAE",
            "UAE",
            "UAE",
            "UAE",
            "UAE"
           ],
           "legendgroup": "UAE",
           "marker": {
            "color": "#FFA15A",
            "size": [
             125,
             29,
             28,
             55,
             21,
             0,
             0
            ],
            "sizemode": "area",
            "sizeref": 0.0599,
            "symbol": "circle"
           },
           "mode": "markers",
           "name": "UAE",
           "orientation": "h",
           "showlegend": true,
           "type": "scatter",
           "x": [
            5,
            1,
            1,
            0,
            0,
            0,
            0
           ],
           "xaxis": "x",
           "y": [
            "AM Guruge ",
            "Fayyaz Ahmed ",
            "Umair Ali ",
            "Mohammad Tauqir ",
            "Nasir Aziz ",
            "Amjad Ali ",
            "Faizan Asif "
           ],
           "yaxis": "y"
          },
          {
           "hovertemplate": "<b>%{hovertext}</b><br><br>Final Region=ZIM<br>End=2015<br>Wkts=%{x}<br>Player=%{y}<br>Runs=%{marker.size}<extra></extra>",
           "hovertext": [
            "ZIM",
            "ZIM"
           ],
           "ids": [
            "ZIM",
            "ZIM"
           ],
           "legendgroup": "ZIM",
           "marker": {
            "color": "#19d3f3",
            "size": [
             858,
             0
            ],
            "sizemode": "area",
            "sizeref": 0.0599,
            "symbol": "circle"
           },
           "mode": "markers",
           "name": "ZIM",
           "orientation": "h",
           "showlegend": true,
           "type": "scatter",
           "x": [
            26,
            0
           ],
           "xaxis": "x",
           "y": [
            "P Utseya ",
            "CK Coventry "
           ],
           "yaxis": "y"
          },
          {
           "hovertemplate": "<b>%{hovertext}</b><br><br>Final Region=PNG<br>End=2015<br>Wkts=%{x}<br>Player=%{y}<br>Runs=%{marker.size}<extra></extra>",
           "hovertext": [
            "PNG",
            "PNG"
           ],
           "ids": [
            "PNG",
            "PNG"
           ],
           "legendgroup": "PNG",
           "marker": {
            "color": "#B6E880",
            "size": [
             65,
             0
            ],
            "sizemode": "area",
            "sizeref": 0.0599,
            "symbol": "circle"
           },
           "mode": "markers",
           "name": "PNG",
           "orientation": "h",
           "showlegend": true,
           "type": "scatter",
           "x": [
            1,
            0
           ],
           "xaxis": "x",
           "y": [
            "L Nou ",
            "K Pala "
           ],
           "yaxis": "y"
          },
          {
           "hovertemplate": "<b>%{hovertext}</b><br><br>Final Region=HKG<br>End=2015<br>Wkts=%{x}<br>Player=%{y}<br>Runs=%{marker.size}<extra></extra>",
           "hovertext": [
            "HKG"
           ],
           "ids": [
            "HKG"
           ],
           "legendgroup": "HKG",
           "marker": {
            "color": "#FF97FF",
            "size": [
             190
            ],
            "sizemode": "area",
            "sizeref": 0.0599,
            "symbol": "circle"
           },
           "mode": "markers",
           "name": "HKG",
           "orientation": "h",
           "showlegend": true,
           "type": "scatter",
           "x": [
            11
           ],
           "xaxis": "x",
           "y": [
            "Irfan Ahmed "
           ],
           "yaxis": "y"
          },
          {
           "hovertemplate": "<b>%{hovertext}</b><br><br>Final Region=NEPAL<br>End=2015<br>Wkts=%{x}<br>Player=%{y}<br>Runs=%{marker.size}<extra></extra>",
           "hovertext": [
            "NEPAL",
            "NEPAL",
            "NEPAL",
            "NEPAL",
            "NEPAL",
            "NEPAL",
            "NEPAL"
           ],
           "ids": [
            "NEPAL",
            "NEPAL",
            "NEPAL",
            "NEPAL",
            "NEPAL",
            "NEPAL",
            "NEPAL"
           ],
           "legendgroup": "NEPAL",
           "marker": {
            "color": "#FECB52",
            "size": [
             169,
             131,
             56,
             49,
             0,
             0,
             0
            ],
            "sizemode": "area",
            "sizeref": 0.0599,
            "symbol": "circle"
           },
           "mode": "markers",
           "name": "NEPAL",
           "orientation": "h",
           "showlegend": true,
           "type": "scatter",
           "x": [
            8,
            6,
            4,
            1,
            0,
            0,
            0
           ],
           "xaxis": "x",
           "y": [
            "SP Gauchan ",
            "Sagar Pun ",
            "JK Mukhiya ",
            "A Karn ",
            "SP Khakurel ",
            "RP Magar ",
            "AK Mandal "
           ],
           "yaxis": "y"
          },
          {
           "hovertemplate": "<b>%{hovertext}</b><br><br>Final Region=1) (PAK<br>End=2015<br>Wkts=%{x}<br>Player=%{y}<br>Runs=%{marker.size}<extra></extra>",
           "hovertext": [
            "1) (PAK"
           ],
           "ids": [
            "1) (PAK"
           ],
           "legendgroup": "1) (PAK",
           "marker": {
            "color": "#ab63fa",
            "size": [
             106
            ],
            "sizemode": "area",
            "sizeref": 0.0599,
            "symbol": "circle"
           },
           "mode": "markers",
           "name": "1) (PAK",
           "orientation": "h",
           "showlegend": true,
           "type": "scatter",
           "x": [
            2
           ],
           "xaxis": "x",
           "y": [
            "Imran Khan "
           ],
           "yaxis": "y"
          }
         ],
         "name": "2015"
        },
        {
         "data": [
          {
           "hovertemplate": "<b>%{hovertext}</b><br><br>Final Region=SL<br>End=2016<br>Wkts=%{x}<br>Player=%{y}<br>Runs=%{marker.size}<extra></extra>",
           "hovertext": [
            "SL",
            "SL",
            "SL",
            "SL",
            "SL",
            "SL",
            "SL",
            "SL",
            "SL"
           ],
           "ids": [
            "SL",
            "SL",
            "SL",
            "SL",
            "SL",
            "SL",
            "SL",
            "SL",
            "SL"
           ],
           "legendgroup": "SL",
           "marker": {
            "color": "#636efa",
            "size": [
             549,
             464,
             373,
             313,
             199,
             46,
             11,
             0,
             0
            ],
            "sizemode": "area",
            "sizeref": 0.0599,
            "symbol": "circle"
           },
           "mode": "markers",
           "name": "SL",
           "orientation": "h",
           "showlegend": true,
           "type": "scatter",
           "x": [
            25,
            18,
            18,
            9,
            7,
            1,
            0,
            0,
            0
           ],
           "xaxis": "x",
           "y": [
            "SMSM Senanayake ",
            "CRD Fernando ",
            "HMRKB Herath ",
            "TM Dilshan ",
            "MF Maharoof ",
            "RLB Rambukwella ",
            "KMC Bandara ",
            "HDRL Thirimanne ",
            "KDK Vithanage "
           ],
           "yaxis": "y"
          },
          {
           "hovertemplate": "<b>%{hovertext}</b><br><br>Final Region=PAK<br>End=2016<br>Wkts=%{x}<br>Player=%{y}<br>Runs=%{marker.size}<extra></extra>",
           "hovertext": [
            "PAK",
            "PAK",
            "PAK",
            "PAK",
            "PAK",
            "PAK",
            "PAK"
           ],
           "ids": [
            "PAK",
            "PAK",
            "PAK",
            "PAK",
            "PAK",
            "PAK",
            "PAK"
           ],
           "legendgroup": "PAK",
           "marker": {
            "color": "#EF553B",
            "size": [
             1443,
             387,
             367,
             12,
             0,
             0,
             0
            ],
            "sizemode": "area",
            "sizeref": 0.0599,
            "symbol": "circle"
           },
           "mode": "markers",
           "name": "PAK",
           "orientation": "h",
           "showlegend": true,
           "type": "scatter",
           "x": [
            85,
            21,
            10,
            0,
            0,
            0,
            0
           ],
           "xaxis": "x",
           "y": [
            "Umar Gul ",
            "Mohammad Sami ",
            "Anwar Ali ",
            "Sohaib Maqsood ",
            "Khalid Latif ",
            "Khurram Manzoor ",
            "Sharjeel Khan "
           ],
           "yaxis": "y"
          },
          {
           "hovertemplate": "<b>%{hovertext}</b><br><br>Final Region=BDESH<br>End=2016<br>Wkts=%{x}<br>Player=%{y}<br>Runs=%{marker.size}<extra></extra>",
           "hovertext": [
            "BDESH",
            "BDESH",
            "BDESH",
            "BDESH",
            "BDESH",
            "BDESH"
           ],
           "ids": [
            "BDESH",
            "BDESH",
            "BDESH",
            "BDESH",
            "BDESH",
            "BDESH"
           ],
           "legendgroup": "BDESH",
           "marker": {
            "color": "#00cc96",
            "size": [
             230,
             262,
             71,
             32,
             17,
             40
            ],
            "sizemode": "area",
            "sizeref": 0.0599,
            "symbol": "circle"
           },
           "mode": "markers",
           "name": "BDESH",
           "orientation": "h",
           "showlegend": true,
           "type": "scatter",
           "x": [
            12,
            7,
            2,
            1,
            0,
            0
           ],
           "xaxis": "x",
           "y": [
            "Arafat Sunny ",
            "Nasir Hossain ",
            "Shuvagata Hom ",
            "Mohammad Shahid ",
            "Muktar Ali ",
            "Saqlain Sajib "
           ],
           "yaxis": "y"
          },
          {
           "hovertemplate": "<b>%{hovertext}</b><br><br>Final Region=AFG<br>End=2016<br>Wkts=%{x}<br>Player=%{y}<br>Runs=%{marker.size}<extra></extra>",
           "hovertext": [
            "AFG",
            "AFG"
           ],
           "ids": [
            "AFG",
            "AFG"
           ],
           "legendgroup": "AFG",
           "marker": {
            "color": "#ab63fa",
            "size": [
             523,
             444
            ],
            "sizemode": "area",
            "sizeref": 0.0599,
            "symbol": "circle"
           },
           "mode": "markers",
           "name": "AFG",
           "orientation": "h",
           "showlegend": true,
           "type": "scatter",
           "x": [
            32,
            14
           ],
           "xaxis": "x",
           "y": [
            "Hamid Hassan ",
            "Mirwais Ashraf "
           ],
           "yaxis": "y"
          },
          {
           "hovertemplate": "<b>%{hovertext}</b><br><br>Final Region=IRE<br>End=2016<br>Wkts=%{x}<br>Player=%{y}<br>Runs=%{marker.size}<extra></extra>",
           "hovertext": [
            "IRE",
            "IRE",
            "IRE",
            "IRE",
            "IRE",
            "IRE"
           ],
           "ids": [
            "IRE",
            "IRE",
            "IRE",
            "IRE",
            "IRE",
            "IRE"
           ],
           "legendgroup": "IRE",
           "marker": {
            "color": "#FFA15A",
            "size": [
             471,
             324,
             0,
             0,
             0,
             0
            ],
            "sizemode": "area",
            "sizeref": 0.0599,
            "symbol": "circle"
           },
           "mode": "markers",
           "name": "IRE",
           "orientation": "h",
           "showlegend": true,
           "type": "scatter",
           "x": [
            26,
            13,
            0,
            0,
            0,
            0
           ],
           "xaxis": "x",
           "y": [
            "MC Sorensen ",
            "TJ Murtagh ",
            "NJ O'Brien ",
            "AD Poynter ",
            "DA Rankin ",
            "SP Terry "
           ],
           "yaxis": "y"
          },
          {
           "hovertemplate": "<b>%{hovertext}</b><br><br>Final Region=NZ<br>End=2016<br>Wkts=%{x}<br>Player=%{y}<br>Runs=%{marker.size}<extra></extra>",
           "hovertext": [
            "NZ"
           ],
           "ids": [
            "NZ"
           ],
           "legendgroup": "NZ",
           "marker": {
            "color": "#19d3f3",
            "size": [
             1278
            ],
            "sizemode": "area",
            "sizeref": 0.0599,
            "symbol": "circle"
           },
           "mode": "markers",
           "name": "NZ",
           "orientation": "h",
           "showlegend": true,
           "type": "scatter",
           "x": [
            58
           ],
           "xaxis": "x",
           "y": [
            "NL McCullum "
           ],
           "yaxis": "y"
          },
          {
           "hovertemplate": "<b>%{hovertext}</b><br><br>Final Region=ENG<br>End=2016<br>Wkts=%{x}<br>Player=%{y}<br>Runs=%{marker.size}<extra></extra>",
           "hovertext": [
            "ENG"
           ],
           "ids": [
            "ENG"
           ],
           "legendgroup": "ENG",
           "marker": {
            "color": "#FF6692",
            "size": [
             173
            ],
            "sizemode": "area",
            "sizeref": 0.0599,
            "symbol": "circle"
           },
           "mode": "markers",
           "name": "ENG",
           "orientation": "h",
           "showlegend": true,
           "type": "scatter",
           "x": [
            5
           ],
           "xaxis": "x",
           "y": [
            "RJW Topley "
           ],
           "yaxis": "y"
          },
          {
           "hovertemplate": "<b>%{hovertext}</b><br><br>Final Region=SA<br>End=2016<br>Wkts=%{x}<br>Player=%{y}<br>Runs=%{marker.size}<extra></extra>",
           "hovertext": [
            "SA",
            "SA",
            "SA"
           ],
           "ids": [
            "SA",
            "SA",
            "SA"
           ],
           "legendgroup": "SA",
           "marker": {
            "color": "#B6E880",
            "size": [
             579,
             497,
             0
            ],
            "sizemode": "area",
            "sizeref": 0.0599,
            "symbol": "circle"
           },
           "mode": "markers",
           "name": "SA",
           "orientation": "h",
           "showlegend": true,
           "type": "scatter",
           "x": [
            26,
            24,
            0
           ],
           "xaxis": "x",
           "y": [
            "KJ Abbott ",
            "D Wiese ",
            "RR Rossouw "
           ],
           "yaxis": "y"
          },
          {
           "hovertemplate": "<b>%{hovertext}</b><br><br>Final Region=WI<br>End=2016<br>Wkts=%{x}<br>Player=%{y}<br>Runs=%{marker.size}<extra></extra>",
           "hovertext": [
            "WI",
            "WI",
            "WI"
           ],
           "ids": [
            "WI",
            "WI",
            "WI"
           ],
           "legendgroup": "WI",
           "marker": {
            "color": "#FF97FF",
            "size": [
             1470,
             606,
             0
            ],
            "sizemode": "area",
            "sizeref": 0.0599,
            "symbol": "circle"
           },
           "mode": "markers",
           "name": "WI",
           "orientation": "h",
           "showlegend": true,
           "type": "scatter",
           "x": [
            52,
            18,
            0
           ],
           "xaxis": "x",
           "y": [
            "DJ Bravo ",
            "SJ Benn ",
            "J Charles "
           ],
           "yaxis": "y"
          },
          {
           "hovertemplate": "<b>%{hovertext}</b><br><br>Final Region=NL<br>End=2016<br>Wkts=%{x}<br>Player=%{y}<br>Runs=%{marker.size}<extra></extra>",
           "hovertext": [
            "NL",
            "NL",
            "NL",
            "NL"
           ],
           "ids": [
            "NL",
            "NL",
            "NL",
            "NL"
           ],
           "legendgroup": "NL",
           "marker": {
            "color": "#FECB52",
            "size": [
             780,
             351,
             160,
             132
            ],
            "sizemode": "area",
            "sizeref": 0.0599,
            "symbol": "circle"
           },
           "mode": "markers",
           "name": "NL",
           "orientation": "h",
           "showlegend": true,
           "type": "scatter",
           "x": [
            43,
            14,
            5,
            3
           ],
           "xaxis": "x",
           "y": [
            "Mudassar Bukhari ",
            "MR Swart ",
            "LV van Beek ",
            "TLW Cooper "
           ],
           "yaxis": "y"
          },
          {
           "hovertemplate": "<b>%{hovertext}</b><br><br>Final Region=INDIA<br>End=2016<br>Wkts=%{x}<br>Player=%{y}<br>Runs=%{marker.size}<extra></extra>",
           "hovertext": [
            "INDIA",
            "INDIA",
            "INDIA",
            "INDIA",
            "INDIA",
            "INDIA",
            "INDIA",
            "INDIA",
            "INDIA"
           ],
           "ids": [
            "INDIA",
            "INDIA",
            "INDIA",
            "INDIA",
            "INDIA",
            "INDIA",
            "INDIA",
            "INDIA",
            "INDIA"
           ],
           "legendgroup": "INDIA",
           "marker": {
            "color": "#636efa",
            "size": [
             633,
             41,
             55,
             54,
             42,
             16,
             0,
             0,
             0
            ],
            "sizemode": "area",
            "sizeref": 0.0599,
            "symbol": "circle"
           },
           "mode": "markers",
           "name": "INDIA",
           "orientation": "h",
           "showlegend": true,
           "type": "scatter",
           "x": [
            25,
            6,
            3,
            1,
            1,
            1,
            0,
            0,
            0
           ],
           "xaxis": "x",
           "y": [
            "Harbhajan Singh ",
            "BB Sran ",
            "DS Kulkarni ",
            "STR Binny ",
            "R Dhawan ",
            "P Negi ",
            "Mandeep Singh ",
            "AM Rahane ",
            "AT Rayudu "
           ],
           "yaxis": "y"
          },
          {
           "hovertemplate": "<b>%{hovertext}</b><br><br>Final Region=SCOT<br>End=2016<br>Wkts=%{x}<br>Player=%{y}<br>Runs=%{marker.size}<extra></extra>",
           "hovertext": [
            "SCOT",
            "SCOT",
            "SCOT",
            "SCOT"
           ],
           "ids": [
            "SCOT",
            "SCOT",
            "SCOT",
            "SCOT"
           ],
           "legendgroup": "SCOT",
           "marker": {
            "color": "#EF553B",
            "size": [
             156,
             196,
             164,
             34
            ],
            "sizemode": "area",
            "sizeref": 0.0599,
            "symbol": "circle"
           },
           "mode": "markers",
           "name": "SCOT",
           "orientation": "h",
           "showlegend": true,
           "type": "scatter",
           "x": [
            5,
            5,
            4,
            2
           ],
           "xaxis": "x",
           "y": [
            "MW Machan ",
            "RML Taylor ",
            "PL Mommsen ",
            "GT Main "
           ],
           "yaxis": "y"
          },
          {
           "hovertemplate": "<b>%{hovertext}</b><br><br>Final Region=AUS<br>End=2016<br>Wkts=%{x}<br>Player=%{y}<br>Runs=%{marker.size}<extra></extra>",
           "hovertext": [
            "AUS",
            "AUS",
            "AUS",
            "AUS",
            "AUS",
            "AUS",
            "AUS",
            "AUS",
            "AUS",
            "AUS",
            "AUS"
           ],
           "ids": [
            "AUS",
            "AUS",
            "AUS",
            "AUS",
            "AUS",
            "AUS",
            "AUS",
            "AUS",
            "AUS",
            "AUS",
            "AUS"
           ],
           "legendgroup": "AUS",
           "marker": {
            "color": "#00cc96",
            "size": [
             1187,
             589,
             152,
             269,
             247,
             90,
             0,
             0,
             0,
             0,
             0
            ],
            "sizemode": "area",
            "sizeref": 0.0599,
            "symbol": "circle"
           },
           "mode": "markers",
           "name": "AUS",
           "orientation": "h",
           "showlegend": true,
           "type": "scatter",
           "x": [
            48,
            28,
            8,
            8,
            7,
            3,
            0,
            0,
            0,
            0,
            0
           ],
           "xaxis": "x",
           "y": [
            "SR Watson ",
            "SW Tait ",
            "CJ Boyce ",
            "JR Hazlewood ",
            "JW Hastings ",
            "SM Boland ",
            "CT Bancroft ",
            "UT Khawaja ",
            "SE Marsh ",
            "PM Nevill ",
            "MS Wade "
           ],
           "yaxis": "y"
          },
          {
           "hovertemplate": "<b>%{hovertext}</b><br><br>Final Region=OMAN<br>End=2016<br>Wkts=%{x}<br>Player=%{y}<br>Runs=%{marker.size}<extra></extra>",
           "hovertext": [
            "OMAN",
            "OMAN",
            "OMAN",
            "OMAN",
            "OMAN"
           ],
           "ids": [
            "OMAN",
            "OMAN",
            "OMAN",
            "OMAN",
            "OMAN"
           ],
           "legendgroup": "OMAN",
           "marker": {
            "color": "#ab63fa",
            "size": [
             334,
             32,
             67,
             0,
             0
            ],
            "sizemode": "area",
            "sizeref": 0.0599,
            "symbol": "circle"
           },
           "mode": "markers",
           "name": "OMAN",
           "orientation": "h",
           "showlegend": true,
           "type": "scatter",
           "x": [
            8,
            3,
            1,
            0,
            0
           ],
           "xaxis": "x",
           "y": [
            "M Ansari ",
            "RJ Ranpura ",
            "Amir Ali ",
            "Adnan Ilyas ",
            "VS Wategaonkar "
           ],
           "yaxis": "y"
          },
          {
           "hovertemplate": "<b>%{hovertext}</b><br><br>Final Region=UAE<br>End=2016<br>Wkts=%{x}<br>Player=%{y}<br>Runs=%{marker.size}<extra></extra>",
           "hovertext": [
            "UAE",
            "UAE",
            "UAE",
            "UAE",
            "UAE",
            "UAE",
            "UAE",
            "UAE",
            "UAE",
            "UAE"
           ],
           "ids": [
            "UAE",
            "UAE",
            "UAE",
            "UAE",
            "UAE",
            "UAE",
            "UAE",
            "UAE",
            "UAE",
            "UAE"
           ],
           "legendgroup": "UAE",
           "marker": {
            "color": "#FFA15A",
            "size": [
             66,
             80,
             43,
             26,
             49,
             0,
             0,
             0,
             0,
             0
            ],
            "sizemode": "area",
            "sizeref": 0.0599,
            "symbol": "circle"
           },
           "mode": "markers",
           "name": "UAE",
           "orientation": "h",
           "showlegend": true,
           "type": "scatter",
           "x": [
            3,
            1,
            0,
            0,
            0,
            0,
            0,
            0,
            0,
            0
           ],
           "xaxis": "x",
           "y": [
            "Farhan Ahmed ",
            "Zaheer Maqsood ",
            "Atif Ali Khan ",
            "Fahad Tariq ",
            "Muhammed Shanil ",
            "Amjad Khan ",
            "Muhammad Kaleem ",
            "SP Patil ",
            "Saqlain Haider ",
            "Usman Mushtaq "
           ],
           "yaxis": "y"
          },
          {
           "hovertemplate": "<b>%{hovertext}</b><br><br>Final Region=ZIM<br>End=2016<br>Wkts=%{x}<br>Player=%{y}<br>Runs=%{marker.size}<extra></extra>",
           "hovertext": [
            "ZIM",
            "ZIM",
            "ZIM",
            "ZIM",
            "ZIM"
           ],
           "ids": [
            "ZIM",
            "ZIM",
            "ZIM",
            "ZIM",
            "ZIM"
           ],
           "legendgroup": "ZIM",
           "marker": {
            "color": "#19d3f3",
            "size": [
             398,
             211,
             280,
             323,
             0
            ],
            "sizemode": "area",
            "sizeref": 0.0599,
            "symbol": "circle"
           },
           "mode": "markers",
           "name": "ZIM",
           "orientation": "h",
           "showlegend": true,
           "type": "scatter",
           "x": [
            20,
            7,
            6,
            4,
            0
           ],
           "xaxis": "x",
           "y": [
            "T Panyangara ",
            "LM Jongwe ",
            "T Muzarabani ",
            "BV Vitori ",
            "V Sibanda "
           ],
           "yaxis": "y"
          },
          {
           "hovertemplate": "<b>%{hovertext}</b><br><br>Final Region=PNG<br>End=2016<br>Wkts=%{x}<br>Player=%{y}<br>Runs=%{marker.size}<extra></extra>",
           "hovertext": [
            "PNG"
           ],
           "ids": [
            "PNG"
           ],
           "legendgroup": "PNG",
           "marker": {
            "color": "#B6E880",
            "size": [
             20
            ],
            "sizemode": "area",
            "sizeref": 0.0599,
            "symbol": "circle"
           },
           "mode": "markers",
           "name": "PNG",
           "orientation": "h",
           "showlegend": true,
           "type": "scatter",
           "x": [
            3
           ],
           "xaxis": "x",
           "y": [
            "P Raho "
           ],
           "yaxis": "y"
          },
          {
           "hovertemplate": "<b>%{hovertext}</b><br><br>Final Region=HKG<br>End=2016<br>Wkts=%{x}<br>Player=%{y}<br>Runs=%{marker.size}<extra></extra>",
           "hovertext": [
            "HKG",
            "HKG",
            "HKG",
            "HKG",
            "HKG"
           ],
           "ids": [
            "HKG",
            "HKG",
            "HKG",
            "HKG",
            "HKG"
           ],
           "legendgroup": "HKG",
           "marker": {
            "color": "#FF97FF",
            "size": [
             453,
             509,
             68,
             12,
             0
            ],
            "sizemode": "area",
            "sizeref": 0.0599,
            "symbol": "circle"
           },
           "mode": "markers",
           "name": "HKG",
           "orientation": "h",
           "showlegend": true,
           "type": "scatter",
           "x": [
            24,
            19,
            2,
            0,
            0
           ],
           "xaxis": "x",
           "y": [
            "Haseeb Amjad ",
            "Tanwir Afzal ",
            "RJ Campbell ",
            "A Mehmood ",
            "JJ Atkinson "
           ],
           "yaxis": "y"
          }
         ],
         "name": "2016"
        },
        {
         "data": [
          {
           "hovertemplate": "<b>%{hovertext}</b><br><br>Final Region=SL<br>End=2017<br>Wkts=%{x}<br>Player=%{y}<br>Runs=%{marker.size}<extra></extra>",
           "hovertext": [
            "SL",
            "SL",
            "SL",
            "SL",
            "SL",
            "SL",
            "SL",
            "SL",
            "SL",
            "SL",
            "SL",
            "SL",
            "SL"
           ],
           "ids": [
            "SL",
            "SL",
            "SL",
            "SL",
            "SL",
            "SL",
            "SL",
            "SL",
            "SL",
            "SL",
            "SL",
            "SL",
            "SL"
           ],
           "legendgroup": "SL",
           "marker": {
            "color": "#636efa",
            "size": [
             1530,
             359,
             250,
             206,
             204,
             119,
             92,
             30,
             10,
             16,
             0,
             0,
             0
            ],
            "sizemode": "area",
            "sizeref": 0.0599,
            "symbol": "circle"
           },
           "mode": "markers",
           "name": "SL",
           "orientation": "h",
           "showlegend": true,
           "type": "scatter",
           "x": [
            66,
            10,
            9,
            8,
            5,
            5,
            1,
            0,
            0,
            0,
            0,
            0,
            0
           ],
           "xaxis": "x",
           "y": [
            "KMDN Kulasekara ",
            "S Prasanna ",
            "JRMVB Sanjaya ",
            "TAM Siriwardana ",
            "DAS Gunaratne ",
            "SS Pathirana ",
            "EMDY Munaweera ",
            "PC de Silva ",
            "ST de Silva ",
            "MVT Fernando ",
            "CK Kapugedera ",
            "SMA Priyanjan ",
            "ML Udawatte "
           ],
           "yaxis": "y"
          },
          {
           "hovertemplate": "<b>%{hovertext}</b><br><br>Final Region=PAK<br>End=2017<br>Wkts=%{x}<br>Player=%{y}<br>Runs=%{marker.size}<extra></extra>",
           "hovertext": [
            "PAK",
            "PAK",
            "PAK"
           ],
           "ids": [
            "PAK",
            "PAK",
            "PAK"
           ],
           "legendgroup": "PAK",
           "marker": {
            "color": "#EF553B",
            "size": [
             1454,
             123,
             0
            ],
            "sizemode": "area",
            "sizeref": 0.0599,
            "symbol": "circle"
           },
           "mode": "markers",
           "name": "PAK",
           "orientation": "h",
           "showlegend": true,
           "type": "scatter",
           "x": [
            54,
            5,
            0
           ],
           "xaxis": "x",
           "y": [
            "Sohail Tanvir ",
            "Sohail Khan ",
            "Kamran Akmal "
           ],
           "yaxis": "y"
          },
          {
           "hovertemplate": "<b>%{hovertext}</b><br><br>Final Region=BDESH<br>End=2017<br>Wkts=%{x}<br>Player=%{y}<br>Runs=%{marker.size}<extra></extra>",
           "hovertext": [
            "BDESH",
            "BDESH",
            "BDESH"
           ],
           "ids": [
            "BDESH",
            "BDESH",
            "BDESH"
           ],
           "legendgroup": "BDESH",
           "marker": {
            "color": "#00cc96",
            "size": [
             1527,
             0,
             0
            ],
            "sizemode": "area",
            "sizeref": 0.0599,
            "symbol": "circle"
           },
           "mode": "markers",
           "name": "BDESH",
           "orientation": "h",
           "showlegend": true,
           "type": "scatter",
           "x": [
            42,
            0,
            0
           ],
           "xaxis": "x",
           "y": [
            "Mashrafe Mortaza ",
            "Imrul Kayes ",
            "Nurul Hasan "
           ],
           "yaxis": "y"
          },
          {
           "hovertemplate": "<b>%{hovertext}</b><br><br>Final Region=AFG<br>End=2017<br>Wkts=%{x}<br>Player=%{y}<br>Runs=%{marker.size}<extra></extra>",
           "hovertext": [
            "AFG",
            "AFG",
            "AFG",
            "AFG"
           ],
           "ids": [
            "AFG",
            "AFG",
            "AFG",
            "AFG"
           ],
           "legendgroup": "AFG",
           "marker": {
            "color": "#ab63fa",
            "size": [
             716,
             80,
             0,
             0
            ],
            "sizemode": "area",
            "sizeref": 0.0599,
            "symbol": "circle"
           },
           "mode": "markers",
           "name": "AFG",
           "orientation": "h",
           "showlegend": true,
           "type": "scatter",
           "x": [
            29,
            4,
            0,
            0
           ],
           "xaxis": "x",
           "y": [
            "Amir Hamza ",
            "Nawroz Mangal ",
            "Javed Ahmadi ",
            "Noor Ali Zadran "
           ],
           "yaxis": "y"
          },
          {
           "hovertemplate": "<b>%{hovertext}</b><br><br>Final Region=IRE<br>End=2017<br>Wkts=%{x}<br>Player=%{y}<br>Runs=%{marker.size}<extra></extra>",
           "hovertext": [
            "IRE",
            "IRE"
           ],
           "ids": [
            "IRE",
            "IRE"
           ],
           "legendgroup": "IRE",
           "marker": {
            "color": "#FFA15A",
            "size": [
             216,
             192
            ],
            "sizemode": "area",
            "sizeref": 0.0599,
            "symbol": "circle"
           },
           "mode": "markers",
           "name": "IRE",
           "orientation": "h",
           "showlegend": true,
           "type": "scatter",
           "x": [
            13,
            12
           ],
           "xaxis": "x",
           "y": [
            "AR McBrine ",
            "J Mulder "
           ],
           "yaxis": "y"
          },
          {
           "hovertemplate": "<b>%{hovertext}</b><br><br>Final Region=NZ<br>End=2017<br>Wkts=%{x}<br>Player=%{y}<br>Runs=%{marker.size}<extra></extra>",
           "hovertext": [
            "NZ",
            "NZ",
            "NZ",
            "NZ"
           ],
           "ids": [
            "NZ",
            "NZ",
            "NZ",
            "NZ"
           ],
           "legendgroup": "NZ",
           "marker": {
            "color": "#19d3f3",
            "size": [
             235,
             191,
             0,
             0
            ],
            "sizemode": "area",
            "sizeref": 0.0599,
            "symbol": "circle"
           },
           "mode": "markers",
           "name": "NZ",
           "orientation": "h",
           "showlegend": true,
           "type": "scatter",
           "x": [
            14,
            7,
            0,
            0
           ],
           "xaxis": "x",
           "y": [
            "GD Elliott ",
            "MJ Henry ",
            "NT Broom ",
            "TWM Latham "
           ],
           "yaxis": "y"
          },
          {
           "hovertemplate": "<b>%{hovertext}</b><br><br>Final Region=ENG<br>End=2017<br>Wkts=%{x}<br>Player=%{y}<br>Runs=%{marker.size}<extra></extra>",
           "hovertext": [
            "ENG",
            "ENG",
            "ENG"
           ],
           "ids": [
            "ENG",
            "ENG",
            "ENG"
           ],
           "legendgroup": "ENG",
           "marker": {
            "color": "#FF6692",
            "size": [
             347,
             62,
             0
            ],
            "sizemode": "area",
            "sizeref": 0.0599,
            "symbol": "circle"
           },
           "mode": "markers",
           "name": "ENG",
           "orientation": "h",
           "showlegend": true,
           "type": "scatter",
           "x": [
            16,
            1,
            0
           ],
           "xaxis": "x",
           "y": [
            "PD Collingwood ",
            "MS Crane ",
            "LS Livingstone "
           ],
           "yaxis": "y"
          },
          {
           "hovertemplate": "<b>%{hovertext}</b><br><br>Final Region=SA<br>End=2017<br>Wkts=%{x}<br>Player=%{y}<br>Runs=%{marker.size}<extra></extra>",
           "hovertext": [
            "SA",
            "SA",
            "SA",
            "SA",
            "SA",
            "SA"
           ],
           "ids": [
            "SA",
            "SA",
            "SA",
            "SA",
            "SA",
            "SA"
           ],
           "legendgroup": "SA",
           "marker": {
            "color": "#B6E880",
            "size": [
             1191,
             1038,
             0,
             0,
             0,
             0
            ],
            "sizemode": "area",
            "sizeref": 0.0599,
            "symbol": "circle"
           },
           "mode": "markers",
           "name": "SA",
           "orientation": "h",
           "showlegend": true,
           "type": "scatter",
           "x": [
            47,
            41,
            0,
            0,
            0,
            0
           ],
           "xaxis": "x",
           "y": [
            "M Morkel ",
            "WD Parnell ",
            "TB de Bruyn ",
            "AB de Villiers ",
            "HG Kuhn ",
            "M Mosehle "
           ],
           "yaxis": "y"
          },
          {
           "hovertemplate": "<b>%{hovertext}</b><br><br>Final Region=WI<br>End=2017<br>Wkts=%{x}<br>Player=%{y}<br>Runs=%{marker.size}<extra></extra>",
           "hovertext": [
            "WI"
           ],
           "ids": [
            "WI"
           ],
           "legendgroup": "WI",
           "marker": {
            "color": "#FF97FF",
            "size": [
             1116
            ],
            "sizemode": "area",
            "sizeref": 0.0599,
            "symbol": "circle"
           },
           "mode": "markers",
           "name": "WI",
           "orientation": "h",
           "showlegend": true,
           "type": "scatter",
           "x": [
            44
           ],
           "xaxis": "x",
           "y": [
            "DJG Sammy "
           ],
           "yaxis": "y"
          },
          {
           "hovertemplate": "<b>%{hovertext}</b><br><br>Final Region=NL<br>End=2017<br>Wkts=%{x}<br>Player=%{y}<br>Runs=%{marker.size}<extra></extra>",
           "hovertext": [
            "NL",
            "NL"
           ],
           "ids": [
            "NL",
            "NL"
           ],
           "legendgroup": "NL",
           "marker": {
            "color": "#FECB52",
            "size": [
             730,
             603
            ],
            "sizemode": "area",
            "sizeref": 0.0599,
            "symbol": "circle"
           },
           "mode": "markers",
           "name": "NL",
           "orientation": "h",
           "showlegend": true,
           "type": "scatter",
           "x": [
            44,
            18
           ],
           "xaxis": "x",
           "y": [
            "Ahsan Malik ",
            "PW Borren "
           ],
           "yaxis": "y"
          },
          {
           "hovertemplate": "<b>%{hovertext}</b><br><br>Final Region=INDIA<br>End=2017<br>Wkts=%{x}<br>Player=%{y}<br>Runs=%{marker.size}<extra></extra>",
           "hovertext": [
            "INDIA",
            "INDIA",
            "INDIA",
            "INDIA",
            "INDIA",
            "INDIA"
           ],
           "ids": [
            "INDIA",
            "INDIA",
            "INDIA",
            "INDIA",
            "INDIA",
            "INDIA"
           ],
           "legendgroup": "INDIA",
           "marker": {
            "color": "#636efa",
            "size": [
             1193,
             758,
             499,
             240,
             32,
             0
            ],
            "sizemode": "area",
            "sizeref": 0.0599,
            "symbol": "circle"
           },
           "mode": "markers",
           "name": "INDIA",
           "orientation": "h",
           "showlegend": true,
           "type": "scatter",
           "x": [
            52,
            34,
            28,
            16,
            1,
            0
           ],
           "xaxis": "x",
           "y": [
            "R Ashwin ",
            "A Nehra ",
            "Yuvraj Singh ",
            "A Mishra ",
            "Parvez Rasool ",
            "KM Jadhav "
           ],
           "yaxis": "y"
          },
          {
           "hovertemplate": "<b>%{hovertext}</b><br><br>Final Region=SCOT<br>End=2017<br>Wkts=%{x}<br>Player=%{y}<br>Runs=%{marker.size}<extra></extra>",
           "hovertext": [
            "SCOT",
            "SCOT"
           ],
           "ids": [
            "SCOT",
            "SCOT"
           ],
           "legendgroup": "SCOT",
           "marker": {
            "color": "#EF553B",
            "size": [
             171,
             143
            ],
            "sizemode": "area",
            "sizeref": 0.0599,
            "symbol": "circle"
           },
           "mode": "markers",
           "name": "SCOT",
           "orientation": "h",
           "showlegend": true,
           "type": "scatter",
           "x": [
            8,
            5
           ],
           "xaxis": "x",
           "y": [
            "CD de Lange ",
            "BTJ Wheal "
           ],
           "yaxis": "y"
          },
          {
           "hovertemplate": "<b>%{hovertext}</b><br><br>Final Region=AUS<br>End=2017<br>Wkts=%{x}<br>Player=%{y}<br>Runs=%{marker.size}<extra></extra>",
           "hovertext": [
            "AUS",
            "AUS",
            "AUS",
            "AUS",
            "AUS",
            "AUS",
            "AUS",
            "AUS"
           ],
           "ids": [
            "AUS",
            "AUS",
            "AUS",
            "AUS",
            "AUS",
            "AUS",
            "AUS",
            "AUS"
           ],
           "legendgroup": "AUS",
           "marker": {
            "color": "#00cc96",
            "size": [
             684,
             317,
             158,
             215,
             0,
             0,
             0,
             0
            ],
            "sizemode": "area",
            "sizeref": 0.0599,
            "symbol": "circle"
           },
           "mode": "markers",
           "name": "AUS",
           "orientation": "h",
           "showlegend": true,
           "type": "scatter",
           "x": [
            36,
            11,
            4,
            3,
            0,
            0,
            0,
            0
           ],
           "xaxis": "x",
           "y": [
            "JP Faulkner ",
            "DT Christian ",
            "MC Henriques ",
            "BCJ Cutting ",
            "GJ Bailey ",
            "BR Dunk ",
            "M Klinger ",
            "TD Paine "
           ],
           "yaxis": "y"
          },
          {
           "hovertemplate": "<b>%{hovertext}</b><br><br>Final Region=OMAN<br>End=2017<br>Wkts=%{x}<br>Player=%{y}<br>Runs=%{marker.size}<extra></extra>",
           "hovertext": [
            "OMAN",
            "OMAN"
           ],
           "ids": [
            "OMAN",
            "OMAN"
           ],
           "legendgroup": "OMAN",
           "marker": {
            "color": "#ab63fa",
            "size": [
             0,
             0
            ],
            "sizemode": "area",
            "sizeref": 0.0599,
            "symbol": "circle"
           },
           "mode": "markers",
           "name": "OMAN",
           "orientation": "h",
           "showlegend": true,
           "type": "scatter",
           "x": [
            0,
            0
           ],
           "xaxis": "x",
           "y": [
            "A Poulose ",
            "Sultan Ahmed "
           ],
           "yaxis": "y"
          },
          {
           "hovertemplate": "<b>%{hovertext}</b><br><br>Final Region=UAE<br>End=2017<br>Wkts=%{x}<br>Player=%{y}<br>Runs=%{marker.size}<extra></extra>",
           "hovertext": [
            "UAE",
            "UAE",
            "UAE",
            "UAE",
            "UAE"
           ],
           "ids": [
            "UAE",
            "UAE",
            "UAE",
            "UAE",
            "UAE"
           ],
           "legendgroup": "UAE",
           "marker": {
            "color": "#FFA15A",
            "size": [
             560,
             411,
             8,
             0,
             0
            ],
            "sizemode": "area",
            "sizeref": 0.0599,
            "symbol": "circle"
           },
           "mode": "markers",
           "name": "UAE",
           "orientation": "h",
           "showlegend": true,
           "type": "scatter",
           "x": [
            33,
            13,
            0,
            0,
            0
           ],
           "xaxis": "x",
           "y": [
            "Amjad Javed ",
            "Mohammad Shahzad ",
            "Mohammed Qasim ",
            "Adnan Mufti ",
            "L Sreekumar "
           ],
           "yaxis": "y"
          },
          {
           "hovertemplate": "<b>%{hovertext}</b><br><br>Final Region=PNG<br>End=2017<br>Wkts=%{x}<br>Player=%{y}<br>Runs=%{marker.size}<extra></extra>",
           "hovertext": [
            "PNG",
            "PNG",
            "PNG",
            "PNG",
            "PNG",
            "PNG"
           ],
           "ids": [
            "PNG",
            "PNG",
            "PNG",
            "PNG",
            "PNG",
            "PNG"
           ],
           "legendgroup": "PNG",
           "marker": {
            "color": "#B6E880",
            "size": [
             113,
             157,
             49,
             0,
             0,
             0
            ],
            "sizemode": "area",
            "sizeref": 0.0599,
            "symbol": "circle"
           },
           "mode": "markers",
           "name": "PNG",
           "orientation": "h",
           "showlegend": true,
           "type": "scatter",
           "x": [
            5,
            4,
            0,
            0,
            0,
            0
           ],
           "xaxis": "x",
           "y": [
            "WT Gavera ",
            "MD Dai ",
            "A Nao ",
            "D Bau ",
            "VV Morea ",
            "JNT Vare "
           ],
           "yaxis": "y"
          },
          {
           "hovertemplate": "<b>%{hovertext}</b><br><br>Final Region=HKG<br>End=2017<br>Wkts=%{x}<br>Player=%{y}<br>Runs=%{marker.size}<extra></extra>",
           "hovertext": [
            "HKG",
            "HKG",
            "HKG",
            "HKG",
            "HKG",
            "HKG",
            "HKG"
           ],
           "ids": [
            "HKG",
            "HKG",
            "HKG",
            "HKG",
            "HKG",
            "HKG",
            "HKG"
           ],
           "legendgroup": "HKG",
           "marker": {
            "color": "#FF97FF",
            "size": [
             546,
             264,
             116,
             79,
             12,
             0,
             0
            ],
            "sizemode": "area",
            "sizeref": 0.0599,
            "symbol": "circle"
           },
           "mode": "markers",
           "name": "HKG",
           "orientation": "h",
           "showlegend": true,
           "type": "scatter",
           "x": [
            25,
            5,
            3,
            2,
            0,
            0,
            0
           ],
           "xaxis": "x",
           "y": [
            "Nadeem Ahmed ",
            "Anshuman Rath ",
            "Tanveer Ahmed ",
            "Ehsan Nawaz ",
            "Waqas Khan ",
            "Babar Hayat ",
            "C Carter "
           ],
           "yaxis": "y"
          }
         ],
         "name": "2017"
        },
        {
         "data": [
          {
           "hovertemplate": "<b>%{hovertext}</b><br><br>Final Region=SL<br>End=2014<br>Wkts=%{x}<br>Player=%{y}<br>Runs=%{marker.size}<extra></extra>",
           "hovertext": [
            "SL",
            "SL",
            "SL"
           ],
           "ids": [
            "SL",
            "SL",
            "SL"
           ],
           "legendgroup": "SL",
           "marker": {
            "color": "#636efa",
            "size": [
             952,
             8,
             0
            ],
            "sizemode": "area",
            "sizeref": 0.0599,
            "symbol": "circle"
           },
           "mode": "markers",
           "name": "SL",
           "orientation": "h",
           "showlegend": true,
           "type": "scatter",
           "x": [
            66,
            0,
            0
           ],
           "xaxis": "x",
           "y": [
            "BAW Mendis ",
            "DPMD Jayawardene ",
            "KC Sangakkara "
           ],
           "yaxis": "y"
          },
          {
           "hovertemplate": "<b>%{hovertext}</b><br><br>Final Region=PAK<br>End=2014<br>Wkts=%{x}<br>Player=%{y}<br>Runs=%{marker.size}<extra></extra>",
           "hovertext": [
            "PAK",
            "PAK",
            "PAK",
            "PAK",
            "PAK"
           ],
           "ids": [
            "PAK",
            "PAK",
            "PAK",
            "PAK",
            "PAK"
           ],
           "legendgroup": "PAK",
           "marker": {
            "color": "#EF553B",
            "size": [
             185,
             219,
             236,
             12,
             0
            ],
            "sizemode": "area",
            "sizeref": 0.0599,
            "symbol": "circle"
           },
           "mode": "markers",
           "name": "PAK",
           "orientation": "h",
           "showlegend": true,
           "type": "scatter",
           "x": [
            12,
            10,
            8,
            0,
            0
           ],
           "xaxis": "x",
           "y": [
            "Zulfiqar Babar ",
            "Raza Hasan ",
            "Junaid Khan ",
            "Saad Nasim ",
            "Awais Zia "
           ],
           "yaxis": "y"
          },
          {
           "hovertemplate": "<b>%{hovertext}</b><br><br>Final Region=BDESH<br>End=2014<br>Wkts=%{x}<br>Player=%{y}<br>Runs=%{marker.size}<extra></extra>",
           "hovertext": [
            "BDESH",
            "BDESH",
            "BDESH",
            "BDESH",
            "BDESH"
           ],
           "ids": [
            "BDESH",
            "BDESH",
            "BDESH",
            "BDESH",
            "BDESH"
           ],
           "legendgroup": "BDESH",
           "marker": {
            "color": "#00cc96",
            "size": [
             838,
             261,
             127,
             32,
             0
            ],
            "sizemode": "area",
            "sizeref": 0.0599,
            "symbol": "circle"
           },
           "mode": "markers",
           "name": "BDESH",
           "orientation": "h",
           "showlegend": true,
           "type": "scatter",
           "x": [
            44,
            6,
            3,
            0,
            0
           ],
           "xaxis": "x",
           "y": [
            "Abdur Razzak ",
            "Farhad Reza ",
            "Ziaur Rahman ",
            "Mominul Haque ",
            "Shamsur Rahman "
           ],
           "yaxis": "y"
          },
          {
           "hovertemplate": "<b>%{hovertext}</b><br><br>Final Region=NZ<br>End=2014<br>Wkts=%{x}<br>Player=%{y}<br>Runs=%{marker.size}<extra></extra>",
           "hovertext": [
            "NZ",
            "NZ",
            "NZ",
            "NZ",
            "NZ",
            "NZ"
           ],
           "ids": [
            "NZ",
            "NZ",
            "NZ",
            "NZ",
            "NZ",
            "NZ"
           ],
           "legendgroup": "NZ",
           "marker": {
            "color": "#19d3f3",
            "size": [
             1228,
             748,
             80,
             68,
             0,
             0
            ],
            "sizemode": "area",
            "sizeref": 0.0599,
            "symbol": "circle"
           },
           "mode": "markers",
           "name": "NZ",
           "orientation": "h",
           "showlegend": true,
           "type": "scatter",
           "x": [
            43,
            38,
            2,
            2,
            0,
            0
           ],
           "xaxis": "x",
           "y": [
            "KD Mills ",
            "DL Vettori ",
            "AP Devcich ",
            "JD Ryder ",
            "DG Brownlie ",
            "BJ Watling "
           ],
           "yaxis": "y"
          },
          {
           "hovertemplate": "<b>%{hovertext}</b><br><br>Final Region=ENG<br>End=2014<br>Wkts=%{x}<br>Player=%{y}<br>Runs=%{marker.size}<extra></extra>",
           "hovertext": [
            "ENG",
            "ENG",
            "ENG",
            "ENG",
            "ENG",
            "ENG",
            "ENG",
            "ENG",
            "ENG",
            "ENG",
            "ENG",
            "ENG"
           ],
           "ids": [
            "ENG",
            "ENG",
            "ENG",
            "ENG",
            "ENG",
            "ENG",
            "ENG",
            "ENG",
            "ENG",
            "ENG",
            "ENG",
            "ENG"
           ],
           "legendgroup": "ENG",
           "marker": {
            "color": "#FF6692",
            "size": [
             1491,
             1020,
             887,
             465,
             387,
             416,
             199,
             55,
             0,
             0,
             0,
             0
            ],
            "sizemode": "area",
            "sizeref": 0.0599,
            "symbol": "circle"
           },
           "mode": "markers",
           "name": "ENG",
           "orientation": "h",
           "showlegend": true,
           "type": "scatter",
           "x": [
            65,
            39,
            24,
            18,
            16,
            7,
            5,
            3,
            0,
            0,
            0,
            0
           ],
           "xaxis": "x",
           "y": [
            "SCJ Broad ",
            "JW Dernbach ",
            "TT Bresnan ",
            "LJ Wright ",
            "RS Bopara ",
            "JC Tredwell ",
            "DR Briggs ",
            "HF Gurney ",
            "IR Bell ",
            "MA Carberry ",
            "EC Joyce ",
            "MJ Lumb "
           ],
           "yaxis": "y"
          },
          {
           "hovertemplate": "<b>%{hovertext}</b><br><br>Final Region=SA<br>End=2014<br>Wkts=%{x}<br>Player=%{y}<br>Runs=%{marker.size}<extra></extra>",
           "hovertext": [
            "SA",
            "SA",
            "SA"
           ],
           "ids": [
            "SA",
            "SA",
            "SA"
           ],
           "legendgroup": "SA",
           "marker": {
            "color": "#B6E880",
            "size": [
             451,
             541,
             332
            ],
            "sizemode": "area",
            "sizeref": 0.0599,
            "symbol": "circle"
           },
           "mode": "markers",
           "name": "SA",
           "orientation": "h",
           "showlegend": true,
           "type": "scatter",
           "x": [
            24,
            18,
            17
           ],
           "xaxis": "x",
           "y": [
            "RJ Peterson ",
            "LL Tsotsobe ",
            "R McLaren "
           ],
           "yaxis": "y"
          },
          {
           "hovertemplate": "<b>%{hovertext}</b><br><br>Final Region=WI<br>End=2014<br>Wkts=%{x}<br>Player=%{y}<br>Runs=%{marker.size}<extra></extra>",
           "hovertext": [
            "WI",
            "WI",
            "WI",
            "WI"
           ],
           "ids": [
            "WI",
            "WI",
            "WI",
            "WI"
           ],
           "legendgroup": "WI",
           "marker": {
            "color": "#FF97FF",
            "size": [
             278,
             224,
             154,
             0
            ],
            "sizemode": "area",
            "sizeref": 0.0599,
            "symbol": "circle"
           },
           "mode": "markers",
           "name": "WI",
           "orientation": "h",
           "showlegend": true,
           "type": "scatter",
           "x": [
            18,
            11,
            6,
            0
           ],
           "xaxis": "x",
           "y": [
            "K Santokie ",
            "NO Miller ",
            "TL Best ",
            "KOA Powell "
           ],
           "yaxis": "y"
          },
          {
           "hovertemplate": "<b>%{hovertext}</b><br><br>Final Region=INDIA<br>End=2014<br>Wkts=%{x}<br>Player=%{y}<br>Runs=%{marker.size}<extra></extra>",
           "hovertext": [
            "INDIA"
           ],
           "ids": [
            "INDIA"
           ],
           "legendgroup": "INDIA",
           "marker": {
            "color": "#636efa",
            "size": [
             28
            ],
            "sizemode": "area",
            "sizeref": 0.0599,
            "symbol": "circle"
           },
           "mode": "markers",
           "name": "INDIA",
           "orientation": "h",
           "showlegend": true,
           "type": "scatter",
           "x": [
            1
           ],
           "xaxis": "x",
           "y": [
            "KV Sharma "
           ],
           "yaxis": "y"
          },
          {
           "hovertemplate": "<b>%{hovertext}</b><br><br>Final Region=AUS<br>End=2014<br>Wkts=%{x}<br>Player=%{y}<br>Runs=%{marker.size}<extra></extra>",
           "hovertext": [
            "AUS",
            "AUS",
            "AUS",
            "AUS",
            "AUS",
            "AUS",
            "AUS",
            "AUS"
           ],
           "ids": [
            "AUS",
            "AUS",
            "AUS",
            "AUS",
            "AUS",
            "AUS",
            "AUS",
            "AUS"
           ],
           "legendgroup": "AUS",
           "marker": {
            "color": "#00cc96",
            "size": [
             249,
             373,
             109,
             43,
             51,
             0,
             0,
             0
            ],
            "sizemode": "area",
            "sizeref": 0.0599,
            "symbol": "circle"
           },
           "mode": "markers",
           "name": "AUS",
           "orientation": "h",
           "showlegend": true,
           "type": "scatter",
           "x": [
            9,
            7,
            6,
            1,
            1,
            0,
            0,
            0
           ],
           "xaxis": "x",
           "y": [
            "DE Bollinger ",
            "GB Hogg ",
            "JM Muirhead ",
            "BJ Hodge ",
            "CL White ",
            "BJ Haddin ",
            "PJ Hughes ",
            "NJ Reardon "
           ],
           "yaxis": "y"
          },
          {
           "hovertemplate": "<b>%{hovertext}</b><br><br>Final Region=UAE<br>End=2014<br>Wkts=%{x}<br>Player=%{y}<br>Runs=%{marker.size}<extra></extra>",
           "hovertext": [
            "UAE",
            "UAE",
            "UAE",
            "UAE",
            "UAE"
           ],
           "ids": [
            "UAE",
            "UAE",
            "UAE",
            "UAE",
            "UAE"
           ],
           "legendgroup": "UAE",
           "marker": {
            "color": "#FFA15A",
            "size": [
             77,
             21,
             58,
             8,
             0
            ],
            "sizemode": "area",
            "sizeref": 0.0599,
            "symbol": "circle"
           },
           "mode": "markers",
           "name": "UAE",
           "orientation": "h",
           "showlegend": true,
           "type": "scatter",
           "x": [
            2,
            2,
            2,
            1,
            0
           ],
           "xaxis": "x",
           "y": [
            "Kamran Shazad ",
            "Sharif Asadullah ",
            "EHSN Silva ",
            "Khurram Khan ",
            "V Shetty "
           ],
           "yaxis": "y"
          },
          {
           "hovertemplate": "<b>%{hovertext}</b><br><br>Final Region=ZIM<br>End=2014<br>Wkts=%{x}<br>Player=%{y}<br>Runs=%{marker.size}<extra></extra>",
           "hovertext": [
            "ZIM",
            "ZIM"
           ],
           "ids": [
            "ZIM",
            "ZIM"
           ],
           "legendgroup": "ZIM",
           "marker": {
            "color": "#19d3f3",
            "size": [
             142,
             17
            ],
            "sizemode": "area",
            "sizeref": 0.0599,
            "symbol": "circle"
           },
           "mode": "markers",
           "name": "ZIM",
           "orientation": "h",
           "showlegend": true,
           "type": "scatter",
           "x": [
            4,
            0
           ],
           "xaxis": "x",
           "y": [
            "N M'shangwe ",
            "TP Kamungozi "
           ],
           "yaxis": "y"
          },
          {
           "hovertemplate": "<b>%{hovertext}</b><br><br>Final Region=HKG<br>End=2014<br>Wkts=%{x}<br>Player=%{y}<br>Runs=%{marker.size}<extra></extra>",
           "hovertext": [
            "HKG",
            "HKG",
            "HKG"
           ],
           "ids": [
            "HKG",
            "HKG",
            "HKG"
           ],
           "legendgroup": "HKG",
           "marker": {
            "color": "#FF97FF",
            "size": [
             29,
             0,
             0
            ],
            "sizemode": "area",
            "sizeref": 0.0599,
            "symbol": "circle"
           },
           "mode": "markers",
           "name": "HKG",
           "orientation": "h",
           "showlegend": true,
           "type": "scatter",
           "x": [
            1,
            0,
            0
           ],
           "xaxis": "x",
           "y": [
            "Najeeb Amar ",
            "Anas Khan ",
            "Munir Dar "
           ],
           "yaxis": "y"
          },
          {
           "hovertemplate": "<b>%{hovertext}</b><br><br>Final Region=NEPAL<br>End=2014<br>Wkts=%{x}<br>Player=%{y}<br>Runs=%{marker.size}<extra></extra>",
           "hovertext": [
            "NEPAL",
            "NEPAL"
           ],
           "ids": [
            "NEPAL",
            "NEPAL"
           ],
           "legendgroup": "NEPAL",
           "marker": {
            "color": "#FECB52",
            "size": [
             12,
             0
            ],
            "sizemode": "area",
            "sizeref": 0.0599,
            "symbol": "circle"
           },
           "mode": "markers",
           "name": "NEPAL",
           "orientation": "h",
           "showlegend": true,
           "type": "scatter",
           "x": [
            1,
            0
           ],
           "xaxis": "x",
           "y": [
            "A Bhattarai ",
            "NB Budayair "
           ],
           "yaxis": "y"
          }
         ],
         "name": "2014"
        },
        {
         "data": [
          {
           "hovertemplate": "<b>%{hovertext}</b><br><br>Final Region=SL<br>End=2012<br>Wkts=%{x}<br>Player=%{y}<br>Runs=%{marker.size}<extra></extra>",
           "hovertext": [
            "SL"
           ],
           "ids": [
            "SL"
           ],
           "legendgroup": "SL",
           "marker": {
            "color": "#636efa",
            "size": [
             48
            ],
            "sizemode": "area",
            "sizeref": 0.0599,
            "symbol": "circle"
           },
           "mode": "markers",
           "name": "SL",
           "orientation": "h",
           "showlegend": true,
           "type": "scatter",
           "x": [
            2
           ],
           "xaxis": "x",
           "y": [
            "KS Lokuarachchi "
           ],
           "yaxis": "y"
          },
          {
           "hovertemplate": "<b>%{hovertext}</b><br><br>Final Region=PAK<br>End=2012<br>Wkts=%{x}<br>Player=%{y}<br>Runs=%{marker.size}<extra></extra>",
           "hovertext": [
            "PAK",
            "PAK",
            "PAK",
            "PAK",
            "PAK",
            "PAK"
           ],
           "ids": [
            "PAK",
            "PAK",
            "PAK",
            "PAK",
            "PAK",
            "PAK"
           ],
           "legendgroup": "PAK",
           "marker": {
            "color": "#EF553B",
            "size": [
             316,
             116,
             0,
             0,
             0,
             0
            ],
            "sizemode": "area",
            "sizeref": 0.0599,
            "symbol": "circle"
           },
           "mode": "markers",
           "name": "PAK",
           "orientation": "h",
           "showlegend": true,
           "type": "scatter",
           "x": [
            16,
            8,
            0,
            0,
            0,
            0
           ],
           "xaxis": "x",
           "y": [
            "Yasir Arafat ",
            "Aizaz Cheema ",
            "Asad Shafiq ",
            "Imran Nazir ",
            "Misbah-ul-Haq ",
            "Shakeel Ansar "
           ],
           "yaxis": "y"
          },
          {
           "hovertemplate": "<b>%{hovertext}</b><br><br>Final Region=BDESH<br>End=2012<br>Wkts=%{x}<br>Player=%{y}<br>Runs=%{marker.size}<extra></extra>",
           "hovertext": [
            "BDESH",
            "BDESH",
            "BDESH"
           ],
           "ids": [
            "BDESH",
            "BDESH",
            "BDESH"
           ],
           "legendgroup": "BDESH",
           "marker": {
            "color": "#00cc96",
            "size": [
             146,
             67,
             0
            ],
            "sizemode": "area",
            "sizeref": 0.0599,
            "symbol": "circle"
           },
           "mode": "markers",
           "name": "BDESH",
           "orientation": "h",
           "showlegend": true,
           "type": "scatter",
           "x": [
            9,
            1,
            0
           ],
           "xaxis": "x",
           "y": [
            "Elias Sunny ",
            "Nazmul Hossain ",
            "Junaid Siddique "
           ],
           "yaxis": "y"
          },
          {
           "hovertemplate": "<b>%{hovertext}</b><br><br>Final Region=AFG<br>End=2012<br>Wkts=%{x}<br>Player=%{y}<br>Runs=%{marker.size}<extra></extra>",
           "hovertext": [
            "AFG",
            "AFG"
           ],
           "ids": [
            "AFG",
            "AFG"
           ],
           "legendgroup": "AFG",
           "marker": {
            "color": "#ab63fa",
            "size": [
             26,
             0
            ],
            "sizemode": "area",
            "sizeref": 0.0599,
            "symbol": "circle"
           },
           "mode": "markers",
           "name": "AFG",
           "orientation": "h",
           "showlegend": true,
           "type": "scatter",
           "x": [
            1,
            0
           ],
           "xaxis": "x",
           "y": [
            "Zamir Khan ",
            "Shabir Noori "
           ],
           "yaxis": "y"
          },
          {
           "hovertemplate": "<b>%{hovertext}</b><br><br>Final Region=IRE<br>End=2012<br>Wkts=%{x}<br>Player=%{y}<br>Runs=%{marker.size}<extra></extra>",
           "hovertext": [
            "IRE",
            "IRE",
            "IRE"
           ],
           "ids": [
            "IRE",
            "IRE",
            "IRE"
           ],
           "legendgroup": "IRE",
           "marker": {
            "color": "#FFA15A",
            "size": [
             18,
             14,
             0
            ],
            "sizemode": "area",
            "sizeref": 0.0599,
            "symbol": "circle"
           },
           "mode": "markers",
           "name": "IRE",
           "orientation": "h",
           "showlegend": true,
           "type": "scatter",
           "x": [
            2,
            0,
            0
           ],
           "xaxis": "x",
           "y": [
            "AR White ",
            "NG Jones ",
            "RD McCann "
           ],
           "yaxis": "y"
          },
          {
           "hovertemplate": "<b>%{hovertext}</b><br><br>Final Region=NZ<br>End=2012<br>Wkts=%{x}<br>Player=%{y}<br>Runs=%{marker.size}<extra></extra>",
           "hovertext": [
            "NZ",
            "NZ",
            "NZ",
            "NZ"
           ],
           "ids": [
            "NZ",
            "NZ",
            "NZ",
            "NZ"
           ],
           "legendgroup": "NZ",
           "marker": {
            "color": "#19d3f3",
            "size": [
             793,
             107,
             7,
             0
            ],
            "sizemode": "area",
            "sizeref": 0.0599,
            "symbol": "circle"
           },
           "mode": "markers",
           "name": "NZ",
           "orientation": "h",
           "showlegend": true,
           "type": "scatter",
           "x": [
            19,
            4,
            0,
            0
           ],
           "xaxis": "x",
           "y": [
            "JDP Oram ",
            "MD Bates ",
            "DR Flynn ",
            "PG Fulton "
           ],
           "yaxis": "y"
          },
          {
           "hovertemplate": "<b>%{hovertext}</b><br><br>Final Region=ENG<br>End=2012<br>Wkts=%{x}<br>Player=%{y}<br>Runs=%{marker.size}<extra></extra>",
           "hovertext": [
            "ENG",
            "ENG",
            "ENG"
           ],
           "ids": [
            "ENG",
            "ENG",
            "ENG"
           ],
           "legendgroup": "ENG",
           "marker": {
            "color": "#FF6692",
            "size": [
             859,
             70,
             0
            ],
            "sizemode": "area",
            "sizeref": 0.0599,
            "symbol": "circle"
           },
           "mode": "markers",
           "name": "ENG",
           "orientation": "h",
           "showlegend": true,
           "type": "scatter",
           "x": [
            51,
            2,
            0
           ],
           "xaxis": "x",
           "y": [
            "GP Swann ",
            "SC Meaker ",
            "C Kieswetter "
           ],
           "yaxis": "y"
          },
          {
           "hovertemplate": "<b>%{hovertext}</b><br><br>Final Region=SA<br>End=2012<br>Wkts=%{x}<br>Player=%{y}<br>Runs=%{marker.size}<extra></extra>",
           "hovertext": [
            "SA",
            "SA",
            "SA",
            "SA",
            "SA",
            "SA"
           ],
           "ids": [
            "SA",
            "SA",
            "SA",
            "SA",
            "SA",
            "SA"
           ],
           "legendgroup": "SA",
           "marker": {
            "color": "#B6E880",
            "size": [
             823,
             333,
             261,
             0,
             0,
             0
            ],
            "sizemode": "area",
            "sizeref": 0.0599,
            "symbol": "circle"
           },
           "mode": "markers",
           "name": "SA",
           "orientation": "h",
           "showlegend": true,
           "type": "scatter",
           "x": [
            37,
            12,
            12,
            0,
            0,
            0
           ],
           "xaxis": "x",
           "y": [
            "J Botha ",
            "JH Kallis ",
            "J Theron ",
            "CA Ingram ",
            "RE Levi ",
            "DJ Vilas "
           ],
           "yaxis": "y"
          },
          {
           "hovertemplate": "<b>%{hovertext}</b><br><br>Final Region=WI<br>End=2012<br>Wkts=%{x}<br>Player=%{y}<br>Runs=%{marker.size}<extra></extra>",
           "hovertext": [
            "WI",
            "WI",
            "WI",
            "WI",
            "WI",
            "WI"
           ],
           "ids": [
            "WI",
            "WI",
            "WI",
            "WI",
            "WI",
            "WI"
           ],
           "legendgroup": "WI",
           "marker": {
            "color": "#FF97FF",
            "size": [
             497,
             284,
             65,
             18,
             0,
             0
            ],
            "sizemode": "area",
            "sizeref": 0.0599,
            "symbol": "circle"
           },
           "mode": "markers",
           "name": "WI",
           "orientation": "h",
           "showlegend": true,
           "type": "scatter",
           "x": [
            16,
            10,
            4,
            0,
            0,
            0
           ],
           "xaxis": "x",
           "y": [
            "FH Edwards ",
            "KAJ Roach ",
            "GE Mathurin ",
            "NE Bonner ",
            "CS Baugh ",
            "DP Hyatt "
           ],
           "yaxis": "y"
          },
          {
           "hovertemplate": "<b>%{hovertext}</b><br><br>Final Region=NL<br>End=2012<br>Wkts=%{x}<br>Player=%{y}<br>Runs=%{marker.size}<extra></extra>",
           "hovertext": [
            "NL"
           ],
           "ids": [
            "NL"
           ],
           "legendgroup": "NL",
           "marker": {
            "color": "#FECB52",
            "size": [
             0
            ],
            "sizemode": "area",
            "sizeref": 0.0599,
            "symbol": "circle"
           },
           "mode": "markers",
           "name": "NL",
           "orientation": "h",
           "showlegend": true,
           "type": "scatter",
           "x": [
            0
           ],
           "xaxis": "x",
           "y": [
            "AN Kervezee "
           ],
           "yaxis": "y"
          },
          {
           "hovertemplate": "<b>%{hovertext}</b><br><br>Final Region=INDIA<br>End=2012<br>Wkts=%{x}<br>Player=%{y}<br>Runs=%{marker.size}<extra></extra>",
           "hovertext": [
            "INDIA",
            "INDIA",
            "INDIA",
            "INDIA",
            "INDIA",
            "INDIA",
            "INDIA",
            "INDIA",
            "INDIA",
            "INDIA",
            "INDIA",
            "INDIA"
           ],
           "ids": [
            "INDIA",
            "INDIA",
            "INDIA",
            "INDIA",
            "INDIA",
            "INDIA",
            "INDIA",
            "INDIA",
            "INDIA",
            "INDIA",
            "INDIA",
            "INDIA"
           ],
           "legendgroup": "INDIA",
           "marker": {
            "color": "#636efa",
            "size": [
             618,
             245,
             448,
             438,
             121,
             193,
             151,
             56,
             71,
             20,
             0,
             0
            ],
            "sizemode": "area",
            "sizeref": 0.0599,
            "symbol": "circle"
           },
           "mode": "markers",
           "name": "INDIA",
           "orientation": "h",
           "showlegend": true,
           "type": "scatter",
           "x": [
            28,
            17,
            17,
            13,
            10,
            8,
            4,
            3,
            0,
            0,
            0,
            0
           ],
           "xaxis": "x",
           "y": [
            "IK Pathan ",
            "AB Dinda ",
            "Z Khan ",
            "YK Pathan ",
            "L Balaji ",
            "P Kumar ",
            "PP Chawla ",
            "R Sharma ",
            "P Awana ",
            "V Sehwag ",
            "G Gambhir ",
            "MK Tiwary "
           ],
           "yaxis": "y"
          },
          {
           "hovertemplate": "<b>%{hovertext}</b><br><br>Final Region=SCOT<br>End=2012<br>Wkts=%{x}<br>Player=%{y}<br>Runs=%{marker.size}<extra></extra>",
           "hovertext": [
            "SCOT",
            "SCOT",
            "SCOT",
            "SCOT",
            "SCOT"
           ],
           "ids": [
            "SCOT",
            "SCOT",
            "SCOT",
            "SCOT",
            "SCOT"
           ],
           "legendgroup": "SCOT",
           "marker": {
            "color": "#EF553B",
            "size": [
             156,
             61,
             0,
             0,
             0
            ],
            "sizemode": "area",
            "sizeref": 0.0599,
            "symbol": "circle"
           },
           "mode": "markers",
           "name": "SCOT",
           "orientation": "h",
           "showlegend": true,
           "type": "scatter",
           "x": [
            3,
            1,
            0,
            0,
            0
           ],
           "xaxis": "x",
           "y": [
            "JH Stander ",
            "MA Parker ",
            "R Flannigan ",
            "SJS Smith ",
            "DF Watts "
           ],
           "yaxis": "y"
          },
          {
           "hovertemplate": "<b>%{hovertext}</b><br><br>Final Region=AUS<br>End=2012<br>Wkts=%{x}<br>Player=%{y}<br>Runs=%{marker.size}<extra></extra>",
           "hovertext": [
            "AUS",
            "AUS",
            "AUS",
            "AUS",
            "AUS",
            "AUS"
           ],
           "ids": [
            "AUS",
            "AUS",
            "AUS",
            "AUS",
            "AUS",
            "AUS"
           ],
           "legendgroup": "AUS",
           "marker": {
            "color": "#00cc96",
            "size": [
             714,
             392,
             161,
             104,
             5,
             0
            ],
            "sizemode": "area",
            "sizeref": 0.0599,
            "symbol": "circle"
           },
           "mode": "markers",
           "name": "AUS",
           "orientation": "h",
           "showlegend": true,
           "type": "scatter",
           "x": [
            28,
            19,
            9,
            3,
            0,
            0
           ],
           "xaxis": "x",
           "y": [
            "B Lee ",
            "DJ Hussey ",
            "BW Hilfenhaus ",
            "JL Pattinson ",
            "MEK Hussey ",
            "TR Birt "
           ],
           "yaxis": "y"
          },
          {
           "hovertemplate": "<b>%{hovertext}</b><br><br>Final Region=ZIM<br>End=2012<br>Wkts=%{x}<br>Player=%{y}<br>Runs=%{marker.size}<extra></extra>",
           "hovertext": [
            "ZIM",
            "ZIM",
            "ZIM",
            "ZIM",
            "ZIM"
           ],
           "ids": [
            "ZIM",
            "ZIM",
            "ZIM",
            "ZIM",
            "ZIM"
           ],
           "legendgroup": "ZIM",
           "marker": {
            "color": "#19d3f3",
            "size": [
             378,
             23,
             64,
             41,
             0
            ],
            "sizemode": "area",
            "sizeref": 0.0599,
            "symbol": "circle"
           },
           "mode": "markers",
           "name": "ZIM",
           "orientation": "h",
           "showlegend": true,
           "type": "scatter",
           "x": [
            13,
            0,
            0,
            0,
            0
           ],
           "xaxis": "x",
           "y": [
            "RW Price ",
            "S Matsikenyeri ",
            "KO Meth ",
            "T Taibu ",
            "F Mutizwa "
           ],
           "yaxis": "y"
          },
          {
           "hovertemplate": "<b>%{hovertext}</b><br><br>Final Region=KENYA<br>End=2012<br>Wkts=%{x}<br>Player=%{y}<br>Runs=%{marker.size}<extra></extra>",
           "hovertext": [
            "KENYA"
           ],
           "ids": [
            "KENYA"
           ],
           "legendgroup": "KENYA",
           "marker": {
            "color": "#FF6692",
            "size": [
             0
            ],
            "sizemode": "area",
            "sizeref": 0.0599,
            "symbol": "circle"
           },
           "mode": "markers",
           "name": "KENYA",
           "orientation": "h",
           "showlegend": true,
           "type": "scatter",
           "x": [
            0
           ],
           "xaxis": "x",
           "y": [
            "DO Obuya "
           ],
           "yaxis": "y"
          },
          {
           "hovertemplate": "<b>%{hovertext}</b><br><br>Final Region=CAN<br>End=2012<br>Wkts=%{x}<br>Player=%{y}<br>Runs=%{marker.size}<extra></extra>",
           "hovertext": [
            "CAN",
            "CAN",
            "CAN",
            "CAN"
           ],
           "ids": [
            "CAN",
            "CAN",
            "CAN",
            "CAN"
           ],
           "legendgroup": "CAN",
           "marker": {
            "color": "#636efa",
            "size": [
             47,
             30,
             0,
             0
            ],
            "sizemode": "area",
            "sizeref": 0.0599,
            "symbol": "circle"
           },
           "mode": "markers",
           "name": "CAN",
           "orientation": "h",
           "showlegend": true,
           "type": "scatter",
           "x": [
            3,
            1,
            0,
            0
           ],
           "xaxis": "x",
           "y": [
            "Zahid Hussain ",
            "PA Desai ",
            "RA Bhatti ",
            "TG Gordon "
           ],
           "yaxis": "y"
          }
         ],
         "name": "2012"
        },
        {
         "data": [
          {
           "hovertemplate": "<b>%{hovertext}</b><br><br>Final Region=SL<br>End=2013<br>Wkts=%{x}<br>Player=%{y}<br>Runs=%{marker.size}<extra></extra>",
           "hovertext": [
            "SL"
           ],
           "ids": [
            "SL"
           ],
           "legendgroup": "SL",
           "marker": {
            "color": "#636efa",
            "size": [
             90
            ],
            "sizemode": "area",
            "sizeref": 0.0599,
            "symbol": "circle"
           },
           "mode": "markers",
           "name": "SL",
           "orientation": "h",
           "showlegend": true,
           "type": "scatter",
           "x": [
            3
           ],
           "xaxis": "x",
           "y": [
            "RMS Eranga "
           ],
           "yaxis": "y"
          },
          {
           "hovertemplate": "<b>%{hovertext}</b><br><br>Final Region=PAK<br>End=2013<br>Wkts=%{x}<br>Player=%{y}<br>Runs=%{marker.size}<extra></extra>",
           "hovertext": [
            "PAK",
            "PAK",
            "PAK",
            "PAK",
            "PAK"
           ],
           "ids": [
            "PAK",
            "PAK",
            "PAK",
            "PAK",
            "PAK"
           ],
           "legendgroup": "PAK",
           "marker": {
            "color": "#EF553B",
            "size": [
             395,
             192,
             33,
             0,
             0
            ],
            "sizemode": "area",
            "sizeref": 0.0599,
            "symbol": "circle"
           },
           "mode": "markers",
           "name": "PAK",
           "orientation": "h",
           "showlegend": true,
           "type": "scatter",
           "x": [
            20,
            11,
            0,
            0,
            0
           ],
           "xaxis": "x",
           "y": [
            "Abdul Razzaq ",
            "Abdur Rehman ",
            "Asad Ali ",
            "Hammad Azam ",
            "Nasir Jamshed "
           ],
           "yaxis": "y"
          },
          {
           "hovertemplate": "<b>%{hovertext}</b><br><br>Final Region=BDESH<br>End=2013<br>Wkts=%{x}<br>Player=%{y}<br>Runs=%{marker.size}<extra></extra>",
           "hovertext": [
            "BDESH",
            "BDESH",
            "BDESH",
            "BDESH",
            "BDESH",
            "BDESH"
           ],
           "ids": [
            "BDESH",
            "BDESH",
            "BDESH",
            "BDESH",
            "BDESH",
            "BDESH"
           ],
           "legendgroup": "BDESH",
           "marker": {
            "color": "#00cc96",
            "size": [
             210,
             198,
             122,
             13,
             15,
             0
            ],
            "sizemode": "area",
            "sizeref": 0.0599,
            "symbol": "circle"
           },
           "mode": "markers",
           "name": "BDESH",
           "orientation": "h",
           "showlegend": true,
           "type": "scatter",
           "x": [
            8,
            4,
            3,
            0,
            0,
            0
           ],
           "xaxis": "x",
           "y": [
            "Mohammad Ashraful ",
            "Shahadat Hossain ",
            "Naeem Islam ",
            "Robiul Islam ",
            "Sajedul Islam ",
            "Jahurul Islam "
           ],
           "yaxis": "y"
          },
          {
           "hovertemplate": "<b>%{hovertext}</b><br><br>Final Region=AFG<br>End=2013<br>Wkts=%{x}<br>Player=%{y}<br>Runs=%{marker.size}<extra></extra>",
           "hovertext": [
            "AFG",
            "AFG"
           ],
           "ids": [
            "AFG",
            "AFG"
           ],
           "legendgroup": "AFG",
           "marker": {
            "color": "#ab63fa",
            "size": [
             0,
             0
            ],
            "sizemode": "area",
            "sizeref": 0.0599,
            "symbol": "circle"
           },
           "mode": "markers",
           "name": "AFG",
           "orientation": "h",
           "showlegend": true,
           "type": "scatter",
           "x": [
            0,
            0
           ],
           "xaxis": "x",
           "y": [
            "Afsar Zazai ",
            "Hashmatullah Shahidi "
           ],
           "yaxis": "y"
          },
          {
           "hovertemplate": "<b>%{hovertext}</b><br><br>Final Region=IRE<br>End=2013<br>Wkts=%{x}<br>Player=%{y}<br>Runs=%{marker.size}<extra></extra>",
           "hovertext": [
            "IRE"
           ],
           "ids": [
            "IRE"
           ],
           "legendgroup": "IRE",
           "marker": {
            "color": "#FFA15A",
            "size": [
             636
            ],
            "sizemode": "area",
            "sizeref": 0.0599,
            "symbol": "circle"
           },
           "mode": "markers",
           "name": "IRE",
           "orientation": "h",
           "showlegend": true,
           "type": "scatter",
           "x": [
            32
           ],
           "xaxis": "x",
           "y": [
            "DT Johnston "
           ],
           "yaxis": "y"
          },
          {
           "hovertemplate": "<b>%{hovertext}</b><br><br>Final Region=NZ<br>End=2013<br>Wkts=%{x}<br>Player=%{y}<br>Runs=%{marker.size}<extra></extra>",
           "hovertext": [
            "NZ",
            "NZ",
            "NZ",
            "NZ",
            "NZ"
           ],
           "ids": [
            "NZ",
            "NZ",
            "NZ",
            "NZ",
            "NZ"
           ],
           "legendgroup": "NZ",
           "marker": {
            "color": "#19d3f3",
            "size": [
             481,
             417,
             337,
             167,
             105
            ],
            "sizemode": "area",
            "sizeref": 0.0599,
            "symbol": "circle"
           },
           "mode": "markers",
           "name": "NZ",
           "orientation": "h",
           "showlegend": true,
           "type": "scatter",
           "x": [
            23,
            20,
            10,
            5,
            2
           ],
           "xaxis": "x",
           "y": [
            "IG Butler ",
            "JEC Franklin ",
            "RM Hira ",
            "RJ Nicol ",
            "AM Ellis "
           ],
           "yaxis": "y"
          },
          {
           "hovertemplate": "<b>%{hovertext}</b><br><br>Final Region=ENG<br>End=2013<br>Wkts=%{x}<br>Player=%{y}<br>Runs=%{marker.size}<extra></extra>",
           "hovertext": [
            "ENG",
            "ENG"
           ],
           "ids": [
            "ENG",
            "ENG"
           ],
           "legendgroup": "ENG",
           "marker": {
            "color": "#FF6692",
            "size": [
             321,
             53
            ],
            "sizemode": "area",
            "sizeref": 0.0599,
            "symbol": "circle"
           },
           "mode": "markers",
           "name": "ENG",
           "orientation": "h",
           "showlegend": true,
           "type": "scatter",
           "x": [
            7,
            1
           ],
           "xaxis": "x",
           "y": [
            "SR Patel ",
            "KP Pietersen "
           ],
           "yaxis": "y"
          },
          {
           "hovertemplate": "<b>%{hovertext}</b><br><br>Final Region=SA<br>End=2013<br>Wkts=%{x}<br>Player=%{y}<br>Runs=%{marker.size}<extra></extra>",
           "hovertext": [
            "SA",
            "SA"
           ],
           "ids": [
            "SA",
            "SA"
           ],
           "legendgroup": "SA",
           "marker": {
            "color": "#B6E880",
            "size": [
             173,
             13
            ],
            "sizemode": "area",
            "sizeref": 0.0599,
            "symbol": "circle"
           },
           "mode": "markers",
           "name": "SA",
           "orientation": "h",
           "showlegend": true,
           "type": "scatter",
           "x": [
            9,
            1
           ],
           "xaxis": "x",
           "y": [
            "RK Kleinveldt ",
            "H Davids "
           ],
           "yaxis": "y"
          },
          {
           "hovertemplate": "<b>%{hovertext}</b><br><br>Final Region=WI<br>End=2013<br>Wkts=%{x}<br>Player=%{y}<br>Runs=%{marker.size}<extra></extra>",
           "hovertext": [
            "WI",
            "WI",
            "WI",
            "WI"
           ],
           "ids": [
            "WI",
            "WI",
            "WI",
            "WI"
           ],
           "legendgroup": "WI",
           "marker": {
            "color": "#FF97FF",
            "size": [
             56,
             51,
             87,
             0
            ],
            "sizemode": "area",
            "sizeref": 0.0599,
            "symbol": "circle"
           },
           "mode": "markers",
           "name": "WI",
           "orientation": "h",
           "showlegend": true,
           "type": "scatter",
           "x": [
            3,
            1,
            0,
            0
           ],
           "xaxis": "x",
           "y": [
            "ST Gabriel ",
            "CD Barnwell ",
            "N Deonarine ",
            "DC Thomas "
           ],
           "yaxis": "y"
          },
          {
           "hovertemplate": "<b>%{hovertext}</b><br><br>Final Region=NL<br>End=2013<br>Wkts=%{x}<br>Player=%{y}<br>Runs=%{marker.size}<extra></extra>",
           "hovertext": [
            "NL",
            "NL",
            "NL",
            "NL"
           ],
           "ids": [
            "NL",
            "NL",
            "NL",
            "NL"
           ],
           "legendgroup": "NL",
           "marker": {
            "color": "#FECB52",
            "size": [
             74,
             15,
             0,
             0
            ],
            "sizemode": "area",
            "sizeref": 0.0599,
            "symbol": "circle"
           },
           "mode": "markers",
           "name": "NL",
           "orientation": "h",
           "showlegend": true,
           "type": "scatter",
           "x": [
            3,
            1,
            0,
            0
           ],
           "xaxis": "x",
           "y": [
            "TGJ Gruijters ",
            "DLS van Bunge ",
            "TN de Grooth ",
            "ES Szwarczynski "
           ],
           "yaxis": "y"
          },
          {
           "hovertemplate": "<b>%{hovertext}</b><br><br>Final Region=INDIA<br>End=2013<br>Wkts=%{x}<br>Player=%{y}<br>Runs=%{marker.size}<extra></extra>",
           "hovertext": [
            "INDIA",
            "INDIA"
           ],
           "ids": [
            "INDIA",
            "INDIA"
           ],
           "legendgroup": "INDIA",
           "marker": {
            "color": "#636efa",
            "size": [
             247,
             400
            ],
            "sizemode": "area",
            "sizeref": 0.0599,
            "symbol": "circle"
           },
           "mode": "markers",
           "name": "INDIA",
           "orientation": "h",
           "showlegend": true,
           "type": "scatter",
           "x": [
            10,
            8
           ],
           "xaxis": "x",
           "y": [
            "R Vinay Kumar ",
            "I Sharma "
           ],
           "yaxis": "y"
          },
          {
           "hovertemplate": "<b>%{hovertext}</b><br><br>Final Region=SCOT<br>End=2013<br>Wkts=%{x}<br>Player=%{y}<br>Runs=%{marker.size}<extra></extra>",
           "hovertext": [
            "SCOT",
            "SCOT",
            "SCOT",
            "SCOT",
            "SCOT",
            "SCOT",
            "SCOT",
            "SCOT",
            "SCOT"
           ],
           "ids": [
            "SCOT",
            "SCOT",
            "SCOT",
            "SCOT",
            "SCOT",
            "SCOT",
            "SCOT",
            "SCOT",
            "SCOT"
           ],
           "legendgroup": "SCOT",
           "marker": {
            "color": "#EF553B",
            "size": [
             472,
             381,
             145,
             224,
             168,
             18,
             59,
             0,
             0
            ],
            "sizemode": "area",
            "sizeref": 0.0599,
            "symbol": "circle"
           },
           "mode": "markers",
           "name": "SCOT",
           "orientation": "h",
           "showlegend": true,
           "type": "scatter",
           "x": [
            28,
            16,
            9,
            7,
            6,
            3,
            2,
            0,
            0
           ],
           "xaxis": "x",
           "y": [
            "RM Haq ",
            "GD Drummond ",
            "I Wardlaw ",
            "G Goudie ",
            "NM Carter ",
            "CG Burnett ",
            "MM Iqbal ",
            "FRJ Coleman ",
            "D Murphy "
           ],
           "yaxis": "y"
          },
          {
           "hovertemplate": "<b>%{hovertext}</b><br><br>Final Region=AUS<br>End=2013<br>Wkts=%{x}<br>Player=%{y}<br>Runs=%{marker.size}<extra></extra>",
           "hovertext": [
            "AUS",
            "AUS",
            "AUS",
            "AUS",
            "AUS",
            "AUS",
            "AUS"
           ],
           "ids": [
            "AUS",
            "AUS",
            "AUS",
            "AUS",
            "AUS",
            "AUS",
            "AUS"
           ],
           "legendgroup": "AUS",
           "marker": {
            "color": "#00cc96",
            "size": [
             797,
             300,
             183,
             68,
             118,
             5,
             0
            ],
            "sizemode": "area",
            "sizeref": 0.0599,
            "symbol": "circle"
           },
           "mode": "markers",
           "name": "AUS",
           "orientation": "h",
           "showlegend": true,
           "type": "scatter",
           "x": [
            38,
            10,
            4,
            3,
            2,
            2,
            0
           ],
           "xaxis": "x",
           "y": [
            "MG Johnson ",
            "XJ Doherty ",
            "CJ McKay ",
            "Fawad Ahmed ",
            "B Laughlin ",
            "AC Voges ",
            "BJ Rohrer "
           ],
           "yaxis": "y"
          },
          {
           "hovertemplate": "<b>%{hovertext}</b><br><br>Final Region=ZIM<br>End=2013<br>Wkts=%{x}<br>Player=%{y}<br>Runs=%{marker.size}<extra></extra>",
           "hovertext": [
            "ZIM"
           ],
           "ids": [
            "ZIM"
           ],
           "legendgroup": "ZIM",
           "marker": {
            "color": "#19d3f3",
            "size": [
             211
            ],
            "sizemode": "area",
            "sizeref": 0.0599,
            "symbol": "circle"
           },
           "mode": "markers",
           "name": "ZIM",
           "orientation": "h",
           "showlegend": true,
           "type": "scatter",
           "x": [
            4
           ],
           "xaxis": "x",
           "y": [
            "SW Masakadza "
           ],
           "yaxis": "y"
          },
          {
           "hovertemplate": "<b>%{hovertext}</b><br><br>Final Region=KENYA<br>End=2013<br>Wkts=%{x}<br>Player=%{y}<br>Runs=%{marker.size}<extra></extra>",
           "hovertext": [
            "KENYA",
            "KENYA",
            "KENYA",
            "KENYA",
            "KENYA",
            "KENYA",
            "KENYA",
            "KENYA",
            "KENYA"
           ],
           "ids": [
            "KENYA",
            "KENYA",
            "KENYA",
            "KENYA",
            "KENYA",
            "KENYA",
            "KENYA",
            "KENYA",
            "KENYA"
           ],
           "legendgroup": "KENYA",
           "marker": {
            "color": "#FF6692",
            "size": [
             461,
             468,
             306,
             168,
             170,
             82,
             140,
             33,
             0
            ],
            "sizemode": "area",
            "sizeref": 0.0599,
            "symbol": "circle"
           },
           "mode": "markers",
           "name": "KENYA",
           "orientation": "h",
           "showlegend": true,
           "type": "scatter",
           "x": [
            18,
            16,
            15,
            12,
            11,
            4,
            4,
            3,
            0
           ],
           "xaxis": "x",
           "y": [
            "HA Varaiya ",
            "NN Odhiambo ",
            "RG Aga ",
            "SO Tikolo ",
            "TM Odoyo ",
            "DI Allan ",
            "JO Ngoche ",
            "T Mishra ",
            "MA Ouma "
           ],
           "yaxis": "y"
          },
          {
           "hovertemplate": "<b>%{hovertext}</b><br><br>Final Region=CAN<br>End=2013<br>Wkts=%{x}<br>Player=%{y}<br>Runs=%{marker.size}<extra></extra>",
           "hovertext": [
            "CAN",
            "CAN",
            "CAN",
            "CAN",
            "CAN",
            "CAN",
            "CAN",
            "CAN",
            "CAN",
            "CAN",
            "CAN"
           ],
           "ids": [
            "CAN",
            "CAN",
            "CAN",
            "CAN",
            "CAN",
            "CAN",
            "CAN",
            "CAN",
            "CAN",
            "CAN",
            "CAN"
           ],
           "legendgroup": "CAN",
           "marker": {
            "color": "#636efa",
            "size": [
             411,
             250,
             94,
             82,
             32,
             83,
             58,
             0,
             0,
             0,
             0
            ],
            "sizemode": "area",
            "sizeref": 0.0599,
            "symbol": "circle"
           },
           "mode": "markers",
           "name": "CAN",
           "orientation": "h",
           "showlegend": true,
           "type": "scatter",
           "x": [
            27,
            10,
            7,
            3,
            2,
            2,
            2,
            0,
            0,
            0,
            0
           ],
           "xaxis": "x",
           "y": [
            "HS Baidwan ",
            "H Osinde ",
            "AS Hansra ",
            "MS Aulakh ",
            "AS Dean ",
            "H Patel ",
            "Raza-ur-Rehman ",
            "A Bagai ",
            "D Daesrath ",
            "R Gunasekera ",
            "Usman Limbada "
           ],
           "yaxis": "y"
          }
         ],
         "name": "2013"
        },
        {
         "data": [
          {
           "hovertemplate": "<b>%{hovertext}</b><br><br>Final Region=SL<br>End=2010<br>Wkts=%{x}<br>Player=%{y}<br>Runs=%{marker.size}<extra></extra>",
           "hovertext": [
            "SL",
            "SL",
            "SL",
            "SL"
           ],
           "ids": [
            "SL",
            "SL",
            "SL",
            "SL"
           ],
           "legendgroup": "SL",
           "marker": {
            "color": "#636efa",
            "size": [
             297,
             179,
             61,
             0
            ],
            "sizemode": "area",
            "sizeref": 0.0599,
            "symbol": "circle"
           },
           "mode": "markers",
           "name": "SL",
           "orientation": "h",
           "showlegend": true,
           "type": "scatter",
           "x": [
            13,
            7,
            1,
            0
           ],
           "xaxis": "x",
           "y": [
            "M Muralitharan ",
            "T Thushara ",
            "UWMBCA Welegedara ",
            "CU Jayasinghe "
           ],
           "yaxis": "y"
          },
          {
           "hovertemplate": "<b>%{hovertext}</b><br><br>Final Region=PAK<br>End=2010<br>Wkts=%{x}<br>Player=%{y}<br>Runs=%{marker.size}<extra></extra>",
           "hovertext": [
            "PAK",
            "PAK",
            "PAK",
            "PAK",
            "PAK",
            "PAK",
            "PAK",
            "PAK",
            "PAK",
            "PAK"
           ],
           "ids": [
            "PAK",
            "PAK",
            "PAK",
            "PAK",
            "PAK",
            "PAK",
            "PAK",
            "PAK",
            "PAK",
            "PAK"
           ],
           "legendgroup": "PAK",
           "marker": {
            "color": "#EF553B",
            "size": [
             432,
             343,
             95,
             101,
             18,
             13,
             0,
             0,
             0,
             0
            ],
            "sizemode": "area",
            "sizeref": 0.0599,
            "symbol": "circle"
           },
           "mode": "markers",
           "name": "PAK",
           "orientation": "h",
           "showlegend": true,
           "type": "scatter",
           "x": [
            19,
            13,
            8,
            5,
            3,
            1,
            0,
            0,
            0,
            0
           ],
           "xaxis": "x",
           "y": [
            "Shoaib Akhtar ",
            "Mohammad Asif ",
            "Fawad Alam ",
            "Naved-ul-Hasan ",
            "Younis Khan ",
            "Tanvir Ahmed ",
            "Mohammad Yousuf ",
            "Salman Butt ",
            "Shahzaib Hasan ",
            "Zulqarnain Haider "
           ],
           "yaxis": "y"
          },
          {
           "hovertemplate": "<b>%{hovertext}</b><br><br>Final Region=BDESH<br>End=2010<br>Wkts=%{x}<br>Player=%{y}<br>Runs=%{marker.size}<extra></extra>",
           "hovertext": [
            "BDESH",
            "BDESH",
            "BDESH"
           ],
           "ids": [
            "BDESH",
            "BDESH",
            "BDESH"
           ],
           "legendgroup": "BDESH",
           "marker": {
            "color": "#00cc96",
            "size": [
             8,
             12,
             0
            ],
            "sizemode": "area",
            "sizeref": 0.0599,
            "symbol": "circle"
           },
           "mode": "markers",
           "name": "BDESH",
           "orientation": "h",
           "showlegend": true,
           "type": "scatter",
           "x": [
            0,
            0,
            0
           ],
           "xaxis": "x",
           "y": [
            "Aftab Ahmed ",
            "Sohrawordi Shuvo ",
            "Raqibul Hasan "
           ],
           "yaxis": "y"
          },
          {
           "hovertemplate": "<b>%{hovertext}</b><br><br>Final Region=AFG<br>End=2010<br>Wkts=%{x}<br>Player=%{y}<br>Runs=%{marker.size}<extra></extra>",
           "hovertext": [
            "AFG",
            "AFG"
           ],
           "ids": [
            "AFG",
            "AFG"
           ],
           "legendgroup": "AFG",
           "marker": {
            "color": "#ab63fa",
            "size": [
             46,
             0
            ],
            "sizemode": "area",
            "sizeref": 0.0599,
            "symbol": "circle"
           },
           "mode": "markers",
           "name": "AFG",
           "orientation": "h",
           "showlegend": true,
           "type": "scatter",
           "x": [
            2,
            0
           ],
           "xaxis": "x",
           "y": [
            "Dawlat Ahmadzai ",
            "Raees Ahmadzai "
           ],
           "yaxis": "y"
          },
          {
           "hovertemplate": "<b>%{hovertext}</b><br><br>Final Region=IRE<br>End=2010<br>Wkts=%{x}<br>Player=%{y}<br>Runs=%{marker.size}<extra></extra>",
           "hovertext": [
            "IRE",
            "IRE",
            "IRE",
            "IRE"
           ],
           "ids": [
            "IRE",
            "IRE",
            "IRE",
            "IRE"
           ],
           "legendgroup": "IRE",
           "marker": {
            "color": "#FFA15A",
            "size": [
             184,
             156,
             16,
             32
            ],
            "sizemode": "area",
            "sizeref": 0.0599,
            "symbol": "circle"
           },
           "mode": "markers",
           "name": "IRE",
           "orientation": "h",
           "showlegend": true,
           "type": "scatter",
           "x": [
            21,
            10,
            0,
            0
           ],
           "xaxis": "x",
           "y": [
            "AC Botha ",
            "PC Connell ",
            "PS Eaglestone ",
            "GE Kidd "
           ],
           "yaxis": "y"
          },
          {
           "hovertemplate": "<b>%{hovertext}</b><br><br>Final Region=NZ<br>End=2010<br>Wkts=%{x}<br>Player=%{y}<br>Runs=%{marker.size}<extra></extra>",
           "hovertext": [
            "NZ",
            "NZ",
            "NZ",
            "NZ",
            "NZ",
            "NZ",
            "NZ",
            "NZ"
           ],
           "ids": [
            "NZ",
            "NZ",
            "NZ",
            "NZ",
            "NZ",
            "NZ",
            "NZ",
            "NZ"
           ],
           "legendgroup": "NZ",
           "marker": {
            "color": "#19d3f3",
            "size": [
             543,
             349,
             93,
             31,
             24,
             0,
             0,
             0
            ],
            "sizemode": "area",
            "sizeref": 0.0599,
            "symbol": "circle"
           },
           "mode": "markers",
           "name": "NZ",
           "orientation": "h",
           "showlegend": true,
           "type": "scatter",
           "x": [
            25,
            18,
            3,
            2,
            2,
            0,
            0,
            0
           ],
           "xaxis": "x",
           "y": [
            "SE Bond ",
            "SB Styris ",
            "DR Tuffey ",
            "AJ McKay ",
            "AJ Redmond ",
            "GJ Hopkins ",
            "PJ Ingram ",
            "PD McGlashan "
           ],
           "yaxis": "y"
          },
          {
           "hovertemplate": "<b>%{hovertext}</b><br><br>Final Region=ENG<br>End=2010<br>Wkts=%{x}<br>Player=%{y}<br>Runs=%{marker.size}<extra></extra>",
           "hovertext": [
            "ENG",
            "ENG",
            "ENG"
           ],
           "ids": [
            "ENG",
            "ENG",
            "ENG"
           ],
           "legendgroup": "ENG",
           "marker": {
            "color": "#FF6692",
            "size": [
             437,
             0,
             0
            ],
            "sizemode": "area",
            "sizeref": 0.0599,
            "symbol": "circle"
           },
           "mode": "markers",
           "name": "ENG",
           "orientation": "h",
           "showlegend": true,
           "type": "scatter",
           "x": [
            23,
            0,
            0
           ],
           "xaxis": "x",
           "y": [
            "RJ Sidebottom ",
            "MJ Prior ",
            "IJL Trott "
           ],
           "yaxis": "y"
          },
          {
           "hovertemplate": "<b>%{hovertext}</b><br><br>Final Region=SA<br>End=2010<br>Wkts=%{x}<br>Player=%{y}<br>Runs=%{marker.size}<extra></extra>",
           "hovertext": [
            "SA",
            "SA",
            "SA",
            "SA",
            "SA"
           ],
           "ids": [
            "SA",
            "SA",
            "SA",
            "SA",
            "SA"
           ],
           "legendgroup": "SA",
           "marker": {
            "color": "#B6E880",
            "size": [
             241,
             0,
             0,
             0,
             0
            ],
            "sizemode": "area",
            "sizeref": 0.0599,
            "symbol": "circle"
           },
           "mode": "markers",
           "name": "SA",
           "orientation": "h",
           "showlegend": true,
           "type": "scatter",
           "x": [
            17,
            0,
            0,
            0,
            0
           ],
           "xaxis": "x",
           "y": [
            "CK Langeveldt ",
            "LE Bosman ",
            "MV Boucher ",
            "HH Gibbs ",
            "AN Petersen "
           ],
           "yaxis": "y"
          },
          {
           "hovertemplate": "<b>%{hovertext}</b><br><br>Final Region=WI<br>End=2010<br>Wkts=%{x}<br>Player=%{y}<br>Runs=%{marker.size}<extra></extra>",
           "hovertext": [
            "WI",
            "WI",
            "WI",
            "WI",
            "WI"
           ],
           "ids": [
            "WI",
            "WI",
            "WI",
            "WI",
            "WI"
           ],
           "legendgroup": "WI",
           "marker": {
            "color": "#FF97FF",
            "size": [
             10,
             0,
             0,
             0,
             0
            ],
            "sizemode": "area",
            "sizeref": 0.0599,
            "symbol": "circle"
           },
           "mode": "markers",
           "name": "WI",
           "orientation": "h",
           "showlegend": true,
           "type": "scatter",
           "x": [
            2,
            0,
            0,
            0,
            0
           ],
           "xaxis": "x",
           "y": [
            "RR Sarwan ",
            "S Chanderpaul ",
            "TM Dowlin ",
            "WW Hinds ",
            "RS Morton "
           ],
           "yaxis": "y"
          },
          {
           "hovertemplate": "<b>%{hovertext}</b><br><br>Final Region=NL<br>End=2010<br>Wkts=%{x}<br>Player=%{y}<br>Runs=%{marker.size}<extra></extra>",
           "hovertext": [
            "NL",
            "NL",
            "NL",
            "NL",
            "NL"
           ],
           "ids": [
            "NL",
            "NL",
            "NL",
            "NL",
            "NL"
           ],
           "legendgroup": "NL",
           "marker": {
            "color": "#FECB52",
            "size": [
             146,
             47,
             55,
             0,
             0
            ],
            "sizemode": "area",
            "sizeref": 0.0599,
            "symbol": "circle"
           },
           "mode": "markers",
           "name": "NL",
           "orientation": "h",
           "showlegend": true,
           "type": "scatter",
           "x": [
            6,
            4,
            4,
            0,
            0
           ],
           "xaxis": "x",
           "y": [
            "E Schiferli ",
            "MBS Jonkman ",
            "Mohammad Kashif ",
            "AF Buurman ",
            "B Zuiderent "
           ],
           "yaxis": "y"
          },
          {
           "hovertemplate": "<b>%{hovertext}</b><br><br>Final Region=INDIA<br>End=2010<br>Wkts=%{x}<br>Player=%{y}<br>Runs=%{marker.size}<extra></extra>",
           "hovertext": [
            "INDIA",
            "INDIA"
           ],
           "ids": [
            "INDIA",
            "INDIA"
           ],
           "legendgroup": "INDIA",
           "marker": {
            "color": "#636efa",
            "size": [
             132,
             0
            ],
            "sizemode": "area",
            "sizeref": 0.0599,
            "symbol": "circle"
           },
           "mode": "markers",
           "name": "INDIA",
           "orientation": "h",
           "showlegend": true,
           "type": "scatter",
           "x": [
            10,
            0
           ],
           "xaxis": "x",
           "y": [
            "PP Ojha ",
            "NV Ojha "
           ],
           "yaxis": "y"
          },
          {
           "hovertemplate": "<b>%{hovertext}</b><br><br>Final Region=SCOT<br>End=2010<br>Wkts=%{x}<br>Player=%{y}<br>Runs=%{marker.size}<extra></extra>",
           "hovertext": [
            "SCOT",
            "SCOT",
            "SCOT",
            "SCOT",
            "SCOT",
            "SCOT"
           ],
           "ids": [
            "SCOT",
            "SCOT",
            "SCOT",
            "SCOT",
            "SCOT",
            "SCOT"
           ],
           "legendgroup": "SCOT",
           "marker": {
            "color": "#EF553B",
            "size": [
             169,
             92,
             40,
             0,
             0,
             0
            ],
            "sizemode": "area",
            "sizeref": 0.0599,
            "symbol": "circle"
           },
           "mode": "markers",
           "name": "SCOT",
           "orientation": "h",
           "showlegend": true,
           "type": "scatter",
           "x": [
            12,
            3,
            1,
            0,
            0,
            0
           ],
           "xaxis": "x",
           "y": [
            "JD Nel ",
            "RR Watson ",
            "RT Lyons ",
            "GM Hamilton ",
            "NFI McCallum ",
            "NS Poonia "
           ],
           "yaxis": "y"
          },
          {
           "hovertemplate": "<b>%{hovertext}</b><br><br>Final Region=AUS<br>End=2010<br>Wkts=%{x}<br>Player=%{y}<br>Runs=%{marker.size}<extra></extra>",
           "hovertext": [
            "AUS",
            "AUS",
            "AUS",
            "AUS",
            "AUS"
           ],
           "ids": [
            "AUS",
            "AUS",
            "AUS",
            "AUS",
            "AUS"
           ],
           "legendgroup": "AUS",
           "marker": {
            "color": "#00cc96",
            "size": [
             459,
             283,
             225,
             95,
             58
            ],
            "sizemode": "area",
            "sizeref": 0.0599,
            "symbol": "circle"
           },
           "mode": "markers",
           "name": "AUS",
           "orientation": "h",
           "showlegend": true,
           "type": "scatter",
           "x": [
            28,
            10,
            6,
            4,
            3
           ],
           "xaxis": "x",
           "y": [
            "DP Nannes ",
            "JR Hopes ",
            "MJ Clarke ",
            "RJ Harris ",
            "PM Siddle "
           ],
           "yaxis": "y"
          },
          {
           "hovertemplate": "<b>%{hovertext}</b><br><br>Final Region=ZIM<br>End=2010<br>Wkts=%{x}<br>Player=%{y}<br>Runs=%{marker.size}<extra></extra>",
           "hovertext": [
            "ZIM",
            "ZIM",
            "ZIM",
            "ZIM"
           ],
           "ids": [
            "ZIM",
            "ZIM",
            "ZIM",
            "ZIM"
           ],
           "legendgroup": "ZIM",
           "marker": {
            "color": "#19d3f3",
            "size": [
             80,
             106,
             67,
             0
            ],
            "sizemode": "area",
            "sizeref": 0.0599,
            "symbol": "circle"
           },
           "mode": "markers",
           "name": "ZIM",
           "orientation": "h",
           "showlegend": true,
           "type": "scatter",
           "x": [
            4,
            2,
            0,
            0
           ],
           "xaxis": "x",
           "y": [
            "GA Lamb ",
            "KM Dabengwa ",
            "EC Rainsford ",
            "AM Blignaut "
           ],
           "yaxis": "y"
          },
          {
           "hovertemplate": "<b>%{hovertext}</b><br><br>Final Region=KENYA<br>End=2010<br>Wkts=%{x}<br>Player=%{y}<br>Runs=%{marker.size}<extra></extra>",
           "hovertext": [
            "KENYA",
            "KENYA",
            "KENYA"
           ],
           "ids": [
            "KENYA",
            "KENYA",
            "KENYA"
           ],
           "legendgroup": "KENYA",
           "marker": {
            "color": "#FF6692",
            "size": [
             212,
             128,
             116
            ],
            "sizemode": "area",
            "sizeref": 0.0599,
            "symbol": "circle"
           },
           "mode": "markers",
           "name": "KENYA",
           "orientation": "h",
           "showlegend": true,
           "type": "scatter",
           "x": [
            13,
            4,
            4
           ],
           "xaxis": "x",
           "y": [
            "JK Kamande ",
            "LN Onyango ",
            "AO Suji "
           ],
           "yaxis": "y"
          },
          {
           "hovertemplate": "<b>%{hovertext}</b><br><br>Final Region=CAN<br>End=2010<br>Wkts=%{x}<br>Player=%{y}<br>Runs=%{marker.size}<extra></extra>",
           "hovertext": [
            "CAN",
            "CAN",
            "CAN",
            "CAN",
            "CAN",
            "CAN",
            "CAN",
            "CAN",
            "CAN",
            "CAN"
           ],
           "ids": [
            "CAN",
            "CAN",
            "CAN",
            "CAN",
            "CAN",
            "CAN",
            "CAN",
            "CAN",
            "CAN",
            "CAN"
           ],
           "legendgroup": "CAN",
           "marker": {
            "color": "#636efa",
            "size": [
             148,
             192,
             91,
             106,
             36,
             12,
             11,
             0,
             0,
             0
            ],
            "sizemode": "area",
            "sizeref": 0.0599,
            "symbol": "circle"
           },
           "mode": "markers",
           "name": "CAN",
           "orientation": "h",
           "showlegend": true,
           "type": "scatter",
           "x": [
            8,
            6,
            4,
            1,
            1,
            0,
            0,
            0,
            0,
            0
           ],
           "xaxis": "x",
           "y": [
            "U Bhatti ",
            "S Dhaniram ",
            "JM Davison ",
            "Khurram Chohan ",
            "AM Samad ",
            "Arsalan Qadir ",
            "GEF Barnett ",
            "TC Bastiampillai ",
            "IS Billcliff ",
            "S Keshvani "
           ],
           "yaxis": "y"
          }
         ],
         "name": "2010"
        },
        {
         "data": [
          {
           "hovertemplate": "<b>%{hovertext}</b><br><br>Final Region=SL<br>End=2009<br>Wkts=%{x}<br>Player=%{y}<br>Runs=%{marker.size}<extra></extra>",
           "hovertext": [
            "SL",
            "SL",
            "SL",
            "SL",
            "SL",
            "SL"
           ],
           "ids": [
            "SL",
            "SL",
            "SL",
            "SL",
            "SL",
            "SL"
           ],
           "legendgroup": "SL",
           "marker": {
            "color": "#636efa",
            "size": [
             96,
             126,
             17,
             27,
             0,
             0
            ],
            "sizemode": "area",
            "sizeref": 0.0599,
            "symbol": "circle"
           },
           "mode": "markers",
           "name": "SL",
           "orientation": "h",
           "showlegend": true,
           "type": "scatter",
           "x": [
            4,
            4,
            1,
            1,
            0,
            0
           ],
           "xaxis": "x",
           "y": [
            "HMCM Bandara ",
            "K Weeraratne ",
            "J Mubarak ",
            "M Pushpakumara ",
            "SI de Saram ",
            "RJMGM Rupasinghe "
           ],
           "yaxis": "y"
          },
          {
           "hovertemplate": "<b>%{hovertext}</b><br><br>Final Region=PAK<br>End=2009<br>Wkts=%{x}<br>Player=%{y}<br>Runs=%{marker.size}<extra></extra>",
           "hovertext": [
            "PAK"
           ],
           "ids": [
            "PAK"
           ],
           "legendgroup": "PAK",
           "marker": {
            "color": "#EF553B",
            "size": [
             67
            ],
            "sizemode": "area",
            "sizeref": 0.0599,
            "symbol": "circle"
           },
           "mode": "markers",
           "name": "PAK",
           "orientation": "h",
           "showlegend": true,
           "type": "scatter",
           "x": [
            1
           ],
           "xaxis": "x",
           "y": [
            "Iftikhar Anjum "
           ],
           "yaxis": "y"
          },
          {
           "hovertemplate": "<b>%{hovertext}</b><br><br>Final Region=BDESH<br>End=2009<br>Wkts=%{x}<br>Player=%{y}<br>Runs=%{marker.size}<extra></extra>",
           "hovertext": [
            "BDESH"
           ],
           "ids": [
            "BDESH"
           ],
           "legendgroup": "BDESH",
           "marker": {
            "color": "#00cc96",
            "size": [
             20
            ],
            "sizemode": "area",
            "sizeref": 0.0599,
            "symbol": "circle"
           },
           "mode": "markers",
           "name": "BDESH",
           "orientation": "h",
           "showlegend": true,
           "type": "scatter",
           "x": [
            0
           ],
           "xaxis": "x",
           "y": [
            "Mehrab Hossain jnr "
           ],
           "yaxis": "y"
          },
          {
           "hovertemplate": "<b>%{hovertext}</b><br><br>Final Region=IRE<br>End=2009<br>Wkts=%{x}<br>Player=%{y}<br>Runs=%{marker.size}<extra></extra>",
           "hovertext": [
            "IRE",
            "IRE",
            "IRE"
           ],
           "ids": [
            "IRE",
            "IRE",
            "IRE"
           ],
           "legendgroup": "IRE",
           "marker": {
            "color": "#FFA15A",
            "size": [
             152,
             142,
             0
            ],
            "sizemode": "area",
            "sizeref": 0.0599,
            "symbol": "circle"
           },
           "mode": "markers",
           "name": "IRE",
           "orientation": "h",
           "showlegend": true,
           "type": "scatter",
           "x": [
            8,
            3,
            0
           ],
           "xaxis": "x",
           "y": [
            "WK McCallan ",
            "RM West ",
            "JP Bray "
           ],
           "yaxis": "y"
          },
          {
           "hovertemplate": "<b>%{hovertext}</b><br><br>Final Region=NZ<br>End=2009<br>Wkts=%{x}<br>Player=%{y}<br>Runs=%{marker.size}<extra></extra>",
           "hovertext": [
            "NZ",
            "NZ"
           ],
           "ids": [
            "NZ",
            "NZ"
           ],
           "legendgroup": "NZ",
           "marker": {
            "color": "#19d3f3",
            "size": [
             116,
             19
            ],
            "sizemode": "area",
            "sizeref": 0.0599,
            "symbol": "circle"
           },
           "mode": "markers",
           "name": "NZ",
           "orientation": "h",
           "showlegend": true,
           "type": "scatter",
           "x": [
            6,
            0
           ],
           "xaxis": "x",
           "y": [
            "IE O'Brien ",
            "BJ Diamanti "
           ],
           "yaxis": "y"
          },
          {
           "hovertemplate": "<b>%{hovertext}</b><br><br>Final Region=ENG<br>End=2009<br>Wkts=%{x}<br>Player=%{y}<br>Runs=%{marker.size}<extra></extra>",
           "hovertext": [
            "ENG",
            "ENG",
            "ENG",
            "ENG",
            "ENG",
            "ENG",
            "ENG",
            "ENG",
            "ENG",
            "ENG"
           ],
           "ids": [
            "ENG",
            "ENG",
            "ENG",
            "ENG",
            "ENG",
            "ENG",
            "ENG",
            "ENG",
            "ENG",
            "ENG"
           ],
           "legendgroup": "ENG",
           "marker": {
            "color": "#FF6692",
            "size": [
             552,
             309,
             155,
             34,
             17,
             0,
             0,
             0,
             0,
             0
            ],
            "sizemode": "area",
            "sizeref": 0.0599,
            "symbol": "circle"
           },
           "mode": "markers",
           "name": "ENG",
           "orientation": "h",
           "showlegend": true,
           "type": "scatter",
           "x": [
            18,
            12,
            3,
            2,
            0,
            0,
            0,
            0,
            0,
            0
           ],
           "xaxis": "x",
           "y": [
            "JM Anderson ",
            "AD Mascarenhas ",
            "SI Mahmood ",
            "A Khan ",
            "GJ Batty ",
            "AN Cook ",
            "JS Foster ",
            "RWT Key ",
            "OA Shah ",
            "AJ Strauss "
           ],
           "yaxis": "y"
          },
          {
           "hovertemplate": "<b>%{hovertext}</b><br><br>Final Region=SA<br>End=2009<br>Wkts=%{x}<br>Player=%{y}<br>Runs=%{marker.size}<extra></extra>",
           "hovertext": [
            "SA",
            "SA",
            "SA",
            "SA"
           ],
           "ids": [
            "SA",
            "SA",
            "SA",
            "SA"
           ],
           "legendgroup": "SA",
           "marker": {
            "color": "#B6E880",
            "size": [
             44,
             54,
             0,
             0
            ],
            "sizemode": "area",
            "sizeref": 0.0599,
            "symbol": "circle"
           },
           "mode": "markers",
           "name": "SA",
           "orientation": "h",
           "showlegend": true,
           "type": "scatter",
           "x": [
            2,
            2,
            0,
            0
           ],
           "xaxis": "x",
           "y": [
            "YA Abdulla ",
            "J Louw ",
            "ND McKenzie ",
            "VB van Jaarsveld "
           ],
           "yaxis": "y"
          },
          {
           "hovertemplate": "<b>%{hovertext}</b><br><br>Final Region=WI<br>End=2009<br>Wkts=%{x}<br>Player=%{y}<br>Runs=%{marker.size}<extra></extra>",
           "hovertext": [
            "WI",
            "WI",
            "WI",
            "WI",
            "WI",
            "WI"
           ],
           "ids": [
            "WI",
            "WI",
            "WI",
            "WI",
            "WI",
            "WI"
           ],
           "legendgroup": "WI",
           "marker": {
            "color": "#FF97FF",
            "size": [
             58,
             25,
             17,
             0,
             0,
             0
            ],
            "sizemode": "area",
            "sizeref": 0.0599,
            "symbol": "circle"
           },
           "mode": "markers",
           "name": "WI",
           "orientation": "h",
           "showlegend": true,
           "type": "scatter",
           "x": [
            2,
            1,
            0,
            0,
            0,
            0
           ],
           "xaxis": "x",
           "y": [
            "LS Baker ",
            "GC Tonge ",
            "DE Bernard ",
            "FL Reifer ",
            "DM Richards ",
            "DS Smith "
           ],
           "yaxis": "y"
          },
          {
           "hovertemplate": "<b>%{hovertext}</b><br><br>Final Region=NL<br>End=2009<br>Wkts=%{x}<br>Player=%{y}<br>Runs=%{marker.size}<extra></extra>",
           "hovertext": [
            "NL",
            "NL"
           ],
           "ids": [
            "NL",
            "NL"
           ],
           "legendgroup": "NL",
           "marker": {
            "color": "#FECB52",
            "size": [
             0,
             0
            ],
            "sizemode": "area",
            "sizeref": 0.0599,
            "symbol": "circle"
           },
           "mode": "markers",
           "name": "NL",
           "orientation": "h",
           "showlegend": true,
           "type": "scatter",
           "x": [
            0,
            0
           ],
           "xaxis": "x",
           "y": [
            "DJ Reekers ",
            "J Smits "
           ],
           "yaxis": "y"
          },
          {
           "hovertemplate": "<b>%{hovertext}</b><br><br>Final Region=INDIA<br>End=2009<br>Wkts=%{x}<br>Player=%{y}<br>Runs=%{marker.size}<extra></extra>",
           "hovertext": [
            "INDIA",
            "INDIA"
           ],
           "ids": [
            "INDIA",
            "INDIA"
           ],
           "legendgroup": "INDIA",
           "marker": {
            "color": "#636efa",
            "size": [
             225,
             21
            ],
            "sizemode": "area",
            "sizeref": 0.0599,
            "symbol": "circle"
           },
           "mode": "markers",
           "name": "INDIA",
           "orientation": "h",
           "showlegend": true,
           "type": "scatter",
           "x": [
            15,
            0
           ],
           "xaxis": "x",
           "y": [
            "RP Singh ",
            "S Tyagi "
           ],
           "yaxis": "y"
          },
          {
           "hovertemplate": "<b>%{hovertext}</b><br><br>Final Region=SCOT<br>End=2009<br>Wkts=%{x}<br>Player=%{y}<br>Runs=%{marker.size}<extra></extra>",
           "hovertext": [
            "SCOT",
            "SCOT",
            "SCOT"
           ],
           "ids": [
            "SCOT",
            "SCOT",
            "SCOT"
           ],
           "legendgroup": "SCOT",
           "marker": {
            "color": "#EF553B",
            "size": [
             49,
             67,
             0
            ],
            "sizemode": "area",
            "sizeref": 0.0599,
            "symbol": "circle"
           },
           "mode": "markers",
           "name": "SCOT",
           "orientation": "h",
           "showlegend": true,
           "type": "scatter",
           "x": [
            4,
            2,
            0
           ],
           "xaxis": "x",
           "y": [
            "CM Wright ",
            "GA Rogers ",
            "CJO Smith "
           ],
           "yaxis": "y"
          },
          {
           "hovertemplate": "<b>%{hovertext}</b><br><br>Final Region=AUS<br>End=2009<br>Wkts=%{x}<br>Player=%{y}<br>Runs=%{marker.size}<extra></extra>",
           "hovertext": [
            "AUS",
            "AUS",
            "AUS",
            "AUS",
            "AUS",
            "AUS",
            "AUS",
            "AUS"
           ],
           "ids": [
            "AUS",
            "AUS",
            "AUS",
            "AUS",
            "AUS",
            "AUS",
            "AUS",
            "AUS"
           ],
           "legendgroup": "AUS",
           "marker": {
            "color": "#00cc96",
            "size": [
             438,
             277,
             113,
             35,
             47,
             0,
             0,
             0
            ],
            "sizemode": "area",
            "sizeref": 0.0599,
            "symbol": "circle"
           },
           "mode": "markers",
           "name": "AUS",
           "orientation": "h",
           "showlegend": true,
           "type": "scatter",
           "x": [
            19,
            8,
            3,
            2,
            2,
            0,
            0,
            0
           ],
           "xaxis": "x",
           "y": [
            "NW Bracken ",
            "A Symonds ",
            "SM Harwood ",
            "B Geeves ",
            "NM Hauritz ",
            "CJ Ferguson ",
            "MJ North ",
            "RT Ponting "
           ],
           "yaxis": "y"
          }
         ],
         "name": "2009"
        },
        {
         "data": [
          {
           "hovertemplate": "<b>%{hovertext}</b><br><br>Final Region=SL<br>End=2011<br>Wkts=%{x}<br>Player=%{y}<br>Runs=%{marker.size}<extra></extra>",
           "hovertext": [
            "SL",
            "SL",
            "SL",
            "SL",
            "SL",
            "SL"
           ],
           "ids": [
            "SL",
            "SL",
            "SL",
            "SL",
            "SL",
            "SL"
           ],
           "legendgroup": "SL",
           "marker": {
            "color": "#636efa",
            "size": [
             456,
             139,
             72,
             15,
             37,
             0
            ],
            "sizemode": "area",
            "sizeref": 0.0599,
            "symbol": "circle"
           },
           "mode": "markers",
           "name": "SL",
           "orientation": "h",
           "showlegend": true,
           "type": "scatter",
           "x": [
            19,
            7,
            3,
            1,
            0,
            0
           ],
           "xaxis": "x",
           "y": [
            "ST Jayasuriya ",
            "S Randiv ",
            "MDK Perera ",
            "LPC Silva ",
            "KTGD Prasad ",
            "SHT Kandamby "
           ],
           "yaxis": "y"
          },
          {
           "hovertemplate": "<b>%{hovertext}</b><br><br>Final Region=PAK<br>End=2011<br>Wkts=%{x}<br>Player=%{y}<br>Runs=%{marker.size}<extra></extra>",
           "hovertext": [
            "PAK",
            "PAK",
            "PAK"
           ],
           "ids": [
            "PAK",
            "PAK",
            "PAK"
           ],
           "legendgroup": "PAK",
           "marker": {
            "color": "#EF553B",
            "size": [
             39,
             0,
             0
            ],
            "sizemode": "area",
            "sizeref": 0.0599,
            "symbol": "circle"
           },
           "mode": "markers",
           "name": "PAK",
           "orientation": "h",
           "showlegend": true,
           "type": "scatter",
           "x": [
            0,
            0,
            0
           ],
           "xaxis": "x",
           "y": [
            "Yasir Shah ",
            "Imran Farhat ",
            "Mohammad Salman "
           ],
           "yaxis": "y"
          },
          {
           "hovertemplate": "<b>%{hovertext}</b><br><br>Final Region=BDESH<br>End=2011<br>Wkts=%{x}<br>Player=%{y}<br>Runs=%{marker.size}<extra></extra>",
           "hovertext": [
            "BDESH"
           ],
           "ids": [
            "BDESH"
           ],
           "legendgroup": "BDESH",
           "marker": {
            "color": "#00cc96",
            "size": [
             35
            ],
            "sizemode": "area",
            "sizeref": 0.0599,
            "symbol": "circle"
           },
           "mode": "markers",
           "name": "BDESH",
           "orientation": "h",
           "showlegend": true,
           "type": "scatter",
           "x": [
            2
           ],
           "xaxis": "x",
           "y": [
            "Alok Kapali "
           ],
           "yaxis": "y"
          },
          {
           "hovertemplate": "<b>%{hovertext}</b><br><br>Final Region=NZ<br>End=2011<br>Wkts=%{x}<br>Player=%{y}<br>Runs=%{marker.size}<extra></extra>",
           "hovertext": [
            "NZ",
            "NZ"
           ],
           "ids": [
            "NZ",
            "NZ"
           ],
           "legendgroup": "NZ",
           "marker": {
            "color": "#19d3f3",
            "size": [
             45,
             70
            ],
            "sizemode": "area",
            "sizeref": 0.0599,
            "symbol": "circle"
           },
           "mode": "markers",
           "name": "NZ",
           "orientation": "h",
           "showlegend": true,
           "type": "scatter",
           "x": [
            1,
            1
           ],
           "xaxis": "x",
           "y": [
            "GW Aldridge ",
            "LJ Woodcock "
           ],
           "yaxis": "y"
          },
          {
           "hovertemplate": "<b>%{hovertext}</b><br><br>Final Region=ENG<br>End=2011<br>Wkts=%{x}<br>Player=%{y}<br>Runs=%{marker.size}<extra></extra>",
           "hovertext": [
            "ENG",
            "ENG",
            "ENG",
            "ENG"
           ],
           "ids": [
            "ENG",
            "ENG",
            "ENG",
            "ENG"
           ],
           "legendgroup": "ENG",
           "marker": {
            "color": "#FF6692",
            "size": [
             299,
             97,
             15,
             0
            ],
            "sizemode": "area",
            "sizeref": 0.0599,
            "symbol": "circle"
           },
           "mode": "markers",
           "name": "ENG",
           "orientation": "h",
           "showlegend": true,
           "type": "scatter",
           "x": [
            11,
            3,
            1,
            0
           ],
           "xaxis": "x",
           "y": [
            "MH Yardy ",
            "A Shahzad ",
            "SG Borthwick ",
            "SM Davies "
           ],
           "yaxis": "y"
          },
          {
           "hovertemplate": "<b>%{hovertext}</b><br><br>Final Region=SA<br>End=2011<br>Wkts=%{x}<br>Player=%{y}<br>Runs=%{marker.size}<extra></extra>",
           "hovertext": [
            "SA",
            "SA"
           ],
           "ids": [
            "SA",
            "SA"
           ],
           "legendgroup": "SA",
           "marker": {
            "color": "#B6E880",
            "size": [
             298,
             57
            ],
            "sizemode": "area",
            "sizeref": 0.0599,
            "symbol": "circle"
           },
           "mode": "markers",
           "name": "SA",
           "orientation": "h",
           "showlegend": true,
           "type": "scatter",
           "x": [
            6,
            0
           ],
           "xaxis": "x",
           "y": [
            "M Ntini ",
            "GC Smith "
           ],
           "yaxis": "y"
          },
          {
           "hovertemplate": "<b>%{hovertext}</b><br><br>Final Region=WI<br>End=2011<br>Wkts=%{x}<br>Player=%{y}<br>Runs=%{marker.size}<extra></extra>",
           "hovertext": [
            "WI",
            "WI",
            "WI",
            "WI"
           ],
           "ids": [
            "WI",
            "WI",
            "WI",
            "WI"
           ],
           "legendgroup": "WI",
           "marker": {
            "color": "#FF97FF",
            "size": [
             20,
             0,
             0,
             0
            ],
            "sizemode": "area",
            "sizeref": 0.0599,
            "symbol": "circle"
           },
           "mode": "markers",
           "name": "WI",
           "orientation": "h",
           "showlegend": true,
           "type": "scatter",
           "x": [
            1,
            0,
            0,
            0
           ],
           "xaxis": "x",
           "y": [
            "A Martin ",
            "AB Barath ",
            "MC Bascombe ",
            "DO Christian "
           ],
           "yaxis": "y"
          },
          {
           "hovertemplate": "<b>%{hovertext}</b><br><br>Final Region=INDIA<br>End=2011<br>Wkts=%{x}<br>Player=%{y}<br>Runs=%{marker.size}<extra></extra>",
           "hovertext": [
            "INDIA",
            "INDIA",
            "INDIA",
            "INDIA"
           ],
           "ids": [
            "INDIA",
            "INDIA",
            "INDIA",
            "INDIA"
           ],
           "legendgroup": "INDIA",
           "marker": {
            "color": "#636efa",
            "size": [
             86,
             0,
             0,
             0
            ],
            "sizemode": "area",
            "sizeref": 0.0599,
            "symbol": "circle"
           },
           "mode": "markers",
           "name": "INDIA",
           "orientation": "h",
           "showlegend": true,
           "type": "scatter",
           "x": [
            4,
            0,
            0,
            0
           ],
           "xaxis": "x",
           "y": [
            "MM Patel ",
            "S Badrinath ",
            "R Dravid ",
            "PA Patel "
           ],
           "yaxis": "y"
          },
          {
           "hovertemplate": "<b>%{hovertext}</b><br><br>Final Region=AUS<br>End=2011<br>Wkts=%{x}<br>Player=%{y}<br>Runs=%{marker.size}<extra></extra>",
           "hovertext": [
            "AUS"
           ],
           "ids": [
            "AUS"
           ],
           "legendgroup": "AUS",
           "marker": {
            "color": "#00cc96",
            "size": [
             149
            ],
            "sizemode": "area",
            "sizeref": 0.0599,
            "symbol": "circle"
           },
           "mode": "markers",
           "name": "AUS",
           "orientation": "h",
           "showlegend": true,
           "type": "scatter",
           "x": [
            6
           ],
           "xaxis": "x",
           "y": [
            "SNJ O'Keefe "
           ],
           "yaxis": "y"
          },
          {
           "hovertemplate": "<b>%{hovertext}</b><br><br>Final Region=2) (PAK<br>End=2011<br>Wkts=%{x}<br>Player=%{y}<br>Runs=%{marker.size}<extra></extra>",
           "hovertext": [
            "2) (PAK"
           ],
           "ids": [
            "2) (PAK"
           ],
           "legendgroup": "2) (PAK",
           "marker": {
            "color": "#19d3f3",
            "size": [
             0
            ],
            "sizemode": "area",
            "sizeref": 0.0599,
            "symbol": "circle"
           },
           "mode": "markers",
           "name": "2) (PAK",
           "orientation": "h",
           "showlegend": true,
           "type": "scatter",
           "x": [
            0
           ],
           "xaxis": "x",
           "y": [
            "Rameez Raja "
           ],
           "yaxis": "y"
          }
         ],
         "name": "2011"
        },
        {
         "data": [
          {
           "hovertemplate": "<b>%{hovertext}</b><br><br>Final Region=SL<br>End=2008<br>Wkts=%{x}<br>Player=%{y}<br>Runs=%{marker.size}<extra></extra>",
           "hovertext": [
            "SL",
            "SL"
           ],
           "ids": [
            "SL",
            "SL"
           ],
           "legendgroup": "SL",
           "marker": {
            "color": "#636efa",
            "size": [
             30,
             0
            ],
            "sizemode": "area",
            "sizeref": 0.0599,
            "symbol": "circle"
           },
           "mode": "markers",
           "name": "SL",
           "orientation": "h",
           "showlegend": true,
           "type": "scatter",
           "x": [
            2,
            0
           ],
           "xaxis": "x",
           "y": [
            "LHD Dilhara ",
            "HGJM Kulatunga "
           ],
           "yaxis": "y"
          },
          {
           "hovertemplate": "<b>%{hovertext}</b><br><br>Final Region=PAK<br>End=2008<br>Wkts=%{x}<br>Player=%{y}<br>Runs=%{marker.size}<extra></extra>",
           "hovertext": [
            "PAK",
            "PAK",
            "PAK"
           ],
           "ids": [
            "PAK",
            "PAK",
            "PAK"
           ],
           "legendgroup": "PAK",
           "marker": {
            "color": "#EF553B",
            "size": [
             3,
             21,
             0
            ],
            "sizemode": "area",
            "sizeref": 0.0599,
            "symbol": "circle"
           },
           "mode": "markers",
           "name": "PAK",
           "orientation": "h",
           "showlegend": true,
           "type": "scatter",
           "x": [
            3,
            0,
            0
           ],
           "xaxis": "x",
           "y": [
            "Mansoor Amjad ",
            "Abdur Rauf ",
            "Shoaib Khan jnr "
           ],
           "yaxis": "y"
          },
          {
           "hovertemplate": "<b>%{hovertext}</b><br><br>Final Region=BDESH<br>End=2008<br>Wkts=%{x}<br>Player=%{y}<br>Runs=%{marker.size}<extra></extra>",
           "hovertext": [
            "BDESH",
            "BDESH",
            "BDESH"
           ],
           "ids": [
            "BDESH",
            "BDESH",
            "BDESH"
           ],
           "legendgroup": "BDESH",
           "marker": {
            "color": "#00cc96",
            "size": [
             202,
             0,
             0
            ],
            "sizemode": "area",
            "sizeref": 0.0599,
            "symbol": "circle"
           },
           "mode": "markers",
           "name": "BDESH",
           "orientation": "h",
           "showlegend": true,
           "type": "scatter",
           "x": [
            4,
            0,
            0
           ],
           "xaxis": "x",
           "y": [
            "Syed Rasel ",
            "Dhiman Ghosh ",
            "Nazimuddin "
           ],
           "yaxis": "y"
          },
          {
           "hovertemplate": "<b>%{hovertext}</b><br><br>Final Region=IRE<br>End=2008<br>Wkts=%{x}<br>Player=%{y}<br>Runs=%{marker.size}<extra></extra>",
           "hovertext": [
            "IRE"
           ],
           "ids": [
            "IRE"
           ],
           "legendgroup": "IRE",
           "marker": {
            "color": "#FFA15A",
            "size": [
             0
            ],
            "sizemode": "area",
            "sizeref": 0.0599,
            "symbol": "circle"
           },
           "mode": "markers",
           "name": "IRE",
           "orientation": "h",
           "showlegend": true,
           "type": "scatter",
           "x": [
            0
           ],
           "xaxis": "x",
           "y": [
            "R Strydom "
           ],
           "yaxis": "y"
          },
          {
           "hovertemplate": "<b>%{hovertext}</b><br><br>Final Region=NZ<br>End=2008<br>Wkts=%{x}<br>Player=%{y}<br>Runs=%{marker.size}<extra></extra>",
           "hovertext": [
            "NZ",
            "NZ",
            "NZ",
            "NZ",
            "NZ",
            "NZ",
            "NZ",
            "NZ"
           ],
           "ids": [
            "NZ",
            "NZ",
            "NZ",
            "NZ",
            "NZ",
            "NZ",
            "NZ",
            "NZ"
           ],
           "legendgroup": "NZ",
           "marker": {
            "color": "#19d3f3",
            "size": [
             269,
             255,
             193,
             43,
             65,
             18,
             0,
             0
            ],
            "sizemode": "area",
            "sizeref": 0.0599,
            "symbol": "circle"
           },
           "mode": "markers",
           "name": "NZ",
           "orientation": "h",
           "showlegend": true,
           "type": "scatter",
           "x": [
            16,
            10,
            7,
            2,
            2,
            1,
            0,
            0
           ],
           "xaxis": "x",
           "y": [
            "JS Patel ",
            "MR Gillespie ",
            "CS Martin ",
            "PA Hitchcock ",
            "MJ Mason ",
            "EP Thompson ",
            "JM How ",
            "JAH Marshall "
           ],
           "yaxis": "y"
          },
          {
           "hovertemplate": "<b>%{hovertext}</b><br><br>Final Region=ENG<br>End=2008<br>Wkts=%{x}<br>Player=%{y}<br>Runs=%{marker.size}<extra></extra>",
           "hovertext": [
            "ENG",
            "ENG"
           ],
           "ids": [
            "ENG",
            "ENG"
           ],
           "legendgroup": "ENG",
           "marker": {
            "color": "#FF6692",
            "size": [
             0,
             0
            ],
            "sizemode": "area",
            "sizeref": 0.0599,
            "symbol": "circle"
           },
           "mode": "markers",
           "name": "ENG",
           "orientation": "h",
           "showlegend": true,
           "type": "scatter",
           "x": [
            0,
            0
           ],
           "xaxis": "x",
           "y": [
            "TR Ambrose ",
            "P Mustard "
           ],
           "yaxis": "y"
          },
          {
           "hovertemplate": "<b>%{hovertext}</b><br><br>Final Region=SA<br>End=2008<br>Wkts=%{x}<br>Player=%{y}<br>Runs=%{marker.size}<extra></extra>",
           "hovertext": [
            "SA"
           ],
           "ids": [
            "SA"
           ],
           "legendgroup": "SA",
           "marker": {
            "color": "#B6E880",
            "size": [
             309
            ],
            "sizemode": "area",
            "sizeref": 0.0599,
            "symbol": "circle"
           },
           "mode": "markers",
           "name": "SA",
           "orientation": "h",
           "showlegend": true,
           "type": "scatter",
           "x": [
            15
           ],
           "xaxis": "x",
           "y": [
            "SM Pollock "
           ],
           "yaxis": "y"
          },
          {
           "hovertemplate": "<b>%{hovertext}</b><br><br>Final Region=WI<br>End=2008<br>Wkts=%{x}<br>Player=%{y}<br>Runs=%{marker.size}<extra></extra>",
           "hovertext": [
            "WI",
            "WI",
            "WI"
           ],
           "ids": [
            "WI",
            "WI",
            "WI"
           ],
           "legendgroup": "WI",
           "marker": {
            "color": "#FF97FF",
            "size": [
             9,
             0,
             0
            ],
            "sizemode": "area",
            "sizeref": 0.0599,
            "symbol": "circle"
           },
           "mode": "markers",
           "name": "WI",
           "orientation": "h",
           "showlegend": true,
           "type": "scatter",
           "x": [
            0,
            0,
            0
           ],
           "xaxis": "x",
           "y": [
            "RN Lewis ",
            "SE Findlay ",
            "WKD Perkins "
           ],
           "yaxis": "y"
          },
          {
           "hovertemplate": "<b>%{hovertext}</b><br><br>Final Region=NL<br>End=2008<br>Wkts=%{x}<br>Player=%{y}<br>Runs=%{marker.size}<extra></extra>",
           "hovertext": [
            "NL",
            "NL",
            "NL"
           ],
           "ids": [
            "NL",
            "NL",
            "NL"
           ],
           "legendgroup": "NL",
           "marker": {
            "color": "#FECB52",
            "size": [
             12,
             0,
             0
            ],
            "sizemode": "area",
            "sizeref": 0.0599,
            "symbol": "circle"
           },
           "mode": "markers",
           "name": "NL",
           "orientation": "h",
           "showlegend": true,
           "type": "scatter",
           "x": [
            0,
            0,
            0
           ],
           "xaxis": "x",
           "y": [
            "HJC Mol ",
            "GMC Mol ",
            "JD Schoonheim "
           ],
           "yaxis": "y"
          },
          {
           "hovertemplate": "<b>%{hovertext}</b><br><br>Final Region=INDIA<br>End=2008<br>Wkts=%{x}<br>Player=%{y}<br>Runs=%{marker.size}<extra></extra>",
           "hovertext": [
            "INDIA"
           ],
           "ids": [
            "INDIA"
           ],
           "legendgroup": "INDIA",
           "marker": {
            "color": "#636efa",
            "size": [
             288
            ],
            "sizemode": "area",
            "sizeref": 0.0599,
            "symbol": "circle"
           },
           "mode": "markers",
           "name": "INDIA",
           "orientation": "h",
           "showlegend": true,
           "type": "scatter",
           "x": [
            7
           ],
           "xaxis": "x",
           "y": [
            "S Sreesanth "
           ],
           "yaxis": "y"
          },
          {
           "hovertemplate": "<b>%{hovertext}</b><br><br>Final Region=SCOT<br>End=2008<br>Wkts=%{x}<br>Player=%{y}<br>Runs=%{marker.size}<extra></extra>",
           "hovertext": [
            "SCOT",
            "SCOT"
           ],
           "ids": [
            "SCOT",
            "SCOT"
           ],
           "legendgroup": "SCOT",
           "marker": {
            "color": "#EF553B",
            "size": [
             108,
             58
            ],
            "sizemode": "area",
            "sizeref": 0.0599,
            "symbol": "circle"
           },
           "mode": "markers",
           "name": "SCOT",
           "orientation": "h",
           "showlegend": true,
           "type": "scatter",
           "x": [
            6,
            2
           ],
           "xaxis": "x",
           "y": [
            "JAR Blain ",
            "GI Maiden "
           ],
           "yaxis": "y"
          },
          {
           "hovertemplate": "<b>%{hovertext}</b><br><br>Final Region=AUS<br>End=2008<br>Wkts=%{x}<br>Player=%{y}<br>Runs=%{marker.size}<extra></extra>",
           "hovertext": [
            "AUS",
            "AUS"
           ],
           "ids": [
            "AUS",
            "AUS"
           ],
           "legendgroup": "AUS",
           "marker": {
            "color": "#00cc96",
            "size": [
             41,
             0
            ],
            "sizemode": "area",
            "sizeref": 0.0599,
            "symbol": "circle"
           },
           "mode": "markers",
           "name": "AUS",
           "orientation": "h",
           "showlegend": true,
           "type": "scatter",
           "x": [
            4,
            0
           ],
           "xaxis": "x",
           "y": [
            "AA Noffke ",
            "AC Gilchrist "
           ],
           "yaxis": "y"
          },
          {
           "hovertemplate": "<b>%{hovertext}</b><br><br>Final Region=ZIM<br>End=2008<br>Wkts=%{x}<br>Player=%{y}<br>Runs=%{marker.size}<extra></extra>",
           "hovertext": [
            "ZIM"
           ],
           "ids": [
            "ZIM"
           ],
           "legendgroup": "ZIM",
           "marker": {
            "color": "#19d3f3",
            "size": [
             94
            ],
            "sizemode": "area",
            "sizeref": 0.0599,
            "symbol": "circle"
           },
           "mode": "markers",
           "name": "ZIM",
           "orientation": "h",
           "showlegend": true,
           "type": "scatter",
           "x": [
            1
           ],
           "xaxis": "x",
           "y": [
            "T Mupariwa "
           ],
           "yaxis": "y"
          },
          {
           "hovertemplate": "<b>%{hovertext}</b><br><br>Final Region=KENYA<br>End=2008<br>Wkts=%{x}<br>Player=%{y}<br>Runs=%{marker.size}<extra></extra>",
           "hovertext": [
            "KENYA",
            "KENYA"
           ],
           "ids": [
            "KENYA",
            "KENYA"
           ],
           "legendgroup": "KENYA",
           "marker": {
            "color": "#FF6692",
            "size": [
             177,
             0
            ],
            "sizemode": "area",
            "sizeref": 0.0599,
            "symbol": "circle"
           },
           "mode": "markers",
           "name": "KENYA",
           "orientation": "h",
           "showlegend": true,
           "type": "scatter",
           "x": [
            5,
            0
           ],
           "xaxis": "x",
           "y": [
            "PJ Ongondo ",
            "KO Otieno "
           ],
           "yaxis": "y"
          },
          {
           "hovertemplate": "<b>%{hovertext}</b><br><br>Final Region=CAN<br>End=2008<br>Wkts=%{x}<br>Player=%{y}<br>Runs=%{marker.size}<extra></extra>",
           "hovertext": [
            "CAN",
            "CAN",
            "CAN",
            "CAN",
            "CAN",
            "CAN",
            "CAN",
            "CAN",
            "CAN",
            "CAN",
            "CAN"
           ],
           "ids": [
            "CAN",
            "CAN",
            "CAN",
            "CAN",
            "CAN",
            "CAN",
            "CAN",
            "CAN",
            "CAN",
            "CAN",
            "CAN"
           ],
           "legendgroup": "CAN",
           "marker": {
            "color": "#636efa",
            "size": [
             107,
             71,
             44,
             6,
             0,
             0,
             0,
             0,
             0,
             0,
             0
            ],
            "sizemode": "area",
            "sizeref": 0.0599,
            "symbol": "circle"
           },
           "mode": "markers",
           "name": "CAN",
           "orientation": "h",
           "showlegend": true,
           "type": "scatter",
           "x": [
            6,
            3,
            2,
            2,
            0,
            0,
            0,
            0,
            0,
            0,
            0
           ],
           "xaxis": "x",
           "y": [
            "WD Balaji Rao ",
            "E Katchay ",
            "S Thuraisingam ",
            "SR Welsh ",
            "RR David ",
            "K Jethi ",
            "S Jyoti ",
            "Mohammad Iqbal ",
            "Mohammad Qazi ",
            "AA Mulla ",
            "ZE Surkari "
           ],
           "yaxis": "y"
          },
          {
           "hovertemplate": "<b>%{hovertext}</b><br><br>Final Region=BMUDA<br>End=2008<br>Wkts=%{x}<br>Player=%{y}<br>Runs=%{marker.size}<extra></extra>",
           "hovertext": [
            "BMUDA",
            "BMUDA",
            "BMUDA",
            "BMUDA",
            "BMUDA",
            "BMUDA",
            "BMUDA",
            "BMUDA",
            "BMUDA",
            "BMUDA",
            "BMUDA"
           ],
           "ids": [
            "BMUDA",
            "BMUDA",
            "BMUDA",
            "BMUDA",
            "BMUDA",
            "BMUDA",
            "BMUDA",
            "BMUDA",
            "BMUDA",
            "BMUDA",
            "BMUDA"
           ],
           "legendgroup": "BMUDA",
           "marker": {
            "color": "#FECB52",
            "size": [
             50,
             21,
             8,
             27,
             7,
             5,
             0,
             0,
             0,
             0,
             0
            ],
            "sizemode": "area",
            "sizeref": 0.0599,
            "symbol": "circle"
           },
           "mode": "markers",
           "name": "BMUDA",
           "orientation": "h",
           "showlegend": true,
           "type": "scatter",
           "x": [
            3,
            2,
            0,
            0,
            0,
            0,
            0,
            0,
            0,
            0,
            0
           ],
           "xaxis": "x",
           "y": [
            "SKW Kelly ",
            "IH Romaine ",
            "KC Hodsoll ",
            "RDM Leverock ",
            "OL Pitcher ",
            "TE Tucker ",
            "JJ Celestine ",
            "J Edness ",
            "CR Foggo ",
            "DL Hemp ",
            "SD Outerbridge "
           ],
           "yaxis": "y"
          }
         ],
         "name": "2008"
        },
        {
         "data": [
          {
           "hovertemplate": "<b>%{hovertext}</b><br><br>Final Region=SL<br>End=2007<br>Wkts=%{x}<br>Player=%{y}<br>Runs=%{marker.size}<extra></extra>",
           "hovertext": [
            "SL",
            "SL"
           ],
           "ids": [
            "SL",
            "SL"
           ],
           "legendgroup": "SL",
           "marker": {
            "color": "#636efa",
            "size": [
             128,
             101
            ],
            "sizemode": "area",
            "sizeref": 0.0599,
            "symbol": "circle"
           },
           "mode": "markers",
           "name": "SL",
           "orientation": "h",
           "showlegend": true,
           "type": "scatter",
           "x": [
            6,
            2
           ],
           "xaxis": "x",
           "y": [
            "WPUJC Vaas ",
            "G Wijekoon "
           ],
           "yaxis": "y"
          },
          {
           "hovertemplate": "<b>%{hovertext}</b><br><br>Final Region=PAK<br>End=2007<br>Wkts=%{x}<br>Player=%{y}<br>Runs=%{marker.size}<extra></extra>",
           "hovertext": [
            "PAK"
           ],
           "ids": [
            "PAK"
           ],
           "legendgroup": "PAK",
           "marker": {
            "color": "#EF553B",
            "size": [
             19
            ],
            "sizemode": "area",
            "sizeref": 0.0599,
            "symbol": "circle"
           },
           "mode": "markers",
           "name": "PAK",
           "orientation": "h",
           "showlegend": true,
           "type": "scatter",
           "x": [
            0
           ],
           "xaxis": "x",
           "y": [
            "Shabbir Ahmed "
           ],
           "yaxis": "y"
          },
          {
           "hovertemplate": "<b>%{hovertext}</b><br><br>Final Region=BDESH<br>End=2007<br>Wkts=%{x}<br>Player=%{y}<br>Runs=%{marker.size}<extra></extra>",
           "hovertext": [
            "BDESH"
           ],
           "ids": [
            "BDESH"
           ],
           "legendgroup": "BDESH",
           "marker": {
            "color": "#00cc96",
            "size": [
             0
            ],
            "sizemode": "area",
            "sizeref": 0.0599,
            "symbol": "circle"
           },
           "mode": "markers",
           "name": "BDESH",
           "orientation": "h",
           "showlegend": true,
           "type": "scatter",
           "x": [
            0
           ],
           "xaxis": "x",
           "y": [
            "Nadif Chowdhury "
           ],
           "yaxis": "y"
          },
          {
           "hovertemplate": "<b>%{hovertext}</b><br><br>Final Region=NZ<br>End=2007<br>Wkts=%{x}<br>Player=%{y}<br>Runs=%{marker.size}<extra></extra>",
           "hovertext": [
            "NZ",
            "NZ",
            "NZ"
           ],
           "ids": [
            "NZ",
            "NZ",
            "NZ"
           ],
           "legendgroup": "NZ",
           "marker": {
            "color": "#19d3f3",
            "size": [
             0,
             0,
             0
            ],
            "sizemode": "area",
            "sizeref": 0.0599,
            "symbol": "circle"
           },
           "mode": "markers",
           "name": "NZ",
           "orientation": "h",
           "showlegend": true,
           "type": "scatter",
           "x": [
            0,
            0,
            0
           ],
           "xaxis": "x",
           "y": [
            "CD McMillan ",
            "MS Sinclair ",
            "L Vincent "
           ],
           "yaxis": "y"
          },
          {
           "hovertemplate": "<b>%{hovertext}</b><br><br>Final Region=ENG<br>End=2007<br>Wkts=%{x}<br>Player=%{y}<br>Runs=%{marker.size}<extra></extra>",
           "hovertext": [
            "ENG",
            "ENG",
            "ENG",
            "ENG",
            "ENG",
            "ENG",
            "ENG",
            "ENG",
            "ENG",
            "ENG",
            "ENG",
            "ENG"
           ],
           "ids": [
            "ENG",
            "ENG",
            "ENG",
            "ENG",
            "ENG",
            "ENG",
            "ENG",
            "ENG",
            "ENG",
            "ENG",
            "ENG",
            "ENG"
           ],
           "legendgroup": "ENG",
           "marker": {
            "color": "#FF6692",
            "size": [
             161,
             55,
             92,
             26,
             39,
             40,
             45,
             17,
             12,
             0,
             0,
             0
            ],
            "sizemode": "area",
            "sizeref": 0.0599,
            "symbol": "circle"
           },
           "mode": "markers",
           "name": "ENG",
           "orientation": "h",
           "showlegend": true,
           "type": "scatter",
           "x": [
            5,
            4,
            4,
            3,
            2,
            2,
            2,
            0,
            0,
            0,
            0,
            0
           ],
           "xaxis": "x",
           "y": [
            "A Flintoff ",
            "J Lewis ",
            "CP Schofield ",
            "DL Maddy ",
            "JWM Dalrymple ",
            "MS Panesar ",
            "CT Tremlett ",
            "RJ Kirtley ",
            "JN Snape ",
            "PA Nixon ",
            "VS Solanki ",
            "MP Vaughan "
           ],
           "yaxis": "y"
          },
          {
           "hovertemplate": "<b>%{hovertext}</b><br><br>Final Region=SA<br>End=2007<br>Wkts=%{x}<br>Player=%{y}<br>Runs=%{marker.size}<extra></extra>",
           "hovertext": [
            "SA",
            "SA",
            "SA",
            "SA",
            "SA",
            "SA",
            "SA"
           ],
           "ids": [
            "SA",
            "SA",
            "SA",
            "SA",
            "SA",
            "SA",
            "SA"
           ],
           "legendgroup": "SA",
           "marker": {
            "color": "#B6E880",
            "size": [
             231,
             114,
             25,
             42,
             90,
             5,
             0
            ],
            "sizemode": "area",
            "sizeref": 0.0599,
            "symbol": "circle"
           },
           "mode": "markers",
           "name": "SA",
           "orientation": "h",
           "showlegend": true,
           "type": "scatter",
           "x": [
            8,
            4,
            3,
            2,
            2,
            0,
            0
           ],
           "xaxis": "x",
           "y": [
            "JJ van der Wath ",
            "VD Philander ",
            "AC Thomas ",
            "A Nel ",
            "R Telemachus ",
            "JM Kemp ",
            "GH Bodi "
           ],
           "yaxis": "y"
          },
          {
           "hovertemplate": "<b>%{hovertext}</b><br><br>Final Region=WI<br>End=2007<br>Wkts=%{x}<br>Player=%{y}<br>Runs=%{marker.size}<extra></extra>",
           "hovertext": [
            "WI",
            "WI",
            "WI"
           ],
           "ids": [
            "WI",
            "WI",
            "WI"
           ],
           "legendgroup": "WI",
           "marker": {
            "color": "#FF97FF",
            "size": [
             131,
             0,
             0
            ],
            "sizemode": "area",
            "sizeref": 0.0599,
            "symbol": "circle"
           },
           "mode": "markers",
           "name": "WI",
           "orientation": "h",
           "showlegend": true,
           "type": "scatter",
           "x": [
            2,
            0,
            0
           ],
           "xaxis": "x",
           "y": [
            "DBL Powell ",
            "BA Parchment ",
            "ACL Richards "
           ],
           "yaxis": "y"
          },
          {
           "hovertemplate": "<b>%{hovertext}</b><br><br>Final Region=INDIA<br>End=2007<br>Wkts=%{x}<br>Player=%{y}<br>Runs=%{marker.size}<extra></extra>",
           "hovertext": [
            "INDIA",
            "INDIA",
            "INDIA"
           ],
           "ids": [
            "INDIA",
            "INDIA",
            "INDIA"
           ],
           "legendgroup": "INDIA",
           "marker": {
            "color": "#636efa",
            "size": [
             138,
             85,
             27
            ],
            "sizemode": "area",
            "sizeref": 0.0599,
            "symbol": "circle"
           },
           "mode": "markers",
           "name": "INDIA",
           "orientation": "h",
           "showlegend": true,
           "type": "scatter",
           "x": [
            4,
            3,
            0
           ],
           "xaxis": "x",
           "y": [
            "Joginder Sharma ",
            "AB Agarkar ",
            "M Kartik "
           ],
           "yaxis": "y"
          },
          {
           "hovertemplate": "<b>%{hovertext}</b><br><br>Final Region=SCOT<br>End=2007<br>Wkts=%{x}<br>Player=%{y}<br>Runs=%{marker.size}<extra></extra>",
           "hovertext": [
            "SCOT"
           ],
           "ids": [
            "SCOT"
           ],
           "legendgroup": "SCOT",
           "marker": {
            "color": "#EF553B",
            "size": [
             44
            ],
            "sizemode": "area",
            "sizeref": 0.0599,
            "symbol": "circle"
           },
           "mode": "markers",
           "name": "SCOT",
           "orientation": "h",
           "showlegend": true,
           "type": "scatter",
           "x": [
            0
           ],
           "xaxis": "x",
           "y": [
            "DR Brown "
           ],
           "yaxis": "y"
          },
          {
           "hovertemplate": "<b>%{hovertext}</b><br><br>Final Region=AUS<br>End=2007<br>Wkts=%{x}<br>Player=%{y}<br>Runs=%{marker.size}<extra></extra>",
           "hovertext": [
            "AUS",
            "AUS",
            "AUS"
           ],
           "ids": [
            "AUS",
            "AUS",
            "AUS"
           ],
           "legendgroup": "AUS",
           "marker": {
            "color": "#00cc96",
            "size": [
             237,
             0,
             0
            ],
            "sizemode": "area",
            "sizeref": 0.0599,
            "symbol": "circle"
           },
           "mode": "markers",
           "name": "AUS",
           "orientation": "h",
           "showlegend": true,
           "type": "scatter",
           "x": [
            13,
            0,
            0
           ],
           "xaxis": "x",
           "y": [
            "SR Clark ",
            "ML Hayden ",
            "LA Pomersbach "
           ],
           "yaxis": "y"
          },
          {
           "hovertemplate": "<b>%{hovertext}</b><br><br>Final Region=ZIM<br>End=2007<br>Wkts=%{x}<br>Player=%{y}<br>Runs=%{marker.size}<extra></extra>",
           "hovertext": [
            "ZIM"
           ],
           "ids": [
            "ZIM"
           ],
           "legendgroup": "ZIM",
           "marker": {
            "color": "#19d3f3",
            "size": [
             93
            ],
            "sizemode": "area",
            "sizeref": 0.0599,
            "symbol": "circle"
           },
           "mode": "markers",
           "name": "ZIM",
           "orientation": "h",
           "showlegend": true,
           "type": "scatter",
           "x": [
            4
           ],
           "xaxis": "x",
           "y": [
            "GB Brent "
           ],
           "yaxis": "y"
          },
          {
           "hovertemplate": "<b>%{hovertext}</b><br><br>Final Region=KENYA<br>End=2007<br>Wkts=%{x}<br>Player=%{y}<br>Runs=%{marker.size}<extra></extra>",
           "hovertext": [
            "KENYA",
            "KENYA"
           ],
           "ids": [
            "KENYA",
            "KENYA"
           ],
           "legendgroup": "KENYA",
           "marker": {
            "color": "#FF6692",
            "size": [
             78,
             0
            ],
            "sizemode": "area",
            "sizeref": 0.0599,
            "symbol": "circle"
           },
           "mode": "markers",
           "name": "KENYA",
           "orientation": "h",
           "showlegend": true,
           "type": "scatter",
           "x": [
            0,
            0
           ],
           "xaxis": "x",
           "y": [
            "RL Bhudia ",
            "JS Jesani "
           ],
           "yaxis": "y"
          }
         ],
         "name": "2007"
        },
        {
         "data": [
          {
           "hovertemplate": "<b>%{hovertext}</b><br><br>Final Region=NZ<br>End=2005<br>Wkts=%{x}<br>Player=%{y}<br>Runs=%{marker.size}<extra></extra>",
           "hovertext": [
            "NZ"
           ],
           "ids": [
            "NZ"
           ],
           "legendgroup": "NZ",
           "marker": {
            "color": "#19d3f3",
            "size": [
             43
            ],
            "sizemode": "area",
            "sizeref": 0.0599,
            "symbol": "circle"
           },
           "mode": "markers",
           "name": "NZ",
           "orientation": "h",
           "showlegend": true,
           "type": "scatter",
           "x": [
            0
           ],
           "xaxis": "x",
           "y": [
            "JW Wilson "
           ],
           "yaxis": "y"
          },
          {
           "hovertemplate": "<b>%{hovertext}</b><br><br>Final Region=SA<br>End=2005<br>Wkts=%{x}<br>Player=%{y}<br>Runs=%{marker.size}<extra></extra>",
           "hovertext": [
            "SA",
            "SA"
           ],
           "ids": [
            "SA",
            "SA"
           ],
           "legendgroup": "SA",
           "marker": {
            "color": "#B6E880",
            "size": [
             27,
             0
            ],
            "sizemode": "area",
            "sizeref": 0.0599,
            "symbol": "circle"
           },
           "mode": "markers",
           "name": "SA",
           "orientation": "h",
           "showlegend": true,
           "type": "scatter",
           "x": [
            1,
            0
           ],
           "xaxis": "x",
           "y": [
            "N Boje ",
            "AG Prince "
           ],
           "yaxis": "y"
          },
          {
           "hovertemplate": "<b>%{hovertext}</b><br><br>Final Region=AUS<br>End=2005<br>Wkts=%{x}<br>Player=%{y}<br>Runs=%{marker.size}<extra></extra>",
           "hovertext": [
            "AUS",
            "AUS",
            "AUS"
           ],
           "ids": [
            "AUS",
            "AUS",
            "AUS"
           ],
           "legendgroup": "AUS",
           "marker": {
            "color": "#00cc96",
            "size": [
             57,
             79,
             49
            ],
            "sizemode": "area",
            "sizeref": 0.0599,
            "symbol": "circle"
           },
           "mode": "markers",
           "name": "AUS",
           "orientation": "h",
           "showlegend": true,
           "type": "scatter",
           "x": [
            5,
            5,
            1
           ],
           "xaxis": "x",
           "y": [
            "MS Kasprowicz ",
            "GD McGrath ",
            "JN Gillespie "
           ],
           "yaxis": "y"
          }
         ],
         "name": "2005"
        },
        {
         "data": [
          {
           "hovertemplate": "<b>%{hovertext}</b><br><br>Final Region=SL<br>End=2006<br>Wkts=%{x}<br>Player=%{y}<br>Runs=%{marker.size}<extra></extra>",
           "hovertext": [
            "SL",
            "SL",
            "SL"
           ],
           "ids": [
            "SL",
            "SL",
            "SL"
           ],
           "legendgroup": "SL",
           "marker": {
            "color": "#636efa",
            "size": [
             77,
             0,
             0
            ],
            "sizemode": "area",
            "sizeref": 0.0599,
            "symbol": "circle"
           },
           "mode": "markers",
           "name": "SL",
           "orientation": "h",
           "showlegend": true,
           "type": "scatter",
           "x": [
            0,
            0,
            0
           ],
           "xaxis": "x",
           "y": [
            "PDRL Perera ",
            "RP Arnold ",
            "MS Atapattu "
           ],
           "yaxis": "y"
          },
          {
           "hovertemplate": "<b>%{hovertext}</b><br><br>Final Region=PAK<br>End=2006<br>Wkts=%{x}<br>Player=%{y}<br>Runs=%{marker.size}<extra></extra>",
           "hovertext": [
            "PAK"
           ],
           "ids": [
            "PAK"
           ],
           "legendgroup": "PAK",
           "marker": {
            "color": "#EF553B",
            "size": [
             0
            ],
            "sizemode": "area",
            "sizeref": 0.0599,
            "symbol": "circle"
           },
           "mode": "markers",
           "name": "PAK",
           "orientation": "h",
           "showlegend": true,
           "type": "scatter",
           "x": [
            0
           ],
           "xaxis": "x",
           "y": [
            "Inzamam-ul-Haq "
           ],
           "yaxis": "y"
          },
          {
           "hovertemplate": "<b>%{hovertext}</b><br><br>Final Region=BDESH<br>End=2006<br>Wkts=%{x}<br>Player=%{y}<br>Runs=%{marker.size}<extra></extra>",
           "hovertext": [
            "BDESH",
            "BDESH",
            "BDESH"
           ],
           "ids": [
            "BDESH",
            "BDESH",
            "BDESH"
           ],
           "legendgroup": "BDESH",
           "marker": {
            "color": "#00cc96",
            "size": [
             22,
             0,
             0
            ],
            "sizemode": "area",
            "sizeref": 0.0599,
            "symbol": "circle"
           },
           "mode": "markers",
           "name": "BDESH",
           "orientation": "h",
           "showlegend": true,
           "type": "scatter",
           "x": [
            1,
            0,
            0
           ],
           "xaxis": "x",
           "y": [
            "Mohammad Rafique ",
            "Nazmus Sadat ",
            "Shahriar Nafees "
           ],
           "yaxis": "y"
          },
          {
           "hovertemplate": "<b>%{hovertext}</b><br><br>Final Region=NZ<br>End=2006<br>Wkts=%{x}<br>Player=%{y}<br>Runs=%{marker.size}<extra></extra>",
           "hovertext": [
            "NZ",
            "NZ",
            "NZ",
            "NZ",
            "NZ"
           ],
           "ids": [
            "NZ",
            "NZ",
            "NZ",
            "NZ",
            "NZ"
           ],
           "legendgroup": "NZ",
           "marker": {
            "color": "#19d3f3",
            "size": [
             50,
             105,
             52,
             0,
             0
            ],
            "sizemode": "area",
            "sizeref": 0.0599,
            "symbol": "circle"
           },
           "mode": "markers",
           "name": "NZ",
           "orientation": "h",
           "showlegend": true,
           "type": "scatter",
           "x": [
            4,
            3,
            1,
            0,
            0
           ],
           "xaxis": "x",
           "y": [
            "NJ Astle ",
            "AR Adams ",
            "CL Cairns ",
            "SP Fleming ",
            "HJH Marshall "
           ],
           "yaxis": "y"
          },
          {
           "hovertemplate": "<b>%{hovertext}</b><br><br>Final Region=ENG<br>End=2006<br>Wkts=%{x}<br>Player=%{y}<br>Runs=%{marker.size}<extra></extra>",
           "hovertext": [
            "ENG",
            "ENG",
            "ENG",
            "ENG",
            "ENG"
           ],
           "ids": [
            "ENG",
            "ENG",
            "ENG",
            "ENG",
            "ENG"
           ],
           "legendgroup": "ENG",
           "marker": {
            "color": "#FF6692",
            "size": [
             49,
             42,
             0,
             0,
             0
            ],
            "sizemode": "area",
            "sizeref": 0.0599,
            "symbol": "circle"
           },
           "mode": "markers",
           "name": "ENG",
           "orientation": "h",
           "showlegend": true,
           "type": "scatter",
           "x": [
            3,
            1,
            0,
            0,
            0
           ],
           "xaxis": "x",
           "y": [
            "D Gough ",
            "SJ Harmison ",
            "GO Jones ",
            "CMW Read ",
            "ME Trescothick "
           ],
           "yaxis": "y"
          },
          {
           "hovertemplate": "<b>%{hovertext}</b><br><br>Final Region=SA<br>End=2006<br>Wkts=%{x}<br>Player=%{y}<br>Runs=%{marker.size}<extra></extra>",
           "hovertext": [
            "SA",
            "SA",
            "SA",
            "SA",
            "SA",
            "SA"
           ],
           "ids": [
            "SA",
            "SA",
            "SA",
            "SA",
            "SA",
            "SA"
           ],
           "legendgroup": "SA",
           "marker": {
            "color": "#B6E880",
            "size": [
             60,
             41,
             31,
             29,
             0,
             0
            ],
            "sizemode": "area",
            "sizeref": 0.0599,
            "symbol": "circle"
           },
           "mode": "markers",
           "name": "SA",
           "orientation": "h",
           "showlegend": true,
           "type": "scatter",
           "x": [
            3,
            1,
            0,
            0,
            0,
            0
           ],
           "xaxis": "x",
           "y": [
            "AJ Hall ",
            "M Zondeki ",
            "T Henderson ",
            "GJP Kruger ",
            "HH Dippenaar ",
            "JA Rudolph "
           ],
           "yaxis": "y"
          },
          {
           "hovertemplate": "<b>%{hovertext}</b><br><br>Final Region=WI<br>End=2006<br>Wkts=%{x}<br>Player=%{y}<br>Runs=%{marker.size}<extra></extra>",
           "hovertext": [
            "WI",
            "WI",
            "WI"
           ],
           "ids": [
            "WI",
            "WI",
            "WI"
           ],
           "legendgroup": "WI",
           "marker": {
            "color": "#FF97FF",
            "size": [
             22,
             22,
             0
            ],
            "sizemode": "area",
            "sizeref": 0.0599,
            "symbol": "circle"
           },
           "mode": "markers",
           "name": "WI",
           "orientation": "h",
           "showlegend": true,
           "type": "scatter",
           "x": [
            0,
            0,
            0
           ],
           "xaxis": "x",
           "y": [
            "IDR Bradshaw ",
            "DK Butler ",
            "D Ganga "
           ],
           "yaxis": "y"
          },
          {
           "hovertemplate": "<b>%{hovertext}</b><br><br>Final Region=INDIA<br>End=2006<br>Wkts=%{x}<br>Player=%{y}<br>Runs=%{marker.size}<extra></extra>",
           "hovertext": [
            "INDIA",
            "INDIA"
           ],
           "ids": [
            "INDIA",
            "INDIA"
           ],
           "legendgroup": "INDIA",
           "marker": {
            "color": "#636efa",
            "size": [
             12,
             0
            ],
            "sizemode": "area",
            "sizeref": 0.0599,
            "symbol": "circle"
           },
           "mode": "markers",
           "name": "INDIA",
           "orientation": "h",
           "showlegend": true,
           "type": "scatter",
           "x": [
            1,
            0
           ],
           "xaxis": "x",
           "y": [
            "SR Tendulkar ",
            "D Mongia "
           ],
           "yaxis": "y"
          },
          {
           "hovertemplate": "<b>%{hovertext}</b><br><br>Final Region=AUS<br>End=2006<br>Wkts=%{x}<br>Player=%{y}<br>Runs=%{marker.size}<extra></extra>",
           "hovertext": [
            "AUS",
            "AUS",
            "AUS"
           ],
           "ids": [
            "AUS",
            "AUS",
            "AUS"
           ],
           "legendgroup": "AUS",
           "marker": {
            "color": "#00cc96",
            "size": [
             49,
             0,
             0
            ],
            "sizemode": "area",
            "sizeref": 0.0599,
            "symbol": "circle"
           },
           "mode": "markers",
           "name": "AUS",
           "orientation": "h",
           "showlegend": true,
           "type": "scatter",
           "x": [
            4,
            0,
            0
           ],
           "xaxis": "x",
           "y": [
            "ML Lewis ",
            "SM Katich ",
            "DR Martyn "
           ],
           "yaxis": "y"
          },
          {
           "hovertemplate": "<b>%{hovertext}</b><br><br>Final Region=ZIM<br>End=2006<br>Wkts=%{x}<br>Player=%{y}<br>Runs=%{marker.size}<extra></extra>",
           "hovertext": [
            "ZIM",
            "ZIM"
           ],
           "ids": [
            "ZIM",
            "ZIM"
           ],
           "legendgroup": "ZIM",
           "marker": {
            "color": "#19d3f3",
            "size": [
             33,
             0
            ],
            "sizemode": "area",
            "sizeref": 0.0599,
            "symbol": "circle"
           },
           "mode": "markers",
           "name": "ZIM",
           "orientation": "h",
           "showlegend": true,
           "type": "scatter",
           "x": [
            1,
            0
           ],
           "xaxis": "x",
           "y": [
            "AJ Ireland ",
            "ML Nkala "
           ],
           "yaxis": "y"
          }
         ],
         "name": "2006"
        }
       ],
       "layout": {
        "height": 1000,
        "legend": {
         "itemsizing": "constant",
         "title": {
          "text": "Final Region"
         },
         "tracegroupgap": 0
        },
        "margin": {
         "t": 60
        },
        "sliders": [
         {
          "active": 0,
          "currentvalue": {
           "prefix": "End="
          },
          "len": 0.9,
          "pad": {
           "b": 10,
           "t": 60
          },
          "steps": [
           {
            "args": [
             [
              "2019"
             ],
             {
              "frame": {
               "duration": 0,
               "redraw": false
              },
              "fromcurrent": true,
              "mode": "immediate",
              "transition": {
               "duration": 0,
               "easing": "linear"
              }
             }
            ],
            "label": "2019",
            "method": "animate"
           },
           {
            "args": [
             [
              "2018"
             ],
             {
              "frame": {
               "duration": 0,
               "redraw": false
              },
              "fromcurrent": true,
              "mode": "immediate",
              "transition": {
               "duration": 0,
               "easing": "linear"
              }
             }
            ],
            "label": "2018",
            "method": "animate"
           },
           {
            "args": [
             [
              "2015"
             ],
             {
              "frame": {
               "duration": 0,
               "redraw": false
              },
              "fromcurrent": true,
              "mode": "immediate",
              "transition": {
               "duration": 0,
               "easing": "linear"
              }
             }
            ],
            "label": "2015",
            "method": "animate"
           },
           {
            "args": [
             [
              "2016"
             ],
             {
              "frame": {
               "duration": 0,
               "redraw": false
              },
              "fromcurrent": true,
              "mode": "immediate",
              "transition": {
               "duration": 0,
               "easing": "linear"
              }
             }
            ],
            "label": "2016",
            "method": "animate"
           },
           {
            "args": [
             [
              "2017"
             ],
             {
              "frame": {
               "duration": 0,
               "redraw": false
              },
              "fromcurrent": true,
              "mode": "immediate",
              "transition": {
               "duration": 0,
               "easing": "linear"
              }
             }
            ],
            "label": "2017",
            "method": "animate"
           },
           {
            "args": [
             [
              "2014"
             ],
             {
              "frame": {
               "duration": 0,
               "redraw": false
              },
              "fromcurrent": true,
              "mode": "immediate",
              "transition": {
               "duration": 0,
               "easing": "linear"
              }
             }
            ],
            "label": "2014",
            "method": "animate"
           },
           {
            "args": [
             [
              "2012"
             ],
             {
              "frame": {
               "duration": 0,
               "redraw": false
              },
              "fromcurrent": true,
              "mode": "immediate",
              "transition": {
               "duration": 0,
               "easing": "linear"
              }
             }
            ],
            "label": "2012",
            "method": "animate"
           },
           {
            "args": [
             [
              "2013"
             ],
             {
              "frame": {
               "duration": 0,
               "redraw": false
              },
              "fromcurrent": true,
              "mode": "immediate",
              "transition": {
               "duration": 0,
               "easing": "linear"
              }
             }
            ],
            "label": "2013",
            "method": "animate"
           },
           {
            "args": [
             [
              "2010"
             ],
             {
              "frame": {
               "duration": 0,
               "redraw": false
              },
              "fromcurrent": true,
              "mode": "immediate",
              "transition": {
               "duration": 0,
               "easing": "linear"
              }
             }
            ],
            "label": "2010",
            "method": "animate"
           },
           {
            "args": [
             [
              "2009"
             ],
             {
              "frame": {
               "duration": 0,
               "redraw": false
              },
              "fromcurrent": true,
              "mode": "immediate",
              "transition": {
               "duration": 0,
               "easing": "linear"
              }
             }
            ],
            "label": "2009",
            "method": "animate"
           },
           {
            "args": [
             [
              "2011"
             ],
             {
              "frame": {
               "duration": 0,
               "redraw": false
              },
              "fromcurrent": true,
              "mode": "immediate",
              "transition": {
               "duration": 0,
               "easing": "linear"
              }
             }
            ],
            "label": "2011",
            "method": "animate"
           },
           {
            "args": [
             [
              "2008"
             ],
             {
              "frame": {
               "duration": 0,
               "redraw": false
              },
              "fromcurrent": true,
              "mode": "immediate",
              "transition": {
               "duration": 0,
               "easing": "linear"
              }
             }
            ],
            "label": "2008",
            "method": "animate"
           },
           {
            "args": [
             [
              "2007"
             ],
             {
              "frame": {
               "duration": 0,
               "redraw": false
              },
              "fromcurrent": true,
              "mode": "immediate",
              "transition": {
               "duration": 0,
               "easing": "linear"
              }
             }
            ],
            "label": "2007",
            "method": "animate"
           },
           {
            "args": [
             [
              "2005"
             ],
             {
              "frame": {
               "duration": 0,
               "redraw": false
              },
              "fromcurrent": true,
              "mode": "immediate",
              "transition": {
               "duration": 0,
               "easing": "linear"
              }
             }
            ],
            "label": "2005",
            "method": "animate"
           },
           {
            "args": [
             [
              "2006"
             ],
             {
              "frame": {
               "duration": 0,
               "redraw": false
              },
              "fromcurrent": true,
              "mode": "immediate",
              "transition": {
               "duration": 0,
               "easing": "linear"
              }
             }
            ],
            "label": "2006",
            "method": "animate"
           }
          ],
          "x": 0.1,
          "xanchor": "left",
          "y": 0,
          "yanchor": "top"
         }
        ],
        "template": {
         "data": {
          "bar": [
           {
            "error_x": {
             "color": "#2a3f5f"
            },
            "error_y": {
             "color": "#2a3f5f"
            },
            "marker": {
             "line": {
              "color": "#E5ECF6",
              "width": 0.5
             },
             "pattern": {
              "fillmode": "overlay",
              "size": 10,
              "solidity": 0.2
             }
            },
            "type": "bar"
           }
          ],
          "barpolar": [
           {
            "marker": {
             "line": {
              "color": "#E5ECF6",
              "width": 0.5
             },
             "pattern": {
              "fillmode": "overlay",
              "size": 10,
              "solidity": 0.2
             }
            },
            "type": "barpolar"
           }
          ],
          "carpet": [
           {
            "aaxis": {
             "endlinecolor": "#2a3f5f",
             "gridcolor": "white",
             "linecolor": "white",
             "minorgridcolor": "white",
             "startlinecolor": "#2a3f5f"
            },
            "baxis": {
             "endlinecolor": "#2a3f5f",
             "gridcolor": "white",
             "linecolor": "white",
             "minorgridcolor": "white",
             "startlinecolor": "#2a3f5f"
            },
            "type": "carpet"
           }
          ],
          "choropleth": [
           {
            "colorbar": {
             "outlinewidth": 0,
             "ticks": ""
            },
            "type": "choropleth"
           }
          ],
          "contour": [
           {
            "colorbar": {
             "outlinewidth": 0,
             "ticks": ""
            },
            "colorscale": [
             [
              0,
              "#0d0887"
             ],
             [
              0.1111111111111111,
              "#46039f"
             ],
             [
              0.2222222222222222,
              "#7201a8"
             ],
             [
              0.3333333333333333,
              "#9c179e"
             ],
             [
              0.4444444444444444,
              "#bd3786"
             ],
             [
              0.5555555555555556,
              "#d8576b"
             ],
             [
              0.6666666666666666,
              "#ed7953"
             ],
             [
              0.7777777777777778,
              "#fb9f3a"
             ],
             [
              0.8888888888888888,
              "#fdca26"
             ],
             [
              1,
              "#f0f921"
             ]
            ],
            "type": "contour"
           }
          ],
          "contourcarpet": [
           {
            "colorbar": {
             "outlinewidth": 0,
             "ticks": ""
            },
            "type": "contourcarpet"
           }
          ],
          "heatmap": [
           {
            "colorbar": {
             "outlinewidth": 0,
             "ticks": ""
            },
            "colorscale": [
             [
              0,
              "#0d0887"
             ],
             [
              0.1111111111111111,
              "#46039f"
             ],
             [
              0.2222222222222222,
              "#7201a8"
             ],
             [
              0.3333333333333333,
              "#9c179e"
             ],
             [
              0.4444444444444444,
              "#bd3786"
             ],
             [
              0.5555555555555556,
              "#d8576b"
             ],
             [
              0.6666666666666666,
              "#ed7953"
             ],
             [
              0.7777777777777778,
              "#fb9f3a"
             ],
             [
              0.8888888888888888,
              "#fdca26"
             ],
             [
              1,
              "#f0f921"
             ]
            ],
            "type": "heatmap"
           }
          ],
          "heatmapgl": [
           {
            "colorbar": {
             "outlinewidth": 0,
             "ticks": ""
            },
            "colorscale": [
             [
              0,
              "#0d0887"
             ],
             [
              0.1111111111111111,
              "#46039f"
             ],
             [
              0.2222222222222222,
              "#7201a8"
             ],
             [
              0.3333333333333333,
              "#9c179e"
             ],
             [
              0.4444444444444444,
              "#bd3786"
             ],
             [
              0.5555555555555556,
              "#d8576b"
             ],
             [
              0.6666666666666666,
              "#ed7953"
             ],
             [
              0.7777777777777778,
              "#fb9f3a"
             ],
             [
              0.8888888888888888,
              "#fdca26"
             ],
             [
              1,
              "#f0f921"
             ]
            ],
            "type": "heatmapgl"
           }
          ],
          "histogram": [
           {
            "marker": {
             "pattern": {
              "fillmode": "overlay",
              "size": 10,
              "solidity": 0.2
             }
            },
            "type": "histogram"
           }
          ],
          "histogram2d": [
           {
            "colorbar": {
             "outlinewidth": 0,
             "ticks": ""
            },
            "colorscale": [
             [
              0,
              "#0d0887"
             ],
             [
              0.1111111111111111,
              "#46039f"
             ],
             [
              0.2222222222222222,
              "#7201a8"
             ],
             [
              0.3333333333333333,
              "#9c179e"
             ],
             [
              0.4444444444444444,
              "#bd3786"
             ],
             [
              0.5555555555555556,
              "#d8576b"
             ],
             [
              0.6666666666666666,
              "#ed7953"
             ],
             [
              0.7777777777777778,
              "#fb9f3a"
             ],
             [
              0.8888888888888888,
              "#fdca26"
             ],
             [
              1,
              "#f0f921"
             ]
            ],
            "type": "histogram2d"
           }
          ],
          "histogram2dcontour": [
           {
            "colorbar": {
             "outlinewidth": 0,
             "ticks": ""
            },
            "colorscale": [
             [
              0,
              "#0d0887"
             ],
             [
              0.1111111111111111,
              "#46039f"
             ],
             [
              0.2222222222222222,
              "#7201a8"
             ],
             [
              0.3333333333333333,
              "#9c179e"
             ],
             [
              0.4444444444444444,
              "#bd3786"
             ],
             [
              0.5555555555555556,
              "#d8576b"
             ],
             [
              0.6666666666666666,
              "#ed7953"
             ],
             [
              0.7777777777777778,
              "#fb9f3a"
             ],
             [
              0.8888888888888888,
              "#fdca26"
             ],
             [
              1,
              "#f0f921"
             ]
            ],
            "type": "histogram2dcontour"
           }
          ],
          "mesh3d": [
           {
            "colorbar": {
             "outlinewidth": 0,
             "ticks": ""
            },
            "type": "mesh3d"
           }
          ],
          "parcoords": [
           {
            "line": {
             "colorbar": {
              "outlinewidth": 0,
              "ticks": ""
             }
            },
            "type": "parcoords"
           }
          ],
          "pie": [
           {
            "automargin": true,
            "type": "pie"
           }
          ],
          "scatter": [
           {
            "fillpattern": {
             "fillmode": "overlay",
             "size": 10,
             "solidity": 0.2
            },
            "type": "scatter"
           }
          ],
          "scatter3d": [
           {
            "line": {
             "colorbar": {
              "outlinewidth": 0,
              "ticks": ""
             }
            },
            "marker": {
             "colorbar": {
              "outlinewidth": 0,
              "ticks": ""
             }
            },
            "type": "scatter3d"
           }
          ],
          "scattercarpet": [
           {
            "marker": {
             "colorbar": {
              "outlinewidth": 0,
              "ticks": ""
             }
            },
            "type": "scattercarpet"
           }
          ],
          "scattergeo": [
           {
            "marker": {
             "colorbar": {
              "outlinewidth": 0,
              "ticks": ""
             }
            },
            "type": "scattergeo"
           }
          ],
          "scattergl": [
           {
            "marker": {
             "colorbar": {
              "outlinewidth": 0,
              "ticks": ""
             }
            },
            "type": "scattergl"
           }
          ],
          "scattermapbox": [
           {
            "marker": {
             "colorbar": {
              "outlinewidth": 0,
              "ticks": ""
             }
            },
            "type": "scattermapbox"
           }
          ],
          "scatterpolar": [
           {
            "marker": {
             "colorbar": {
              "outlinewidth": 0,
              "ticks": ""
             }
            },
            "type": "scatterpolar"
           }
          ],
          "scatterpolargl": [
           {
            "marker": {
             "colorbar": {
              "outlinewidth": 0,
              "ticks": ""
             }
            },
            "type": "scatterpolargl"
           }
          ],
          "scatterternary": [
           {
            "marker": {
             "colorbar": {
              "outlinewidth": 0,
              "ticks": ""
             }
            },
            "type": "scatterternary"
           }
          ],
          "surface": [
           {
            "colorbar": {
             "outlinewidth": 0,
             "ticks": ""
            },
            "colorscale": [
             [
              0,
              "#0d0887"
             ],
             [
              0.1111111111111111,
              "#46039f"
             ],
             [
              0.2222222222222222,
              "#7201a8"
             ],
             [
              0.3333333333333333,
              "#9c179e"
             ],
             [
              0.4444444444444444,
              "#bd3786"
             ],
             [
              0.5555555555555556,
              "#d8576b"
             ],
             [
              0.6666666666666666,
              "#ed7953"
             ],
             [
              0.7777777777777778,
              "#fb9f3a"
             ],
             [
              0.8888888888888888,
              "#fdca26"
             ],
             [
              1,
              "#f0f921"
             ]
            ],
            "type": "surface"
           }
          ],
          "table": [
           {
            "cells": {
             "fill": {
              "color": "#EBF0F8"
             },
             "line": {
              "color": "white"
             }
            },
            "header": {
             "fill": {
              "color": "#C8D4E3"
             },
             "line": {
              "color": "white"
             }
            },
            "type": "table"
           }
          ]
         },
         "layout": {
          "annotationdefaults": {
           "arrowcolor": "#2a3f5f",
           "arrowhead": 0,
           "arrowwidth": 1
          },
          "autotypenumbers": "strict",
          "coloraxis": {
           "colorbar": {
            "outlinewidth": 0,
            "ticks": ""
           }
          },
          "colorscale": {
           "diverging": [
            [
             0,
             "#8e0152"
            ],
            [
             0.1,
             "#c51b7d"
            ],
            [
             0.2,
             "#de77ae"
            ],
            [
             0.3,
             "#f1b6da"
            ],
            [
             0.4,
             "#fde0ef"
            ],
            [
             0.5,
             "#f7f7f7"
            ],
            [
             0.6,
             "#e6f5d0"
            ],
            [
             0.7,
             "#b8e186"
            ],
            [
             0.8,
             "#7fbc41"
            ],
            [
             0.9,
             "#4d9221"
            ],
            [
             1,
             "#276419"
            ]
           ],
           "sequential": [
            [
             0,
             "#0d0887"
            ],
            [
             0.1111111111111111,
             "#46039f"
            ],
            [
             0.2222222222222222,
             "#7201a8"
            ],
            [
             0.3333333333333333,
             "#9c179e"
            ],
            [
             0.4444444444444444,
             "#bd3786"
            ],
            [
             0.5555555555555556,
             "#d8576b"
            ],
            [
             0.6666666666666666,
             "#ed7953"
            ],
            [
             0.7777777777777778,
             "#fb9f3a"
            ],
            [
             0.8888888888888888,
             "#fdca26"
            ],
            [
             1,
             "#f0f921"
            ]
           ],
           "sequentialminus": [
            [
             0,
             "#0d0887"
            ],
            [
             0.1111111111111111,
             "#46039f"
            ],
            [
             0.2222222222222222,
             "#7201a8"
            ],
            [
             0.3333333333333333,
             "#9c179e"
            ],
            [
             0.4444444444444444,
             "#bd3786"
            ],
            [
             0.5555555555555556,
             "#d8576b"
            ],
            [
             0.6666666666666666,
             "#ed7953"
            ],
            [
             0.7777777777777778,
             "#fb9f3a"
            ],
            [
             0.8888888888888888,
             "#fdca26"
            ],
            [
             1,
             "#f0f921"
            ]
           ]
          },
          "colorway": [
           "#636efa",
           "#EF553B",
           "#00cc96",
           "#ab63fa",
           "#FFA15A",
           "#19d3f3",
           "#FF6692",
           "#B6E880",
           "#FF97FF",
           "#FECB52"
          ],
          "font": {
           "color": "#2a3f5f"
          },
          "geo": {
           "bgcolor": "white",
           "lakecolor": "white",
           "landcolor": "#E5ECF6",
           "showlakes": true,
           "showland": true,
           "subunitcolor": "white"
          },
          "hoverlabel": {
           "align": "left"
          },
          "hovermode": "closest",
          "mapbox": {
           "style": "light"
          },
          "paper_bgcolor": "white",
          "plot_bgcolor": "#E5ECF6",
          "polar": {
           "angularaxis": {
            "gridcolor": "white",
            "linecolor": "white",
            "ticks": ""
           },
           "bgcolor": "#E5ECF6",
           "radialaxis": {
            "gridcolor": "white",
            "linecolor": "white",
            "ticks": ""
           }
          },
          "scene": {
           "xaxis": {
            "backgroundcolor": "#E5ECF6",
            "gridcolor": "white",
            "gridwidth": 2,
            "linecolor": "white",
            "showbackground": true,
            "ticks": "",
            "zerolinecolor": "white"
           },
           "yaxis": {
            "backgroundcolor": "#E5ECF6",
            "gridcolor": "white",
            "gridwidth": 2,
            "linecolor": "white",
            "showbackground": true,
            "ticks": "",
            "zerolinecolor": "white"
           },
           "zaxis": {
            "backgroundcolor": "#E5ECF6",
            "gridcolor": "white",
            "gridwidth": 2,
            "linecolor": "white",
            "showbackground": true,
            "ticks": "",
            "zerolinecolor": "white"
           }
          },
          "shapedefaults": {
           "line": {
            "color": "#2a3f5f"
           }
          },
          "ternary": {
           "aaxis": {
            "gridcolor": "white",
            "linecolor": "white",
            "ticks": ""
           },
           "baxis": {
            "gridcolor": "white",
            "linecolor": "white",
            "ticks": ""
           },
           "bgcolor": "#E5ECF6",
           "caxis": {
            "gridcolor": "white",
            "linecolor": "white",
            "ticks": ""
           }
          },
          "title": {
           "x": 0.05
          },
          "xaxis": {
           "automargin": true,
           "gridcolor": "white",
           "linecolor": "white",
           "ticks": "",
           "title": {
            "standoff": 15
           },
           "zerolinecolor": "white",
           "zerolinewidth": 2
          },
          "yaxis": {
           "automargin": true,
           "gridcolor": "white",
           "linecolor": "white",
           "ticks": "",
           "title": {
            "standoff": 15
           },
           "zerolinecolor": "white",
           "zerolinewidth": 2
          }
         }
        },
        "updatemenus": [
         {
          "buttons": [
           {
            "args": [
             null,
             {
              "frame": {
               "duration": 500,
               "redraw": false
              },
              "fromcurrent": true,
              "mode": "immediate",
              "transition": {
               "duration": 500,
               "easing": "linear"
              }
             }
            ],
            "label": "&#9654;",
            "method": "animate"
           },
           {
            "args": [
             [
              null
             ],
             {
              "frame": {
               "duration": 0,
               "redraw": false
              },
              "fromcurrent": true,
              "mode": "immediate",
              "transition": {
               "duration": 0,
               "easing": "linear"
              }
             }
            ],
            "label": "&#9724;",
            "method": "animate"
           }
          ],
          "direction": "left",
          "pad": {
           "r": 10,
           "t": 70
          },
          "showactive": false,
          "type": "buttons",
          "x": 0.1,
          "xanchor": "right",
          "y": 0,
          "yanchor": "top"
         }
        ],
        "xaxis": {
         "anchor": "y",
         "domain": [
          0,
          1
         ],
         "range": [
          10,
          250
         ],
         "title": {
          "text": "Wkts"
         }
        },
        "yaxis": {
         "anchor": "x",
         "domain": [
          0,
          1
         ],
         "range": [
          0,
          90
         ],
         "title": {
          "text": "Player"
         }
        }
       }
      }
     },
     "metadata": {},
     "output_type": "display_data"
    }
   ],
   "source": [
    "import plotly.express as px\n",
    "px.scatter(bowling_t20, x=\"Wkts\", y=\"Player\", animation_frame=\"End\", animation_group=\"Final Region\",\n",
    "           size=\"Runs\", color=\"Final Region\", hover_name=\"Final Region\",\n",
    "           log_x=False, size_max=200, range_x=[10,250], range_y=[0,90], height=1000)"
   ]
  },
  {
   "cell_type": "code",
   "execution_count": 44,
   "metadata": {},
   "outputs": [],
   "source": [
    "# drop values '3) (PAK','1) (PAK', '2) (DEN', '2) (PAK'\n",
    "\n",
    "bowling_t20 = bowling_t20.drop(bowling_t20[bowling_t20['Final Region'] == '3) (PAK'].index)\n",
    "bowling_t20 = bowling_t20.drop(bowling_t20[bowling_t20['Final Region'] == '1) (PAK'].index)\n",
    "bowling_t20 = bowling_t20.drop(bowling_t20[bowling_t20['Final Region'] == '2) (DEN'].index)\n",
    "bowling_t20 = bowling_t20.drop(bowling_t20[bowling_t20['Final Region'] == '2) (PAK'].index)\n"
   ]
  },
  {
   "cell_type": "code",
   "execution_count": null,
   "metadata": {},
   "outputs": [],
   "source": []
  }
 ],
 "metadata": {
  "kernelspec": {
   "display_name": "base",
   "language": "python",
   "name": "python3"
  },
  "language_info": {
   "codemirror_mode": {
    "name": "ipython",
    "version": 3
   },
   "file_extension": ".py",
   "mimetype": "text/x-python",
   "name": "python",
   "nbconvert_exporter": "python",
   "pygments_lexer": "ipython3",
   "version": "3.10.8"
  },
  "orig_nbformat": 4
 },
 "nbformat": 4,
 "nbformat_minor": 2
}
